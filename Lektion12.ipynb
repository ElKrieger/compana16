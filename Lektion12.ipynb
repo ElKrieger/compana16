{
 "cells": [
  {
   "cell_type": "markdown",
   "metadata": {},
   "source": [
    "# Lektion 12"
   ]
  },
  {
   "cell_type": "code",
   "execution_count": 1,
   "metadata": {
    "collapsed": true
   },
   "outputs": [],
   "source": [
    "from sympy import *\n",
    "init_printing()\n",
    "import numpy as np\n",
    "import matplotlib.pyplot as plt\n",
    "%matplotlib inline"
   ]
  },
  {
   "cell_type": "markdown",
   "metadata": {},
   "source": [
    "## Matrixexponentiale"
   ]
  },
  {
   "cell_type": "code",
   "execution_count": 2,
   "metadata": {
    "collapsed": false
   },
   "outputs": [],
   "source": [
    "x = Symbol('x', real=True)"
   ]
  },
  {
   "cell_type": "code",
   "execution_count": 3,
   "metadata": {
    "collapsed": false
   },
   "outputs": [
    {
     "data": {
      "text/latex": [
       "$$\\left[\\begin{matrix}x & x & 0\\\\0 & x & x\\\\0 & 0 & x\\end{matrix}\\right]$$"
      ],
      "text/plain": [
       "⎡x  x  0⎤\n",
       "⎢       ⎥\n",
       "⎢0  x  x⎥\n",
       "⎢       ⎥\n",
       "⎣0  0  x⎦"
      ]
     },
     "execution_count": 3,
     "metadata": {},
     "output_type": "execute_result"
    }
   ],
   "source": [
    "A = Matrix(3,3, [x,x,0,0,x,x,0,0,x])\n",
    "A"
   ]
  },
  {
   "cell_type": "code",
   "execution_count": 4,
   "metadata": {
    "collapsed": false
   },
   "outputs": [
    {
     "data": {
      "text/latex": [
       "$$\\left[\\begin{matrix}e^{x} & x e^{x} & \\frac{x^{2} e^{x}}{2}\\\\0 & e^{x} & x e^{x}\\\\0 & 0 & e^{x}\\end{matrix}\\right]$$"
      ],
      "text/plain": [
       "⎡           2  x⎤\n",
       "⎢ x     x  x ⋅ℯ ⎥\n",
       "⎢ℯ   x⋅ℯ   ─────⎥\n",
       "⎢            2  ⎥\n",
       "⎢               ⎥\n",
       "⎢      x      x ⎥\n",
       "⎢0    ℯ    x⋅ℯ  ⎥\n",
       "⎢               ⎥\n",
       "⎢            x  ⎥\n",
       "⎣0    0     ℯ   ⎦"
      ]
     },
     "execution_count": 4,
     "metadata": {},
     "output_type": "execute_result"
    }
   ],
   "source": [
    "A.exp()"
   ]
  },
  {
   "cell_type": "markdown",
   "metadata": {},
   "source": [
    "## Koeffizienten"
   ]
  },
  {
   "cell_type": "code",
   "execution_count": 5,
   "metadata": {
    "collapsed": false
   },
   "outputs": [
    {
     "data": {
      "image/png": "[encoded data removed]",
      "text/latex": [
       "$$1 + 2 x + 6 x^{2} + \\frac{28 x^{3}}{3} + \\frac{50 x^{4}}{3} + \\frac{108 x^{5}}{5} + \\frac{1324 x^{6}}{45} + \\frac{10424 x^{7}}{315} + \\frac{3958 x^{8}}{105} + \\frac{21428 x^{9}}{567} + \\mathcal{O}\\left(x^{10}\\right)$$"
      ],
      "text/plain": [
       "                     3       4        5         6          7         8        \n",
       "             2   28⋅x    50⋅x    108⋅x    1324⋅x    10424⋅x    3958⋅x    21428\n",
       "1 + 2⋅x + 6⋅x  + ───── + ───── + ────── + ─────── + ──────── + ─────── + ─────\n",
       "                   3       3       5         45       315        105       567\n",
       "\n",
       "  9         \n",
       "⋅x     ⎛ 10⎞\n",
       "─── + O⎝x  ⎠\n",
       "            "
      ]
     },
     "execution_count": 5,
     "metadata": {},
     "output_type": "execute_result"
    }
   ],
   "source": [
    "x = Symbol('x')\n",
    "p = series(exp(x+2*x**2)**2, x, 0, 10)\n",
    "p"
   ]
  },
  {
   "cell_type": "code",
   "execution_count": 9,
   "metadata": {
    "collapsed": false
   },
   "outputs": [
    {
     "data": {
      "image/png": "[encoded data removed]",
      "text/latex": [
       "$$1$$"
      ],
      "text/plain": [
       "1"
      ]
     },
     "execution_count": 9,
     "metadata": {},
     "output_type": "execute_result"
    }
   ],
   "source": [
    "p.coeff(x, 0)"
   ]
  },
  {
   "cell_type": "code",
   "execution_count": 10,
   "metadata": {
    "collapsed": false
   },
   "outputs": [
    {
     "data": {
      "image/png": "[encoded data removed]",
      "text/latex": [
       "$$e^{10 x} - 5 e^{9 x} + 15 e^{8 x} - 30 e^{7 x} + 45 e^{6 x} - 51 e^{5 x} + 45 e^{4 x} - 30 e^{3 x} + 15 e^{2 x} - 5 e^{x} + 1$$"
      ],
      "text/plain": [
       " 10⋅x      9⋅x       8⋅x       7⋅x       6⋅x       5⋅x       4⋅x       3⋅x    \n",
       "ℯ     - 5⋅ℯ    + 15⋅ℯ    - 30⋅ℯ    + 45⋅ℯ    - 51⋅ℯ    + 45⋅ℯ    - 30⋅ℯ    + 1\n",
       "\n",
       "   2⋅x      x    \n",
       "5⋅ℯ    - 5⋅ℯ  + 1"
      ]
     },
     "execution_count": 10,
     "metadata": {},
     "output_type": "execute_result"
    }
   ],
   "source": [
    "a = ((1-exp(x)+exp(2*x))**5).expand()\n",
    "a"
   ]
  },
  {
   "cell_type": "code",
   "execution_count": 11,
   "metadata": {
    "collapsed": false
   },
   "outputs": [
    {
     "data": {
      "image/png": "[encoded data removed]",
      "text/latex": [
       "$$45$$"
      ],
      "text/plain": [
       "45"
      ]
     },
     "execution_count": 11,
     "metadata": {},
     "output_type": "execute_result"
    }
   ],
   "source": [
    "a.coeff(exp(6*x))"
   ]
  },
  {
   "cell_type": "code",
   "execution_count": 12,
   "metadata": {
    "collapsed": false
   },
   "outputs": [
    {
     "data": {
      "image/png": "[encoded data removed]",
      "text/latex": [
       "$$\\left(x^{2} + 1\\right)^{3}$$"
      ],
      "text/plain": [
       "        3\n",
       "⎛ 2    ⎞ \n",
       "⎝x  + 1⎠ "
      ]
     },
     "execution_count": 12,
     "metadata": {},
     "output_type": "execute_result"
    }
   ],
   "source": [
    "b = (1+x**2)**3\n",
    "b"
   ]
  },
  {
   "cell_type": "code",
   "execution_count": 13,
   "metadata": {
    "collapsed": false
   },
   "outputs": [
    {
     "data": {
      "image/png": "[encoded data removed]",
      "text/latex": [
       "$$0$$"
      ],
      "text/plain": [
       "0"
      ]
     },
     "execution_count": 13,
     "metadata": {},
     "output_type": "execute_result"
    }
   ],
   "source": [
    "b.coeff(x**2)"
   ]
  },
  {
   "cell_type": "code",
   "execution_count": 14,
   "metadata": {
    "collapsed": false
   },
   "outputs": [
    {
     "data": {
      "image/png": "[encoded data removed]",
      "text/latex": [
       "$$3$$"
      ],
      "text/plain": [
       "3"
      ]
     },
     "execution_count": 14,
     "metadata": {},
     "output_type": "execute_result"
    }
   ],
   "source": [
    "b.expand().coeff(x**2)"
   ]
  },
  {
   "cell_type": "markdown",
   "metadata": {},
   "source": [
    "Böse Falle!"
   ]
  },
  {
   "cell_type": "markdown",
   "metadata": {},
   "source": [
    "## Gekoppelte Pendel"
   ]
  },
  {
   "cell_type": "markdown",
   "metadata": {},
   "source": [
    "\\begin{align}\n",
    "y'' &= w - y + \\cos(2t)\\\\\n",
    "w'' &= y - 3w\n",
    "\\end{align}"
   ]
  },
  {
   "cell_type": "markdown",
   "metadata": {},
   "source": [
    "Übersetzt sich in\n",
    "\\begin{align*}\n",
    " y_0' &= y_1 \\\\\n",
    " y_1' &= y_2 - y_0 + \\cos(2t) \\\\\n",
    " y_2' &= y_3 \\\\\n",
    " y_3' &= y_0 - 3 y_2\n",
    "\\end{align*}"
   ]
  },
  {
   "cell_type": "code",
   "execution_count": 15,
   "metadata": {
    "collapsed": true
   },
   "outputs": [],
   "source": [
    "y = Function('y')\n",
    "w = Function('w')\n",
    "t = Symbol('t', real=True)"
   ]
  },
  {
   "cell_type": "code",
   "execution_count": 16,
   "metadata": {
    "collapsed": true
   },
   "outputs": [],
   "source": [
    "dgl = {}\n",
    "dgl[0] = Eq(y(t).diff(t,2), w(t) - y(t) + cos(2*t))\n",
    "dgl[1] = Eq(w(t).diff(t,2), y(t) - 3*w(t))"
   ]
  },
  {
   "cell_type": "code",
   "execution_count": 17,
   "metadata": {
    "collapsed": false
   },
   "outputs": [
    {
     "data": {
      "text/latex": [
       "$$\\left[\\begin{matrix}0 & 1 & 0 & 0\\\\-1 & 0 & 1 & 0\\\\0 & 0 & 0 & 1\\\\1 & 0 & -3 & 0\\end{matrix}\\right]$$"
      ],
      "text/plain": [
       "⎡0   1  0   0⎤\n",
       "⎢            ⎥\n",
       "⎢-1  0  1   0⎥\n",
       "⎢            ⎥\n",
       "⎢0   0  0   1⎥\n",
       "⎢            ⎥\n",
       "⎣1   0  -3  0⎦"
      ]
     },
     "execution_count": 17,
     "metadata": {},
     "output_type": "execute_result"
    }
   ],
   "source": [
    "A = Matrix(4,4,[0,1,0,0,-1,0,1,0,0,0,0,1,1,0,-3, 0])\n",
    "A"
   ]
  },
  {
   "cell_type": "code",
   "execution_count": 18,
   "metadata": {
    "collapsed": false
   },
   "outputs": [
    {
     "data": {
      "image/png": "[encoded data removed]",
      "text/latex": [
       "$$\\left \\{ - i \\sqrt{- \\sqrt{2} + 2} : 1, \\quad i \\sqrt{- \\sqrt{2} + 2} : 1, \\quad - i \\sqrt{\\sqrt{2} + 2} : 1, \\quad i \\sqrt{\\sqrt{2} + 2} : 1\\right \\}$$"
      ],
      "text/plain": [
       "⎧     _________         _________          ________         ________   ⎫\n",
       "⎨-ⅈ⋅╲╱ -√2 + 2 : 1, ⅈ⋅╲╱ -√2 + 2 : 1, -ⅈ⋅╲╱ √2 + 2 : 1, ⅈ⋅╲╱ √2 + 2 : 1⎬\n",
       "⎩                                                                      ⎭"
      ]
     },
     "execution_count": 18,
     "metadata": {},
     "output_type": "execute_result"
    }
   ],
   "source": [
    "A.eigenvals()"
   ]
  },
  {
   "cell_type": "markdown",
   "metadata": {},
   "source": [
    "Fundamentalsystem"
   ]
  },
  {
   "cell_type": "code",
   "execution_count": 19,
   "metadata": {
    "collapsed": false
   },
   "outputs": [
    {
     "name": "stdout",
     "output_type": "stream",
     "text": [
      "CPU times: user 2.22 s, sys: 0 ns, total: 2.22 s\n",
      "Wall time: 2.22 s\n"
     ]
    }
   ],
   "source": [
    "%time Phi = (x*A).exp()  # Fundamentalsystem für das System"
   ]
  },
  {
   "cell_type": "markdown",
   "metadata": {},
   "source": [
    "Das Fundamentalsystem wird leider zu kompliziert\n"
   ]
  },
  {
   "cell_type": "code",
   "execution_count": 20,
   "metadata": {
    "collapsed": false
   },
   "outputs": [
    {
     "name": "stdout",
     "output_type": "stream",
     "text": [
      "CPU times: user 30.3 s, sys: 8 ms, total: 30.3 s\n",
      "Wall time: 30.3 s\n"
     ]
    },
    {
     "data": {
      "image/png": "[encoded data removed]",
      "text/latex": [
       "$$123417$$"
      ],
      "text/plain": [
       "123417"
      ]
     },
     "execution_count": 20,
     "metadata": {},
     "output_type": "execute_result"
    }
   ],
   "source": [
    "% time len(latex(Phi))"
   ]
  },
  {
   "cell_type": "code",
   "execution_count": 21,
   "metadata": {
    "collapsed": false
   },
   "outputs": [],
   "source": [
    "a = [Symbol('a_'+str(j), real=True) for j in range(2)]\n",
    "b = [Symbol('b_'+str(j), real=True) for j in range(2)]"
   ]
  },
  {
   "cell_type": "markdown",
   "metadata": {},
   "source": [
    "Ansatz für eine spezielle Lösung des inhomogenen Systems"
   ]
  },
  {
   "cell_type": "code",
   "execution_count": 22,
   "metadata": {
    "collapsed": false
   },
   "outputs": [],
   "source": [
    "phi = a[0]*cos(2*t) + a[1]*sin(2*t)\n",
    "psi = b[0]*cos(2*t) + b[1]*sin(2*t)"
   ]
  },
  {
   "cell_type": "code",
   "execution_count": 23,
   "metadata": {
    "collapsed": true
   },
   "outputs": [],
   "source": [
    "ers = {}\n",
    "ers[y(t)] = phi\n",
    "ers[w(t)] = psi"
   ]
  },
  {
   "cell_type": "code",
   "execution_count": 26,
   "metadata": {
    "collapsed": false
   },
   "outputs": [
    {
     "data": {
      "image/png": "[encoded data removed]",
      "text/latex": [
       "$$\\left [ - 4 \\left(a_{0} \\cos{\\left (2 t \\right )} + a_{1} \\sin{\\left (2 t \\right )}\\right) = - a_{0} \\cos{\\left (2 t \\right )} - a_{1} \\sin{\\left (2 t \\right )} + b_{0} \\cos{\\left (2 t \\right )} + b_{1} \\sin{\\left (2 t \\right )} + \\cos{\\left (2 t \\right )}, \\quad - 4 \\left(b_{0} \\cos{\\left (2 t \\right )} + b_{1} \\sin{\\left (2 t \\right )}\\right) = a_{0} \\cos{\\left (2 t \\right )} + a_{1} \\sin{\\left (2 t \\right )} - 3 b_{0} \\cos{\\left (2 t \\right )} - 3 b_{1} \\sin{\\left (2 t \\right )}\\right ]$$"
      ],
      "text/plain": [
       "[-4⋅(a₀⋅cos(2⋅t) + a₁⋅sin(2⋅t)) = -a₀⋅cos(2⋅t) - a₁⋅sin(2⋅t) + b₀⋅cos(2⋅t) + b\n",
       "₁⋅sin(2⋅t) + cos(2⋅t), -4⋅(b₀⋅cos(2⋅t) + b₁⋅sin(2⋅t)) = a₀⋅cos(2⋅t) + a₁⋅sin(2\n",
       "⋅t) - 3⋅b₀⋅cos(2⋅t) - 3⋅b₁⋅sin(2⋅t)]"
      ]
     },
     "execution_count": 26,
     "metadata": {},
     "output_type": "execute_result"
    }
   ],
   "source": [
    "glg = [dgl[j].subs(ers).doit() for j in range(2)]\n",
    "glg"
   ]
  },
  {
   "cell_type": "code",
   "execution_count": 27,
   "metadata": {
    "collapsed": false
   },
   "outputs": [
    {
     "data": {
      "image/png": "[encoded data removed]",
      "text/latex": [
       "$$\\left [ 3 a_{0} + b_{0} + 1, \\quad 3 a_{1} + b_{1}, \\quad a_{0} + b_{0}, \\quad a_{1} + b_{1}\\right ]$$"
      ],
      "text/plain": [
       "[3⋅a₀ + b₀ + 1, 3⋅a₁ + b₁, a₀ + b₀, a₁ + b₁]"
      ]
     },
     "execution_count": 27,
     "metadata": {},
     "output_type": "execute_result"
    }
   ],
   "source": [
    "gls = []\n",
    "for gl in glg:\n",
    "    diff = (gl.rhs - gl.lhs).expand()\n",
    "    gls.append(diff.coeff(cos(2*t)))\n",
    "    gls.append(diff.coeff(sin(2*t)))\n",
    "\n",
    "gls"
   ]
  },
  {
   "cell_type": "code",
   "execution_count": 28,
   "metadata": {
    "collapsed": false
   },
   "outputs": [
    {
     "data": {
      "image/png": "[encoded data removed]",
      "text/latex": [
       "$$\\left \\{ a_{0} : - \\frac{1}{2}, \\quad a_{1} : 0, \\quad b_{0} : \\frac{1}{2}, \\quad b_{1} : 0\\right \\}$$"
      ],
      "text/plain": [
       "{a₀: -1/2, a₁: 0, b₀: 1/2, b₁: 0}"
      ]
     },
     "execution_count": 28,
     "metadata": {},
     "output_type": "execute_result"
    }
   ],
   "source": [
    "Lsg = solve(gls)\n",
    "Lsg"
   ]
  },
  {
   "cell_type": "markdown",
   "metadata": {},
   "source": [
    "Probe:"
   ]
  },
  {
   "cell_type": "code",
   "execution_count": 29,
   "metadata": {
    "collapsed": false
   },
   "outputs": [
    {
     "data": {
      "image/png": "[encoded data removed]",
      "text/latex": [
       "$$- \\frac{1}{2} \\cos{\\left (2 t \\right )}$$"
      ],
      "text/plain": [
       "-cos(2⋅t) \n",
       "──────────\n",
       "    2     "
      ]
     },
     "execution_count": 29,
     "metadata": {},
     "output_type": "execute_result"
    }
   ],
   "source": [
    "yp = phi.subs(Lsg)\n",
    "yp"
   ]
  },
  {
   "cell_type": "code",
   "execution_count": 30,
   "metadata": {
    "collapsed": false
   },
   "outputs": [
    {
     "data": {
      "image/png": "[encoded data removed]",
      "text/latex": [
       "$$\\frac{1}{2} \\cos{\\left (2 t \\right )}$$"
      ],
      "text/plain": [
       "cos(2⋅t)\n",
       "────────\n",
       "   2    "
      ]
     },
     "execution_count": 30,
     "metadata": {},
     "output_type": "execute_result"
    }
   ],
   "source": [
    "wp = psi.subs(Lsg)\n",
    "wp"
   ]
  },
  {
   "cell_type": "code",
   "execution_count": 31,
   "metadata": {
    "collapsed": true
   },
   "outputs": [],
   "source": [
    "ers_probe = {}\n",
    "ers_probe[y(t)] = yp\n",
    "ers_probe[w(t)] = wp"
   ]
  },
  {
   "cell_type": "code",
   "execution_count": 32,
   "metadata": {
    "collapsed": false
   },
   "outputs": [
    {
     "data": {
      "image/png": "[encoded data removed]",
      "text/latex": [
       "$$\\left [ \\mathrm{True}, \\quad \\mathrm{True}\\right ]$$"
      ],
      "text/plain": [
       "[True, True]"
      ]
     },
     "execution_count": 32,
     "metadata": {},
     "output_type": "execute_result"
    }
   ],
   "source": [
    "[dgl[j].subs(ers_probe).doit() for j in range(2)]"
   ]
  },
  {
   "cell_type": "markdown",
   "metadata": {},
   "source": [
    "## Numerische Lösungen"
   ]
  },
  {
   "cell_type": "code",
   "execution_count": 33,
   "metadata": {
    "collapsed": true
   },
   "outputs": [],
   "source": [
    "x = Symbol('x')\n",
    "y = Function('y')"
   ]
  },
  {
   "cell_type": "code",
   "execution_count": 34,
   "metadata": {
    "collapsed": false
   },
   "outputs": [
    {
     "data": {
      "image/png": "[encoded data removed]",
      "text/latex": [
       "$$\\frac{d^{2}}{d x^{2}}  y{\\left (x \\right )} = - \\sin{\\left (y{\\left (x \\right )} \\right )}$$"
      ],
      "text/plain": [
       "  2                   \n",
       " d                    \n",
       "───(y(x)) = -sin(y(x))\n",
       "  2                   \n",
       "dx                    "
      ]
     },
     "execution_count": 34,
     "metadata": {},
     "output_type": "execute_result"
    }
   ],
   "source": [
    "dgl = Eq(y(x).diff(x,2), -sin(y(x)))\n",
    "dgl"
   ]
  },
  {
   "cell_type": "code",
   "execution_count": 36,
   "metadata": {
    "collapsed": false
   },
   "outputs": [],
   "source": [
    "#dsolve(dgl)  # NotImplementedError"
   ]
  },
  {
   "cell_type": "markdown",
   "metadata": {},
   "source": [
    "die Funktion `mpmath.odefun` löst die Differentialgleichung $[y_0', \\dots, y_n'] = F(x, [y_0, \\dots, y_n])$."
   ]
  },
  {
   "cell_type": "code",
   "execution_count": 37,
   "metadata": {
    "collapsed": false
   },
   "outputs": [],
   "source": [
    "def F(x, y):\n",
    "    y0, y1 = y\n",
    "    w0 = y1\n",
    "    w1 = -mpmath.sin(y0)\n",
    "    return [w0, w1]"
   ]
  },
  {
   "cell_type": "code",
   "execution_count": 38,
   "metadata": {
    "collapsed": false
   },
   "outputs": [
    {
     "data": {
      "text/plain": [
       "[1, mpf('0.0')]"
      ]
     },
     "execution_count": 38,
     "metadata": {},
     "output_type": "execute_result"
    }
   ],
   "source": [
    "F(0,[0,1])"
   ]
  },
  {
   "cell_type": "code",
   "execution_count": 39,
   "metadata": {
    "collapsed": true
   },
   "outputs": [],
   "source": [
    "ab = [mpmath.pi/2, 0]\n",
    "x0 = 0"
   ]
  },
  {
   "cell_type": "code",
   "execution_count": 40,
   "metadata": {
    "collapsed": false
   },
   "outputs": [
    {
     "data": {
      "text/plain": [
       "[mpf('1.0749116843722417'), mpf('-0.97551004396953367')]"
      ]
     },
     "execution_count": 40,
     "metadata": {},
     "output_type": "execute_result"
    }
   ],
   "source": [
    "phi = mpmath.odefun(F, x0, ab)\n",
    "phi(1)"
   ]
  },
  {
   "cell_type": "code",
   "execution_count": 41,
   "metadata": {
    "collapsed": true
   },
   "outputs": [],
   "source": [
    "xn = np.linspace(0, 25, 200)\n",
    "wn = [phi(xx)[0] for xx in xn]\n",
    "dwn = [phi(xx)[1] for xx in xn]"
   ]
  },
  {
   "cell_type": "code",
   "execution_count": 42,
   "metadata": {
    "collapsed": false
   },
   "outputs": [
    {
     "data": {
      "image/png": "[encoded data removed]",
      "text/plain": [
       "<matplotlib.figure.Figure at 0x7ff78b501518>"
      ]
     },
     "metadata": {},
     "output_type": "display_data"
    }
   ],
   "source": [
    "plt.plot(xn, wn, label=\"$y$\")\n",
    "plt.plot(xn, dwn, label=\"$y'$\")\n",
    "plt.legend();"
   ]
  },
  {
   "cell_type": "markdown",
   "metadata": {},
   "source": [
    "Ergebnisse werden intern gespeichert (Cache)"
   ]
  },
  {
   "cell_type": "code",
   "execution_count": 43,
   "metadata": {
    "collapsed": false
   },
   "outputs": [
    {
     "name": "stdout",
     "output_type": "stream",
     "text": [
      "CPU times: user 1.98 s, sys: 0 ns, total: 1.98 s\n",
      "Wall time: 1.98 s\n"
     ]
    },
    {
     "data": {
      "text/plain": [
       "[mpf('-0.084824921581113169'), mpf('1.4116688868027041')]"
      ]
     },
     "execution_count": 43,
     "metadata": {},
     "output_type": "execute_result"
    }
   ],
   "source": [
    "%time phi(50)"
   ]
  },
  {
   "cell_type": "code",
   "execution_count": 44,
   "metadata": {
    "collapsed": false
   },
   "outputs": [
    {
     "name": "stdout",
     "output_type": "stream",
     "text": [
      "CPU times: user 772 ms, sys: 0 ns, total: 772 ms\n",
      "Wall time: 770 ms\n"
     ]
    },
    {
     "data": {
      "text/plain": [
       "[mpf('1.3469819877501543'), mpf('-0.6662588540047103')]"
      ]
     },
     "execution_count": 44,
     "metadata": {},
     "output_type": "execute_result"
    }
   ],
   "source": [
    "%time phi(60)"
   ]
  },
  {
   "cell_type": "code",
   "execution_count": 45,
   "metadata": {
    "collapsed": false
   },
   "outputs": [
    {
     "name": "stdout",
     "output_type": "stream",
     "text": [
      "CPU times: user 0 ns, sys: 0 ns, total: 0 ns\n",
      "Wall time: 428 µs\n"
     ]
    },
    {
     "data": {
      "text/plain": [
       "[mpf('-1.2600336115087054'), mpf('-0.78202929230655394')]"
      ]
     },
     "execution_count": 45,
     "metadata": {},
     "output_type": "execute_result"
    }
   ],
   "source": [
    "%time phi(40)"
   ]
  },
  {
   "cell_type": "markdown",
   "metadata": {},
   "source": [
    "## Die Pendelgleichung"
   ]
  },
  {
   "cell_type": "code",
   "execution_count": 46,
   "metadata": {
    "collapsed": false
   },
   "outputs": [
    {
     "data": {
      "image/png": "[encoded data removed]",
      "text/latex": [
       "$$\\frac{d^{2}}{d x^{2}}  y{\\left (x \\right )} = - \\sin{\\left (y{\\left (x \\right )} \\right )}$$"
      ],
      "text/plain": [
       "  2                   \n",
       " d                    \n",
       "───(y(x)) = -sin(y(x))\n",
       "  2                   \n",
       "dx                    "
      ]
     },
     "execution_count": 46,
     "metadata": {},
     "output_type": "execute_result"
    }
   ],
   "source": [
    "dgl"
   ]
  },
  {
   "cell_type": "code",
   "execution_count": 47,
   "metadata": {
    "collapsed": false
   },
   "outputs": [],
   "source": [
    "eta = Symbol('eta')\n",
    "y0 = Symbol('y0')"
   ]
  },
  {
   "cell_type": "markdown",
   "metadata": {},
   "source": [
    "Wir lösen die AWA $y'' = -\\sin(y)$, $y(0) = y_0$, $y'(0) = 0$."
   ]
  },
  {
   "cell_type": "code",
   "execution_count": 48,
   "metadata": {
    "collapsed": false
   },
   "outputs": [
    {
     "data": {
      "image/png": "[encoded data removed]",
      "text/latex": [
       "$$\\cos{\\left (\\eta \\right )}$$"
      ],
      "text/plain": [
       "cos(η)"
      ]
     },
     "execution_count": 48,
     "metadata": {},
     "output_type": "execute_result"
    }
   ],
   "source": [
    "H = Integral(-sin(eta), eta).doit()\n",
    "H"
   ]
  },
  {
   "cell_type": "code",
   "execution_count": 52,
   "metadata": {
    "collapsed": false
   },
   "outputs": [
    {
     "data": {
      "image/png": "[encoded data removed]",
      "text/latex": [
       "$$- \\cos{\\left (y{\\left (x \\right )} \\right )} + \\frac{1}{2} \\frac{d}{d x} y{\\left (x \\right )}^{2}$$"
      ],
      "text/plain": [
       "                       2\n",
       "             ⎛d       ⎞ \n",
       "             ⎜──(y(x))⎟ \n",
       "             ⎝dx      ⎠ \n",
       "-cos(y(x)) + ───────────\n",
       "                  2     "
      ]
     },
     "execution_count": 52,
     "metadata": {},
     "output_type": "execute_result"
    }
   ],
   "source": [
    "E = y(x).diff(x)**2/2 - H.subs(eta, y(x))  # Energie\n",
    "E   "
   ]
  },
  {
   "cell_type": "code",
   "execution_count": 53,
   "metadata": {
    "collapsed": false
   },
   "outputs": [
    {
     "data": {
      "image/png": "[encoded data removed]",
      "text/latex": [
       "$$\\sin{\\left (y{\\left (x \\right )} \\right )} \\frac{d}{d x} y{\\left (x \\right )} + \\frac{d}{d x} y{\\left (x \\right )} \\frac{d^{2}}{d x^{2}}  y{\\left (x \\right )}$$"
      ],
      "text/plain": [
       "                                2      \n",
       "          d          d         d       \n",
       "sin(y(x))⋅──(y(x)) + ──(y(x))⋅───(y(x))\n",
       "          dx         dx         2      \n",
       "                              dx       "
      ]
     },
     "execution_count": 53,
     "metadata": {},
     "output_type": "execute_result"
    }
   ],
   "source": [
    "E.diff(x)"
   ]
  },
  {
   "cell_type": "code",
   "execution_count": 54,
   "metadata": {
    "collapsed": false
   },
   "outputs": [
    {
     "data": {
      "image/png": "[encoded data removed]",
      "text/latex": [
       "$$0$$"
      ],
      "text/plain": [
       "0"
      ]
     },
     "execution_count": 54,
     "metadata": {},
     "output_type": "execute_result"
    }
   ],
   "source": [
    "E.diff(x).subs(dgl.lhs, dgl.rhs)"
   ]
  },
  {
   "cell_type": "markdown",
   "metadata": {},
   "source": [
    "Die Energie ist eine Erhaltungsgröße."
   ]
  },
  {
   "cell_type": "code",
   "execution_count": 55,
   "metadata": {
    "collapsed": false
   },
   "outputs": [
    {
     "data": {
      "image/png": "[encoded data removed]",
      "text/latex": [
       "$$- \\cos{\\left (y_{0} \\right )}$$"
      ],
      "text/plain": [
       "-cos(y₀)"
      ]
     },
     "execution_count": 55,
     "metadata": {},
     "output_type": "execute_result"
    }
   ],
   "source": [
    "E0 = E.subs({y(x): y0, y(x).diff(x): 0})\n",
    "E0"
   ]
  },
  {
   "cell_type": "code",
   "execution_count": 56,
   "metadata": {
    "collapsed": false
   },
   "outputs": [
    {
     "data": {
      "image/png": "[encoded data removed]",
      "text/latex": [
       "$$- \\cos{\\left (y{\\left (x \\right )} \\right )} + \\frac{1}{2} \\frac{d}{d x} y{\\left (x \\right )}^{2} = - \\cos{\\left (y_{0} \\right )}$$"
      ],
      "text/plain": [
       "                       2           \n",
       "             ⎛d       ⎞            \n",
       "             ⎜──(y(x))⎟            \n",
       "             ⎝dx      ⎠            \n",
       "-cos(y(x)) + ─────────── = -cos(y₀)\n",
       "                  2                "
      ]
     },
     "execution_count": 56,
     "metadata": {},
     "output_type": "execute_result"
    }
   ],
   "source": [
    "dgl_E = Eq(E, E0)\n",
    "dgl_E"
   ]
  },
  {
   "cell_type": "code",
   "execution_count": null,
   "metadata": {
    "collapsed": false
   },
   "outputs": [],
   "source": [
    "# dsolve(dgl_E)  # abgebrochen"
   ]
  },
  {
   "cell_type": "markdown",
   "metadata": {},
   "source": [
    "Lösen wir mit der Methode der Trennung der Variablen."
   ]
  },
  {
   "cell_type": "code",
   "execution_count": 57,
   "metadata": {
    "collapsed": false
   },
   "outputs": [
    {
     "data": {
      "image/png": "[encoded data removed]",
      "text/latex": [
       "$$\\left [ - \\sqrt{- 2 \\cos{\\left (y_{0} \\right )} + 2 \\cos{\\left (y{\\left (x \\right )} \\right )}}, \\quad \\sqrt{- 2 \\cos{\\left (y_{0} \\right )} + 2 \\cos{\\left (y{\\left (x \\right )} \\right )}}\\right ]$$"
      ],
      "text/plain": [
       "⎡   __________________________    __________________________⎤\n",
       "⎣-╲╱ -2⋅cos(y₀) + 2⋅cos(y(x)) , ╲╱ -2⋅cos(y₀) + 2⋅cos(y(x)) ⎦"
      ]
     },
     "execution_count": 57,
     "metadata": {},
     "output_type": "execute_result"
    }
   ],
   "source": [
    "Lsg = solve(dgl_E, y(x).diff(x))\n",
    "Lsg"
   ]
  },
  {
   "cell_type": "code",
   "execution_count": 59,
   "metadata": {
    "collapsed": false
   },
   "outputs": [
    {
     "name": "stdout",
     "output_type": "stream",
     "text": [
      "Eq(-cos(y(x)) + Derivative(y(x), x)**2/2, -cos(y0))\n"
     ]
    }
   ],
   "source": [
    "print(dgl_E)"
   ]
  },
  {
   "cell_type": "code",
   "execution_count": 60,
   "metadata": {
    "collapsed": false
   },
   "outputs": [
    {
     "data": {
      "image/png": "[encoded data removed]",
      "text/latex": [
       "$$- \\sqrt{2 \\cos{\\left (\\eta \\right )} - 2 \\cos{\\left (y_{0} \\right )}}$$"
      ],
      "text/plain": [
       "   ______________________\n",
       "-╲╱ 2⋅cos(η) - 2⋅cos(y₀) "
      ]
     },
     "execution_count": 60,
     "metadata": {},
     "output_type": "execute_result"
    }
   ],
   "source": [
    "h = Lsg[0].subs(y(x), eta)\n",
    "h"
   ]
  },
  {
   "cell_type": "code",
   "execution_count": 62,
   "metadata": {
    "collapsed": false
   },
   "outputs": [
    {
     "data": {
      "image/png": "[encoded data removed]",
      "text/latex": [
       "$$- \\frac{\\sqrt{2}}{2} \\int \\frac{1}{\\sqrt{\\cos{\\left (\\eta \\right )} - \\cos{\\left (y_{0} \\right )}}}\\, d\\eta$$"
      ],
      "text/plain": [
       "    ⌠                         \n",
       "    ⎮          1              \n",
       "-√2⋅⎮ ──────────────────── dη \n",
       "    ⎮   __________________    \n",
       "    ⎮ ╲╱ cos(η) - cos(y₀)     \n",
       "    ⌡                         \n",
       "──────────────────────────────\n",
       "              2               "
      ]
     },
     "execution_count": 62,
     "metadata": {},
     "output_type": "execute_result"
    }
   ],
   "source": [
    "I1 = Integral(1/h, eta).doit()\n",
    "I1"
   ]
  },
  {
   "cell_type": "markdown",
   "metadata": {},
   "source": [
    "In der Tat nicht elementar integrierbar."
   ]
  },
  {
   "cell_type": "markdown",
   "metadata": {},
   "source": [
    "Trennung der Variablem führt zu\n",
    "$$ -\\frac{\\sqrt2}2 \\int_{y_0}^{y(x)} \\frac{d\\eta}{\\sqrt{\\cos(\\eta)-\\cos(y_0)}} = x. $$\n",
    "Insbesondere ist \n",
    "$$ -\\frac{\\sqrt2}2 \\int_{y_0}^{-y_0} \\frac{d\\eta}{\\sqrt{\\cos(\\eta)-\\cos(y_0)}}  $$\n",
    "gleich der halben Schwingungsperiode."
   ]
  },
  {
   "cell_type": "code",
   "execution_count": 63,
   "metadata": {
    "collapsed": false
   },
   "outputs": [
    {
     "data": {
      "image/png": "[encoded data removed]",
      "text/latex": [
       "$$\\int_{y_{0}}^{- y_{0}} - \\frac{1}{\\sqrt{2 \\cos{\\left (\\eta \\right )} - 2 \\cos{\\left (y_{0} \\right )}}}\\, d\\eta$$"
      ],
      "text/plain": [
       "-y₀                            \n",
       " ⌠                             \n",
       " ⎮            -1               \n",
       " ⎮  ──────────────────────── dη\n",
       " ⎮    ______________________   \n",
       " ⎮  ╲╱ 2⋅cos(η) - 2⋅cos(y₀)    \n",
       " ⌡                             \n",
       " y₀                            "
      ]
     },
     "execution_count": 63,
     "metadata": {},
     "output_type": "execute_result"
    }
   ],
   "source": [
    "I2 = Integral(1/h, (eta, y0, -y0))\n",
    "I2"
   ]
  },
  {
   "cell_type": "code",
   "execution_count": 64,
   "metadata": {
    "collapsed": true
   },
   "outputs": [],
   "source": [
    "def T(ypsilon0):\n",
    "    return 2*re(I2.subs(y0, ypsilon0).n())"
   ]
  },
  {
   "cell_type": "code",
   "execution_count": 65,
   "metadata": {
    "collapsed": false
   },
   "outputs": [
    {
     "data": {
      "image/png": "[encoded data removed]",
      "text/latex": [
       "$$7.41629870920549$$"
      ],
      "text/plain": [
       "7.41629870920549"
      ]
     },
     "execution_count": 65,
     "metadata": {},
     "output_type": "execute_result"
    }
   ],
   "source": [
    "T(pi/2)"
   ]
  },
  {
   "cell_type": "code",
   "execution_count": 66,
   "metadata": {
    "collapsed": false
   },
   "outputs": [
    {
     "data": {
      "text/plain": [
       "([mpf('1.5707963267948966'), mpf('6.5086722915372182e-17')],\n",
       " mpf('1.5707963267948966'))"
      ]
     },
     "execution_count": 66,
     "metadata": {},
     "output_type": "execute_result"
    }
   ],
   "source": [
    "phi(T(pi/2)), mpmath.pi/2"
   ]
  },
  {
   "cell_type": "code",
   "execution_count": 67,
   "metadata": {
    "collapsed": false
   },
   "outputs": [],
   "source": [
    "xn = np.linspace(0.1, .95*np.pi, 5)\n",
    "wn = [T(yy) for yy in xn]"
   ]
  },
  {
   "cell_type": "code",
   "execution_count": 68,
   "metadata": {
    "collapsed": false
   },
   "outputs": [
    {
     "data": {
      "image/png": "[encoded data removed]",
      "text/plain": [
       "<matplotlib.figure.Figure at 0x7ff78b3f26a0>"
      ]
     },
     "metadata": {},
     "output_type": "display_data"
    }
   ],
   "source": [
    "plt.plot(xn, wn);"
   ]
  },
  {
   "cell_type": "code",
   "execution_count": null,
   "metadata": {
    "collapsed": true
   },
   "outputs": [],
   "source": []
  }
 ],
 "metadata": {
  "anaconda-cloud": {},
  "kernelspec": {
   "display_name": "Python [conda root]",
   "language": "python",
   "name": "conda-root-py"
  },
  "language_info": {
   "codemirror_mode": {
    "name": "ipython",
    "version": 3
   },
   "file_extension": ".py",
   "mimetype": "text/x-python",
   "name": "python",
   "nbconvert_exporter": "python",
   "pygments_lexer": "ipython3",
   "version": "3.5.2"
  }
 },
 "nbformat": 4,
 "nbformat_minor": 1
}
