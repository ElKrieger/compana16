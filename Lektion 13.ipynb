{
 "cells": [
  {
   "cell_type": "markdown",
   "metadata": {},
   "source": [
    "# Lektion 13"
   ]
  },
  {
   "cell_type": "code",
   "execution_count": 1,
   "metadata": {
    "collapsed": true
   },
   "outputs": [],
   "source": [
    "from sympy import *\n",
    "init_printing()"
   ]
  },
  {
   "cell_type": "markdown",
   "metadata": {},
   "source": [
    "## Besselfunktionen"
   ]
  },
  {
   "cell_type": "code",
   "execution_count": 24,
   "metadata": {
    "collapsed": false
   },
   "outputs": [
    {
     "data": {
      "image/png": "[encoded data removed]",
      "text/latex": [
       "$$\\frac{d^{2}}{d x^{2}}  y{\\left (x \\right )} = 4 y{\\left (x \\right )} - \\frac{1}{x} \\frac{d}{d x} y{\\left (x \\right )} + \\frac{2}{x^{2}} y{\\left (x \\right )}$$"
      ],
      "text/plain": [
       "                     d                \n",
       "  2                  ──(y(x))         \n",
       " d                   dx         2⋅y(x)\n",
       "───(y(x)) = 4⋅y(x) - ──────── + ──────\n",
       "  2                     x          2  \n",
       "dx                                x   "
      ]
     },
     "execution_count": 24,
     "metadata": {},
     "output_type": "execute_result"
    }
   ],
   "source": [
    "x = Symbol('x')\n",
    "y = Function('y')\n",
    "dgl = Eq(y(x).diff(x, 2), -1/x*y(x).diff(x) + 2/x**2*y(x) +4*y(x))\n",
    "dgl"
   ]
  },
  {
   "cell_type": "code",
   "execution_count": null,
   "metadata": {
    "collapsed": false
   },
   "outputs": [],
   "source": [
    "#dsolve(dgl)   # NotImplementedError"
   ]
  },
  {
   "cell_type": "code",
   "execution_count": 5,
   "metadata": {
    "collapsed": false
   },
   "outputs": [
    {
     "data": {
      "image/png": "[encoded data removed]",
      "text/latex": [
       "$$\\left ( \\frac{d}{d x} \\operatorname{y_{1}}{\\left (x \\right )} = 4 \\operatorname{y_{0}}{\\left (x \\right )} - \\frac{1}{x} \\operatorname{y_{1}}{\\left (x \\right )} + \\frac{2}{x^{2}} \\operatorname{y_{0}}{\\left (x \\right )}, \\quad \\frac{d}{d x} \\operatorname{y_{0}}{\\left (x \\right )} = \\operatorname{y_{1}}{\\left (x \\right )}\\right )$$"
      ],
      "text/plain": [
       "⎛d                     y₁(x)   2⋅y₀(x)  d                ⎞\n",
       "⎜──(y₁(x)) = 4⋅y₀(x) - ───── + ───────, ──(y₀(x)) = y₁(x)⎟\n",
       "⎜dx                      x         2    dx               ⎟\n",
       "⎝                                 x                      ⎠"
      ]
     },
     "execution_count": 5,
     "metadata": {},
     "output_type": "execute_result"
    }
   ],
   "source": [
    "x = Symbol('x')\n",
    "y0 = Function('y0')\n",
    "y1 = Function('y1')\n",
    "dgl1 = Eq(y0(x).diff(x), y1(x))\n",
    "dgl2 = Eq(y1(x).diff(x), 4*y0(x) - y1(x)/x + 2/x**2*y0(x))\n",
    "dgs = (dgl2, dgl1)\n",
    "dgs"
   ]
  },
  {
   "cell_type": "code",
   "execution_count": 59,
   "metadata": {
    "collapsed": true
   },
   "outputs": [],
   "source": [
    "N = 8"
   ]
  },
  {
   "cell_type": "code",
   "execution_count": 60,
   "metadata": {
    "collapsed": false
   },
   "outputs": [],
   "source": [
    "a = [Symbol('a'+str(j)) for j in range(N)]\n",
    "b = [Symbol('b'+str(j)) for j in range(N)]"
   ]
  },
  {
   "cell_type": "code",
   "execution_count": 61,
   "metadata": {
    "collapsed": true
   },
   "outputs": [],
   "source": [
    "j = Symbol('j')\n",
    "alpha = Symbol('alpha')"
   ]
  },
  {
   "cell_type": "code",
   "execution_count": 63,
   "metadata": {
    "collapsed": false
   },
   "outputs": [
    {
     "data": {
      "image/png": "[encoded data removed]",
      "text/latex": [
       "$$a_{0} x^{\\alpha} + a_{1} x^{\\alpha + 1} + a_{2} x^{\\alpha + 2} + a_{3} x^{\\alpha + 3} + a_{4} x^{\\alpha + 4} + a_{5} x^{\\alpha + 5} + a_{6} x^{\\alpha + 6} + a_{7} x^{\\alpha + 7}$$"
      ],
      "text/plain": [
       "    α       α + 1       α + 2       α + 3       α + 4       α + 5       α + 6 \n",
       "a₀⋅x  + a₁⋅x      + a₂⋅x      + a₃⋅x      + a₄⋅x      + a₅⋅x      + a₆⋅x      \n",
       "\n",
       "      α + 7\n",
       "+ a₇⋅x     "
      ]
     },
     "execution_count": 63,
     "metadata": {},
     "output_type": "execute_result"
    }
   ],
   "source": [
    "ys = sum([a[j]*x**(j+alpha) for j in range(N)]) \n",
    "ys   # hier darf man keinen Ordnungsterm dranschreiben"
   ]
  },
  {
   "cell_type": "code",
   "execution_count": 64,
   "metadata": {
    "collapsed": false
   },
   "outputs": [
    {
     "data": {
      "image/png": "[encoded data removed]",
      "text/latex": [
       "$$\\frac{1}{x^{2}} \\left(a_{0} \\alpha^{2} x^{\\alpha} - a_{0} \\alpha x^{\\alpha} + a_{1} x^{\\alpha + 1} \\left(\\alpha + 1\\right)^{2} - a_{1} x^{\\alpha + 1} \\left(\\alpha + 1\\right) + a_{2} x^{\\alpha + 2} \\left(\\alpha + 2\\right)^{2} - a_{2} x^{\\alpha + 2} \\left(\\alpha + 2\\right) + a_{3} x^{\\alpha + 3} \\left(\\alpha + 3\\right)^{2} - a_{3} x^{\\alpha + 3} \\left(\\alpha + 3\\right) + a_{4} x^{\\alpha + 4} \\left(\\alpha + 4\\right)^{2} - a_{4} x^{\\alpha + 4} \\left(\\alpha + 4\\right) + a_{5} x^{\\alpha + 5} \\left(\\alpha + 5\\right)^{2} - a_{5} x^{\\alpha + 5} \\left(\\alpha + 5\\right) + a_{6} x^{\\alpha + 6} \\left(\\alpha + 6\\right)^{2} - a_{6} x^{\\alpha + 6} \\left(\\alpha + 6\\right) + a_{7} x^{\\alpha + 7} \\left(\\alpha + 7\\right)^{2} - a_{7} x^{\\alpha + 7} \\left(\\alpha + 7\\right)\\right) = 4 a_{0} x^{\\alpha} + 4 a_{1} x^{\\alpha + 1} + 4 a_{2} x^{\\alpha + 2} + 4 a_{3} x^{\\alpha + 3} + 4 a_{4} x^{\\alpha + 4} + 4 a_{5} x^{\\alpha + 5} + 4 a_{6} x^{\\alpha + 6} + 4 a_{7} x^{\\alpha + 7} - \\frac{1}{x} \\left(\\frac{a_{0} \\alpha}{x} x^{\\alpha} + \\frac{a_{1}}{x} x^{\\alpha + 1} \\left(\\alpha + 1\\right) + \\frac{a_{2}}{x} x^{\\alpha + 2} \\left(\\alpha + 2\\right) + \\frac{a_{3}}{x} x^{\\alpha + 3} \\left(\\alpha + 3\\right) + \\frac{a_{4}}{x} x^{\\alpha + 4} \\left(\\alpha + 4\\right) + \\frac{a_{5}}{x} x^{\\alpha + 5} \\left(\\alpha + 5\\right) + \\frac{a_{6}}{x} x^{\\alpha + 6} \\left(\\alpha + 6\\right) + \\frac{a_{7}}{x} x^{\\alpha + 7} \\left(\\alpha + 7\\right)\\right) + \\frac{1}{x^{2}} \\left(2 a_{0} x^{\\alpha} + 2 a_{1} x^{\\alpha + 1} + 2 a_{2} x^{\\alpha + 2} + 2 a_{3} x^{\\alpha + 3} + 2 a_{4} x^{\\alpha + 4} + 2 a_{5} x^{\\alpha + 5} + 2 a_{6} x^{\\alpha + 6} + 2 a_{7} x^{\\alpha + 7}\\right)$$"
      ],
      "text/plain": [
       "                                                                              \n",
       "                                                                              \n",
       "    2  α         α       α + 1        2       α + 1               α + 2       \n",
       "a₀⋅α ⋅x  - a₀⋅α⋅x  + a₁⋅x     ⋅(α + 1)  - a₁⋅x     ⋅(α + 1) + a₂⋅x     ⋅(α + 2\n",
       "──────────────────────────────────────────────────────────────────────────────\n",
       "                                                                              \n",
       "                                                                              \n",
       "\n",
       "                                                                              \n",
       "                                                                              \n",
       " 2       α + 2               α + 3        2       α + 3               α + 4   \n",
       ")  - a₂⋅x     ⋅(α + 2) + a₃⋅x     ⋅(α + 3)  - a₃⋅x     ⋅(α + 3) + a₄⋅x     ⋅(α\n",
       "──────────────────────────────────────────────────────────────────────────────\n",
       "                                                                           2  \n",
       "                                                                          x   \n",
       "\n",
       "                                                                              \n",
       "                                                                              \n",
       "     2       α + 4               α + 5        2       α + 5               α + \n",
       " + 4)  - a₄⋅x     ⋅(α + 4) + a₅⋅x     ⋅(α + 5)  - a₅⋅x     ⋅(α + 5) + a₆⋅x    \n",
       "──────────────────────────────────────────────────────────────────────────────\n",
       "                                                                              \n",
       "                                                                              \n",
       "\n",
       "                                                                              \n",
       "                                                                              \n",
       "6        2       α + 6               α + 7        2       α + 7               \n",
       " ⋅(α + 6)  - a₆⋅x     ⋅(α + 6) + a₇⋅x     ⋅(α + 7)  - a₇⋅x     ⋅(α + 7)       \n",
       "─────────────────────────────────────────────────────────────────────── = 4⋅a₀\n",
       "                                                                              \n",
       "                                                                              \n",
       "\n",
       "                                                                              \n",
       "                                                                              \n",
       "                                                                              \n",
       "  α         α + 1         α + 2         α + 3         α + 4         α + 5     \n",
       "⋅x  + 4⋅a₁⋅x      + 4⋅a₂⋅x      + 4⋅a₃⋅x      + 4⋅a₄⋅x      + 4⋅a₅⋅x      + 4⋅\n",
       "                                                                              \n",
       "                                                                              \n",
       "\n",
       "                                α       α + 1               α + 2             \n",
       "                          a₀⋅α⋅x    a₁⋅x     ⋅(α + 1)   a₂⋅x     ⋅(α + 2)   a₃\n",
       "                          ─────── + ───────────────── + ───────────────── + ──\n",
       "    α + 6         α + 7      x              x                   x             \n",
       "a₆⋅x      + 4⋅a₇⋅x      - ────────────────────────────────────────────────────\n",
       "                                                                              \n",
       "                                                                              \n",
       "\n",
       "  α + 3               α + 4               α + 5               α + 6           \n",
       "⋅x     ⋅(α + 3)   a₄⋅x     ⋅(α + 4)   a₅⋅x     ⋅(α + 5)   a₆⋅x     ⋅(α + 6)   \n",
       "─────────────── + ───────────────── + ───────────────── + ───────────────── + \n",
       "      x                   x                   x                   x           \n",
       "──────────────────────────────────────────────────────────────────────────────\n",
       "                     x                                                        \n",
       "                                                                              \n",
       "\n",
       "    α + 7                                                                     \n",
       "a₇⋅x     ⋅(α + 7)                                                             \n",
       "─────────────────     ⎛    α       α + 1       α + 2       α + 3       α + 4  \n",
       "        x           2⋅⎝a₀⋅x  + a₁⋅x      + a₂⋅x      + a₃⋅x      + a₄⋅x      +\n",
       "───────────────── + ──────────────────────────────────────────────────────────\n",
       "                                                                   2          \n",
       "                                                                  x           \n",
       "\n",
       "                                   \n",
       "                                   \n",
       "     α + 5       α + 6       α + 7⎞\n",
       " a₅⋅x      + a₆⋅x      + a₇⋅x     ⎠\n",
       "───────────────────────────────────\n",
       "                                   \n",
       "                                   "
      ]
     },
     "execution_count": 64,
     "metadata": {},
     "output_type": "execute_result"
    }
   ],
   "source": [
    "dgl1 = dgl.subs(y(x), ys).doit()\n",
    "dgl1"
   ]
  },
  {
   "cell_type": "code",
   "execution_count": 65,
   "metadata": {
    "collapsed": false
   },
   "outputs": [
    {
     "data": {
      "image/png": "[encoded data removed]",
      "text/latex": [
       "$$a_{0} \\alpha^{2} x^{\\alpha - 2} - 4 a_{0} x^{\\alpha} - 2 a_{0} x^{\\alpha - 2} + a_{1} \\alpha^{2} x^{\\alpha - 1} + 2 a_{1} \\alpha x^{\\alpha - 1} - a_{1} x^{\\alpha - 1} - 4 a_{1} x^{\\alpha + 1} + a_{2} \\alpha^{2} x^{\\alpha} + 4 a_{2} \\alpha x^{\\alpha} + 2 a_{2} x^{\\alpha} - 4 a_{2} x^{\\alpha + 2} + a_{3} \\alpha^{2} x^{\\alpha + 1} + 6 a_{3} \\alpha x^{\\alpha + 1} + 7 a_{3} x^{\\alpha + 1} - 4 a_{3} x^{\\alpha + 3} + a_{4} \\alpha^{2} x^{\\alpha + 2} + 8 a_{4} \\alpha x^{\\alpha + 2} + 14 a_{4} x^{\\alpha + 2} - 4 a_{4} x^{\\alpha + 4} + a_{5} \\alpha^{2} x^{\\alpha + 3} + 10 a_{5} \\alpha x^{\\alpha + 3} + 23 a_{5} x^{\\alpha + 3} - 4 a_{5} x^{\\alpha + 5} + a_{6} \\alpha^{2} x^{\\alpha + 4} + 12 a_{6} \\alpha x^{\\alpha + 4} + 34 a_{6} x^{\\alpha + 4} - 4 a_{6} x^{\\alpha + 6} + a_{7} \\alpha^{2} x^{\\alpha + 5} + 14 a_{7} \\alpha x^{\\alpha + 5} + 47 a_{7} x^{\\alpha + 5} - 4 a_{7} x^{\\alpha + 7}$$"
      ],
      "text/plain": [
       "    2  α - 2         α         α - 2       2  α - 1           α - 1       α - \n",
       "a₀⋅α ⋅x      - 4⋅a₀⋅x  - 2⋅a₀⋅x      + a₁⋅α ⋅x      + 2⋅a₁⋅α⋅x      - a₁⋅x    \n",
       "\n",
       "1         α + 1       2  α           α         α         α + 2       2  α + 1 \n",
       "  - 4⋅a₁⋅x      + a₂⋅α ⋅x  + 4⋅a₂⋅α⋅x  + 2⋅a₂⋅x  - 4⋅a₂⋅x      + a₃⋅α ⋅x      \n",
       "\n",
       "          α + 1         α + 1         α + 3       2  α + 2           α + 2    \n",
       "+ 6⋅a₃⋅α⋅x      + 7⋅a₃⋅x      - 4⋅a₃⋅x      + a₄⋅α ⋅x      + 8⋅a₄⋅α⋅x      + 1\n",
       "\n",
       "      α + 2         α + 4       2  α + 3            α + 3          α + 3      \n",
       "4⋅a₄⋅x      - 4⋅a₄⋅x      + a₅⋅α ⋅x      + 10⋅a₅⋅α⋅x      + 23⋅a₅⋅x      - 4⋅a\n",
       "\n",
       "   α + 5       2  α + 4            α + 4          α + 4         α + 6       2 \n",
       "₅⋅x      + a₆⋅α ⋅x      + 12⋅a₆⋅α⋅x      + 34⋅a₆⋅x      - 4⋅a₆⋅x      + a₇⋅α ⋅\n",
       "\n",
       " α + 5            α + 5          α + 5         α + 7\n",
       "x      + 14⋅a₇⋅α⋅x      + 47⋅a₇⋅x      - 4⋅a₇⋅x     "
      ]
     },
     "execution_count": 65,
     "metadata": {},
     "output_type": "execute_result"
    }
   ],
   "source": [
    "p1 = (dgl1.lhs - dgl1.rhs).expand().powsimp()\n",
    "p1"
   ]
  },
  {
   "cell_type": "code",
   "execution_count": 66,
   "metadata": {
    "collapsed": false
   },
   "outputs": [
    {
     "data": {
      "image/png": "[encoded data removed]",
      "text/latex": [
       "$$a_{0} \\alpha^{2} - 2 a_{0}$$"
      ],
      "text/plain": [
       "    2       \n",
       "a₀⋅α  - 2⋅a₀"
      ]
     },
     "execution_count": 66,
     "metadata": {},
     "output_type": "execute_result"
    }
   ],
   "source": [
    "p1.coeff(x**(alpha-2))"
   ]
  },
  {
   "cell_type": "code",
   "execution_count": 67,
   "metadata": {
    "collapsed": false
   },
   "outputs": [
    {
     "data": {
      "image/png": "[encoded data removed]",
      "text/latex": [
       "$$- 4 a_{0} x^{\\sqrt{2}} + a_{1} x^{-1 + \\sqrt{2}} + 2 \\sqrt{2} a_{1} x^{-1 + \\sqrt{2}} - 4 a_{1} x^{1 + \\sqrt{2}} + 4 a_{2} x^{\\sqrt{2}} + 4 \\sqrt{2} a_{2} x^{\\sqrt{2}} - 4 a_{2} x^{\\sqrt{2} + 2} + 6 \\sqrt{2} a_{3} x^{1 + \\sqrt{2}} + 9 a_{3} x^{1 + \\sqrt{2}} - 4 a_{3} x^{\\sqrt{2} + 3} + 8 \\sqrt{2} a_{4} x^{\\sqrt{2} + 2} + 16 a_{4} x^{\\sqrt{2} + 2} - 4 a_{4} x^{\\sqrt{2} + 4} + 10 \\sqrt{2} a_{5} x^{\\sqrt{2} + 3} + 25 a_{5} x^{\\sqrt{2} + 3} - 4 a_{5} x^{\\sqrt{2} + 5} + 12 \\sqrt{2} a_{6} x^{\\sqrt{2} + 4} + 36 a_{6} x^{\\sqrt{2} + 4} - 4 a_{6} x^{\\sqrt{2} + 6} + 14 \\sqrt{2} a_{7} x^{\\sqrt{2} + 5} + 49 a_{7} x^{\\sqrt{2} + 5} - 4 a_{7} x^{\\sqrt{2} + 7}$$"
      ],
      "text/plain": [
       "        √2       -1 + √2            -1 + √2         1 + √2         √2         \n",
       "- 4⋅a₀⋅x   + a₁⋅x        + 2⋅√2⋅a₁⋅x        - 4⋅a₁⋅x       + 4⋅a₂⋅x   + 4⋅√2⋅a\n",
       "\n",
       "   √2         √2 + 2            1 + √2         1 + √2         √2 + 3          \n",
       "₂⋅x   - 4⋅a₂⋅x       + 6⋅√2⋅a₃⋅x       + 9⋅a₃⋅x       - 4⋅a₃⋅x       + 8⋅√2⋅a₄\n",
       "\n",
       "  √2 + 2          √2 + 2         √2 + 4             √2 + 3          √2 + 3    \n",
       "⋅x       + 16⋅a₄⋅x       - 4⋅a₄⋅x       + 10⋅√2⋅a₅⋅x       + 25⋅a₅⋅x       - 4\n",
       "\n",
       "     √2 + 5             √2 + 4          √2 + 4         √2 + 6             √2 +\n",
       "⋅a₅⋅x       + 12⋅√2⋅a₆⋅x       + 36⋅a₆⋅x       - 4⋅a₆⋅x       + 14⋅√2⋅a₇⋅x    \n",
       "\n",
       " 5          √2 + 5         √2 + 7\n",
       "   + 49⋅a₇⋅x       - 4⋅a₇⋅x      "
      ]
     },
     "execution_count": 67,
     "metadata": {},
     "output_type": "execute_result"
    }
   ],
   "source": [
    "p2 = p1.subs(alpha, sqrt(2))\n",
    "p2"
   ]
  },
  {
   "cell_type": "code",
   "execution_count": 68,
   "metadata": {
    "collapsed": false
   },
   "outputs": [
    {
     "data": {
      "image/png": "[encoded data removed]",
      "text/latex": [
       "$$a_{1} + 2 \\sqrt{2} a_{1}$$"
      ],
      "text/plain": [
       "a₁ + 2⋅√2⋅a₁"
      ]
     },
     "execution_count": 68,
     "metadata": {},
     "output_type": "execute_result"
    }
   ],
   "source": [
    "p2.coeff(x**(sqrt(2)-1))"
   ]
  },
  {
   "cell_type": "code",
   "execution_count": 69,
   "metadata": {
    "collapsed": false
   },
   "outputs": [
    {
     "data": {
      "image/png": "[encoded data removed]",
      "text/latex": [
       "$$- 4 a_{0} + 4 a_{2} + 4 \\sqrt{2} a_{2}$$"
      ],
      "text/plain": [
       "-4⋅a₀ + 4⋅a₂ + 4⋅√2⋅a₂"
      ]
     },
     "execution_count": 69,
     "metadata": {},
     "output_type": "execute_result"
    }
   ],
   "source": [
    "p2.coeff(x**(sqrt(2)))"
   ]
  },
  {
   "cell_type": "code",
   "execution_count": 70,
   "metadata": {
    "collapsed": false
   },
   "outputs": [
    {
     "data": {
      "image/png": "[encoded data removed]",
      "text/latex": [
       "$$\\left [ a_{1} + 2 \\sqrt{2} a_{1} = 0, \\quad - 4 a_{0} + 4 a_{2} + 4 \\sqrt{2} a_{2} = 0, \\quad - 4 a_{1} + 6 \\sqrt{2} a_{3} + 9 a_{3} = 0, \\quad - 4 a_{2} + 8 \\sqrt{2} a_{4} + 16 a_{4} = 0, \\quad - 4 a_{3} + 10 \\sqrt{2} a_{5} + 25 a_{5} = 0, \\quad - 4 a_{4} + 12 \\sqrt{2} a_{6} + 36 a_{6} = 0, \\quad - 4 a_{5} + 14 \\sqrt{2} a_{7} + 49 a_{7} = 0, \\quad - 4 a_{6} = 0\\right ]$$"
      ],
      "text/plain": [
       "[a₁ + 2⋅√2⋅a₁ = 0, -4⋅a₀ + 4⋅a₂ + 4⋅√2⋅a₂ = 0, -4⋅a₁ + 6⋅√2⋅a₃ + 9⋅a₃ = 0, -4⋅\n",
       "a₂ + 8⋅√2⋅a₄ + 16⋅a₄ = 0, -4⋅a₃ + 10⋅√2⋅a₅ + 25⋅a₅ = 0, -4⋅a₄ + 12⋅√2⋅a₆ + 36⋅\n",
       "a₆ = 0, -4⋅a₅ + 14⋅√2⋅a₇ + 49⋅a₇ = 0, -4⋅a₆ = 0]"
      ]
     },
     "execution_count": 70,
     "metadata": {},
     "output_type": "execute_result"
    }
   ],
   "source": [
    "dgs = []\n",
    "for j in range(N):\n",
    "    glg = Eq(p2.coeff(x**(j-1+sqrt(2))))\n",
    "    dgs.append(glg)\n",
    "dgs"
   ]
  },
  {
   "cell_type": "code",
   "execution_count": 72,
   "metadata": {
    "collapsed": false
   },
   "outputs": [
    {
     "data": {
      "image/png": "[encoded data removed]",
      "text/latex": [
       "$$\\left \\{ a_{0} : 0, \\quad a_{1} : 0, \\quad a_{2} : 0, \\quad a_{3} : 0, \\quad a_{4} : 0, \\quad a_{5} : 0, \\quad a_{6} : 0, \\quad a_{7} : 0\\right \\}$$"
      ],
      "text/plain": [
       "{a₀: 0, a₁: 0, a₂: 0, a₃: 0, a₄: 0, a₅: 0, a₆: 0, a₇: 0}"
      ]
     },
     "execution_count": 72,
     "metadata": {},
     "output_type": "execute_result"
    }
   ],
   "source": [
    "solve(dgs)"
   ]
  },
  {
   "cell_type": "code",
   "execution_count": 76,
   "metadata": {
    "collapsed": false
   },
   "outputs": [
    {
     "data": {
      "image/png": "[encoded data removed]",
      "text/latex": [
       "$$\\left \\{ a_{0} : 6 a_{6} \\left(18 + 13 \\sqrt{2}\\right), \\quad a_{1} : 0, \\quad a_{2} : 6 a_{6} \\left(5 \\sqrt{2} + 8\\right), \\quad a_{3} : 0, \\quad a_{4} : 3 a_{6} \\left(\\sqrt{2} + 3\\right), \\quad a_{5} : 0\\right \\}$$"
      ],
      "text/plain": [
       "{a₀: 6⋅a₆⋅(18 + 13⋅√2), a₁: 0, a₂: 6⋅a₆⋅(5⋅√2 + 8), a₃: 0, a₄: 3⋅a₆⋅(√2 + 3), \n",
       "a₅: 0}"
      ]
     },
     "execution_count": 76,
     "metadata": {},
     "output_type": "execute_result"
    }
   ],
   "source": [
    "solve(dgs[:-2])"
   ]
  },
  {
   "cell_type": "code",
   "execution_count": 79,
   "metadata": {
    "collapsed": false
   },
   "outputs": [
    {
     "data": {
      "image/png": "[encoded data removed]",
      "text/latex": [
       "$$\\left \\{ a_{1} : 0, \\quad a_{2} : - a_{0} + \\sqrt{2} a_{0}, \\quad a_{3} : 0, \\quad a_{4} : - a_{0} + \\frac{3 a_{0}}{4} \\sqrt{2}, \\quad a_{5} : 0, \\quad a_{6} : - \\frac{3 a_{0}}{14} + \\frac{13 a_{0}}{84} \\sqrt{2}\\right \\}$$"
      ],
      "text/plain": [
       "⎧                                         3⋅√2⋅a₀               3⋅a₀   13⋅√2⋅a\n",
       "⎨a₁: 0, a₂: -a₀ + √2⋅a₀, a₃: 0, a₄: -a₀ + ───────, a₅: 0, a₆: - ──── + ───────\n",
       "⎩                                            4                   14       84  \n",
       "\n",
       "₀⎫\n",
       "─⎬\n",
       " ⎭"
      ]
     },
     "execution_count": 79,
     "metadata": {},
     "output_type": "execute_result"
    }
   ],
   "source": [
    "solve(dgs[:-2], a[1:])\n"
   ]
  },
  {
   "cell_type": "code",
   "execution_count": null,
   "metadata": {
    "collapsed": true
   },
   "outputs": [],
   "source": []
  }
 ],
 "metadata": {
  "anaconda-cloud": {},
  "kernelspec": {
   "display_name": "Python [conda env:compana16]",
   "language": "python",
   "name": "conda-env-compana16-py"
  },
  "language_info": {
   "codemirror_mode": {
    "name": "ipython",
    "version": 3
   },
   "file_extension": ".py",
   "mimetype": "text/x-python",
   "name": "python",
   "nbconvert_exporter": "python",
   "pygments_lexer": "ipython3",
   "version": "3.5.2"
  }
 },
 "nbformat": 4,
 "nbformat_minor": 1
}
