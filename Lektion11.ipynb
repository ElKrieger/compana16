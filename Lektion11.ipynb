{
 "cells": [
  {
   "cell_type": "markdown",
   "metadata": {},
   "source": [
    "# Lektion 11"
   ]
  },
  {
   "cell_type": "markdown",
   "metadata": {},
   "source": [
    "## Extrema unter Nebenbedingungen"
   ]
  },
  {
   "cell_type": "code",
   "execution_count": 1,
   "metadata": {
    "collapsed": false
   },
   "outputs": [],
   "source": [
    "import numpy as np\n",
    "import matplotlib.pyplot as plt\n",
    "%matplotlib inline\n",
    "from sympy import *\n",
    "init_printing()"
   ]
  },
  {
   "cell_type": "code",
   "execution_count": 2,
   "metadata": {
    "collapsed": true
   },
   "outputs": [],
   "source": [
    "x = Symbol('x')\n",
    "y = Symbol('y')\n",
    "lam = Symbol('lambda')"
   ]
  },
  {
   "cell_type": "code",
   "execution_count": 3,
   "metadata": {
    "collapsed": true
   },
   "outputs": [],
   "source": [
    "g = x**4 + y**4 - 1"
   ]
  },
  {
   "cell_type": "code",
   "execution_count": 4,
   "metadata": {
    "collapsed": true
   },
   "outputs": [],
   "source": [
    "f = x**2 + y**2"
   ]
  },
  {
   "cell_type": "markdown",
   "metadata": {},
   "source": [
    "Gesucht: Maximum von $f$ unter der Nebenbedingung $g=0$"
   ]
  },
  {
   "cell_type": "code",
   "execution_count": 5,
   "metadata": {
    "collapsed": false
   },
   "outputs": [
    {
     "data": {
      "image/png": "[encoded data removed]",
      "text/latex": [
       "$$\\left[\\begin{matrix}2 x & 2 y\\end{matrix}\\right]$$"
      ],
      "text/plain": [
       "[2⋅x  2⋅y]"
      ]
     },
     "execution_count": 5,
     "metadata": {},
     "output_type": "execute_result"
    }
   ],
   "source": [
    "grf = Matrix([f]).jacobian([x,y])\n",
    "grf"
   ]
  },
  {
   "cell_type": "code",
   "execution_count": 6,
   "metadata": {
    "collapsed": false
   },
   "outputs": [
    {
     "data": {
      "image/png": "[encoded data removed]",
      "text/latex": [
       "$$\\left[\\begin{matrix}4 x^{3} & 4 y^{3}\\end{matrix}\\right]$$"
      ],
      "text/plain": [
       "⎡   3     3⎤\n",
       "⎣4⋅x   4⋅y ⎦"
      ]
     },
     "execution_count": 6,
     "metadata": {},
     "output_type": "execute_result"
    }
   ],
   "source": [
    "grg = Matrix([g]).jacobian([x,y])\n",
    "grg"
   ]
  },
  {
   "cell_type": "code",
   "execution_count": 7,
   "metadata": {
    "collapsed": false
   },
   "outputs": [
    {
     "data": {
      "image/png": "[encoded data removed]",
      "text/latex": [
       "$$\\left[\\begin{matrix}- 4 \\lambda x^{3} + 2 x & - 4 \\lambda y^{3} + 2 y\\end{matrix}\\right]$$"
      ],
      "text/plain": [
       "⎡       3               3      ⎤\n",
       "⎣- 4⋅λ⋅x  + 2⋅x  - 4⋅λ⋅y  + 2⋅y⎦"
      ]
     },
     "execution_count": 7,
     "metadata": {},
     "output_type": "execute_result"
    }
   ],
   "source": [
    "gls = grf - lam*grg\n",
    "gls"
   ]
  },
  {
   "cell_type": "code",
   "execution_count": 8,
   "metadata": {
    "collapsed": false
   },
   "outputs": [],
   "source": [
    "glsmenge = set(gls)"
   ]
  },
  {
   "cell_type": "code",
   "execution_count": 9,
   "metadata": {
    "collapsed": false
   },
   "outputs": [
    {
     "data": {
      "image/png": "[encoded data removed]",
      "text/latex": [
       "$$\\left\\{- 4 \\lambda x^{3} + 2 x, - 4 \\lambda y^{3} + 2 y, x^{4} + y^{4} - 1\\right\\}$$"
      ],
      "text/plain": [
       "   ⎛⎡       3               3         4    4    ⎤⎞\n",
       "set⎝⎣- 4⋅λ⋅x  + 2⋅x, - 4⋅λ⋅y  + 2⋅y, x  + y  - 1⎦⎠"
      ]
     },
     "execution_count": 9,
     "metadata": {},
     "output_type": "execute_result"
    }
   ],
   "source": [
    "glsmenge.add(g)\n",
    "glsmenge"
   ]
  },
  {
   "cell_type": "code",
   "execution_count": 10,
   "metadata": {
    "collapsed": false
   },
   "outputs": [
    {
     "data": {
      "image/png": "[encoded data removed]",
      "text/latex": [
       "$$\\left [ \\left \\{ \\lambda : - \\frac{1}{2}, \\quad x : 0, \\quad y : - i\\right \\}, \\quad \\left \\{ \\lambda : - \\frac{1}{2}, \\quad x : 0, \\quad y : i\\right \\}, \\quad \\left \\{ \\lambda : - \\frac{1}{2}, \\quad x : - i, \\quad y : 0\\right \\}, \\quad \\left \\{ \\lambda : - \\frac{1}{2}, \\quad x : i, \\quad y : 0\\right \\}, \\quad \\left \\{ \\lambda : \\frac{1}{2}, \\quad x : -1, \\quad y : 0\\right \\}, \\quad \\left \\{ \\lambda : \\frac{1}{2}, \\quad x : 0, \\quad y : -1\\right \\}, \\quad \\left \\{ \\lambda : \\frac{1}{2}, \\quad x : 0, \\quad y : 1\\right \\}, \\quad \\left \\{ \\lambda : \\frac{1}{2}, \\quad x : 1, \\quad y : 0\\right \\}, \\quad \\left \\{ \\lambda : - \\frac{\\sqrt{2}}{2}, \\quad x : - \\frac{2^{\\frac{3}{4}} i}{2}, \\quad y : - \\frac{2^{\\frac{3}{4}} i}{2}\\right \\}, \\quad \\left \\{ \\lambda : - \\frac{\\sqrt{2}}{2}, \\quad x : - \\frac{2^{\\frac{3}{4}} i}{2}, \\quad y : \\frac{2^{\\frac{3}{4}} i}{2}\\right \\}, \\quad \\left \\{ \\lambda : - \\frac{\\sqrt{2}}{2}, \\quad x : \\frac{2^{\\frac{3}{4}} i}{2}, \\quad y : - \\frac{2^{\\frac{3}{4}} i}{2}\\right \\}, \\quad \\left \\{ \\lambda : - \\frac{\\sqrt{2}}{2}, \\quad x : \\frac{2^{\\frac{3}{4}} i}{2}, \\quad y : \\frac{2^{\\frac{3}{4}} i}{2}\\right \\}, \\quad \\left \\{ \\lambda : \\frac{\\sqrt{2}}{2}, \\quad x : - \\frac{2^{\\frac{3}{4}}}{2}, \\quad y : - \\frac{2^{\\frac{3}{4}}}{2}\\right \\}, \\quad \\left \\{ \\lambda : \\frac{\\sqrt{2}}{2}, \\quad x : - \\frac{2^{\\frac{3}{4}}}{2}, \\quad y : \\frac{2^{\\frac{3}{4}}}{2}\\right \\}, \\quad \\left \\{ \\lambda : \\frac{\\sqrt{2}}{2}, \\quad x : \\frac{2^{\\frac{3}{4}}}{2}, \\quad y : - \\frac{2^{\\frac{3}{4}}}{2}\\right \\}, \\quad \\left \\{ \\lambda : \\frac{\\sqrt{2}}{2}, \\quad x : \\frac{2^{\\frac{3}{4}}}{2}, \\quad y : \\frac{2^{\\frac{3}{4}}}{2}\\right \\}\\right ]$$"
      ],
      "text/plain": [
       "⎡                                                                             \n",
       "⎢                                                                             \n",
       "⎢{λ: -1/2, x: 0, y: -ⅈ}, {λ: -1/2, x: 0, y: ⅈ}, {λ: -1/2, x: -ⅈ, y: 0}, {λ: -1\n",
       "⎢                                                                             \n",
       "⎣                                                                             \n",
       "\n",
       "                                                                              \n",
       "                                                                              \n",
       "/2, x: ⅈ, y: 0}, {λ: 1/2, x: -1, y: 0}, {λ: 1/2, x: 0, y: -1}, {λ: 1/2, x: 0, \n",
       "                                                                              \n",
       "                                                                              \n",
       "\n",
       "                             ⎧              3/4          3/4   ⎫  ⎧           \n",
       "                             ⎪   -√2      -2   ⋅ⅈ      -2   ⋅ⅈ ⎪  ⎪   -√2     \n",
       "y: 1}, {λ: 1/2, x: 1, y: 0}, ⎨λ: ────, x: ────────, y: ────────⎬, ⎨λ: ────, x:\n",
       "                             ⎪    2          2            2    ⎪  ⎪    2      \n",
       "                             ⎩                                 ⎭  ⎩           \n",
       "\n",
       "   3/4         3/4  ⎫  ⎧            4 ___            3/4   ⎫  ⎧            4 _\n",
       " -2   ⋅ⅈ      2   ⋅ⅈ⎪  ⎪   -√2      ╲╱ 2 ⋅√2⋅ⅈ     -2   ⋅ⅈ ⎪  ⎪   -√2      ╲╱ \n",
       " ────────, y: ──────⎬, ⎨λ: ────, x: ──────────, y: ────────⎬, ⎨λ: ────, x: ───\n",
       "    2           2   ⎪  ⎪    2           2             2    ⎪  ⎪    2          \n",
       "                    ⎭  ⎩                                   ⎭  ⎩               \n",
       "\n",
       "__           3/4  ⎫  ⎧            3/4        3/4 ⎫  ⎧            3/4       3/4\n",
       "2 ⋅√2⋅ⅈ     2   ⋅ⅈ⎪  ⎪   √2     -2         -2    ⎪  ⎪   √2     -2         2   \n",
       "───────, y: ──────⎬, ⎨λ: ──, x: ──────, y: ──────⎬, ⎨λ: ──, x: ──────, y: ────\n",
       " 2            2   ⎪  ⎪   2        2          2   ⎪  ⎪   2        2         2  \n",
       "                  ⎭  ⎩                           ⎭  ⎩                         \n",
       "\n",
       "⎫  ⎧          4 ___          3/4 ⎫  ⎧          4 ___         3/4⎫⎤\n",
       "⎪  ⎪   √2     ╲╱ 2 ⋅√2     -2    ⎪  ⎪   √2     ╲╱ 2 ⋅√2     2   ⎪⎥\n",
       "⎬, ⎨λ: ──, x: ────────, y: ──────⎬, ⎨λ: ──, x: ────────, y: ────⎬⎥\n",
       "⎪  ⎪   2         2           2   ⎪  ⎪   2         2          2  ⎪⎥\n",
       "⎭  ⎩                             ⎭  ⎩                           ⎭⎦"
      ]
     },
     "execution_count": 10,
     "metadata": {},
     "output_type": "execute_result"
    }
   ],
   "source": [
    "Lsg = solve(glsmenge)\n",
    "Lsg"
   ]
  },
  {
   "cell_type": "code",
   "execution_count": 11,
   "metadata": {
    "collapsed": true
   },
   "outputs": [],
   "source": [
    "def test_real(l):\n",
    "    x0 = x.subs(l)\n",
    "    y0 = y.subs(l)\n",
    "    return x0.is_real and y0.is_real"
   ]
  },
  {
   "cell_type": "code",
   "execution_count": 12,
   "metadata": {
    "collapsed": false
   },
   "outputs": [
    {
     "data": {
      "image/png": "[encoded data removed]",
      "text/latex": [
       "$$\\left [ \\left \\{ \\lambda : \\frac{1}{2}, \\quad x : -1, \\quad y : 0\\right \\}, \\quad \\left \\{ \\lambda : \\frac{1}{2}, \\quad x : 0, \\quad y : -1\\right \\}, \\quad \\left \\{ \\lambda : \\frac{1}{2}, \\quad x : 0, \\quad y : 1\\right \\}, \\quad \\left \\{ \\lambda : \\frac{1}{2}, \\quad x : 1, \\quad y : 0\\right \\}, \\quad \\left \\{ \\lambda : \\frac{\\sqrt{2}}{2}, \\quad x : - \\frac{2^{\\frac{3}{4}}}{2}, \\quad y : - \\frac{2^{\\frac{3}{4}}}{2}\\right \\}, \\quad \\left \\{ \\lambda : \\frac{\\sqrt{2}}{2}, \\quad x : - \\frac{2^{\\frac{3}{4}}}{2}, \\quad y : \\frac{2^{\\frac{3}{4}}}{2}\\right \\}, \\quad \\left \\{ \\lambda : \\frac{\\sqrt{2}}{2}, \\quad x : \\frac{2^{\\frac{3}{4}}}{2}, \\quad y : - \\frac{2^{\\frac{3}{4}}}{2}\\right \\}, \\quad \\left \\{ \\lambda : \\frac{\\sqrt{2}}{2}, \\quad x : \\frac{2^{\\frac{3}{4}}}{2}, \\quad y : \\frac{2^{\\frac{3}{4}}}{2}\\right \\}\\right ]$$"
      ],
      "text/plain": [
       "⎡                                                                             \n",
       "⎢                                                                             \n",
       "⎢{λ: 1/2, x: -1, y: 0}, {λ: 1/2, x: 0, y: -1}, {λ: 1/2, x: 0, y: 1}, {λ: 1/2, \n",
       "⎢                                                                             \n",
       "⎣                                                                             \n",
       "\n",
       "             ⎧            3/4        3/4 ⎫  ⎧            3/4       3/4⎫  ⎧    \n",
       "             ⎪   √2     -2         -2    ⎪  ⎪   √2     -2         2   ⎪  ⎪   √\n",
       "x: 1, y: 0}, ⎨λ: ──, x: ──────, y: ──────⎬, ⎨λ: ──, x: ──────, y: ────⎬, ⎨λ: ─\n",
       "             ⎪   2        2          2   ⎪  ⎪   2        2         2  ⎪  ⎪   2\n",
       "             ⎩                           ⎭  ⎩                         ⎭  ⎩    \n",
       "\n",
       "      4 ___          3/4 ⎫  ⎧          4 ___         3/4⎫⎤\n",
       "2     ╲╱ 2 ⋅√2     -2    ⎪  ⎪   √2     ╲╱ 2 ⋅√2     2   ⎪⎥\n",
       "─, x: ────────, y: ──────⎬, ⎨λ: ──, x: ────────, y: ────⎬⎥\n",
       "         2           2   ⎪  ⎪   2         2          2  ⎪⎥\n",
       "                         ⎭  ⎩                           ⎭⎦"
      ]
     },
     "execution_count": 12,
     "metadata": {},
     "output_type": "execute_result"
    }
   ],
   "source": [
    "reelle_lsg = [l for l in Lsg if test_real(l)]\n",
    "reelle_lsg"
   ]
  },
  {
   "cell_type": "code",
   "execution_count": 13,
   "metadata": {
    "collapsed": false
   },
   "outputs": [
    {
     "data": {
      "image/png": "[encoded data removed]",
      "text/latex": [
       "$$\\left [ 1, \\quad 1, \\quad 1, \\quad 1, \\quad \\sqrt{2}, \\quad \\sqrt{2}, \\quad \\sqrt{2}, \\quad \\sqrt{2}\\right ]$$"
      ],
      "text/plain": [
       "[1, 1, 1, 1, √2, √2, √2, √2]"
      ]
     },
     "execution_count": 13,
     "metadata": {},
     "output_type": "execute_result"
    }
   ],
   "source": [
    "werte = [f.subs(l) for l in reelle_lsg]\n",
    "werte"
   ]
  },
  {
   "cell_type": "code",
   "execution_count": 14,
   "metadata": {
    "collapsed": true
   },
   "outputs": [],
   "source": [
    "fn = lambdify((x,y), f, 'numpy')\n",
    "gn = lambdify((x,y), g, 'numpy')"
   ]
  },
  {
   "cell_type": "code",
   "execution_count": 15,
   "metadata": {
    "collapsed": true
   },
   "outputs": [],
   "source": [
    "x = np.linspace(-1.5, 1.5)\n",
    "y = np.linspace(-1.5, 1.5)\n",
    "X, Y = np.meshgrid(x, y)\n",
    "Wf = fn(X, Y)\n",
    "Wg = gn(X, Y)"
   ]
  },
  {
   "cell_type": "code",
   "execution_count": 16,
   "metadata": {
    "collapsed": false
   },
   "outputs": [
    {
     "data": {
      "image/png": "[encoded data removed]",
      "text/plain": [
       "<matplotlib.figure.Figure at 0x7fa618312668>"
      ]
     },
     "metadata": {},
     "output_type": "display_data"
    }
   ],
   "source": [
    "plt.contour(X, Y, Wg, levels=[0])\n",
    "plt.contour(X, Y, Wf, levels=[1, np.sqrt(2)], colors=['red', 'green'])\n",
    "plt.axis('image');"
   ]
  },
  {
   "cell_type": "markdown",
   "metadata": {
    "collapsed": true
   },
   "source": [
    "## Plotverschönerung "
   ]
  },
  {
   "cell_type": "code",
   "execution_count": 17,
   "metadata": {
    "collapsed": false
   },
   "outputs": [
    {
     "data": {
      "image/png": "[encoded data removed]",
      "text/latex": [
       "$$\\left [ - \\frac{\\sqrt{3}}{3}, \\quad \\frac{\\sqrt{3}}{3}\\right ]$$"
      ],
      "text/plain": [
       "⎡-√3   √3⎤\n",
       "⎢────, ──⎥\n",
       "⎣ 3    3 ⎦"
      ]
     },
     "execution_count": 17,
     "metadata": {},
     "output_type": "execute_result"
    }
   ],
   "source": [
    "x = Symbol('x')\n",
    "f = 1/(1+x**2)\n",
    "wendestellen = solve(f.diff(x,2))\n",
    "wendestellen"
   ]
  },
  {
   "cell_type": "code",
   "execution_count": 18,
   "metadata": {
    "collapsed": false
   },
   "outputs": [
    {
     "data": {
      "image/png": "[encoded data removed]",
      "text/latex": [
       "$$\\left [ \\frac{3}{4}, \\quad \\frac{3}{4}\\right ]$$"
      ],
      "text/plain": [
       "[3/4, 3/4]"
      ]
     },
     "execution_count": 18,
     "metadata": {},
     "output_type": "execute_result"
    }
   ],
   "source": [
    "werte = [f.subs(x, w) for w in wendestellen]\n",
    "werte"
   ]
  },
  {
   "cell_type": "code",
   "execution_count": 19,
   "metadata": {
    "collapsed": true
   },
   "outputs": [],
   "source": [
    "xn = np.linspace(-3.5, 3.5, 100)\n",
    "fn = lambdify(x, f)\n",
    "wn = fn(xn)"
   ]
  },
  {
   "cell_type": "code",
   "execution_count": 20,
   "metadata": {
    "collapsed": false
   },
   "outputs": [],
   "source": [
    "props = {}\n",
    "props['arrowstyle'] = '-|>'"
   ]
  },
  {
   "cell_type": "code",
   "execution_count": 21,
   "metadata": {
    "collapsed": false
   },
   "outputs": [
    {
     "data": {
      "image/png": "[encoded data removed]",
      "text/plain": [
       "<matplotlib.figure.Figure at 0x7fa618312cc0>"
      ]
     },
     "metadata": {},
     "output_type": "display_data"
    }
   ],
   "source": [
    "plt.plot(xn, wn)\n",
    "wx = wendestellen[0].n()\n",
    "wy = fn(wx)\n",
    "plt.annotate(\"Wendepunkt\", (wx, wy), (wx-2.5, wy+.03),\n",
    "            arrowprops=props);"
   ]
  },
  {
   "cell_type": "markdown",
   "metadata": {
    "collapsed": true
   },
   "source": [
    "## Differentialgleichungen"
   ]
  },
  {
   "cell_type": "code",
   "execution_count": 22,
   "metadata": {
    "collapsed": false
   },
   "outputs": [
    {
     "data": {
      "image/png": "[encoded data removed]",
      "text/latex": [
       "$$\\frac{d}{d x} y{\\left (x \\right )} = 2 y{\\left (x \\right )} + 1$$"
      ],
      "text/plain": [
       "d                    \n",
       "──(y(x)) = 2⋅y(x) + 1\n",
       "dx                   "
      ]
     },
     "execution_count": 22,
     "metadata": {},
     "output_type": "execute_result"
    }
   ],
   "source": [
    "x = Symbol('x')\n",
    "y = Function('y')\n",
    "dgl = Eq(y(x).diff(x), 2*y(x)+1)\n",
    "dgl"
   ]
  },
  {
   "cell_type": "code",
   "execution_count": 23,
   "metadata": {
    "collapsed": false
   },
   "outputs": [
    {
     "data": {
      "image/png": "[encoded data removed]",
      "text/latex": [
       "$$y{\\left (x \\right )} = \\frac{C_{1}}{2} e^{2 x} - \\frac{1}{2}$$"
      ],
      "text/plain": [
       "           2⋅x    \n",
       "       C₁⋅ℯ      1\n",
       "y(x) = ─────── - ─\n",
       "          2      2"
      ]
     },
     "execution_count": 23,
     "metadata": {},
     "output_type": "execute_result"
    }
   ],
   "source": [
    "Lsg = dsolve(dgl)\n",
    "Lsg"
   ]
  },
  {
   "cell_type": "code",
   "execution_count": 24,
   "metadata": {
    "collapsed": false
   },
   "outputs": [
    {
     "name": "stdout",
     "output_type": "stream",
     "text": [
      "Eq(y(x), C1*exp(2*x)/2 - 1/2)\n"
     ]
    }
   ],
   "source": [
    "print(Lsg)"
   ]
  },
  {
   "cell_type": "code",
   "execution_count": 25,
   "metadata": {
    "collapsed": false
   },
   "outputs": [],
   "source": [
    "#Lsg.subs(C1, 3)   # NameError"
   ]
  },
  {
   "cell_type": "code",
   "execution_count": 36,
   "metadata": {
    "collapsed": true
   },
   "outputs": [],
   "source": [
    "C1 = Symbol('C1')"
   ]
  },
  {
   "cell_type": "code",
   "execution_count": 37,
   "metadata": {
    "collapsed": false
   },
   "outputs": [
    {
     "data": {
      "image/png": "[encoded data removed]",
      "text/latex": [
       "$$y{\\left (x \\right )} = \\frac{3}{2} e^{2 x} - \\frac{1}{2}$$"
      ],
      "text/plain": [
       "          2⋅x    \n",
       "       3⋅ℯ      1\n",
       "y(x) = ────── - ─\n",
       "         2      2"
      ]
     },
     "execution_count": 37,
     "metadata": {},
     "output_type": "execute_result"
    }
   ],
   "source": [
    "Lsg.subs(C1, 3)"
   ]
  },
  {
   "cell_type": "code",
   "execution_count": null,
   "metadata": {
    "collapsed": true
   },
   "outputs": [],
   "source": []
  }
 ],
 "metadata": {
  "anaconda-cloud": {},
  "kernelspec": {
   "display_name": "Python [conda env:WS1617]",
   "language": "python",
   "name": "conda-env-WS1617-py"
  },
  "language_info": {
   "codemirror_mode": {
    "name": "ipython",
    "version": 3
   },
   "file_extension": ".py",
   "mimetype": "text/x-python",
   "name": "python",
   "nbconvert_exporter": "python",
   "pygments_lexer": "ipython3",
   "version": "3.5.2"
  }
 },
 "nbformat": 4,
 "nbformat_minor": 1
}
