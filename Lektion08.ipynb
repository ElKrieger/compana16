{
 "cells": [
  {
   "cell_type": "markdown",
   "metadata": {},
   "source": [
    "# Lektion 8"
   ]
  },
  {
   "cell_type": "code",
   "execution_count": 1,
   "metadata": {
    "collapsed": true
   },
   "outputs": [],
   "source": [
    "from sympy import *\n",
    "init_printing()\n",
    "import numpy as np\n",
    "import matplotlib.pyplot as plt\n",
    "%matplotlib inline"
   ]
  },
  {
   "cell_type": "markdown",
   "metadata": {},
   "source": [
    "## Matrixplots"
   ]
  },
  {
   "cell_type": "code",
   "execution_count": 2,
   "metadata": {
    "collapsed": true
   },
   "outputs": [],
   "source": [
    "i = Symbol('i')\n",
    "j = Symbol('j')"
   ]
  },
  {
   "cell_type": "code",
   "execution_count": 3,
   "metadata": {
    "collapsed": false
   },
   "outputs": [
    {
     "data": {
      "image/png": "[encoded data removed]",
      "text/latex": [
       "$$\\frac{1}{i + j + 1}$$"
      ],
      "text/plain": [
       "    1    \n",
       "─────────\n",
       "i + j + 1"
      ]
     },
     "execution_count": 3,
     "metadata": {},
     "output_type": "execute_result"
    }
   ],
   "source": [
    "def hilbert_element(i,j):\n",
    "    return 1/(i+j+1)\n",
    "\n",
    "hilbert_element(i,j)"
   ]
  },
  {
   "cell_type": "code",
   "execution_count": 4,
   "metadata": {
    "collapsed": true
   },
   "outputs": [],
   "source": [
    "hilbert = Matrix(20, 20, hilbert_element)"
   ]
  },
  {
   "cell_type": "code",
   "execution_count": 5,
   "metadata": {
    "collapsed": false
   },
   "outputs": [
    {
     "ename": "TypeError",
     "evalue": "Image data can not convert to float",
     "output_type": "error",
     "traceback": [
      "\u001b[0;31m---------------------------------------------------------------------------\u001b[0m",
      "\u001b[0;31mTypeError\u001b[0m                                 Traceback (most recent call last)",
      "\u001b[0;32m<ipython-input-5-7b74a33285a6>\u001b[0m in \u001b[0;36m<module>\u001b[0;34m()\u001b[0m\n\u001b[0;32m----> 1\u001b[0;31m \u001b[0mplt\u001b[0m\u001b[1;33m.\u001b[0m\u001b[0mimshow\u001b[0m\u001b[1;33m(\u001b[0m\u001b[0mhilbert\u001b[0m\u001b[1;33m)\u001b[0m  \u001b[1;31m# TypeError\u001b[0m\u001b[1;33m\u001b[0m\u001b[0m\n\u001b[0m",
      "\u001b[0;32mC:\\Users\\braun\\Miniconda3\\lib\\site-packages\\matplotlib\\pyplot.py\u001b[0m in \u001b[0;36mimshow\u001b[0;34m(X, cmap, norm, aspect, interpolation, alpha, vmin, vmax, origin, extent, shape, filternorm, filterrad, imlim, resample, url, hold, data, **kwargs)\u001b[0m\n\u001b[1;32m   3027\u001b[0m                         \u001b[0mfilternorm\u001b[0m\u001b[1;33m=\u001b[0m\u001b[0mfilternorm\u001b[0m\u001b[1;33m,\u001b[0m \u001b[0mfilterrad\u001b[0m\u001b[1;33m=\u001b[0m\u001b[0mfilterrad\u001b[0m\u001b[1;33m,\u001b[0m\u001b[1;33m\u001b[0m\u001b[0m\n\u001b[1;32m   3028\u001b[0m                         \u001b[0mimlim\u001b[0m\u001b[1;33m=\u001b[0m\u001b[0mimlim\u001b[0m\u001b[1;33m,\u001b[0m \u001b[0mresample\u001b[0m\u001b[1;33m=\u001b[0m\u001b[0mresample\u001b[0m\u001b[1;33m,\u001b[0m \u001b[0murl\u001b[0m\u001b[1;33m=\u001b[0m\u001b[0murl\u001b[0m\u001b[1;33m,\u001b[0m \u001b[0mdata\u001b[0m\u001b[1;33m=\u001b[0m\u001b[0mdata\u001b[0m\u001b[1;33m,\u001b[0m\u001b[1;33m\u001b[0m\u001b[0m\n\u001b[0;32m-> 3029\u001b[0;31m                         **kwargs)\n\u001b[0m\u001b[1;32m   3030\u001b[0m     \u001b[1;32mfinally\u001b[0m\u001b[1;33m:\u001b[0m\u001b[1;33m\u001b[0m\u001b[0m\n\u001b[1;32m   3031\u001b[0m         \u001b[0max\u001b[0m\u001b[1;33m.\u001b[0m\u001b[0mhold\u001b[0m\u001b[1;33m(\u001b[0m\u001b[0mwashold\u001b[0m\u001b[1;33m)\u001b[0m\u001b[1;33m\u001b[0m\u001b[0m\n",
      "\u001b[0;32mC:\\Users\\braun\\Miniconda3\\lib\\site-packages\\matplotlib\\__init__.py\u001b[0m in \u001b[0;36minner\u001b[0;34m(ax, *args, **kwargs)\u001b[0m\n\u001b[1;32m   1816\u001b[0m                     warnings.warn(msg % (label_namer, func.__name__),\n\u001b[1;32m   1817\u001b[0m                                   RuntimeWarning, stacklevel=2)\n\u001b[0;32m-> 1818\u001b[0;31m             \u001b[1;32mreturn\u001b[0m \u001b[0mfunc\u001b[0m\u001b[1;33m(\u001b[0m\u001b[0max\u001b[0m\u001b[1;33m,\u001b[0m \u001b[1;33m*\u001b[0m\u001b[0margs\u001b[0m\u001b[1;33m,\u001b[0m \u001b[1;33m**\u001b[0m\u001b[0mkwargs\u001b[0m\u001b[1;33m)\u001b[0m\u001b[1;33m\u001b[0m\u001b[0m\n\u001b[0m\u001b[1;32m   1819\u001b[0m         \u001b[0mpre_doc\u001b[0m \u001b[1;33m=\u001b[0m \u001b[0minner\u001b[0m\u001b[1;33m.\u001b[0m\u001b[0m__doc__\u001b[0m\u001b[1;33m\u001b[0m\u001b[0m\n\u001b[1;32m   1820\u001b[0m         \u001b[1;32mif\u001b[0m \u001b[0mpre_doc\u001b[0m \u001b[1;32mis\u001b[0m \u001b[1;32mNone\u001b[0m\u001b[1;33m:\u001b[0m\u001b[1;33m\u001b[0m\u001b[0m\n",
      "\u001b[0;32mC:\\Users\\braun\\Miniconda3\\lib\\site-packages\\matplotlib\\axes\\_axes.py\u001b[0m in \u001b[0;36mimshow\u001b[0;34m(self, X, cmap, norm, aspect, interpolation, alpha, vmin, vmax, origin, extent, shape, filternorm, filterrad, imlim, resample, url, **kwargs)\u001b[0m\n\u001b[1;32m   4920\u001b[0m                               resample=resample, **kwargs)\n\u001b[1;32m   4921\u001b[0m \u001b[1;33m\u001b[0m\u001b[0m\n\u001b[0;32m-> 4922\u001b[0;31m         \u001b[0mim\u001b[0m\u001b[1;33m.\u001b[0m\u001b[0mset_data\u001b[0m\u001b[1;33m(\u001b[0m\u001b[0mX\u001b[0m\u001b[1;33m)\u001b[0m\u001b[1;33m\u001b[0m\u001b[0m\n\u001b[0m\u001b[1;32m   4923\u001b[0m         \u001b[0mim\u001b[0m\u001b[1;33m.\u001b[0m\u001b[0mset_alpha\u001b[0m\u001b[1;33m(\u001b[0m\u001b[0malpha\u001b[0m\u001b[1;33m)\u001b[0m\u001b[1;33m\u001b[0m\u001b[0m\n\u001b[1;32m   4924\u001b[0m         \u001b[1;32mif\u001b[0m \u001b[0mim\u001b[0m\u001b[1;33m.\u001b[0m\u001b[0mget_clip_path\u001b[0m\u001b[1;33m(\u001b[0m\u001b[1;33m)\u001b[0m \u001b[1;32mis\u001b[0m \u001b[1;32mNone\u001b[0m\u001b[1;33m:\u001b[0m\u001b[1;33m\u001b[0m\u001b[0m\n",
      "\u001b[0;32mC:\\Users\\braun\\Miniconda3\\lib\\site-packages\\matplotlib\\image.py\u001b[0m in \u001b[0;36mset_data\u001b[0;34m(self, A)\u001b[0m\n\u001b[1;32m    447\u001b[0m         if (self._A.dtype != np.uint8 and\n\u001b[1;32m    448\u001b[0m                 not np.can_cast(self._A.dtype, np.float)):\n\u001b[0;32m--> 449\u001b[0;31m             \u001b[1;32mraise\u001b[0m \u001b[0mTypeError\u001b[0m\u001b[1;33m(\u001b[0m\u001b[1;34m\"Image data can not convert to float\"\u001b[0m\u001b[1;33m)\u001b[0m\u001b[1;33m\u001b[0m\u001b[0m\n\u001b[0m\u001b[1;32m    450\u001b[0m \u001b[1;33m\u001b[0m\u001b[0m\n\u001b[1;32m    451\u001b[0m         if (self._A.ndim not in (2, 3) or\n",
      "\u001b[0;31mTypeError\u001b[0m: Image data can not convert to float"
     ]
    },
    {
     "data": {
      "image/png": "[encoded data removed]",
      "text/plain": [
       "<matplotlib.figure.Figure at 0x2b66e61a8d0>"
      ]
     },
     "metadata": {},
     "output_type": "display_data"
    }
   ],
   "source": [
    "plt.imshow(hilbert)  # TypeError"
   ]
  },
  {
   "cell_type": "code",
   "execution_count": 10,
   "metadata": {
    "collapsed": false
   },
   "outputs": [
    {
     "data": {
      "image/png": "[encoded data removed]",
      "text/plain": [
       "<matplotlib.figure.Figure at 0x2b66f1a3668>"
      ]
     },
     "metadata": {},
     "output_type": "display_data"
    }
   ],
   "source": [
    "plt.imshow(np.array(hilbert).astype(float), interpolation='none')\n",
    "plt.colorbar();"
   ]
  },
  {
   "cell_type": "code",
   "execution_count": 11,
   "metadata": {
    "collapsed": false
   },
   "outputs": [
    {
     "data": {
      "image/png": "[encoded data removed]",
      "text/plain": [
       "<matplotlib.figure.Figure at 0x2b66f2965f8>"
      ]
     },
     "metadata": {},
     "output_type": "display_data"
    }
   ],
   "source": [
    "plt.imshow(np.log(np.array(hilbert).astype(float)), \n",
    "           interpolation='none')\n",
    "plt.colorbar();"
   ]
  },
  {
   "cell_type": "code",
   "execution_count": 12,
   "metadata": {
    "collapsed": true
   },
   "outputs": [],
   "source": [
    "hilbert = Matrix(60, 60, hilbert_element)"
   ]
  },
  {
   "cell_type": "code",
   "execution_count": 13,
   "metadata": {
    "collapsed": false
   },
   "outputs": [
    {
     "data": {
      "image/png": "[encoded data removed]",
      "text/plain": [
       "<matplotlib.figure.Figure at 0x2b66f235cf8>"
      ]
     },
     "metadata": {},
     "output_type": "display_data"
    }
   ],
   "source": [
    "plt.imshow(np.log(np.array(hilbert).astype(float)), \n",
    "           interpolation='none')\n",
    "plt.colorbar();"
   ]
  },
  {
   "cell_type": "code",
   "execution_count": 14,
   "metadata": {
    "collapsed": true
   },
   "outputs": [],
   "source": [
    "inv_hilbert = hilbert**(-1)"
   ]
  },
  {
   "cell_type": "code",
   "execution_count": 15,
   "metadata": {
    "collapsed": false
   },
   "outputs": [
    {
     "name": "stderr",
     "output_type": "stream",
     "text": [
      "C:\\Users\\braun\\Miniconda3\\lib\\site-packages\\ipykernel\\__main__.py:1: RuntimeWarning: invalid value encountered in log\n",
      "  if __name__ == '__main__':\n"
     ]
    },
    {
     "data": {
      "image/png": "[encoded data removed]",
      "text/plain": [
       "<matplotlib.figure.Figure at 0x2b6767fd3c8>"
      ]
     },
     "metadata": {},
     "output_type": "display_data"
    }
   ],
   "source": [
    "plt.imshow(np.log(np.array(inv_hilbert).astype(float)), \n",
    "           interpolation='none')\n",
    "plt.colorbar();"
   ]
  },
  {
   "cell_type": "markdown",
   "metadata": {},
   "source": [
    "Was ist das Problem?"
   ]
  },
  {
   "cell_type": "code",
   "execution_count": 17,
   "metadata": {
    "collapsed": false
   },
   "outputs": [
    {
     "data": {
      "image/png": "[encoded data removed]",
      "text/plain": [
       "<matplotlib.figure.Figure at 0x2b6769afd68>"
      ]
     },
     "metadata": {},
     "output_type": "display_data"
    }
   ],
   "source": [
    "fig = plt.figure(figsize=(12, 5))\n",
    "fig.add_subplot(121)\n",
    "plt.imshow(np.log(abs(np.array(inv_hilbert).astype(float))), \n",
    "           interpolation='none')\n",
    "plt.colorbar()\n",
    "fig.add_subplot(122)\n",
    "plt.imshow(np.sign(np.array(inv_hilbert).astype(float)), \n",
    "           interpolation='none', cmap=plt.cm.hot)\n",
    "plt.colorbar();"
   ]
  },
  {
   "cell_type": "markdown",
   "metadata": {
    "collapsed": true
   },
   "source": [
    "Als Ersatz für 3D-Plot:"
   ]
  },
  {
   "cell_type": "code",
   "execution_count": 18,
   "metadata": {
    "collapsed": false
   },
   "outputs": [],
   "source": [
    "x = Symbol('x')\n",
    "y = Symbol('y')\n",
    "f = cos(sqrt(x**2+y**2))\n",
    "fn = lambdify((x,y), f, 'numpy')"
   ]
  },
  {
   "cell_type": "code",
   "execution_count": 19,
   "metadata": {
    "collapsed": false
   },
   "outputs": [
    {
     "data": {
      "image/png": "[encoded data removed]",
      "text/plain": [
       "<matplotlib.figure.Figure at 0x2b676850e10>"
      ]
     },
     "metadata": {},
     "output_type": "display_data"
    }
   ],
   "source": [
    "x = np.linspace(-2*np.pi, 2*np.pi, 150)\n",
    "y = x\n",
    "X, Y = np.meshgrid(x, y)\n",
    "W = fn(X, Y)\n",
    "plt.imshow(W, origin='lower', cmap=plt.cm.coolwarm)\n",
    "plt.colorbar();"
   ]
  },
  {
   "cell_type": "code",
   "execution_count": 20,
   "metadata": {
    "collapsed": false
   },
   "outputs": [
    {
     "data": {
      "image/png": "[encoded data removed]",
      "text/latex": [
       "$$\\left ( -6.28318530718, \\quad 6.28318530718, \\quad -6.28318530718, \\quad 6.28318530718\\right )$$"
      ],
      "text/plain": [
       "(-6.28318530718, 6.28318530718, -6.28318530718, 6.28318530718)"
      ]
     },
     "execution_count": 20,
     "metadata": {},
     "output_type": "execute_result"
    }
   ],
   "source": [
    "extent = (x[0], x[-1], y[0], y[-1])\n",
    "extent"
   ]
  },
  {
   "cell_type": "code",
   "execution_count": 21,
   "metadata": {
    "collapsed": true
   },
   "outputs": [],
   "source": [
    "W[W<0] = -W[W<0]  # abs(W) wäre einfacher"
   ]
  },
  {
   "cell_type": "code",
   "execution_count": 22,
   "metadata": {
    "collapsed": false
   },
   "outputs": [
    {
     "data": {
      "image/png": "[encoded data removed]",
      "text/plain": [
       "<matplotlib.figure.Figure at 0x2b676bc1b00>"
      ]
     },
     "metadata": {},
     "output_type": "display_data"
    }
   ],
   "source": [
    "plt.imshow(W, origin='lower', cmap=plt.cm.hot, extent=extent)\n",
    "plt.colorbar();"
   ]
  },
  {
   "cell_type": "markdown",
   "metadata": {},
   "source": [
    "## Lineare Gleichungssysteme"
   ]
  },
  {
   "cell_type": "code",
   "execution_count": 23,
   "metadata": {
    "collapsed": false
   },
   "outputs": [
    {
     "data": {
      "text/latex": [
       "$$\\left[\\begin{matrix}1 & 2 & 3\\\\4 & 5 & 6\\\\7 & 8 & 9\\end{matrix}\\right]$$"
      ],
      "text/plain": [
       "⎡1  2  3⎤\n",
       "⎢       ⎥\n",
       "⎢4  5  6⎥\n",
       "⎢       ⎥\n",
       "⎣7  8  9⎦"
      ]
     },
     "execution_count": 23,
     "metadata": {},
     "output_type": "execute_result"
    }
   ],
   "source": [
    "A = Matrix(3, 3, range(1,10))\n",
    "A"
   ]
  },
  {
   "cell_type": "code",
   "execution_count": 24,
   "metadata": {
    "collapsed": false
   },
   "outputs": [
    {
     "data": {
      "text/latex": [
       "$$\\left[\\begin{matrix}6\\\\15\\\\24\\end{matrix}\\right]$$"
      ],
      "text/plain": [
       "⎡6 ⎤\n",
       "⎢  ⎥\n",
       "⎢15⎥\n",
       "⎢  ⎥\n",
       "⎣24⎦"
      ]
     },
     "execution_count": 24,
     "metadata": {},
     "output_type": "execute_result"
    }
   ],
   "source": [
    "b = Matrix([6, 15, 24])\n",
    "b"
   ]
  },
  {
   "cell_type": "markdown",
   "metadata": {},
   "source": [
    "Wir wollen $Ax=b$ lösen."
   ]
  },
  {
   "cell_type": "code",
   "execution_count": 25,
   "metadata": {
    "collapsed": false
   },
   "outputs": [
    {
     "data": {
      "text/latex": [
       "$$\\left[\\begin{matrix}x_{1}\\\\x_{2}\\\\x_{3}\\end{matrix}\\right]$$"
      ],
      "text/plain": [
       "⎡x₁⎤\n",
       "⎢  ⎥\n",
       "⎢x₂⎥\n",
       "⎢  ⎥\n",
       "⎣x₃⎦"
      ]
     },
     "execution_count": 25,
     "metadata": {},
     "output_type": "execute_result"
    }
   ],
   "source": [
    "x = Matrix([Symbol('x_'+str(j)) for j in [1,2,3]])\n",
    "x"
   ]
  },
  {
   "cell_type": "code",
   "execution_count": 26,
   "metadata": {
    "collapsed": false
   },
   "outputs": [
    {
     "data": {
      "text/latex": [
       "$$\\left[\\begin{matrix}x_{1} + 2 x_{2} + 3 x_{3}\\\\4 x_{1} + 5 x_{2} + 6 x_{3}\\\\7 x_{1} + 8 x_{2} + 9 x_{3}\\end{matrix}\\right] = \\left[\\begin{matrix}6\\\\15\\\\24\\end{matrix}\\right]$$"
      ],
      "text/plain": [
       "⎡ x₁ + 2⋅x₂ + 3⋅x₃ ⎤ = ⎡6 ⎤\n",
       "⎢                  ⎥   ⎢  ⎥\n",
       "⎢4⋅x₁ + 5⋅x₂ + 6⋅x₃⎥   ⎢15⎥\n",
       "⎢                  ⎥   ⎢  ⎥\n",
       "⎣7⋅x₁ + 8⋅x₂ + 9⋅x₃⎦   ⎣24⎦"
      ]
     },
     "execution_count": 26,
     "metadata": {},
     "output_type": "execute_result"
    }
   ],
   "source": [
    "glg = Eq(A*x, b)\n",
    "glg"
   ]
  },
  {
   "cell_type": "code",
   "execution_count": 27,
   "metadata": {
    "collapsed": false
   },
   "outputs": [
    {
     "data": {
      "image/png": "[encoded data removed]",
      "text/latex": [
       "$$\\left [ \\left \\{ x_{1} : x_{3}, \\quad x_{2} : - 2 x_{3} + 3\\right \\}\\right ]$$"
      ],
      "text/plain": [
       "[{x₁: x₃, x₂: -2⋅x₃ + 3}]"
      ]
     },
     "execution_count": 27,
     "metadata": {},
     "output_type": "execute_result"
    }
   ],
   "source": [
    "Lsg = solve(glg)\n",
    "Lsg"
   ]
  },
  {
   "cell_type": "markdown",
   "metadata": {},
   "source": [
    "Probe:"
   ]
  },
  {
   "cell_type": "code",
   "execution_count": 28,
   "metadata": {
    "collapsed": false
   },
   "outputs": [
    {
     "data": {
      "image/png": "[encoded data removed]",
      "text/latex": [
       "$$\\mathrm{True}$$"
      ],
      "text/plain": [
       "True"
      ]
     },
     "execution_count": 28,
     "metadata": {},
     "output_type": "execute_result"
    }
   ],
   "source": [
    "glg.subs(Lsg[0])"
   ]
  },
  {
   "cell_type": "markdown",
   "metadata": {},
   "source": [
    "konkrete Lösung"
   ]
  },
  {
   "cell_type": "code",
   "execution_count": 31,
   "metadata": {
    "collapsed": false
   },
   "outputs": [
    {
     "data": {
      "text/latex": [
       "$$\\left[\\begin{matrix}0\\\\3\\\\0\\end{matrix}\\right]$$"
      ],
      "text/plain": [
       "⎡0⎤\n",
       "⎢ ⎥\n",
       "⎢3⎥\n",
       "⎢ ⎥\n",
       "⎣0⎦"
      ]
     },
     "execution_count": 31,
     "metadata": {},
     "output_type": "execute_result"
    }
   ],
   "source": [
    "x.subs(Lsg[0]).subs(x[2], 0)"
   ]
  },
  {
   "cell_type": "markdown",
   "metadata": {},
   "source": [
    "andere konkrete Lösung"
   ]
  },
  {
   "cell_type": "code",
   "execution_count": 32,
   "metadata": {
    "collapsed": false
   },
   "outputs": [
    {
     "data": {
      "text/latex": [
       "$$\\left[\\begin{matrix}1\\\\1\\\\1\\end{matrix}\\right]$$"
      ],
      "text/plain": [
       "⎡1⎤\n",
       "⎢ ⎥\n",
       "⎢1⎥\n",
       "⎢ ⎥\n",
       "⎣1⎦"
      ]
     },
     "execution_count": 32,
     "metadata": {},
     "output_type": "execute_result"
    }
   ],
   "source": [
    "x.subs(Lsg[0]).subs(x[2], 1)"
   ]
  },
  {
   "cell_type": "code",
   "execution_count": 33,
   "metadata": {
    "collapsed": false
   },
   "outputs": [
    {
     "data": {
      "image/png": "[encoded data removed]",
      "text/latex": [
       "$$\\left \\{ x_{1} : x_{3}, \\quad x_{2} : - 2 x_{3}\\right \\}$$"
      ],
      "text/plain": [
       "{x₁: x₃, x₂: -2⋅x₃}"
      ]
     },
     "execution_count": 33,
     "metadata": {},
     "output_type": "execute_result"
    }
   ],
   "source": [
    "solve(A*x, x)  # Kern von A"
   ]
  },
  {
   "cell_type": "code",
   "execution_count": 34,
   "metadata": {
    "collapsed": false
   },
   "outputs": [
    {
     "data": {
      "image/png": "[encoded data removed]",
      "text/latex": [
       "$$\\left [ \\right ]$$"
      ],
      "text/plain": [
       "[]"
      ]
     },
     "execution_count": 34,
     "metadata": {},
     "output_type": "execute_result"
    }
   ],
   "source": [
    "solve(A*x, Matrix([0,0,1]))  # unlösbar"
   ]
  },
  {
   "cell_type": "markdown",
   "metadata": {},
   "source": [
    "## Veränderliche und unveränderliche Matrizen"
   ]
  },
  {
   "cell_type": "code",
   "execution_count": 35,
   "metadata": {
    "collapsed": true
   },
   "outputs": [],
   "source": [
    "B = A"
   ]
  },
  {
   "cell_type": "code",
   "execution_count": 36,
   "metadata": {
    "collapsed": false
   },
   "outputs": [
    {
     "data": {
      "text/latex": [
       "$$\\left[\\begin{matrix}999 & 2 & 3\\\\4 & 5 & 6\\\\7 & 8 & 9\\end{matrix}\\right]$$"
      ],
      "text/plain": [
       "⎡999  2  3⎤\n",
       "⎢         ⎥\n",
       "⎢ 4   5  6⎥\n",
       "⎢         ⎥\n",
       "⎣ 7   8  9⎦"
      ]
     },
     "execution_count": 36,
     "metadata": {},
     "output_type": "execute_result"
    }
   ],
   "source": [
    "B[0,0] = 999\n",
    "B"
   ]
  },
  {
   "cell_type": "code",
   "execution_count": 37,
   "metadata": {
    "collapsed": false
   },
   "outputs": [
    {
     "data": {
      "text/latex": [
       "$$\\left[\\begin{matrix}999 & 2 & 3\\\\4 & 5 & 6\\\\7 & 8 & 9\\end{matrix}\\right]$$"
      ],
      "text/plain": [
       "⎡999  2  3⎤\n",
       "⎢         ⎥\n",
       "⎢ 4   5  6⎥\n",
       "⎢         ⎥\n",
       "⎣ 7   8  9⎦"
      ]
     },
     "execution_count": 37,
     "metadata": {},
     "output_type": "execute_result"
    }
   ],
   "source": [
    "A"
   ]
  },
  {
   "cell_type": "code",
   "execution_count": 38,
   "metadata": {
    "collapsed": false
   },
   "outputs": [
    {
     "data": {
      "text/latex": [
       "$$\\left[\\begin{matrix}777 & 2 & 3\\\\4 & 5 & 6\\\\7 & 8 & 9\\end{matrix}\\right]$$"
      ],
      "text/plain": [
       "⎡777  2  3⎤\n",
       "⎢         ⎥\n",
       "⎢ 4   5  6⎥\n",
       "⎢         ⎥\n",
       "⎣ 7   8  9⎦"
      ]
     },
     "execution_count": 38,
     "metadata": {},
     "output_type": "execute_result"
    }
   ],
   "source": [
    "B = A.copy()\n",
    "B[0,0] = 777\n",
    "B"
   ]
  },
  {
   "cell_type": "code",
   "execution_count": 39,
   "metadata": {
    "collapsed": false
   },
   "outputs": [
    {
     "data": {
      "text/latex": [
       "$$\\left[\\begin{matrix}999 & 2 & 3\\\\4 & 5 & 6\\\\7 & 8 & 9\\end{matrix}\\right]$$"
      ],
      "text/plain": [
       "⎡999  2  3⎤\n",
       "⎢         ⎥\n",
       "⎢ 4   5  6⎥\n",
       "⎢         ⎥\n",
       "⎣ 7   8  9⎦"
      ]
     },
     "execution_count": 39,
     "metadata": {},
     "output_type": "execute_result"
    }
   ],
   "source": [
    "A"
   ]
  },
  {
   "cell_type": "code",
   "execution_count": 41,
   "metadata": {
    "collapsed": false
   },
   "outputs": [
    {
     "data": {
      "text/latex": [
       "$$\\left[\\begin{matrix}999 & 2 & 3\\\\4 & 5 & 6\\\\7 & 8 & 9\\end{matrix}\\right]$$"
      ],
      "text/plain": [
       "⎡999  2  3⎤\n",
       "⎢         ⎥\n",
       "⎢ 4   5  6⎥\n",
       "⎢         ⎥\n",
       "⎣ 7   8  9⎦"
      ]
     },
     "execution_count": 41,
     "metadata": {},
     "output_type": "execute_result"
    }
   ],
   "source": [
    "C = A[0:3, 0:3]\n",
    "C"
   ]
  },
  {
   "cell_type": "code",
   "execution_count": 42,
   "metadata": {
    "collapsed": false
   },
   "outputs": [
    {
     "data": {
      "text/latex": [
       "$$\\left[\\begin{matrix}999 & 2 & 3\\\\4 & 555 & 6\\\\7 & 8 & 9\\end{matrix}\\right]$$"
      ],
      "text/plain": [
       "⎡999   2   3⎤\n",
       "⎢           ⎥\n",
       "⎢ 4   555  6⎥\n",
       "⎢           ⎥\n",
       "⎣ 7    8   9⎦"
      ]
     },
     "execution_count": 42,
     "metadata": {},
     "output_type": "execute_result"
    }
   ],
   "source": [
    "C[1,1] = 555\n",
    "C"
   ]
  },
  {
   "cell_type": "code",
   "execution_count": 43,
   "metadata": {
    "collapsed": false
   },
   "outputs": [
    {
     "data": {
      "text/latex": [
       "$$\\left[\\begin{matrix}999 & 2 & 3\\\\4 & 5 & 6\\\\7 & 8 & 9\\end{matrix}\\right]$$"
      ],
      "text/plain": [
       "⎡999  2  3⎤\n",
       "⎢         ⎥\n",
       "⎢ 4   5  6⎥\n",
       "⎢         ⎥\n",
       "⎣ 7   8  9⎦"
      ]
     },
     "execution_count": 43,
     "metadata": {},
     "output_type": "execute_result"
    }
   ],
   "source": [
    "A"
   ]
  },
  {
   "cell_type": "code",
   "execution_count": 44,
   "metadata": {
    "collapsed": false
   },
   "outputs": [
    {
     "data": {
      "text/plain": [
       "sympy.matrices.dense.MutableDenseMatrix"
      ]
     },
     "execution_count": 44,
     "metadata": {},
     "output_type": "execute_result"
    }
   ],
   "source": [
    "type(A)"
   ]
  },
  {
   "cell_type": "code",
   "execution_count": 45,
   "metadata": {
    "collapsed": false
   },
   "outputs": [
    {
     "data": {
      "text/plain": [
       "sympy.matrices.immutable.ImmutableMatrix"
      ]
     },
     "execution_count": 45,
     "metadata": {},
     "output_type": "execute_result"
    }
   ],
   "source": [
    "Ai = simplify(A)\n",
    "type(Ai)"
   ]
  },
  {
   "cell_type": "code",
   "execution_count": 46,
   "metadata": {
    "collapsed": false
   },
   "outputs": [
    {
     "ename": "TypeError",
     "evalue": "Cannot set values of ImmutableMatrix",
     "output_type": "error",
     "traceback": [
      "\u001b[0;31m---------------------------------------------------------------------------\u001b[0m",
      "\u001b[0;31mTypeError\u001b[0m                                 Traceback (most recent call last)",
      "\u001b[0;32m<ipython-input-46-047478e68786>\u001b[0m in \u001b[0;36m<module>\u001b[0;34m()\u001b[0m\n\u001b[0;32m----> 1\u001b[0;31m \u001b[0mAi\u001b[0m\u001b[1;33m[\u001b[0m\u001b[1;36m0\u001b[0m\u001b[1;33m,\u001b[0m\u001b[1;36m0\u001b[0m\u001b[1;33m]\u001b[0m \u001b[1;33m=\u001b[0m \u001b[1;36m3\u001b[0m \u001b[1;31m# TypeError\u001b[0m\u001b[1;33m\u001b[0m\u001b[0m\n\u001b[0m",
      "\u001b[0;32mC:\\Users\\braun\\Miniconda3\\lib\\site-packages\\sympy\\matrices\\immutable.py\u001b[0m in \u001b[0;36m__setitem__\u001b[0;34m(self, *args)\u001b[0m\n\u001b[1;32m     66\u001b[0m \u001b[1;33m\u001b[0m\u001b[0m\n\u001b[1;32m     67\u001b[0m     \u001b[1;32mdef\u001b[0m \u001b[0m__setitem__\u001b[0m\u001b[1;33m(\u001b[0m\u001b[0mself\u001b[0m\u001b[1;33m,\u001b[0m \u001b[1;33m*\u001b[0m\u001b[0margs\u001b[0m\u001b[1;33m)\u001b[0m\u001b[1;33m:\u001b[0m\u001b[1;33m\u001b[0m\u001b[0m\n\u001b[0;32m---> 68\u001b[0;31m         \u001b[1;32mraise\u001b[0m \u001b[0mTypeError\u001b[0m\u001b[1;33m(\u001b[0m\u001b[1;34m\"Cannot set values of ImmutableMatrix\"\u001b[0m\u001b[1;33m)\u001b[0m\u001b[1;33m\u001b[0m\u001b[0m\n\u001b[0m\u001b[1;32m     69\u001b[0m \u001b[1;33m\u001b[0m\u001b[0m\n\u001b[1;32m     70\u001b[0m     \u001b[1;32mdef\u001b[0m \u001b[0m_eval_Eq\u001b[0m\u001b[1;33m(\u001b[0m\u001b[0mself\u001b[0m\u001b[1;33m,\u001b[0m \u001b[0mother\u001b[0m\u001b[1;33m)\u001b[0m\u001b[1;33m:\u001b[0m\u001b[1;33m\u001b[0m\u001b[0m\n",
      "\u001b[0;31mTypeError\u001b[0m: Cannot set values of ImmutableMatrix"
     ]
    }
   ],
   "source": [
    "Ai[0,0] = 3 # TypeError"
   ]
  },
  {
   "cell_type": "code",
   "execution_count": 49,
   "metadata": {
    "collapsed": false
   },
   "outputs": [
    {
     "data": {
      "text/latex": [
       "$$\\left ( \\left[\\begin{matrix}999 & 2 & 3\\\\4 & 5 & 6\\\\7 & 8 & 9\\end{matrix}\\right], \\quad \\left[\\begin{matrix}333 & 2 & 3\\\\4 & 5 & 6\\\\7 & 8 & 9\\end{matrix}\\right]\\right )$$"
      ],
      "text/plain": [
       "⎛⎡999  2  3⎤, ⎡333  2  3⎤⎞\n",
       "⎜⎢         ⎥  ⎢         ⎥⎟\n",
       "⎜⎢ 4   5  6⎥  ⎢ 4   5  6⎥⎟\n",
       "⎜⎢         ⎥  ⎢         ⎥⎟\n",
       "⎝⎣ 7   8  9⎦  ⎣ 7   8  9⎦⎠"
      ]
     },
     "execution_count": 49,
     "metadata": {},
     "output_type": "execute_result"
    }
   ],
   "source": [
    "B = Matrix(Ai)\n",
    "B[0,0] = 333\n",
    "A, B"
   ]
  },
  {
   "cell_type": "code",
   "execution_count": 51,
   "metadata": {
    "collapsed": false
   },
   "outputs": [
    {
     "data": {
      "text/plain": [
       "sympy.matrices.dense.MutableDenseMatrix"
      ]
     },
     "execution_count": 51,
     "metadata": {},
     "output_type": "execute_result"
    }
   ],
   "source": [
    "type(Matrix(B))"
   ]
  },
  {
   "cell_type": "markdown",
   "metadata": {},
   "source": [
    "## Parameterabhängige Matrizen"
   ]
  },
  {
   "cell_type": "code",
   "execution_count": 52,
   "metadata": {
    "collapsed": false
   },
   "outputs": [
    {
     "data": {
      "text/latex": [
       "$$\\left[\\begin{matrix}a + 1 & 2 & 3\\\\4 & 5 & 6\\\\7 & 8 & 9\\end{matrix}\\right]$$"
      ],
      "text/plain": [
       "⎡a + 1  2  3⎤\n",
       "⎢           ⎥\n",
       "⎢  4    5  6⎥\n",
       "⎢           ⎥\n",
       "⎣  7    8  9⎦"
      ]
     },
     "execution_count": 52,
     "metadata": {},
     "output_type": "execute_result"
    }
   ],
   "source": [
    "a = Symbol('a')\n",
    "A = Matrix(3,3,range(1,10))\n",
    "A[0,0] = 1 + a\n",
    "A"
   ]
  },
  {
   "cell_type": "code",
   "execution_count": 53,
   "metadata": {
    "collapsed": false
   },
   "outputs": [
    {
     "data": {
      "text/latex": [
       "$$\\left[\\begin{matrix}x_{1} \\left(a + 1\\right) + 2 x_{2} + 3 x_{3}\\\\4 x_{1} + 5 x_{2} + 6 x_{3}\\\\7 x_{1} + 8 x_{2} + 9 x_{3}\\end{matrix}\\right] = \\left[\\begin{matrix}6\\\\15\\\\24\\end{matrix}\\right]$$"
      ],
      "text/plain": [
       "⎡x₁⋅(a + 1) + 2⋅x₂ + 3⋅x₃⎤ = ⎡6 ⎤\n",
       "⎢                        ⎥   ⎢  ⎥\n",
       "⎢   4⋅x₁ + 5⋅x₂ + 6⋅x₃   ⎥   ⎢15⎥\n",
       "⎢                        ⎥   ⎢  ⎥\n",
       "⎣   7⋅x₁ + 8⋅x₂ + 9⋅x₃   ⎦   ⎣24⎦"
      ]
     },
     "execution_count": 53,
     "metadata": {},
     "output_type": "execute_result"
    }
   ],
   "source": [
    "glg = Eq(A*x, b)\n",
    "glg"
   ]
  },
  {
   "cell_type": "code",
   "execution_count": 54,
   "metadata": {
    "collapsed": false
   },
   "outputs": [
    {
     "data": {
      "image/png": "[encoded data removed]",
      "text/latex": [
       "$$\\left \\{ x_{1} : 0, \\quad x_{2} : 3, \\quad x_{3} : 0\\right \\}$$"
      ],
      "text/plain": [
       "{x₁: 0, x₂: 3, x₃: 0}"
      ]
     },
     "execution_count": 54,
     "metadata": {},
     "output_type": "execute_result"
    }
   ],
   "source": [
    "solve(glg, x)"
   ]
  },
  {
   "cell_type": "code",
   "execution_count": 55,
   "metadata": {
    "collapsed": false
   },
   "outputs": [
    {
     "data": {
      "text/latex": [
       "$$\\left[\\begin{matrix}x_{1} \\left(a + 1\\right) + 2 x_{2} + 3 x_{3}\\\\4 x_{1} + 5 x_{2} + 6 x_{3}\\\\7 x_{1} + 8 x_{2} + 9 x_{3}\\end{matrix}\\right] = \\left[\\begin{matrix}0\\\\0\\\\1\\end{matrix}\\right]$$"
      ],
      "text/plain": [
       "⎡x₁⋅(a + 1) + 2⋅x₂ + 3⋅x₃⎤ = ⎡0⎤\n",
       "⎢                        ⎥   ⎢ ⎥\n",
       "⎢   4⋅x₁ + 5⋅x₂ + 6⋅x₃   ⎥   ⎢0⎥\n",
       "⎢                        ⎥   ⎢ ⎥\n",
       "⎣   7⋅x₁ + 8⋅x₂ + 9⋅x₃   ⎦   ⎣1⎦"
      ]
     },
     "execution_count": 55,
     "metadata": {},
     "output_type": "execute_result"
    }
   ],
   "source": [
    "glg = Eq(A*x, Matrix([0,0,1]))\n",
    "glg"
   ]
  },
  {
   "cell_type": "code",
   "execution_count": 56,
   "metadata": {
    "collapsed": false
   },
   "outputs": [
    {
     "data": {
      "image/png": "[encoded data removed]",
      "text/latex": [
       "$$\\left \\{ x_{1} : \\frac{1}{a}, \\quad x_{2} : 2 - \\frac{2}{a}, \\quad x_{3} : - \\frac{5}{3} + \\frac{1}{a}\\right \\}$$"
      ],
      "text/plain": [
       "⎧    1          2        5   1⎫\n",
       "⎨x₁: ─, x₂: 2 - ─, x₃: - ─ + ─⎬\n",
       "⎩    a          a        3   a⎭"
      ]
     },
     "execution_count": 56,
     "metadata": {},
     "output_type": "execute_result"
    }
   ],
   "source": [
    "solve(glg, x)"
   ]
  },
  {
   "cell_type": "code",
   "execution_count": 57,
   "metadata": {
    "collapsed": false
   },
   "outputs": [
    {
     "data": {
      "image/png": "[encoded data removed]",
      "text/latex": [
       "$$- 3 a$$"
      ],
      "text/plain": [
       "-3⋅a"
      ]
     },
     "execution_count": 57,
     "metadata": {},
     "output_type": "execute_result"
    }
   ],
   "source": [
    "A.det()"
   ]
  },
  {
   "cell_type": "markdown",
   "metadata": {},
   "source": [
    "## Gauß-Elimination zu Fuß"
   ]
  },
  {
   "cell_type": "code",
   "execution_count": 58,
   "metadata": {
    "collapsed": false
   },
   "outputs": [
    {
     "data": {
      "text/latex": [
       "$$\\left ( \\left[\\begin{matrix}1 & 0 & 0\\\\\\frac{4}{a + 1} & 1 & 0\\\\\\frac{7}{a + 1} & \\frac{8 - \\frac{14}{a + 1}}{5 - \\frac{8}{a + 1}} & 1\\end{matrix}\\right], \\quad \\left[\\begin{matrix}a + 1 & 2 & 3\\\\0 & 5 - \\frac{8}{a + 1} & 6 - \\frac{12}{a + 1}\\\\0 & 0 & 9 - \\frac{21}{a + 1} - \\frac{\\left(6 - \\frac{12}{a + 1}\\right) \\left(8 - \\frac{14}{a + 1}\\right)}{5 - \\frac{8}{a + 1}}\\end{matrix}\\right], \\quad \\left [ \\right ]\\right )$$"
      ],
      "text/plain": [
       "⎛⎡  1        0      0⎤, ⎡a + 1      2                       3                 \n",
       "⎜⎢                   ⎥  ⎢                                                     \n",
       "⎜⎢  4                ⎥  ⎢             8                       12              \n",
       "⎜⎢─────      1      0⎥  ⎢  0    5 - ─────               6 - ─────             \n",
       "⎜⎢a + 1              ⎥  ⎢           a + 1                   a + 1             \n",
       "⎜⎢                   ⎥  ⎢                                                     \n",
       "⎜⎢             14    ⎥  ⎢                              ⎛      12 ⎞ ⎛      14 ⎞\n",
       "⎜⎢       8 - ─────   ⎥  ⎢                              ⎜6 - ─────⎟⋅⎜8 - ─────⎟\n",
       "⎜⎢  7        a + 1   ⎥  ⎢                        21    ⎝    a + 1⎠ ⎝    a + 1⎠\n",
       "⎜⎢─────  ─────────  1⎥  ⎢  0        0      9 - ───── - ───────────────────────\n",
       "⎜⎢a + 1        8     ⎥  ⎢                      a + 1                8         \n",
       "⎜⎢       5 - ─────   ⎥  ⎢                                     5 - ─────       \n",
       "⎝⎣           a + 1   ⎦  ⎣                                         a + 1       \n",
       "\n",
       "⎤, []⎞\n",
       "⎥    ⎟\n",
       "⎥    ⎟\n",
       "⎥    ⎟\n",
       "⎥    ⎟\n",
       "⎥    ⎟\n",
       "⎥    ⎟\n",
       "⎥    ⎟\n",
       "⎥    ⎟\n",
       "⎥    ⎟\n",
       "⎥    ⎟\n",
       "⎥    ⎟\n",
       "⎦    ⎠"
      ]
     },
     "execution_count": 58,
     "metadata": {},
     "output_type": "execute_result"
    }
   ],
   "source": [
    "L, U, R = A.LUdecomposition()\n",
    "L, U, R"
   ]
  },
  {
   "cell_type": "code",
   "execution_count": 59,
   "metadata": {
    "collapsed": false
   },
   "outputs": [
    {
     "data": {
      "text/plain": [
       "True"
      ]
     },
     "execution_count": 59,
     "metadata": {},
     "output_type": "execute_result"
    }
   ],
   "source": [
    "L*U == A  # aber nur, weil R=[]"
   ]
  },
  {
   "cell_type": "code",
   "execution_count": 65,
   "metadata": {
    "collapsed": false
   },
   "outputs": [
    {
     "data": {
      "text/latex": [
       "$$\\left[\\begin{matrix}a + 1 & 2 & 3 & 0\\\\4 & 5 & 6 & 0\\\\7 & 8 & 9 & 1\\end{matrix}\\right]$$"
      ],
      "text/plain": [
       "⎡a + 1  2  3  0⎤\n",
       "⎢              ⎥\n",
       "⎢  4    5  6  0⎥\n",
       "⎢              ⎥\n",
       "⎣  7    8  9  1⎦"
      ]
     },
     "execution_count": 65,
     "metadata": {},
     "output_type": "execute_result"
    }
   ],
   "source": [
    "A = Matrix(3,3,range(1,10))\n",
    "A[0,0] = 1+a\n",
    "b = Matrix([0,0,1])\n",
    "A1 = A.row_join(b)\n",
    "A1"
   ]
  },
  {
   "cell_type": "code",
   "execution_count": 66,
   "metadata": {
    "collapsed": false
   },
   "outputs": [
    {
     "data": {
      "text/latex": [
       "$$\\left[\\begin{matrix}1 & \\frac{2}{a + 1} & \\frac{3}{a + 1} & 0\\\\4 & 5 & 6 & 0\\\\7 & 8 & 9 & 1\\end{matrix}\\right]$$"
      ],
      "text/plain": [
       "⎡     2      3     ⎤\n",
       "⎢1  ─────  ─────  0⎥\n",
       "⎢   a + 1  a + 1   ⎥\n",
       "⎢                  ⎥\n",
       "⎢4    5      6    0⎥\n",
       "⎢                  ⎥\n",
       "⎣7    8      9    1⎦"
      ]
     },
     "execution_count": 66,
     "metadata": {},
     "output_type": "execute_result"
    }
   ],
   "source": [
    "def func1(b, j):\n",
    "    return b/A1[0,0]\n",
    "A1.row_op(0, func1)\n",
    "A1"
   ]
  },
  {
   "cell_type": "code",
   "execution_count": 67,
   "metadata": {
    "collapsed": false
   },
   "outputs": [
    {
     "data": {
      "text/latex": [
       "$$\\left[\\begin{matrix}1 & \\frac{2}{a + 1} & \\frac{3}{a + 1} & 0\\\\0 & 5 - \\frac{8}{a + 1} & 6 - \\frac{12}{a + 1} & 0\\\\0 & 8 - \\frac{14}{a + 1} & 9 - \\frac{21}{a + 1} & 1\\end{matrix}\\right]$$"
      ],
      "text/plain": [
       "⎡       2          3       ⎤\n",
       "⎢1    ─────      ─────    0⎥\n",
       "⎢     a + 1      a + 1     ⎥\n",
       "⎢                          ⎥\n",
       "⎢         8          12    ⎥\n",
       "⎢0  5 - ─────  6 - ─────  0⎥\n",
       "⎢       a + 1      a + 1   ⎥\n",
       "⎢                          ⎥\n",
       "⎢         14         21    ⎥\n",
       "⎢0  8 - ─────  9 - ─────  1⎥\n",
       "⎣       a + 1      a + 1   ⎦"
      ]
     },
     "execution_count": 67,
     "metadata": {},
     "output_type": "execute_result"
    }
   ],
   "source": [
    "def func2(b, j):\n",
    "    return b - A[1,0]*A1[0,j]\n",
    "A1.row_op(1, func2)\n",
    "def func3(b, j):\n",
    "    return b - A[2,0]*A1[0,j]\n",
    "A1.row_op(2, func3)\n",
    "A1"
   ]
  },
  {
   "cell_type": "markdown",
   "metadata": {},
   "source": [
    "Das ist aber sehr fehleranfällig"
   ]
  },
  {
   "cell_type": "code",
   "execution_count": 68,
   "metadata": {
    "collapsed": true
   },
   "outputs": [],
   "source": [
    "def mult_zeile(A, zeilennr, faktor):\n",
    "    B = Matrix(A)\n",
    "    def func(b, j):\n",
    "        return b*faktor\n",
    "    B.row_op(zeilennr, func)\n",
    "    return B"
   ]
  },
  {
   "cell_type": "code",
   "execution_count": 70,
   "metadata": {
    "collapsed": false
   },
   "outputs": [
    {
     "data": {
      "text/latex": [
       "$$\\left[\\begin{matrix}a + 1 & 2 & 3\\\\4 & 5 & 6\\\\-21 & -24 & -27\\end{matrix}\\right]$$"
      ],
      "text/plain": [
       "⎡a + 1   2    3 ⎤\n",
       "⎢               ⎥\n",
       "⎢  4     5    6 ⎥\n",
       "⎢               ⎥\n",
       "⎣ -21   -24  -27⎦"
      ]
     },
     "execution_count": 70,
     "metadata": {},
     "output_type": "execute_result"
    }
   ],
   "source": [
    "B = A.copy()\n",
    "mult_zeile(B, 2, -3)"
   ]
  },
  {
   "cell_type": "code",
   "execution_count": 71,
   "metadata": {
    "collapsed": true
   },
   "outputs": [],
   "source": [
    "def add_zeile(A, quell_nr, ziel_nr, faktor):\n",
    "    B = Matrix(A)  \n",
    "    def func(b, j):\n",
    "        return b + B[quell_nr,j]*faktor\n",
    "    B.row_op(ziel_nr, func)\n",
    "    return B"
   ]
  },
  {
   "cell_type": "code",
   "execution_count": 72,
   "metadata": {
    "collapsed": false
   },
   "outputs": [
    {
     "data": {
      "text/latex": [
       "$$\\left[\\begin{matrix}1 & \\frac{2}{a + 1} & \\frac{3}{a + 1} & 0\\\\0 & 5 - \\frac{8}{a + 1} & 6 - \\frac{12}{a + 1} & 0\\\\0 & 8 - \\frac{14}{a + 1} & 9 - \\frac{21}{a + 1} & 1\\end{matrix}\\right]$$"
      ],
      "text/plain": [
       "⎡       2          3       ⎤\n",
       "⎢1    ─────      ─────    0⎥\n",
       "⎢     a + 1      a + 1     ⎥\n",
       "⎢                          ⎥\n",
       "⎢         8          12    ⎥\n",
       "⎢0  5 - ─────  6 - ─────  0⎥\n",
       "⎢       a + 1      a + 1   ⎥\n",
       "⎢                          ⎥\n",
       "⎢         14         21    ⎥\n",
       "⎢0  8 - ─────  9 - ─────  1⎥\n",
       "⎣       a + 1      a + 1   ⎦"
      ]
     },
     "execution_count": 72,
     "metadata": {},
     "output_type": "execute_result"
    }
   ],
   "source": [
    "A1"
   ]
  },
  {
   "cell_type": "code",
   "execution_count": 73,
   "metadata": {
    "collapsed": false
   },
   "outputs": [
    {
     "data": {
      "text/latex": [
       "$$\\left[\\begin{matrix}1 & \\frac{2}{a + 1} & \\frac{3}{a + 1} & 0\\\\0 & 1 & \\frac{6 - \\frac{12}{a + 1}}{5 - \\frac{8}{a + 1}} & 0\\\\0 & 8 - \\frac{14}{a + 1} & 9 - \\frac{21}{a + 1} & 1\\end{matrix}\\right]$$"
      ],
      "text/plain": [
       "⎡       2          3       ⎤\n",
       "⎢1    ─────      ─────    0⎥\n",
       "⎢     a + 1      a + 1     ⎥\n",
       "⎢                          ⎥\n",
       "⎢                    12    ⎥\n",
       "⎢              6 - ─────   ⎥\n",
       "⎢                  a + 1   ⎥\n",
       "⎢0      1      ─────────  0⎥\n",
       "⎢                    8     ⎥\n",
       "⎢              5 - ─────   ⎥\n",
       "⎢                  a + 1   ⎥\n",
       "⎢                          ⎥\n",
       "⎢         14         21    ⎥\n",
       "⎢0  8 - ─────  9 - ─────  1⎥\n",
       "⎣       a + 1      a + 1   ⎦"
      ]
     },
     "execution_count": 73,
     "metadata": {},
     "output_type": "execute_result"
    }
   ],
   "source": [
    "A2 = mult_zeile(A1, 1, 1/A1[1,1])\n",
    "A2"
   ]
  },
  {
   "cell_type": "code",
   "execution_count": 74,
   "metadata": {
    "collapsed": false
   },
   "outputs": [
    {
     "data": {
      "text/latex": [
       "$$\\left[\\begin{matrix}1 & \\frac{2}{a + 1} & \\frac{3}{a + 1} & 0\\\\0 & 1 & \\frac{6 a - 6}{5 a - 3} & 0\\\\0 & 0 & - \\frac{3 a}{5 a - 3} & 1\\end{matrix}\\right]$$"
      ],
      "text/plain": [
       "⎡     2        3       ⎤\n",
       "⎢1  ─────    ─────    0⎥\n",
       "⎢   a + 1    a + 1     ⎥\n",
       "⎢                      ⎥\n",
       "⎢          6⋅(a - 1)   ⎥\n",
       "⎢0    1    ─────────  0⎥\n",
       "⎢           5⋅a - 3    ⎥\n",
       "⎢                      ⎥\n",
       "⎢            -3⋅a      ⎥\n",
       "⎢0    0     ───────   1⎥\n",
       "⎣           5⋅a - 3    ⎦"
      ]
     },
     "execution_count": 74,
     "metadata": {},
     "output_type": "execute_result"
    }
   ],
   "source": [
    "A3 = add_zeile(A2, 1, 2, -A2[2,1])\n",
    "A3 = simplify(A3)\n",
    "A3"
   ]
  },
  {
   "cell_type": "code",
   "execution_count": 75,
   "metadata": {
    "collapsed": false
   },
   "outputs": [
    {
     "data": {
      "text/latex": [
       "$$\\left[\\begin{matrix}1 & \\frac{2}{a + 1} & \\frac{3}{a + 1} & 0\\\\0 & 1 & \\frac{6 a - 6}{5 a - 3} & 0\\\\0 & 0 & 1 & - \\frac{5 a - 3}{3 a}\\end{matrix}\\right]$$"
      ],
      "text/plain": [
       "⎡     2        3                 ⎤\n",
       "⎢1  ─────    ─────         0     ⎥\n",
       "⎢   a + 1    a + 1               ⎥\n",
       "⎢                                ⎥\n",
       "⎢          6⋅(a - 1)             ⎥\n",
       "⎢0    1    ─────────       0     ⎥\n",
       "⎢           5⋅a - 3              ⎥\n",
       "⎢                                ⎥\n",
       "⎢                     -(5⋅a - 3) ⎥\n",
       "⎢0    0        1      ───────────⎥\n",
       "⎣                         3⋅a    ⎦"
      ]
     },
     "execution_count": 75,
     "metadata": {},
     "output_type": "execute_result"
    }
   ],
   "source": [
    "A4 = mult_zeile(A3, 2, 1/A3[2,2])\n",
    "A4"
   ]
  },
  {
   "cell_type": "code",
   "execution_count": 76,
   "metadata": {
    "collapsed": false
   },
   "outputs": [
    {
     "data": {
      "text/latex": [
       "$$\\left[\\begin{matrix}1 & \\frac{2}{a + 1} & \\frac{3}{a + 1} & 0\\\\0 & 1 & 0 & \\frac{1}{a} \\left(2 a - 2\\right)\\\\0 & 0 & 1 & - \\frac{5 a - 3}{3 a}\\end{matrix}\\right]$$"
      ],
      "text/plain": [
       "⎡     2      3               ⎤\n",
       "⎢1  ─────  ─────       0     ⎥\n",
       "⎢   a + 1  a + 1             ⎥\n",
       "⎢                            ⎥\n",
       "⎢                  2⋅(a - 1) ⎥\n",
       "⎢0    1      0     ───────── ⎥\n",
       "⎢                      a     ⎥\n",
       "⎢                            ⎥\n",
       "⎢                 -(5⋅a - 3) ⎥\n",
       "⎢0    0      1    ───────────⎥\n",
       "⎣                     3⋅a    ⎦"
      ]
     },
     "execution_count": 76,
     "metadata": {},
     "output_type": "execute_result"
    }
   ],
   "source": [
    "A5 = add_zeile(A4, 2, 1, -A4[1,2])\n",
    "A5"
   ]
  },
  {
   "cell_type": "code",
   "execution_count": 77,
   "metadata": {
    "collapsed": false
   },
   "outputs": [
    {
     "data": {
      "text/latex": [
       "$$\\left[\\begin{matrix}1 & 0 & 0 & - \\frac{4 a - 4}{a \\left(a + 1\\right)} + \\frac{5 a - 3}{a \\left(a + 1\\right)}\\\\0 & 1 & 0 & \\frac{1}{a} \\left(2 a - 2\\right)\\\\0 & 0 & 1 & - \\frac{5 a - 3}{3 a}\\end{matrix}\\right]$$"
      ],
      "text/plain": [
       "⎡           4⋅(a - 1)    5⋅a - 3 ⎤\n",
       "⎢1  0  0  - ───────── + ─────────⎥\n",
       "⎢           a⋅(a + 1)   a⋅(a + 1)⎥\n",
       "⎢                                ⎥\n",
       "⎢                2⋅(a - 1)       ⎥\n",
       "⎢0  1  0         ─────────       ⎥\n",
       "⎢                    a           ⎥\n",
       "⎢                                ⎥\n",
       "⎢               -(5⋅a - 3)       ⎥\n",
       "⎢0  0  1        ───────────      ⎥\n",
       "⎣                   3⋅a          ⎦"
      ]
     },
     "execution_count": 77,
     "metadata": {},
     "output_type": "execute_result"
    }
   ],
   "source": [
    "A6 = add_zeile(A5, 1, 0, -A5[0,1])\n",
    "A7 = add_zeile(A6, 2, 0, -A6[0,2])\n",
    "A7"
   ]
  },
  {
   "cell_type": "code",
   "execution_count": 78,
   "metadata": {
    "collapsed": false
   },
   "outputs": [
    {
     "data": {
      "text/latex": [
       "$$\\left[\\begin{matrix}\\frac{1}{a}\\\\2 - \\frac{2}{a}\\\\- \\frac{5}{3} + \\frac{1}{a}\\end{matrix}\\right]$$"
      ],
      "text/plain": [
       "⎡   1   ⎤\n",
       "⎢   ─   ⎥\n",
       "⎢   a   ⎥\n",
       "⎢       ⎥\n",
       "⎢     2 ⎥\n",
       "⎢ 2 - ─ ⎥\n",
       "⎢     a ⎥\n",
       "⎢       ⎥\n",
       "⎢  5   1⎥\n",
       "⎢- ─ + ─⎥\n",
       "⎣  3   a⎦"
      ]
     },
     "execution_count": 78,
     "metadata": {},
     "output_type": "execute_result"
    }
   ],
   "source": [
    "y = simplify(A7[0:3, 3])\n",
    "y"
   ]
  },
  {
   "cell_type": "code",
   "execution_count": 79,
   "metadata": {
    "collapsed": false
   },
   "outputs": [
    {
     "data": {
      "text/plain": [
       "True"
      ]
     },
     "execution_count": 79,
     "metadata": {},
     "output_type": "execute_result"
    }
   ],
   "source": [
    "simplify(A*y) == b"
   ]
  },
  {
   "cell_type": "markdown",
   "metadata": {},
   "source": [
    "## Eigenwerte"
   ]
  },
  {
   "cell_type": "code",
   "execution_count": 80,
   "metadata": {
    "collapsed": false
   },
   "outputs": [
    {
     "data": {
      "image/png": "[encoded data removed]",
      "text/latex": [
       "$$\\left \\{ 0 : 1, \\quad \\frac{15}{2} + \\frac{3 \\sqrt{33}}{2} : 1, \\quad - \\frac{3 \\sqrt{33}}{2} + \\frac{15}{2} : 1\\right \\}$$"
      ],
      "text/plain": [
       "⎧      15   3⋅√33       3⋅√33   15   ⎫\n",
       "⎨0: 1, ── + ─────: 1, - ───── + ──: 1⎬\n",
       "⎩      2      2           2     2    ⎭"
      ]
     },
     "execution_count": 80,
     "metadata": {},
     "output_type": "execute_result"
    }
   ],
   "source": [
    "A = Matrix(3, 3, range(1,10))\n",
    "A.eigenvals()"
   ]
  },
  {
   "cell_type": "code",
   "execution_count": 81,
   "metadata": {
    "collapsed": false
   },
   "outputs": [
    {
     "data": {
      "text/latex": [
       "$$\\left [ \\left ( 0, \\quad 1, \\quad \\left [ \\left[\\begin{matrix}1\\\\-2\\\\1\\end{matrix}\\right]\\right ]\\right ), \\quad \\left ( \\frac{15}{2} + \\frac{3 \\sqrt{33}}{2}, \\quad 1, \\quad \\left [ \\left[\\begin{matrix}\\frac{- \\frac{24}{- \\frac{3 \\sqrt{33}}{2} - \\frac{13}{2}} + 12}{\\left(- \\frac{3 \\sqrt{33}}{2} - \\frac{13}{2}\\right) \\left(- \\frac{9 \\sqrt{33}}{8} - \\frac{33}{8}\\right)} - \\frac{3}{- \\frac{3 \\sqrt{33}}{2} - \\frac{13}{2}}\\\\- \\frac{- \\frac{12}{- \\frac{3 \\sqrt{33}}{2} - \\frac{13}{2}} + 6}{- \\frac{9 \\sqrt{33}}{8} - \\frac{33}{8}}\\\\1\\end{matrix}\\right]\\right ]\\right ), \\quad \\left ( - \\frac{3 \\sqrt{33}}{2} + \\frac{15}{2}, \\quad 1, \\quad \\left [ \\left[\\begin{matrix}- \\frac{3}{- \\frac{13}{2} + \\frac{3 \\sqrt{33}}{2}} + \\frac{- \\frac{24}{- \\frac{13}{2} + \\frac{3 \\sqrt{33}}{2}} + 12}{\\left(- \\frac{13}{2} + \\frac{3 \\sqrt{33}}{2}\\right) \\left(- \\frac{33}{8} + \\frac{9 \\sqrt{33}}{8}\\right)}\\\\- \\frac{- \\frac{12}{- \\frac{13}{2} + \\frac{3 \\sqrt{33}}{2}} + 6}{- \\frac{33}{8} + \\frac{9 \\sqrt{33}}{8}}\\\\1\\end{matrix}\\right]\\right ]\\right )\\right ]$$"
      ],
      "text/plain": [
       "⎡                ⎛               ⎡⎡      ⎛       12         ⎞                 \n",
       "⎢                ⎜               ⎢⎢    2⋅⎜- ──────────── + 6⎟                 \n",
       "⎢                ⎜               ⎢⎢      ⎜    3⋅√33   13    ⎟                 \n",
       "⎢                ⎜               ⎢⎢      ⎜  - ───── - ──    ⎟                 \n",
       "⎢                ⎜15   3⋅√33     ⎢⎢      ⎝      2     2     ⎠           3     \n",
       "⎢⎛0, 1, ⎡⎡1 ⎤⎤⎞, ⎜── + ─────, 1, ⎢⎢───────────────────────────── - ───────────\n",
       "⎢⎜      ⎢⎢  ⎥⎥⎟  ⎜2      2       ⎢⎢⎛  3⋅√33   13⎞ ⎛  9⋅√33   33⎞     3⋅√33   1\n",
       "⎢⎜      ⎢⎢-2⎥⎥⎟  ⎜               ⎢⎢⎜- ───── - ──⎟⋅⎜- ───── - ──⎟   - ───── - ─\n",
       "⎢⎜      ⎢⎢  ⎥⎥⎟  ⎜               ⎢⎢⎝    2     2 ⎠ ⎝    8     8 ⎠       2     2\n",
       "⎢⎝      ⎣⎣1 ⎦⎦⎠  ⎜               ⎢⎢                                           \n",
       "⎢                ⎜               ⎢⎢            ⎛       12         ⎞           \n",
       "⎢                ⎜               ⎢⎢           -⎜- ──────────── + 6⎟           \n",
       "⎢                ⎜               ⎢⎢            ⎜    3⋅√33   13    ⎟           \n",
       "⎢                ⎜               ⎢⎢            ⎜  - ───── - ──    ⎟           \n",
       "⎢                ⎜               ⎢⎢            ⎝      2     2     ⎠           \n",
       "⎢                ⎜               ⎢⎢           ──────────────────────          \n",
       "⎢                ⎜               ⎢⎢                  9⋅√33   33               \n",
       "⎢                ⎜               ⎢⎢                - ───── - ──               \n",
       "⎢                ⎜               ⎢⎢                    8     8                \n",
       "⎢                ⎜               ⎢⎢                                           \n",
       "⎣                ⎝               ⎣⎣                     1                     \n",
       "\n",
       " ⎤⎤⎞  ⎛                 ⎡⎡                       ⎛       12         ⎞   ⎤⎤⎞⎤\n",
       " ⎥⎥⎟  ⎜                 ⎢⎢                     2⋅⎜- ──────────── + 6⎟   ⎥⎥⎟⎥\n",
       " ⎥⎥⎟  ⎜                 ⎢⎢                       ⎜    13   3⋅√33    ⎟   ⎥⎥⎟⎥\n",
       " ⎥⎥⎟  ⎜                 ⎢⎢                       ⎜  - ── + ─────    ⎟   ⎥⎥⎟⎥\n",
       " ⎥⎥⎟  ⎜  3⋅√33   15     ⎢⎢       3               ⎝    2      2      ⎠   ⎥⎥⎟⎥\n",
       "─⎥⎥⎟, ⎜- ───── + ──, 1, ⎢⎢- ──────────── + ─────────────────────────────⎥⎥⎟⎥\n",
       "3⎥⎥⎟  ⎜    2     2      ⎢⎢    13   3⋅√33   ⎛  13   3⋅√33⎞ ⎛  33   9⋅√33⎞⎥⎥⎟⎥\n",
       "─⎥⎥⎟  ⎜                 ⎢⎢  - ── + ─────   ⎜- ── + ─────⎟⋅⎜- ── + ─────⎟⎥⎥⎟⎥\n",
       " ⎥⎥⎟  ⎜                 ⎢⎢    2      2     ⎝  2      2  ⎠ ⎝  8      8  ⎠⎥⎥⎟⎥\n",
       " ⎥⎥⎟  ⎜                 ⎢⎢                                              ⎥⎥⎟⎥\n",
       " ⎥⎥⎟  ⎜                 ⎢⎢             ⎛       12         ⎞             ⎥⎥⎟⎥\n",
       " ⎥⎥⎟  ⎜                 ⎢⎢            -⎜- ──────────── + 6⎟             ⎥⎥⎟⎥\n",
       " ⎥⎥⎟  ⎜                 ⎢⎢             ⎜    13   3⋅√33    ⎟             ⎥⎥⎟⎥\n",
       " ⎥⎥⎟  ⎜                 ⎢⎢             ⎜  - ── + ─────    ⎟             ⎥⎥⎟⎥\n",
       " ⎥⎥⎟  ⎜                 ⎢⎢             ⎝    2      2      ⎠             ⎥⎥⎟⎥\n",
       " ⎥⎥⎟  ⎜                 ⎢⎢            ──────────────────────            ⎥⎥⎟⎥\n",
       " ⎥⎥⎟  ⎜                 ⎢⎢                   33   9⋅√33                 ⎥⎥⎟⎥\n",
       " ⎥⎥⎟  ⎜                 ⎢⎢                 - ── + ─────                 ⎥⎥⎟⎥\n",
       " ⎥⎥⎟  ⎜                 ⎢⎢                   8      8                   ⎥⎥⎟⎥\n",
       " ⎥⎥⎟  ⎜                 ⎢⎢                                              ⎥⎥⎟⎥\n",
       " ⎦⎦⎠  ⎝                 ⎣⎣                      1                       ⎦⎦⎠⎦"
      ]
     },
     "execution_count": 81,
     "metadata": {},
     "output_type": "execute_result"
    }
   ],
   "source": [
    "A.eigenvects()"
   ]
  },
  {
   "cell_type": "code",
   "execution_count": 82,
   "metadata": {
    "collapsed": false
   },
   "outputs": [
    {
     "data": {
      "text/latex": [
       "$$\\left [ \\left ( 0, \\quad 1, \\quad \\left [ \\left[\\begin{matrix}1\\\\-2\\\\1\\end{matrix}\\right]\\right ]\\right ), \\quad \\left ( \\frac{15}{2} + \\frac{3 \\sqrt{33}}{2}, \\quad 1, \\quad \\left [ \\left[\\begin{matrix}\\frac{\\frac{256}{13 + 3 \\sqrt{33}} + 64}{\\left(11 + 3 \\sqrt{33}\\right) \\left(13 + 3 \\sqrt{33}\\right)} + \\frac{6}{13 + 3 \\sqrt{33}}\\\\\\frac{\\frac{64}{13 + 3 \\sqrt{33}} + 16}{11 + 3 \\sqrt{33}}\\\\1\\end{matrix}\\right]\\right ]\\right ), \\quad \\left ( - \\frac{3 \\sqrt{33}}{2} + \\frac{15}{2}, \\quad 1, \\quad \\left [ \\left[\\begin{matrix}\\frac{6}{- 3 \\sqrt{33} + 13} + \\frac{\\frac{256}{- 3 \\sqrt{33} + 13} + 64}{\\left(- 3 \\sqrt{33} + 11\\right) \\left(- 3 \\sqrt{33} + 13\\right)}\\\\\\frac{\\frac{64}{- 3 \\sqrt{33} + 13} + 16}{- 3 \\sqrt{33} + 11}\\\\1\\end{matrix}\\right]\\right ]\\right )\\right ]$$"
      ],
      "text/plain": [
       "⎡                ⎛               ⎡⎡      ⎛    4         ⎞                ⎤⎤⎞  \n",
       "⎢                ⎜               ⎢⎢   64⋅⎜────────── + 1⎟                ⎥⎥⎟  \n",
       "⎢                ⎜15   3⋅√33     ⎢⎢      ⎝13 + 3⋅√33    ⎠          6     ⎥⎥⎟  \n",
       "⎢⎛0, 1, ⎡⎡1 ⎤⎤⎞, ⎜── + ─────, 1, ⎢⎢───────────────────────── + ──────────⎥⎥⎟, \n",
       "⎢⎜      ⎢⎢  ⎥⎥⎟  ⎜2      2       ⎢⎢(11 + 3⋅√33)⋅(13 + 3⋅√33)   13 + 3⋅√33⎥⎥⎟  \n",
       "⎢⎜      ⎢⎢-2⎥⎥⎟  ⎜               ⎢⎢                                      ⎥⎥⎟  \n",
       "⎢⎜      ⎢⎢  ⎥⎥⎟  ⎜               ⎢⎢            ⎛    4         ⎞          ⎥⎥⎟  \n",
       "⎢⎝      ⎣⎣1 ⎦⎦⎠  ⎜               ⎢⎢         16⋅⎜────────── + 1⎟          ⎥⎥⎟  \n",
       "⎢                ⎜               ⎢⎢            ⎝13 + 3⋅√33    ⎠          ⎥⎥⎟  \n",
       "⎢                ⎜               ⎢⎢         ───────────────────          ⎥⎥⎟  \n",
       "⎢                ⎜               ⎢⎢              11 + 3⋅√33              ⎥⎥⎟  \n",
       "⎢                ⎜               ⎢⎢                                      ⎥⎥⎟  \n",
       "⎣                ⎝               ⎣⎣                  1                   ⎦⎦⎠  \n",
       "\n",
       "⎛                 ⎡⎡                     ⎛     4         ⎞   ⎤⎤⎞⎤\n",
       "⎜                 ⎢⎢                  64⋅⎜─────────── + 1⎟   ⎥⎥⎟⎥\n",
       "⎜  3⋅√33   15     ⎢⎢     6               ⎝-3⋅√33 + 13    ⎠   ⎥⎥⎟⎥\n",
       "⎜- ───── + ──, 1, ⎢⎢─────────── + ───────────────────────────⎥⎥⎟⎥\n",
       "⎜    2     2      ⎢⎢-3⋅√33 + 13   (-3⋅√33 + 11)⋅(-3⋅√33 + 13)⎥⎥⎟⎥\n",
       "⎜                 ⎢⎢                                         ⎥⎥⎟⎥\n",
       "⎜                 ⎢⎢             ⎛     4         ⎞           ⎥⎥⎟⎥\n",
       "⎜                 ⎢⎢          16⋅⎜─────────── + 1⎟           ⎥⎥⎟⎥\n",
       "⎜                 ⎢⎢             ⎝-3⋅√33 + 13    ⎠           ⎥⎥⎟⎥\n",
       "⎜                 ⎢⎢          ────────────────────           ⎥⎥⎟⎥\n",
       "⎜                 ⎢⎢              -3⋅√33 + 11                ⎥⎥⎟⎥\n",
       "⎜                 ⎢⎢                                         ⎥⎥⎟⎥\n",
       "⎝                 ⎣⎣                    1                    ⎦⎦⎠⎦"
      ]
     },
     "execution_count": 82,
     "metadata": {},
     "output_type": "execute_result"
    }
   ],
   "source": [
    "A.eigenvects(simplify=True)"
   ]
  },
  {
   "cell_type": "code",
   "execution_count": 83,
   "metadata": {
    "collapsed": false
   },
   "outputs": [
    {
     "data": {
      "text/latex": [
       "$$\\left ( \\left[\\begin{matrix}1 & - \\frac{1}{2} + \\frac{3 \\sqrt{33}}{22} & - \\frac{3 \\sqrt{33}}{22} - \\frac{1}{2}\\\\-2 & \\frac{1}{4} + \\frac{3 \\sqrt{33}}{44} & - \\frac{3 \\sqrt{33}}{44} + \\frac{1}{4}\\\\1 & 1 & 1\\end{matrix}\\right], \\quad \\left[\\begin{matrix}0 & 0 & 0\\\\0 & \\frac{15}{2} + \\frac{3 \\sqrt{33}}{2} & 0\\\\0 & 0 & - \\frac{3 \\sqrt{33}}{2} + \\frac{15}{2}\\end{matrix}\\right]\\right )$$"
      ],
      "text/plain": [
       "⎛⎡      1   3⋅√33    3⋅√33   1⎤                               ⎞\n",
       "⎜⎢1   - ─ + ─────  - ───── - ─⎥, ⎡0      0            0      ⎤⎟\n",
       "⎜⎢      2     22       22    2⎥  ⎢                           ⎥⎟\n",
       "⎜⎢                            ⎥  ⎢   15   3⋅√33              ⎥⎟\n",
       "⎜⎢     1   3⋅√33     3⋅√33   1⎥  ⎢0  ── + ─────       0      ⎥⎟\n",
       "⎜⎢-2   ─ + ─────   - ───── + ─⎥  ⎢   2      2                ⎥⎟\n",
       "⎜⎢     4     44        44    4⎥  ⎢                           ⎥⎟\n",
       "⎜⎢                            ⎥  ⎢                 3⋅√33   15⎥⎟\n",
       "⎜⎣1        1            1     ⎦  ⎢0      0       - ───── + ──⎥⎟\n",
       "⎝                                ⎣                   2     2 ⎦⎠"
      ]
     },
     "execution_count": 83,
     "metadata": {},
     "output_type": "execute_result"
    }
   ],
   "source": [
    "T, J = A.diagonalize()\n",
    "T = simplify(T)\n",
    "T, J"
   ]
  },
  {
   "cell_type": "code",
   "execution_count": 84,
   "metadata": {
    "collapsed": false
   },
   "outputs": [
    {
     "data": {
      "text/latex": [
       "$$\\left[\\begin{matrix}1 & 2 & 3\\\\4 & 5 & 6\\\\7 & 8 & 9\\end{matrix}\\right]$$"
      ],
      "text/plain": [
       "⎡1  2  3⎤\n",
       "⎢       ⎥\n",
       "⎢4  5  6⎥\n",
       "⎢       ⎥\n",
       "⎣7  8  9⎦"
      ]
     },
     "execution_count": 84,
     "metadata": {},
     "output_type": "execute_result"
    }
   ],
   "source": [
    "simplify(T * J * T**(-1))"
   ]
  },
  {
   "cell_type": "code",
   "execution_count": null,
   "metadata": {
    "collapsed": false
   },
   "outputs": [],
   "source": [
    "B = Matrix(3, 3, [1,1,0,0,1,0,0,0,1])\n",
    "B"
   ]
  },
  {
   "cell_type": "code",
   "execution_count": null,
   "metadata": {
    "collapsed": false
   },
   "outputs": [],
   "source": [
    "B.eigenvects()"
   ]
  },
  {
   "cell_type": "code",
   "execution_count": null,
   "metadata": {
    "collapsed": false
   },
   "outputs": [],
   "source": [
    "#B.diagonalize()   # MatrixError"
   ]
  },
  {
   "cell_type": "code",
   "execution_count": null,
   "metadata": {
    "collapsed": false
   },
   "outputs": [],
   "source": [
    "C = simplify(T**(-1)*B*T)\n",
    "C"
   ]
  },
  {
   "cell_type": "code",
   "execution_count": null,
   "metadata": {
    "collapsed": false
   },
   "outputs": [],
   "source": [
    "T1, J = C.jordan_form()\n",
    "J"
   ]
  },
  {
   "cell_type": "code",
   "execution_count": null,
   "metadata": {
    "collapsed": false
   },
   "outputs": [],
   "source": [
    "T1[0,0]"
   ]
  },
  {
   "cell_type": "code",
   "execution_count": null,
   "metadata": {
    "collapsed": true
   },
   "outputs": [],
   "source": [
    "T1 = simplify(T1)"
   ]
  },
  {
   "cell_type": "code",
   "execution_count": null,
   "metadata": {
    "collapsed": false
   },
   "outputs": [],
   "source": [
    "T1[0,0]"
   ]
  },
  {
   "cell_type": "code",
   "execution_count": null,
   "metadata": {
    "collapsed": false
   },
   "outputs": [],
   "source": [
    "simplify(T1 * J * T1**(-1) - C)"
   ]
  },
  {
   "cell_type": "code",
   "execution_count": null,
   "metadata": {
    "collapsed": false
   },
   "outputs": [],
   "source": [
    "Cn = np.array(C).astype(float)"
   ]
  },
  {
   "cell_type": "code",
   "execution_count": null,
   "metadata": {
    "collapsed": false
   },
   "outputs": [],
   "source": [
    "eigw, eigv = np.linalg.eig(Cn)\n",
    "eigw"
   ]
  },
  {
   "cell_type": "code",
   "execution_count": null,
   "metadata": {
    "collapsed": false
   },
   "outputs": [],
   "source": [
    "eigv"
   ]
  },
  {
   "cell_type": "code",
   "execution_count": null,
   "metadata": {
    "collapsed": false
   },
   "outputs": [],
   "source": [
    "M = Matrix(eigv)\n",
    "M.det()"
   ]
  },
  {
   "cell_type": "markdown",
   "metadata": {},
   "source": [
    "Hier könnte man eine Aufgabe von machen"
   ]
  },
  {
   "cell_type": "code",
   "execution_count": null,
   "metadata": {
    "collapsed": true
   },
   "outputs": [],
   "source": []
  }
 ],
 "metadata": {
  "anaconda-cloud": {},
  "kernelspec": {
   "display_name": "Python [conda root]",
   "language": "python",
   "name": "conda-root-py"
  },
  "language_info": {
   "codemirror_mode": {
    "name": "ipython",
    "version": 3
   },
   "file_extension": ".py",
   "mimetype": "text/x-python",
   "name": "python",
   "nbconvert_exporter": "python",
   "pygments_lexer": "ipython3",
   "version": "3.5.2"
  }
 },
 "nbformat": 4,
 "nbformat_minor": 1
}
