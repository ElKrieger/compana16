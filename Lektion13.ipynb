{
 "cells": [
  {
   "cell_type": "markdown",
   "metadata": {},
   "source": [
    "# Lektion 13"
   ]
  },
  {
   "cell_type": "code",
   "execution_count": 3,
   "metadata": {
    "collapsed": true
   },
   "outputs": [],
   "source": [
    "from sympy import *\n",
    "init_printing()\n",
    "from IPython.display import display"
   ]
  },
  {
   "cell_type": "markdown",
   "metadata": {},
   "source": [
    "## Besselfunktionen"
   ]
  },
  {
   "cell_type": "code",
   "execution_count": 4,
   "metadata": {
    "collapsed": false
   },
   "outputs": [
    {
     "data": {
      "image/png": "[encoded data removed]",
      "text/latex": [
       "$$\\frac{d^{2}}{d x^{2}}  y{\\left (x \\right )} = 4 y{\\left (x \\right )} - \\frac{1}{x} \\frac{d}{d x} y{\\left (x \\right )} + \\frac{1}{x^{2}} y{\\left (x \\right )}$$"
      ],
      "text/plain": [
       "                     d              \n",
       "  2                  ──(y(x))       \n",
       " d                   dx         y(x)\n",
       "───(y(x)) = 4⋅y(x) - ──────── + ────\n",
       "  2                     x         2 \n",
       "dx                               x  "
      ]
     },
     "execution_count": 4,
     "metadata": {},
     "output_type": "execute_result"
    }
   ],
   "source": [
    "x = Symbol('x')\n",
    "y = Function('y')\n",
    "dgl = Eq(y(x).diff(x, 2), -1/x*y(x).diff(x) + 1/x**2*y(x) +4*y(x))\n",
    "dgl"
   ]
  },
  {
   "cell_type": "code",
   "execution_count": 6,
   "metadata": {
    "collapsed": false
   },
   "outputs": [],
   "source": [
    "#dsolve(dgl)   # NotImplementedError"
   ]
  },
  {
   "cell_type": "code",
   "execution_count": 28,
   "metadata": {
    "collapsed": true
   },
   "outputs": [],
   "source": [
    "#N = 8\n",
    "N=18"
   ]
  },
  {
   "cell_type": "code",
   "execution_count": 29,
   "metadata": {
    "collapsed": false
   },
   "outputs": [],
   "source": [
    "a = [Symbol('a'+str(j)) for j in range(N)]"
   ]
  },
  {
   "cell_type": "code",
   "execution_count": 30,
   "metadata": {
    "collapsed": true
   },
   "outputs": [],
   "source": [
    "n = Symbol('n')"
   ]
  },
  {
   "cell_type": "code",
   "execution_count": 31,
   "metadata": {
    "collapsed": false
   },
   "outputs": [
    {
     "data": {
      "image/png": "[encoded data removed]",
      "text/latex": [
       "$$a_{0} + a_{1} x + a_{10} x^{10} + a_{11} x^{11} + a_{12} x^{12} + a_{13} x^{13} + a_{14} x^{14} + a_{15} x^{15} + a_{16} x^{16} + a_{17} x^{17} + a_{2} x^{2} + a_{3} x^{3} + a_{4} x^{4} + a_{5} x^{5} + a_{6} x^{6} + a_{7} x^{7} + a_{8} x^{8} + a_{9} x^{9}$$"
      ],
      "text/plain": [
       "                 10        11        12        13        14        15        1\n",
       "a₀ + a₁⋅x + a₁₀⋅x   + a₁₁⋅x   + a₁₂⋅x   + a₁₃⋅x   + a₁₄⋅x   + a₁₅⋅x   + a₁₆⋅x \n",
       "\n",
       "6        17       2       3       4       5       6       7       8       9\n",
       "  + a₁₇⋅x   + a₂⋅x  + a₃⋅x  + a₄⋅x  + a₅⋅x  + a₆⋅x  + a₇⋅x  + a₈⋅x  + a₉⋅x "
      ]
     },
     "execution_count": 31,
     "metadata": {},
     "output_type": "execute_result"
    }
   ],
   "source": [
    "ys = sum([a[j]*x**j for j in range(N)]) \n",
    "ys "
   ]
  },
  {
   "cell_type": "code",
   "execution_count": 32,
   "metadata": {
    "collapsed": false
   },
   "outputs": [
    {
     "data": {
      "image/png": "[encoded data removed]",
      "text/latex": [
       "$$2 \\left(45 a_{10} x^{8} + 55 a_{11} x^{9} + 66 a_{12} x^{10} + 78 a_{13} x^{11} + 91 a_{14} x^{12} + 105 a_{15} x^{13} + 120 a_{16} x^{14} + 136 a_{17} x^{15} + a_{2} + 3 a_{3} x + 6 a_{4} x^{2} + 10 a_{5} x^{3} + 15 a_{6} x^{4} + 21 a_{7} x^{5} + 28 a_{8} x^{6} + 36 a_{9} x^{7}\\right) = 4 a_{0} + 4 a_{1} x + 4 a_{10} x^{10} + 4 a_{11} x^{11} + 4 a_{12} x^{12} + 4 a_{13} x^{13} + 4 a_{14} x^{14} + 4 a_{15} x^{15} + 4 a_{16} x^{16} + 4 a_{17} x^{17} + 4 a_{2} x^{2} + 4 a_{3} x^{3} + 4 a_{4} x^{4} + 4 a_{5} x^{5} + 4 a_{6} x^{6} + 4 a_{7} x^{7} + 4 a_{8} x^{8} + 4 a_{9} x^{9} - \\frac{1}{x} \\left(a_{1} + 10 a_{10} x^{9} + 11 a_{11} x^{10} + 12 a_{12} x^{11} + 13 a_{13} x^{12} + 14 a_{14} x^{13} + 15 a_{15} x^{14} + 16 a_{16} x^{15} + 17 a_{17} x^{16} + 2 a_{2} x + 3 a_{3} x^{2} + 4 a_{4} x^{3} + 5 a_{5} x^{4} + 6 a_{6} x^{5} + 7 a_{7} x^{6} + 8 a_{8} x^{7} + 9 a_{9} x^{8}\\right) + \\frac{1}{x^{2}} \\left(a_{0} + a_{1} x + a_{10} x^{10} + a_{11} x^{11} + a_{12} x^{12} + a_{13} x^{13} + a_{14} x^{14} + a_{15} x^{15} + a_{16} x^{16} + a_{17} x^{17} + a_{2} x^{2} + a_{3} x^{3} + a_{4} x^{4} + a_{5} x^{5} + a_{6} x^{6} + a_{7} x^{7} + a_{8} x^{8} + a_{9} x^{9}\\right)$$"
      ],
      "text/plain": [
       "                                                                              \n",
       "  ⎛        8           9           10           11           12            13 \n",
       "2⋅⎝45⋅a₁₀⋅x  + 55⋅a₁₁⋅x  + 66⋅a₁₂⋅x   + 78⋅a₁₃⋅x   + 91⋅a₁₄⋅x   + 105⋅a₁₅⋅x   \n",
       "                                                                              \n",
       "                                                                              \n",
       "\n",
       "                                                                              \n",
       "           14            15                       2          3          4     \n",
       "+ 120⋅a₁₆⋅x   + 136⋅a₁₇⋅x   + a₂ + 3⋅a₃⋅x + 6⋅a₄⋅x  + 10⋅a₅⋅x  + 15⋅a₆⋅x  + 21\n",
       "                                                                              \n",
       "                                                                              \n",
       "\n",
       "                                                                              \n",
       "     5          6          7⎞                          10          11         \n",
       "⋅a₇⋅x  + 28⋅a₈⋅x  + 36⋅a₉⋅x ⎠ = 4⋅a₀ + 4⋅a₁⋅x + 4⋅a₁₀⋅x   + 4⋅a₁₁⋅x   + 4⋅a₁₂⋅\n",
       "                                                                              \n",
       "                                                                              \n",
       "\n",
       "                                                                              \n",
       " 12          13          14          15          16          17         2     \n",
       "x   + 4⋅a₁₃⋅x   + 4⋅a₁₄⋅x   + 4⋅a₁₅⋅x   + 4⋅a₁₆⋅x   + 4⋅a₁₇⋅x   + 4⋅a₂⋅x  + 4⋅\n",
       "                                                                              \n",
       "                                                                              \n",
       "\n",
       "                                                                              \n",
       "    3         4         5         6         7         8         9   a₁ + 10⋅a₁\n",
       "a₃⋅x  + 4⋅a₄⋅x  + 4⋅a₅⋅x  + 4⋅a₆⋅x  + 4⋅a₇⋅x  + 4⋅a₈⋅x  + 4⋅a₉⋅x  - ──────────\n",
       "                                                                              \n",
       "                                                                              \n",
       "\n",
       "   9           10           11           12           13           14         \n",
       "₀⋅x  + 11⋅a₁₁⋅x   + 12⋅a₁₂⋅x   + 13⋅a₁₃⋅x   + 14⋅a₁₄⋅x   + 15⋅a₁₅⋅x   + 16⋅a₁₆\n",
       "──────────────────────────────────────────────────────────────────────────────\n",
       "                                                                              \n",
       "                                                                              \n",
       "\n",
       "  15           16                  2         3         4         5         6  \n",
       "⋅x   + 17⋅a₁₇⋅x   + 2⋅a₂⋅x + 3⋅a₃⋅x  + 4⋅a₄⋅x  + 5⋅a₅⋅x  + 6⋅a₆⋅x  + 7⋅a₇⋅x  +\n",
       "──────────────────────────────────────────────────────────────────────────────\n",
       "   x                                                                          \n",
       "                                                                              \n",
       "\n",
       "       7         8                    10        11        12        13        \n",
       " 8⋅a₈⋅x  + 9⋅a₉⋅x    a₀ + a₁⋅x + a₁₀⋅x   + a₁₁⋅x   + a₁₂⋅x   + a₁₃⋅x   + a₁₄⋅x\n",
       "────────────────── + ─────────────────────────────────────────────────────────\n",
       "                                                                              \n",
       "                                                                              \n",
       "\n",
       "14        15        16        17       2       3       4       5       6      \n",
       "   + a₁₅⋅x   + a₁₆⋅x   + a₁₇⋅x   + a₂⋅x  + a₃⋅x  + a₄⋅x  + a₅⋅x  + a₆⋅x  + a₇⋅\n",
       "──────────────────────────────────────────────────────────────────────────────\n",
       "                    2                                                         \n",
       "                   x                                                          \n",
       "\n",
       " 7       8       9\n",
       "x  + a₈⋅x  + a₉⋅x \n",
       "──────────────────\n",
       "                  \n",
       "                  "
      ]
     },
     "execution_count": 32,
     "metadata": {},
     "output_type": "execute_result"
    }
   ],
   "source": [
    "gl = dgl.subs(y(x), ys).doit()\n",
    "gl"
   ]
  },
  {
   "cell_type": "code",
   "execution_count": 33,
   "metadata": {
    "collapsed": false
   },
   "outputs": [
    {
     "data": {
      "image/png": "[encoded data removed]",
      "text/latex": [
       "$$- 4 a_{0} - \\frac{a_{0}}{x^{2}} - 4 a_{1} x - 4 a_{10} x^{10} + 99 a_{10} x^{8} - 4 a_{11} x^{11} + 120 a_{11} x^{9} - 4 a_{12} x^{12} + 143 a_{12} x^{10} - 4 a_{13} x^{13} + 168 a_{13} x^{11} - 4 a_{14} x^{14} + 195 a_{14} x^{12} - 4 a_{15} x^{15} + 224 a_{15} x^{13} - 4 a_{16} x^{16} + 255 a_{16} x^{14} - 4 a_{17} x^{17} + 288 a_{17} x^{15} - 4 a_{2} x^{2} + 3 a_{2} - 4 a_{3} x^{3} + 8 a_{3} x - 4 a_{4} x^{4} + 15 a_{4} x^{2} - 4 a_{5} x^{5} + 24 a_{5} x^{3} - 4 a_{6} x^{6} + 35 a_{6} x^{4} - 4 a_{7} x^{7} + 48 a_{7} x^{5} - 4 a_{8} x^{8} + 63 a_{8} x^{6} - 4 a_{9} x^{9} + 80 a_{9} x^{7}$$"
      ],
      "text/plain": [
       "        a₀                   10           8          11            9          \n",
       "-4⋅a₀ - ── - 4⋅a₁⋅x - 4⋅a₁₀⋅x   + 99⋅a₁₀⋅x  - 4⋅a₁₁⋅x   + 120⋅a₁₁⋅x  - 4⋅a₁₂⋅x\n",
       "         2                                                                    \n",
       "        x                                                                     \n",
       "\n",
       "12            10          13            11          14            12          \n",
       "   + 143⋅a₁₂⋅x   - 4⋅a₁₃⋅x   + 168⋅a₁₃⋅x   - 4⋅a₁₄⋅x   + 195⋅a₁₄⋅x   - 4⋅a₁₅⋅x\n",
       "                                                                              \n",
       "                                                                              \n",
       "\n",
       "15            13          16            14          17            15         2\n",
       "   + 224⋅a₁₅⋅x   - 4⋅a₁₆⋅x   + 255⋅a₁₆⋅x   - 4⋅a₁₇⋅x   + 288⋅a₁₇⋅x   - 4⋅a₂⋅x \n",
       "                                                                              \n",
       "                                                                              \n",
       "\n",
       "                3                  4          2         5          3         6\n",
       " + 3⋅a₂ - 4⋅a₃⋅x  + 8⋅a₃⋅x - 4⋅a₄⋅x  + 15⋅a₄⋅x  - 4⋅a₅⋅x  + 24⋅a₅⋅x  - 4⋅a₆⋅x \n",
       "                                                                              \n",
       "                                                                              \n",
       "\n",
       "          4         7          5         8          6         9          7\n",
       " + 35⋅a₆⋅x  - 4⋅a₇⋅x  + 48⋅a₇⋅x  - 4⋅a₈⋅x  + 63⋅a₈⋅x  - 4⋅a₉⋅x  + 80⋅a₉⋅x \n",
       "                                                                          \n",
       "                                                                          "
      ]
     },
     "execution_count": 33,
     "metadata": {},
     "output_type": "execute_result"
    }
   ],
   "source": [
    "p1 = (gl.lhs - gl.rhs).expand()\n",
    "p1"
   ]
  },
  {
   "cell_type": "code",
   "execution_count": 34,
   "metadata": {
    "collapsed": false
   },
   "outputs": [
    {
     "data": {
      "image/png": "[encoded data removed]",
      "text/latex": [
       "$$- a_{0}$$"
      ],
      "text/plain": [
       "-a₀"
      ]
     },
     "execution_count": 34,
     "metadata": {},
     "output_type": "execute_result"
    }
   ],
   "source": [
    "p1.coeff(x**(-2))"
   ]
  },
  {
   "cell_type": "code",
   "execution_count": 35,
   "metadata": {
    "collapsed": false
   },
   "outputs": [
    {
     "data": {
      "image/png": "[encoded data removed]",
      "text/latex": [
       "$$0$$"
      ],
      "text/plain": [
       "0"
      ]
     },
     "execution_count": 35,
     "metadata": {},
     "output_type": "execute_result"
    }
   ],
   "source": [
    "p1.coeff(x**(-1))"
   ]
  },
  {
   "cell_type": "code",
   "execution_count": 36,
   "metadata": {
    "collapsed": false
   },
   "outputs": [
    {
     "data": {
      "image/png": "[encoded data removed]",
      "text/latex": [
       "$$- 4 a_{1} + 8 a_{3}$$"
      ],
      "text/plain": [
       "-4⋅a₁ + 8⋅a₃"
      ]
     },
     "execution_count": 36,
     "metadata": {},
     "output_type": "execute_result"
    }
   ],
   "source": [
    "p1.coeff(x, 1)"
   ]
  },
  {
   "cell_type": "code",
   "execution_count": 37,
   "metadata": {
    "collapsed": false
   },
   "outputs": [
    {
     "data": {
      "image/png": "[encoded data removed]",
      "text/latex": [
       "$$\\left [ - a_{0} = 0, \\quad - 4 a_{0} + 3 a_{2} = 0, \\quad - 4 a_{1} + 8 a_{3} = 0, \\quad - 4 a_{2} + 15 a_{4} = 0, \\quad - 4 a_{3} + 24 a_{5} = 0, \\quad - 4 a_{4} + 35 a_{6} = 0, \\quad - 4 a_{5} + 48 a_{7} = 0, \\quad - 4 a_{6} + 63 a_{8} = 0, \\quad - 4 a_{7} + 80 a_{9} = 0, \\quad 99 a_{10} - 4 a_{8} = 0, \\quad 120 a_{11} - 4 a_{9} = 0, \\quad - 4 a_{10} + 143 a_{12} = 0, \\quad - 4 a_{11} + 168 a_{13} = 0, \\quad - 4 a_{12} + 195 a_{14} = 0, \\quad - 4 a_{13} + 224 a_{15} = 0, \\quad - 4 a_{14} + 255 a_{16} = 0, \\quad - 4 a_{15} + 288 a_{17} = 0, \\quad - 4 a_{16} = 0\\right ]$$"
      ],
      "text/plain": [
       "[-a₀ = 0, -4⋅a₀ + 3⋅a₂ = 0, -4⋅a₁ + 8⋅a₃ = 0, -4⋅a₂ + 15⋅a₄ = 0, -4⋅a₃ + 24⋅a₅\n",
       " = 0, -4⋅a₄ + 35⋅a₆ = 0, -4⋅a₅ + 48⋅a₇ = 0, -4⋅a₆ + 63⋅a₈ = 0, -4⋅a₇ + 80⋅a₉ =\n",
       " 0, 99⋅a₁₀ - 4⋅a₈ = 0, 120⋅a₁₁ - 4⋅a₉ = 0, -4⋅a₁₀ + 143⋅a₁₂ = 0, -4⋅a₁₁ + 168⋅\n",
       "a₁₃ = 0, -4⋅a₁₂ + 195⋅a₁₄ = 0, -4⋅a₁₃ + 224⋅a₁₅ = 0, -4⋅a₁₄ + 255⋅a₁₆ = 0, -4⋅\n",
       "a₁₅ + 288⋅a₁₇ = 0, -4⋅a₁₆ = 0]"
      ]
     },
     "execution_count": 37,
     "metadata": {},
     "output_type": "execute_result"
    }
   ],
   "source": [
    "gls = []\n",
    "for j in range(N+1):\n",
    "    glg = Eq(p1.coeff(x, j-2), 0)\n",
    "    if glg != True:\n",
    "        gls.append(glg)\n",
    "gls"
   ]
  },
  {
   "cell_type": "code",
   "execution_count": 23,
   "metadata": {
    "collapsed": false
   },
   "outputs": [
    {
     "data": {
      "image/png": "[encoded data removed]",
      "text/latex": [
       "$$\\left \\{ a_{0} : 0, \\quad a_{1} : 144 a_{7}, \\quad a_{2} : 0, \\quad a_{3} : 72 a_{7}, \\quad a_{4} : 0, \\quad a_{5} : 12 a_{7}, \\quad a_{6} : 0\\right \\}$$"
      ],
      "text/plain": [
       "{a₀: 0, a₁: 144⋅a₇, a₂: 0, a₃: 72⋅a₇, a₄: 0, a₅: 12⋅a₇, a₆: 0}"
      ]
     },
     "execution_count": 23,
     "metadata": {},
     "output_type": "execute_result"
    }
   ],
   "source": [
    "#solve(gls) #NotImplementedError"
   ]
  },
  {
   "cell_type": "code",
   "execution_count": 38,
   "metadata": {
    "collapsed": false
   },
   "outputs": [
    {
     "data": {
      "image/png": "[encoded data removed]",
      "text/latex": [
       "$$\\left \\{ a_{0} : 0, \\quad a_{1} : 2880 a_{9}, \\quad a_{10} : 0, \\quad a_{11} : \\frac{a_{9}}{30}, \\quad a_{12} : 0, \\quad a_{13} : \\frac{a_{9}}{1260}, \\quad a_{14} : 0, \\quad a_{15} : \\frac{a_{9}}{70560}, \\quad a_{16} : 0, \\quad a_{17} : \\frac{a_{9}}{5080320}, \\quad a_{2} : 0, \\quad a_{3} : 1440 a_{9}, \\quad a_{4} : 0, \\quad a_{5} : 240 a_{9}, \\quad a_{6} : 0, \\quad a_{7} : 20 a_{9}, \\quad a_{8} : 0\\right \\}$$"
      ],
      "text/plain": [
       "⎧                                 a₉                a₉                  a₉    \n",
       "⎨a₀: 0, a₁: 2880⋅a₉, a₁₀: 0, a₁₁: ──, a₁₂: 0, a₁₃: ────, a₁₄: 0, a₁₅: ─────, a\n",
       "⎩                                 30               1260               70560   \n",
       "\n",
       "               a₉                                                             \n",
       "₁₆: 0, a₁₇: ───────, a₂: 0, a₃: 1440⋅a₉, a₄: 0, a₅: 240⋅a₉, a₆: 0, a₇: 20⋅a₉, \n",
       "            5080320                                                           \n",
       "\n",
       "     ⎫\n",
       "a₈: 0⎬\n",
       "     ⎭"
      ]
     },
     "execution_count": 38,
     "metadata": {},
     "output_type": "execute_result"
    }
   ],
   "source": [
    "Lsg = solve(gls[:-1])\n",
    "Lsg"
   ]
  },
  {
   "cell_type": "markdown",
   "metadata": {},
   "source": [
    "Die ungeraden a werden rückwärts gelöst.  Das ist verwirrend."
   ]
  },
  {
   "cell_type": "code",
   "execution_count": 39,
   "metadata": {
    "collapsed": false
   },
   "outputs": [
    {
     "data": {
      "image/png": "[encoded data removed]",
      "text/latex": [
       "$$\\left [ a_{0}, \\quad a_{2}, \\quad a_{3}, \\quad a_{4}, \\quad a_{5}, \\quad a_{6}, \\quad a_{7}, \\quad a_{8}, \\quad a_{9}, \\quad a_{10}, \\quad a_{11}, \\quad a_{12}, \\quad a_{13}, \\quad a_{14}, \\quad a_{15}, \\quad a_{16}, \\quad a_{17}\\right ]$$"
      ],
      "text/plain": [
       "[a₀, a₂, a₃, a₄, a₅, a₆, a₇, a₈, a₉, a₁₀, a₁₁, a₁₂, a₁₃, a₁₄, a₁₅, a₁₆, a₁₇]"
      ]
     },
     "execution_count": 39,
     "metadata": {},
     "output_type": "execute_result"
    }
   ],
   "source": [
    "var = a.copy()   # böse Falle\n",
    "del var[1]\n",
    "var"
   ]
  },
  {
   "cell_type": "code",
   "execution_count": 40,
   "metadata": {
    "collapsed": false
   },
   "outputs": [
    {
     "data": {
      "image/png": "[encoded data removed]",
      "text/latex": [
       "$$\\left \\{ a_{0} : 0, \\quad a_{10} : 0, \\quad a_{11} : \\frac{a_{1}}{86400}, \\quad a_{12} : 0, \\quad a_{13} : \\frac{a_{1}}{3628800}, \\quad a_{14} : 0, \\quad a_{15} : \\frac{a_{1}}{203212800}, \\quad a_{16} : 0, \\quad a_{17} : \\frac{a_{1}}{14631321600}, \\quad a_{2} : 0, \\quad a_{3} : \\frac{a_{1}}{2}, \\quad a_{4} : 0, \\quad a_{5} : \\frac{a_{1}}{12}, \\quad a_{6} : 0, \\quad a_{7} : \\frac{a_{1}}{144}, \\quad a_{8} : 0, \\quad a_{9} : \\frac{a_{1}}{2880}\\right \\}$$"
      ],
      "text/plain": [
       "⎧                      a₁                   a₁                     a₁         \n",
       "⎨a₀: 0, a₁₀: 0, a₁₁: ─────, a₁₂: 0, a₁₃: ───────, a₁₄: 0, a₁₅: ─────────, a₁₆:\n",
       "⎩                    86400               3628800               203212800      \n",
       "\n",
       "              a₁                 a₁             a₁              a₁            \n",
       " 0, a₁₇: ───────────, a₂: 0, a₃: ──, a₄: 0, a₅: ──, a₆: 0, a₇: ───, a₈: 0, a₉:\n",
       "         14631321600             2              12             144            \n",
       "\n",
       "  a₁ ⎫\n",
       " ────⎬\n",
       " 2880⎭"
      ]
     },
     "execution_count": 40,
     "metadata": {},
     "output_type": "execute_result"
    }
   ],
   "source": [
    "Lsg = solve(gls[:-1], var)\n",
    "Lsg"
   ]
  },
  {
   "cell_type": "markdown",
   "metadata": {},
   "source": [
    "Wir hatten das beim ersten Mal mit $N=8$ gemacht.  Das sind zu wenige Daten.   Jetzt noch Mal mit $N=18$.\n",
    "\n",
    "Aus Gründen, die ich nicht verstehe, muss man den Kernel zurücksetzen, bevor man mit dem neuen $N$ startet."
   ]
  },
  {
   "cell_type": "code",
   "execution_count": 42,
   "metadata": {
    "collapsed": false
   },
   "outputs": [],
   "source": [
    "#raise Unterbrechung"
   ]
  },
  {
   "cell_type": "code",
   "execution_count": 43,
   "metadata": {
    "collapsed": false
   },
   "outputs": [],
   "source": [
    "Lsg[a[1]] = a[1]"
   ]
  },
  {
   "cell_type": "code",
   "execution_count": 44,
   "metadata": {
    "collapsed": false
   },
   "outputs": [
    {
     "data": {
      "image/png": "[encoded data removed]",
      "text/latex": [
       "$$\\left [ \\frac{1}{2}, \\quad \\frac{1}{6}, \\quad \\frac{1}{12}, \\quad \\frac{1}{20}, \\quad \\frac{1}{30}, \\quad \\frac{1}{42}, \\quad \\frac{1}{56}\\right ]$$"
      ],
      "text/plain": [
       "[1/2, 1/6, 1/12, 1/20, 1/30, 1/42, 1/56]"
      ]
     },
     "metadata": {},
     "output_type": "display_data"
    }
   ],
   "source": [
    "q = [Lsg[a[2*j+3]]/Lsg[a[2*j+1]] for j in range(int(N/2)-2)]\n",
    "display(q)"
   ]
  },
  {
   "cell_type": "code",
   "execution_count": 45,
   "metadata": {
    "collapsed": false
   },
   "outputs": [
    {
     "data": {
      "image/png": "[encoded data removed]",
      "text/latex": [
       "$$\\left [ 1, \\quad 2, \\quad 3, \\quad 4, \\quad 5, \\quad 6, \\quad 7\\right ]$$"
      ],
      "text/plain": [
       "[1, 2, 3, 4, 5, 6, 7]"
      ]
     },
     "execution_count": 45,
     "metadata": {},
     "output_type": "execute_result"
    }
   ],
   "source": [
    "liste = []\n",
    "for j in range(int(N/2-2)):\n",
    "    m = Lsg[a[2*j+1]]/Lsg[a[2*j+3]]\n",
    "    liste.append(m/(j+2))\n",
    "liste"
   ]
  },
  {
   "cell_type": "markdown",
   "metadata": {},
   "source": [
    "Also\n",
    "$$ \\frac{a_{2j+3}}{a_{2j+1}} = \\frac1{(j+1)(j+2)} $$"
   ]
  },
  {
   "cell_type": "markdown",
   "metadata": {},
   "source": [
    "Das bedeutet\n",
    "$$ a_{2n+3} = \\prod_{j=0}^n \\frac1{(j+1)(j+2)} a_1 = \\frac{a_1}{(n+1)!(n+2)!}. $$"
   ]
  },
  {
   "cell_type": "markdown",
   "metadata": {},
   "source": [
    "Probe"
   ]
  },
  {
   "cell_type": "code",
   "execution_count": 46,
   "metadata": {
    "collapsed": false
   },
   "outputs": [
    {
     "data": {
      "image/png": "[encoded data removed]",
      "text/latex": [
       "$$\\left ( a_{1}, \\quad a_{1}\\right )$$"
      ],
      "text/plain": [
       "(a₁, a₁)"
      ]
     },
     "metadata": {},
     "output_type": "display_data"
    },
    {
     "data": {
      "image/png": "[encoded data removed]",
      "text/latex": [
       "$$\\left ( \\frac{a_{1}}{2}, \\quad \\frac{a_{1}}{2}\\right )$$"
      ],
      "text/plain": [
       "⎛a₁  a₁⎞\n",
       "⎜──, ──⎟\n",
       "⎝2   2 ⎠"
      ]
     },
     "metadata": {},
     "output_type": "display_data"
    },
    {
     "data": {
      "image/png": "[encoded data removed]",
      "text/latex": [
       "$$\\left ( \\frac{a_{1}}{12}, \\quad \\frac{a_{1}}{12}\\right )$$"
      ],
      "text/plain": [
       "⎛a₁  a₁⎞\n",
       "⎜──, ──⎟\n",
       "⎝12  12⎠"
      ]
     },
     "metadata": {},
     "output_type": "display_data"
    },
    {
     "data": {
      "image/png": "[encoded data removed]",
      "text/latex": [
       "$$\\left ( \\frac{a_{1}}{144}, \\quad \\frac{a_{1}}{144}\\right )$$"
      ],
      "text/plain": [
       "⎛ a₁   a₁⎞\n",
       "⎜───, ───⎟\n",
       "⎝144  144⎠"
      ]
     },
     "metadata": {},
     "output_type": "display_data"
    },
    {
     "data": {
      "image/png": "[encoded data removed]",
      "text/latex": [
       "$$\\left ( \\frac{a_{1}}{2880}, \\quad \\frac{a_{1}}{2880}\\right )$$"
      ],
      "text/plain": [
       "⎛ a₁    a₁ ⎞\n",
       "⎜────, ────⎟\n",
       "⎝2880  2880⎠"
      ]
     },
     "metadata": {},
     "output_type": "display_data"
    },
    {
     "data": {
      "image/png": "[encoded data removed]",
      "text/latex": [
       "$$\\left ( \\frac{a_{1}}{86400}, \\quad \\frac{a_{1}}{86400}\\right )$$"
      ],
      "text/plain": [
       "⎛  a₁     a₁ ⎞\n",
       "⎜─────, ─────⎟\n",
       "⎝86400  86400⎠"
      ]
     },
     "metadata": {},
     "output_type": "display_data"
    },
    {
     "data": {
      "image/png": "[encoded data removed]",
      "text/latex": [
       "$$\\left ( \\frac{a_{1}}{3628800}, \\quad \\frac{a_{1}}{3628800}\\right )$$"
      ],
      "text/plain": [
       "⎛   a₁       a₁  ⎞\n",
       "⎜───────, ───────⎟\n",
       "⎝3628800  3628800⎠"
      ]
     },
     "metadata": {},
     "output_type": "display_data"
    }
   ],
   "source": [
    "for j in range(int(N/2)-2):\n",
    "    display((Lsg[a[2*j+1]], a[1]/factorial(j)/factorial(j+1)))"
   ]
  },
  {
   "cell_type": "code",
   "execution_count": 47,
   "metadata": {
    "collapsed": false
   },
   "outputs": [
    {
     "data": {
      "image/png": "[encoded data removed]",
      "text/latex": [
       "$$\\sum_{n=0}^{\\infty} \\frac{x^{2 n + 1}}{n! \\left(n + 1\\right)!}$$"
      ],
      "text/plain": [
       "  ∞              \n",
       " ____            \n",
       " ╲               \n",
       "  ╲      2⋅n + 1 \n",
       "   ╲    x        \n",
       "   ╱  ───────────\n",
       "  ╱   n!⋅(n + 1)!\n",
       " ╱               \n",
       " ‾‾‾‾            \n",
       "n = 0            "
      ]
     },
     "execution_count": 47,
     "metadata": {},
     "output_type": "execute_result"
    }
   ],
   "source": [
    "S1 = Sum(x**(2*n+1)/factorial(n)/factorial(n+1), (n,0,oo))\n",
    "S1"
   ]
  },
  {
   "cell_type": "code",
   "execution_count": 48,
   "metadata": {
    "collapsed": false
   },
   "outputs": [
    {
     "data": {
      "image/png": "[encoded data removed]",
      "text/latex": [
       "$$I_{1}\\left(2 x\\right)$$"
      ],
      "text/plain": [
       "besseli(1, 2⋅x)"
      ]
     },
     "execution_count": 48,
     "metadata": {},
     "output_type": "execute_result"
    }
   ],
   "source": [
    "u = S1.doit()\n",
    "u"
   ]
  },
  {
   "cell_type": "code",
   "execution_count": 49,
   "metadata": {
    "collapsed": false
   },
   "outputs": [
    {
     "data": {
      "text/plain": [
       "\"besseli(Integer(1), Mul(Integer(2), Symbol('x')))\""
      ]
     },
     "execution_count": 49,
     "metadata": {},
     "output_type": "execute_result"
    }
   ],
   "source": [
    "srepr(u)"
   ]
  },
  {
   "cell_type": "code",
   "execution_count": 51,
   "metadata": {
    "collapsed": false
   },
   "outputs": [],
   "source": [
    "besseli?"
   ]
  },
  {
   "cell_type": "markdown",
   "metadata": {
    "collapsed": true
   },
   "source": [
    "Eine zweite Lösung müsste man erhalten können, indem man einen Ansatz aus einer Potenzreihe und dem Produkt aus dem Logarithmus und einer Potenzreihe macht.\n",
    "\n",
    "Das Reduktionsverfahren von d'Alembert führt auf ein schwieriges Integral."
   ]
  },
  {
   "cell_type": "code",
   "execution_count": 52,
   "metadata": {
    "collapsed": false
   },
   "outputs": [
    {
     "data": {
      "image/png": "[encoded data removed]",
      "text/latex": [
       "$$3 I_{1}\\left(2 x\\right) + I_{3}\\left(2 x\\right) = 4 I_{1}\\left(2 x\\right) - \\frac{1}{x} \\left(I_{0}\\left(2 x\\right) + I_{2}\\left(2 x\\right)\\right) + \\frac{I_{1}\\left(2 x\\right)}{x^{2}}$$"
      ],
      "text/plain": [
       "                                                          besseli(0, 2⋅x) + be\n",
       "3⋅besseli(1, 2⋅x) + besseli(3, 2⋅x) = 4⋅besseli(1, 2⋅x) - ────────────────────\n",
       "                                                                          x   \n",
       "                                                                              \n",
       "\n",
       "sseli(2, 2⋅x)   besseli(1, 2⋅x)\n",
       "───────────── + ───────────────\n",
       "                        2      \n",
       "                       x       "
      ]
     },
     "execution_count": 52,
     "metadata": {},
     "output_type": "execute_result"
    }
   ],
   "source": [
    "tmp = dgl.subs(y(x), u).doit()\n",
    "tmp"
   ]
  },
  {
   "cell_type": "markdown",
   "metadata": {},
   "source": [
    "http://dlmf.nist.gov\n",
    "\n",
    "$$ I_{\\nu-1}(z) - I_{\\nu+1}(z) = \\frac{2\\nu}z I_\\nu(z) $$"
   ]
  },
  {
   "cell_type": "code",
   "execution_count": 53,
   "metadata": {
    "collapsed": false
   },
   "outputs": [
    {
     "data": {
      "image/png": "[encoded data removed]",
      "text/latex": [
       "$$\\mathcal{O}\\left(x^{20}\\right)$$"
      ],
      "text/plain": [
       " ⎛ 20⎞\n",
       "O⎝x  ⎠"
      ]
     },
     "execution_count": 53,
     "metadata": {},
     "output_type": "execute_result"
    }
   ],
   "source": [
    "(tmp.lhs - tmp.rhs).series(x, 0, 20)"
   ]
  },
  {
   "cell_type": "markdown",
   "metadata": {},
   "source": [
    "## Pattern matching"
   ]
  },
  {
   "cell_type": "code",
   "execution_count": 54,
   "metadata": {
    "collapsed": true
   },
   "outputs": [],
   "source": [
    "x = Symbol('x')"
   ]
  },
  {
   "cell_type": "code",
   "execution_count": 55,
   "metadata": {
    "collapsed": true
   },
   "outputs": [],
   "source": [
    "x1 = Wild('x1')\n"
   ]
  },
  {
   "cell_type": "code",
   "execution_count": 56,
   "metadata": {
    "collapsed": true
   },
   "outputs": [],
   "source": [
    "pattern = sin(x1)"
   ]
  },
  {
   "cell_type": "code",
   "execution_count": 57,
   "metadata": {
    "collapsed": false
   },
   "outputs": [],
   "source": [
    "a = sin(2*x+5)"
   ]
  },
  {
   "cell_type": "code",
   "execution_count": 58,
   "metadata": {
    "collapsed": false
   },
   "outputs": [
    {
     "data": {
      "image/png": "[encoded data removed]",
      "text/latex": [
       "$$\\left \\{ x_{1} : 2 x + 5\\right \\}$$"
      ],
      "text/plain": [
       "{x₁: 2⋅x + 5}"
      ]
     },
     "execution_count": 58,
     "metadata": {},
     "output_type": "execute_result"
    }
   ],
   "source": [
    "m = a.match(pattern)\n",
    "m"
   ]
  },
  {
   "cell_type": "code",
   "execution_count": 59,
   "metadata": {
    "collapsed": false
   },
   "outputs": [
    {
     "data": {
      "image/png": "[encoded data removed]",
      "text/latex": [
       "$$2 \\sin{\\left (\\frac{x_{1}}{2} \\right )} \\cos{\\left (\\frac{x_{1}}{2} \\right )}$$"
      ],
      "text/plain": [
       "     ⎛x₁⎞    ⎛x₁⎞\n",
       "2⋅sin⎜──⎟⋅cos⎜──⎟\n",
       "     ⎝2 ⎠    ⎝2 ⎠"
      ]
     },
     "execution_count": 59,
     "metadata": {},
     "output_type": "execute_result"
    }
   ],
   "source": [
    "b = 2*sin(x1/2)*cos(x1/2)\n",
    "b"
   ]
  },
  {
   "cell_type": "code",
   "execution_count": 60,
   "metadata": {
    "collapsed": false
   },
   "outputs": [
    {
     "data": {
      "image/png": "[encoded data removed]",
      "text/latex": [
       "$$2 \\sin{\\left (x + \\frac{5}{2} \\right )} \\cos{\\left (x + \\frac{5}{2} \\right )}$$"
      ],
      "text/plain": [
       "2⋅sin(x + 5/2)⋅cos(x + 5/2)"
      ]
     },
     "execution_count": 60,
     "metadata": {},
     "output_type": "execute_result"
    }
   ],
   "source": [
    "b.subs(m)"
   ]
  },
  {
   "cell_type": "code",
   "execution_count": 61,
   "metadata": {
    "collapsed": true
   },
   "outputs": [],
   "source": [
    "def expand_sin_x_halbe(term):\n",
    "    x1 = Wild('x1')\n",
    "    pattern = sin(x1)\n",
    "    ersetzung = 2*sin(x1/2)*cos(x1/2)\n",
    "    m = term.match(pattern)\n",
    "    if m:\n",
    "        return ersetzung.subs(m)\n",
    "    else:\n",
    "        return term    "
   ]
  },
  {
   "cell_type": "code",
   "execution_count": 62,
   "metadata": {
    "collapsed": false
   },
   "outputs": [
    {
     "data": {
      "image/png": "[encoded data removed]",
      "text/latex": [
       "$$2 \\sin{\\left (\\frac{x}{4} \\right )} \\cos{\\left (\\frac{x}{4} \\right )}$$"
      ],
      "text/plain": [
       "     ⎛x⎞    ⎛x⎞\n",
       "2⋅sin⎜─⎟⋅cos⎜─⎟\n",
       "     ⎝4⎠    ⎝4⎠"
      ]
     },
     "execution_count": 62,
     "metadata": {},
     "output_type": "execute_result"
    }
   ],
   "source": [
    "expand_sin_x_halbe(sin(x/2))"
   ]
  },
  {
   "cell_type": "code",
   "execution_count": 63,
   "metadata": {
    "collapsed": false
   },
   "outputs": [
    {
     "data": {
      "image/png": "[encoded data removed]",
      "text/latex": [
       "$$\\mathcal{O}\\left(x^{20}\\right)$$"
      ],
      "text/plain": [
       " ⎛ 20⎞\n",
       "O⎝x  ⎠"
      ]
     },
     "execution_count": 63,
     "metadata": {},
     "output_type": "execute_result"
    }
   ],
   "source": [
    "series(expand_sin_x_halbe(sin(x)) - sin(x), x, 0, 20)\n"
   ]
  },
  {
   "cell_type": "code",
   "execution_count": 64,
   "metadata": {
    "collapsed": false
   },
   "outputs": [
    {
     "data": {
      "image/png": "[encoded data removed]",
      "text/latex": [
       "$$2 \\sin{\\left (x \\right )}$$"
      ],
      "text/plain": [
       "2⋅sin(x)"
      ]
     },
     "execution_count": 64,
     "metadata": {},
     "output_type": "execute_result"
    }
   ],
   "source": [
    "a = 2*sin(x)\n",
    "expand_sin_x_halbe(a)"
   ]
  },
  {
   "cell_type": "code",
   "execution_count": 65,
   "metadata": {
    "collapsed": false
   },
   "outputs": [
    {
     "data": {
      "text/plain": [
       "True"
      ]
     },
     "execution_count": 65,
     "metadata": {},
     "output_type": "execute_result"
    }
   ],
   "source": [
    "a.is_Mul"
   ]
  },
  {
   "cell_type": "code",
   "execution_count": 66,
   "metadata": {
    "collapsed": false
   },
   "outputs": [
    {
     "data": {
      "image/png": "[encoded data removed]",
      "text/latex": [
       "$$\\left ( 2, \\quad \\sin{\\left (x \\right )}\\right )$$"
      ],
      "text/plain": [
       "(2, sin(x))"
      ]
     },
     "execution_count": 66,
     "metadata": {},
     "output_type": "execute_result"
    }
   ],
   "source": [
    "a.args"
   ]
  },
  {
   "cell_type": "code",
   "execution_count": 69,
   "metadata": {
    "collapsed": true
   },
   "outputs": [],
   "source": [
    "def expand_sin_x_halbe(ausdr):\n",
    "    ausdr = S(ausdr)\n",
    "    x1 = Wild('x1')\n",
    "    pattern = sin(x1)\n",
    "    ersetzung = 2*sin(x1/2)*cos(x1/2)\n",
    "    m = ausdr.match(pattern)\n",
    "    if m:\n",
    "        res = ersetzung.subs(m)\n",
    "    elif ausdr.is_Mul:\n",
    "        res = 1\n",
    "        for term in ausdr.args:\n",
    "            res = res * expand_sin_x_halbe(term)\n",
    "    elif ausdr.is_Add:\n",
    "        res = 0\n",
    "        for term in ausdr.args:\n",
    "            res = res + expand_sin_x_halbe(term)\n",
    "    else:\n",
    "        res = ausdr\n",
    "    return res"
   ]
  },
  {
   "cell_type": "code",
   "execution_count": 70,
   "metadata": {
    "collapsed": false
   },
   "outputs": [
    {
     "data": {
      "image/png": "[encoded data removed]",
      "text/latex": [
       "$$2 \\sin{\\left (x \\right )} \\cos{\\left (x \\right )}$$"
      ],
      "text/plain": [
       "2⋅sin(x)⋅cos(x)"
      ]
     },
     "execution_count": 70,
     "metadata": {},
     "output_type": "execute_result"
    }
   ],
   "source": [
    "expand_sin_x_halbe(sin(2*x))"
   ]
  },
  {
   "cell_type": "code",
   "execution_count": 71,
   "metadata": {
    "collapsed": false
   },
   "outputs": [
    {
     "data": {
      "image/png": "[encoded data removed]",
      "text/latex": [
       "$$\\sin{\\left (x \\right )} \\cos{\\left (x \\right )}$$"
      ],
      "text/plain": [
       "sin(x)⋅cos(x)"
      ]
     },
     "execution_count": 71,
     "metadata": {},
     "output_type": "execute_result"
    }
   ],
   "source": [
    "expand_sin_x_halbe(sin(2*x)/2)"
   ]
  },
  {
   "cell_type": "code",
   "execution_count": 72,
   "metadata": {
    "collapsed": false
   },
   "outputs": [
    {
     "data": {
      "image/png": "[encoded data removed]",
      "text/latex": [
       "$$20 \\sin{\\left (\\frac{1}{2} \\left(x + 1\\right)^{2} \\right )} \\cos{\\left (\\frac{1}{2} \\left(x + 1\\right)^{2} \\right )} + 1$$"
      ],
      "text/plain": [
       "      ⎛       2⎞    ⎛       2⎞    \n",
       "      ⎜(x + 1) ⎟    ⎜(x + 1) ⎟    \n",
       "20⋅sin⎜────────⎟⋅cos⎜────────⎟ + 1\n",
       "      ⎝   2    ⎠    ⎝   2    ⎠    "
      ]
     },
     "execution_count": 72,
     "metadata": {},
     "output_type": "execute_result"
    }
   ],
   "source": [
    "expand_sin_x_halbe(1+10*sin((x+1)**2))"
   ]
  },
  {
   "cell_type": "code",
   "execution_count": 73,
   "metadata": {
    "collapsed": false
   },
   "outputs": [],
   "source": [
    "ausdr = (1 + sin(x/2))**3"
   ]
  },
  {
   "cell_type": "code",
   "execution_count": 74,
   "metadata": {
    "collapsed": false
   },
   "outputs": [
    {
     "data": {
      "image/png": "[encoded data removed]",
      "text/latex": [
       "$$\\left(\\sin{\\left (\\frac{x}{2} \\right )} + 1\\right)^{3}$$"
      ],
      "text/plain": [
       "            3\n",
       "⎛   ⎛x⎞    ⎞ \n",
       "⎜sin⎜─⎟ + 1⎟ \n",
       "⎝   ⎝2⎠    ⎠ "
      ]
     },
     "execution_count": 74,
     "metadata": {},
     "output_type": "execute_result"
    }
   ],
   "source": [
    "expand_sin_x_halbe(ausdr)"
   ]
  },
  {
   "cell_type": "code",
   "execution_count": 75,
   "metadata": {
    "collapsed": false
   },
   "outputs": [
    {
     "data": {
      "text/plain": [
       "True"
      ]
     },
     "execution_count": 75,
     "metadata": {},
     "output_type": "execute_result"
    }
   ],
   "source": [
    "ausdr.is_Pow"
   ]
  },
  {
   "cell_type": "markdown",
   "metadata": {},
   "source": [
    "Mit etwas Fleiß bekommt man ein vollständiges Ersetzungssystem"
   ]
  },
  {
   "cell_type": "code",
   "execution_count": null,
   "metadata": {
    "collapsed": true
   },
   "outputs": [],
   "source": []
  }
 ],
 "metadata": {
  "anaconda-cloud": {},
  "kernelspec": {
   "display_name": "Python [conda root]",
   "language": "python",
   "name": "conda-root-py"
  },
  "language_info": {
   "codemirror_mode": {
    "name": "ipython",
    "version": 3
   },
   "file_extension": ".py",
   "mimetype": "text/x-python",
   "name": "python",
   "nbconvert_exporter": "python",
   "pygments_lexer": "ipython3",
   "version": "3.5.2"
  }
 },
 "nbformat": 4,
 "nbformat_minor": 1
}
