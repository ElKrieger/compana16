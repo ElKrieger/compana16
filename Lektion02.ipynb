{
 "cells": [
  {
   "cell_type": "markdown",
   "metadata": {},
   "source": [
    "# Lektion 2"
   ]
  },
  {
   "cell_type": "code",
   "execution_count": 1,
   "metadata": {
    "collapsed": true
   },
   "outputs": [],
   "source": [
    "from sympy import *\n",
    "init_printing()"
   ]
  },
  {
   "cell_type": "markdown",
   "metadata": {},
   "source": [
    "## Vereinfachungen"
   ]
  },
  {
   "cell_type": "code",
   "execution_count": 2,
   "metadata": {
    "collapsed": false
   },
   "outputs": [
    {
     "data": {
      "image/png": "[encoded data removed]",
      "text/latex": [
       "$$\\left(x - y\\right) \\left(x + y\\right)$$"
      ],
      "text/plain": [
       "(x - y)⋅(x + y)"
      ]
     },
     "execution_count": 2,
     "metadata": {},
     "output_type": "execute_result"
    }
   ],
   "source": [
    "x = Symbol('x')\n",
    "y = Symbol('y')\n",
    "f = (x - y) * (x + y)\n",
    "f"
   ]
  },
  {
   "cell_type": "code",
   "execution_count": 3,
   "metadata": {
    "collapsed": false
   },
   "outputs": [
    {
     "data": {
      "image/png": "[encoded data removed]",
      "text/latex": [
       "$$x^{2} - y^{2}$$"
      ],
      "text/plain": [
       " 2    2\n",
       "x  - y "
      ]
     },
     "execution_count": 3,
     "metadata": {},
     "output_type": "execute_result"
    }
   ],
   "source": [
    "f.expand()"
   ]
  },
  {
   "cell_type": "code",
   "execution_count": 4,
   "metadata": {
    "collapsed": false
   },
   "outputs": [
    {
     "data": {
      "image/png": "[encoded data removed]",
      "text/latex": [
       "$$x^{2} - y^{2}$$"
      ],
      "text/plain": [
       " 2    2\n",
       "x  - y "
      ]
     },
     "execution_count": 4,
     "metadata": {},
     "output_type": "execute_result"
    }
   ],
   "source": [
    "expand(f)"
   ]
  },
  {
   "cell_type": "code",
   "execution_count": 5,
   "metadata": {
    "collapsed": false
   },
   "outputs": [
    {
     "data": {
      "image/png": "[encoded data removed]",
      "text/latex": [
       "$$x^{4} - 2 x^{2} y^{2} + y^{4}$$"
      ],
      "text/plain": [
       " 4      2  2    4\n",
       "x  - 2⋅x ⋅y  + y "
      ]
     },
     "execution_count": 5,
     "metadata": {},
     "output_type": "execute_result"
    }
   ],
   "source": [
    "expand(f**2)"
   ]
  },
  {
   "cell_type": "code",
   "execution_count": 6,
   "metadata": {
    "collapsed": false
   },
   "outputs": [
    {
     "data": {
      "image/png": "[encoded data removed]",
      "text/latex": [
       "$$x^{2} - y^{2}$$"
      ],
      "text/plain": [
       " 2    2\n",
       "x  - y "
      ]
     },
     "execution_count": 6,
     "metadata": {},
     "output_type": "execute_result"
    }
   ],
   "source": [
    "fe = f.expand()\n",
    "fe"
   ]
  },
  {
   "cell_type": "code",
   "execution_count": 7,
   "metadata": {
    "collapsed": false
   },
   "outputs": [
    {
     "data": {
      "image/png": "[encoded data removed]",
      "text/latex": [
       "$$\\left(x - y\\right) \\left(x + y\\right)$$"
      ],
      "text/plain": [
       "(x - y)⋅(x + y)"
      ]
     },
     "execution_count": 7,
     "metadata": {},
     "output_type": "execute_result"
    }
   ],
   "source": [
    "fe.factor()"
   ]
  },
  {
   "cell_type": "code",
   "execution_count": 8,
   "metadata": {
    "collapsed": false
   },
   "outputs": [
    {
     "data": {
      "image/png": "[encoded data removed]",
      "text/latex": [
       "$$\\frac{x^{2} - y^{2}}{\\left(x - y\\right)^{2}}$$"
      ],
      "text/plain": [
       " 2    2 \n",
       "x  - y  \n",
       "────────\n",
       "       2\n",
       "(x - y) "
      ]
     },
     "execution_count": 8,
     "metadata": {},
     "output_type": "execute_result"
    }
   ],
   "source": [
    "g = (x**2-y**2)/(x-y)**2\n",
    "g"
   ]
  },
  {
   "cell_type": "code",
   "execution_count": 9,
   "metadata": {
    "collapsed": false
   },
   "outputs": [
    {
     "data": {
      "image/png": "[encoded data removed]",
      "text/latex": [
       "$$\\frac{2 y}{x - y} + 1$$"
      ],
      "text/plain": [
       " 2⋅y     \n",
       "───── + 1\n",
       "x - y    "
      ]
     },
     "execution_count": 9,
     "metadata": {},
     "output_type": "execute_result"
    }
   ],
   "source": [
    "g.ratsimp()"
   ]
  },
  {
   "cell_type": "code",
   "execution_count": 10,
   "metadata": {
    "collapsed": false
   },
   "outputs": [
    {
     "data": {
      "image/png": "[encoded data removed]",
      "text/latex": [
       "$$\\frac{x + y}{x - y}$$"
      ],
      "text/plain": [
       "x + y\n",
       "─────\n",
       "x - y"
      ]
     },
     "execution_count": 10,
     "metadata": {},
     "output_type": "execute_result"
    }
   ],
   "source": [
    "g.factor()"
   ]
  },
  {
   "cell_type": "code",
   "execution_count": 11,
   "metadata": {
    "collapsed": false
   },
   "outputs": [
    {
     "data": {
      "image/png": "[encoded data removed]",
      "text/latex": [
       "$$\\frac{x + y}{x - y}$$"
      ],
      "text/plain": [
       "x + y\n",
       "─────\n",
       "x - y"
      ]
     },
     "execution_count": 11,
     "metadata": {},
     "output_type": "execute_result"
    }
   ],
   "source": [
    "g.simplify()"
   ]
  },
  {
   "cell_type": "code",
   "execution_count": 12,
   "metadata": {
    "collapsed": false
   },
   "outputs": [
    {
     "data": {
      "image/png": "[encoded data removed]",
      "text/latex": [
       "$$x x^{y}$$"
      ],
      "text/plain": [
       "   y\n",
       "x⋅x "
      ]
     },
     "execution_count": 12,
     "metadata": {},
     "output_type": "execute_result"
    }
   ],
   "source": [
    "h = x*x**y\n",
    "h"
   ]
  },
  {
   "cell_type": "code",
   "execution_count": 13,
   "metadata": {
    "collapsed": false
   },
   "outputs": [
    {
     "data": {
      "image/png": "[encoded data removed]",
      "text/latex": [
       "$$x^{y + 1}$$"
      ],
      "text/plain": [
       " y + 1\n",
       "x     "
      ]
     },
     "execution_count": 13,
     "metadata": {},
     "output_type": "execute_result"
    }
   ],
   "source": [
    "h.powsimp()"
   ]
  },
  {
   "cell_type": "code",
   "execution_count": 14,
   "metadata": {
    "collapsed": false
   },
   "outputs": [
    {
     "data": {
      "image/png": "[encoded data removed]",
      "text/latex": [
       "$$x^{y + 1}$$"
      ],
      "text/plain": [
       " y + 1\n",
       "x     "
      ]
     },
     "execution_count": 14,
     "metadata": {},
     "output_type": "execute_result"
    }
   ],
   "source": [
    "hp = h.simplify()\n",
    "hp"
   ]
  },
  {
   "cell_type": "code",
   "execution_count": 15,
   "metadata": {
    "collapsed": false
   },
   "outputs": [
    {
     "data": {
      "image/png": "[encoded data removed]",
      "text/latex": [
       "$$x x^{y}$$"
      ],
      "text/plain": [
       "   y\n",
       "x⋅x "
      ]
     },
     "execution_count": 15,
     "metadata": {},
     "output_type": "execute_result"
    }
   ],
   "source": [
    "hp.expand()"
   ]
  },
  {
   "cell_type": "code",
   "execution_count": 16,
   "metadata": {
    "collapsed": false
   },
   "outputs": [
    {
     "data": {
      "image/png": "[encoded data removed]",
      "text/latex": [
       "$$\\frac{\\sin{\\left (2 x \\right )} + \\cos{\\left (x \\right )}}{\\left(\\sin{\\left (2 x \\right )} - \\cos{\\left (x \\right )}\\right) \\left(\\sin^{2}{\\left (2 x \\right )} - \\cos^{2}{\\left (x \\right )}\\right)}$$"
      ],
      "text/plain": [
       "            sin(2⋅x) + cos(x)            \n",
       "─────────────────────────────────────────\n",
       "                    ⎛   2           2   ⎞\n",
       "(sin(2⋅x) - cos(x))⋅⎝sin (2⋅x) - cos (x)⎠"
      ]
     },
     "execution_count": 16,
     "metadata": {},
     "output_type": "execute_result"
    }
   ],
   "source": [
    "f = (sin(2*x)+cos(x)) / ((sin(2*x)**2 - cos(x)**2)*(sin(2*x)-cos(x)))\n",
    "f"
   ]
  },
  {
   "cell_type": "code",
   "execution_count": 18,
   "metadata": {
    "collapsed": false
   },
   "outputs": [
    {
     "data": {
      "image/png": "[encoded data removed]",
      "text/latex": [
       "$$\\frac{1}{\\sin^{2}{\\left (2 x \\right )} - 2 \\sin{\\left (2 x \\right )} \\cos{\\left (x \\right )} + \\cos^{2}{\\left (x \\right )}}$$"
      ],
      "text/plain": [
       "                   1                   \n",
       "───────────────────────────────────────\n",
       "   2                               2   \n",
       "sin (2⋅x) - 2⋅sin(2⋅x)⋅cos(x) + cos (x)"
      ]
     },
     "execution_count": 18,
     "metadata": {},
     "output_type": "execute_result"
    }
   ],
   "source": [
    "f.ratsimp()"
   ]
  },
  {
   "cell_type": "code",
   "execution_count": 19,
   "metadata": {
    "collapsed": false
   },
   "outputs": [
    {
     "data": {
      "image/png": "[encoded data removed]",
      "text/latex": [
       "$$\\frac{1}{\\left(2 \\sin{\\left (x \\right )} - 1\\right)^{2} \\cos^{2}{\\left (x \\right )}}$$"
      ],
      "text/plain": [
       "           1           \n",
       "───────────────────────\n",
       "              2    2   \n",
       "(2⋅sin(x) - 1) ⋅cos (x)"
      ]
     },
     "execution_count": 19,
     "metadata": {},
     "output_type": "execute_result"
    }
   ],
   "source": [
    "f.trigsimp()"
   ]
  },
  {
   "cell_type": "code",
   "execution_count": 20,
   "metadata": {
    "collapsed": false
   },
   "outputs": [
    {
     "data": {
      "image/png": "[encoded data removed]",
      "text/latex": [
       "$$\\frac{1}{\\left(2 \\sin{\\left (x \\right )} - 1\\right)^{2} \\cos^{2}{\\left (x \\right )}}$$"
      ],
      "text/plain": [
       "           1           \n",
       "───────────────────────\n",
       "              2    2   \n",
       "(2⋅sin(x) - 1) ⋅cos (x)"
      ]
     },
     "execution_count": 20,
     "metadata": {},
     "output_type": "execute_result"
    }
   ],
   "source": [
    "f.simplify()"
   ]
  },
  {
   "cell_type": "code",
   "execution_count": 21,
   "metadata": {
    "collapsed": false
   },
   "outputs": [
    {
     "data": {
      "image/png": "[encoded data removed]",
      "text/latex": [
       "$$\\frac{\\sin{\\left (2 x \\right )}}{\\sin^{3}{\\left (2 x \\right )} - \\sin^{2}{\\left (2 x \\right )} \\cos{\\left (x \\right )} - \\sin{\\left (2 x \\right )} \\cos^{2}{\\left (x \\right )} + \\cos^{3}{\\left (x \\right )}} + \\frac{\\cos{\\left (x \\right )}}{\\sin^{3}{\\left (2 x \\right )} - \\sin^{2}{\\left (2 x \\right )} \\cos{\\left (x \\right )} - \\sin{\\left (2 x \\right )} \\cos^{2}{\\left (x \\right )} + \\cos^{3}{\\left (x \\right )}}$$"
      ],
      "text/plain": [
       "                         sin(2⋅x)                                             \n",
       "───────────────────────────────────────────────────────── + ──────────────────\n",
       "   3           2                           2         3         3           2  \n",
       "sin (2⋅x) - sin (2⋅x)⋅cos(x) - sin(2⋅x)⋅cos (x) + cos (x)   sin (2⋅x) - sin (2\n",
       "\n",
       "        cos(x)                         \n",
       "───────────────────────────────────────\n",
       "                         2         3   \n",
       "⋅x)⋅cos(x) - sin(2⋅x)⋅cos (x) + cos (x)"
      ]
     },
     "execution_count": 21,
     "metadata": {},
     "output_type": "execute_result"
    }
   ],
   "source": [
    "f.expand()"
   ]
  },
  {
   "cell_type": "code",
   "execution_count": 22,
   "metadata": {
    "collapsed": false
   },
   "outputs": [
    {
     "data": {
      "image/png": "[encoded data removed]",
      "text/latex": [
       "$$\\frac{2 \\sin{\\left (x \\right )} \\cos{\\left (x \\right )}}{8 \\sin^{3}{\\left (x \\right )} \\cos^{3}{\\left (x \\right )} - 4 \\sin^{2}{\\left (x \\right )} \\cos^{3}{\\left (x \\right )} - 2 \\sin{\\left (x \\right )} \\cos^{3}{\\left (x \\right )} + \\cos^{3}{\\left (x \\right )}} + \\frac{\\cos{\\left (x \\right )}}{8 \\sin^{3}{\\left (x \\right )} \\cos^{3}{\\left (x \\right )} - 4 \\sin^{2}{\\left (x \\right )} \\cos^{3}{\\left (x \\right )} - 2 \\sin{\\left (x \\right )} \\cos^{3}{\\left (x \\right )} + \\cos^{3}{\\left (x \\right )}}$$"
      ],
      "text/plain": [
       "                         2⋅sin(x)⋅cos(x)                                      \n",
       "────────────────────────────────────────────────────────────────── + ─────────\n",
       "     3       3           2       3                  3         3           3   \n",
       "8⋅sin (x)⋅cos (x) - 4⋅sin (x)⋅cos (x) - 2⋅sin(x)⋅cos (x) + cos (x)   8⋅sin (x)\n",
       "\n",
       "                     cos(x)                              \n",
       "─────────────────────────────────────────────────────────\n",
       "    3           2       3                  3         3   \n",
       "⋅cos (x) - 4⋅sin (x)⋅cos (x) - 2⋅sin(x)⋅cos (x) + cos (x)"
      ]
     },
     "execution_count": 22,
     "metadata": {},
     "output_type": "execute_result"
    }
   ],
   "source": [
    "f.expand(trig=True)"
   ]
  },
  {
   "cell_type": "code",
   "execution_count": 23,
   "metadata": {
    "collapsed": false
   },
   "outputs": [
    {
     "data": {
      "image/png": "[encoded data removed]",
      "text/latex": [
       "$$\\frac{2 \\sin{\\left (x \\right )} \\cos{\\left (x \\right )} + \\cos{\\left (x \\right )}}{\\left(\\sin{\\left (2 x \\right )} - \\cos{\\left (x \\right )}\\right) \\left(\\sin^{2}{\\left (2 x \\right )} - \\cos^{2}{\\left (x \\right )}\\right)}$$"
      ],
      "text/plain": [
       "         2⋅sin(x)⋅cos(x) + cos(x)        \n",
       "─────────────────────────────────────────\n",
       "                    ⎛   2           2   ⎞\n",
       "(sin(2⋅x) - cos(x))⋅⎝sin (2⋅x) - cos (x)⎠"
      ]
     },
     "execution_count": 23,
     "metadata": {},
     "output_type": "execute_result"
    }
   ],
   "source": [
    "f.expand(trig=True, numer=True)"
   ]
  },
  {
   "cell_type": "code",
   "execution_count": 24,
   "metadata": {
    "collapsed": false
   },
   "outputs": [
    {
     "data": {
      "image/png": "[encoded data removed]",
      "text/latex": [
       "$$\\frac{2 \\sin{\\left (x \\right )} \\cos{\\left (x \\right )} + \\cos{\\left (x \\right )}}{8 \\sin^{3}{\\left (x \\right )} \\cos^{3}{\\left (x \\right )} - 4 \\sin^{2}{\\left (x \\right )} \\cos^{3}{\\left (x \\right )} - 2 \\sin{\\left (x \\right )} \\cos^{3}{\\left (x \\right )} + \\cos^{3}{\\left (x \\right )}}$$"
      ],
      "text/plain": [
       "                     2⋅sin(x)⋅cos(x) + cos(x)                     \n",
       "──────────────────────────────────────────────────────────────────\n",
       "     3       3           2       3                  3         3   \n",
       "8⋅sin (x)⋅cos (x) - 4⋅sin (x)⋅cos (x) - 2⋅sin(x)⋅cos (x) + cos (x)"
      ]
     },
     "execution_count": 24,
     "metadata": {},
     "output_type": "execute_result"
    }
   ],
   "source": [
    "fe = f.expand(trig=True,numer=True).expand(trig=True,denom=True)\n",
    "fe"
   ]
  },
  {
   "cell_type": "code",
   "execution_count": 25,
   "metadata": {
    "collapsed": false
   },
   "outputs": [
    {
     "data": {
      "image/png": "[encoded data removed]",
      "text/latex": [
       "$$\\frac{1}{\\left(2 \\sin{\\left (x \\right )} - 1\\right)^{2} \\cos^{2}{\\left (x \\right )}}$$"
      ],
      "text/plain": [
       "           1           \n",
       "───────────────────────\n",
       "              2    2   \n",
       "(2⋅sin(x) - 1) ⋅cos (x)"
      ]
     },
     "execution_count": 25,
     "metadata": {},
     "output_type": "execute_result"
    }
   ],
   "source": [
    "fe.factor()"
   ]
  },
  {
   "cell_type": "code",
   "execution_count": 26,
   "metadata": {
    "collapsed": false
   },
   "outputs": [
    {
     "data": {
      "image/png": "[encoded data removed]",
      "text/latex": [
       "$$\\frac{\\sin{\\left (2 x \\right )}}{\\sin^{3}{\\left (2 x \\right )} - \\sin^{2}{\\left (2 x \\right )} \\cos{\\left (x \\right )} - \\sin{\\left (2 x \\right )} \\cos^{2}{\\left (x \\right )} + \\cos^{3}{\\left (x \\right )}} + \\frac{\\cos{\\left (x \\right )}}{\\sin^{3}{\\left (2 x \\right )} - \\sin^{2}{\\left (2 x \\right )} \\cos{\\left (x \\right )} - \\sin{\\left (2 x \\right )} \\cos^{2}{\\left (x \\right )} + \\cos^{3}{\\left (x \\right )}}$$"
      ],
      "text/plain": [
       "                         sin(2⋅x)                                             \n",
       "───────────────────────────────────────────────────────── + ──────────────────\n",
       "   3           2                           2         3         3           2  \n",
       "sin (2⋅x) - sin (2⋅x)⋅cos(x) - sin(2⋅x)⋅cos (x) + cos (x)   sin (2⋅x) - sin (2\n",
       "\n",
       "        cos(x)                         \n",
       "───────────────────────────────────────\n",
       "                         2         3   \n",
       "⋅x)⋅cos(x) - sin(2⋅x)⋅cos (x) + cos (x)"
      ]
     },
     "execution_count": 26,
     "metadata": {},
     "output_type": "execute_result"
    }
   ],
   "source": [
    "f.expand(gibtsnich=True)"
   ]
  },
  {
   "cell_type": "markdown",
   "metadata": {},
   "source": [
    "## Auswertungen von Ausdrücken"
   ]
  },
  {
   "cell_type": "code",
   "execution_count": 27,
   "metadata": {
    "collapsed": false
   },
   "outputs": [
    {
     "data": {
      "image/png": "[encoded data removed]",
      "text/latex": [
       "$$\\frac{9 x^{2} - 5}{\\left(x - 3\\right) \\left(x - 2\\right)}$$"
      ],
      "text/plain": [
       "       2       \n",
       "    9⋅x  - 5   \n",
       "───────────────\n",
       "(x - 3)⋅(x - 2)"
      ]
     },
     "execution_count": 27,
     "metadata": {},
     "output_type": "execute_result"
    }
   ],
   "source": [
    "x = Symbol('x')\n",
    "a = (9*x**2-5)/((x-2)*(x-3))\n",
    "a"
   ]
  },
  {
   "cell_type": "code",
   "execution_count": 28,
   "metadata": {
    "collapsed": false
   },
   "outputs": [
    {
     "data": {
      "image/png": "[encoded data removed]",
      "text/latex": [
       "$$\\frac{139}{2}$$"
      ],
      "text/plain": [
       "139/2"
      ]
     },
     "execution_count": 28,
     "metadata": {},
     "output_type": "execute_result"
    }
   ],
   "source": [
    "a.subs(x, 4)"
   ]
  },
  {
   "cell_type": "code",
   "execution_count": 29,
   "metadata": {
    "collapsed": false
   },
   "outputs": [
    {
     "data": {
      "image/png": "[encoded data removed]",
      "text/latex": [
       "$$\\frac{\\left(x - y\\right)^{3}}{x + y}$$"
      ],
      "text/plain": [
       "       3\n",
       "(x - y) \n",
       "────────\n",
       " x + y  "
      ]
     },
     "execution_count": 29,
     "metadata": {},
     "output_type": "execute_result"
    }
   ],
   "source": [
    "y = Symbol('y')\n",
    "b = (x-y)**3 / (x+y)\n",
    "b"
   ]
  },
  {
   "cell_type": "code",
   "execution_count": 30,
   "metadata": {
    "collapsed": false
   },
   "outputs": [
    {
     "data": {
      "image/png": "[encoded data removed]",
      "text/latex": [
       "$$9$$"
      ],
      "text/plain": [
       "9"
      ]
     },
     "execution_count": 30,
     "metadata": {},
     "output_type": "execute_result"
    }
   ],
   "source": [
    "b.subs(x, 3).subs(y, 0)"
   ]
  },
  {
   "cell_type": "code",
   "execution_count": 32,
   "metadata": {
    "collapsed": false
   },
   "outputs": [
    {
     "data": {
      "image/png": "[encoded data removed]",
      "text/latex": [
       "$$\\frac{9 x^{2} - 5}{\\left(x - 3\\right) \\left(x - 2\\right)}$$"
      ],
      "text/plain": [
       "       2       \n",
       "    9⋅x  - 5   \n",
       "───────────────\n",
       "(x - 3)⋅(x - 2)"
      ]
     },
     "execution_count": 32,
     "metadata": {},
     "output_type": "execute_result"
    }
   ],
   "source": [
    "a"
   ]
  },
  {
   "cell_type": "code",
   "execution_count": 31,
   "metadata": {
    "collapsed": false
   },
   "outputs": [
    {
     "data": {
      "image/png": "[encoded data removed]",
      "text/latex": [
       "$$\\tilde{\\infty}$$"
      ],
      "text/plain": [
       "zoo"
      ]
     },
     "execution_count": 31,
     "metadata": {},
     "output_type": "execute_result"
    }
   ],
   "source": [
    "a.subs(x, 2)"
   ]
  },
  {
   "cell_type": "code",
   "execution_count": 33,
   "metadata": {
    "collapsed": false
   },
   "outputs": [
    {
     "data": {
      "image/png": "[encoded data removed]",
      "text/latex": [
       "$$\\frac{1}{\\cos{\\left (\\frac{\\pi x}{2} \\right )}}$$"
      ],
      "text/plain": [
       "   1    \n",
       "────────\n",
       "   ⎛π⋅x⎞\n",
       "cos⎜───⎟\n",
       "   ⎝ 2 ⎠"
      ]
     },
     "execution_count": 33,
     "metadata": {},
     "output_type": "execute_result"
    }
   ],
   "source": [
    "c = 1/cos(x*pi/2)\n",
    "c"
   ]
  },
  {
   "cell_type": "code",
   "execution_count": 34,
   "metadata": {
    "collapsed": false
   },
   "outputs": [
    {
     "data": {
      "image/png": "[encoded data removed]",
      "text/latex": [
       "$$\\tilde{\\infty}$$"
      ],
      "text/plain": [
       "zoo"
      ]
     },
     "execution_count": 34,
     "metadata": {},
     "output_type": "execute_result"
    }
   ],
   "source": [
    "c.subs(x,1)"
   ]
  },
  {
   "cell_type": "markdown",
   "metadata": {},
   "source": [
    "## Grenzwerte"
   ]
  },
  {
   "cell_type": "code",
   "execution_count": 35,
   "metadata": {
    "collapsed": false
   },
   "outputs": [
    {
     "data": {
      "image/png": "[encoded data removed]",
      "text/latex": [
       "$$\\frac{9 x^{2} - 5}{\\left(x - 3\\right) \\left(x - 2\\right)}$$"
      ],
      "text/plain": [
       "       2       \n",
       "    9⋅x  - 5   \n",
       "───────────────\n",
       "(x - 3)⋅(x - 2)"
      ]
     },
     "execution_count": 35,
     "metadata": {},
     "output_type": "execute_result"
    }
   ],
   "source": [
    "a"
   ]
  },
  {
   "cell_type": "code",
   "execution_count": 36,
   "metadata": {
    "collapsed": false
   },
   "outputs": [
    {
     "data": {
      "image/png": "[encoded data removed]",
      "text/latex": [
       "$$-\\infty$$"
      ],
      "text/plain": [
       "-∞"
      ]
     },
     "execution_count": 36,
     "metadata": {},
     "output_type": "execute_result"
    }
   ],
   "source": [
    "a.limit(x, 2)"
   ]
  },
  {
   "cell_type": "code",
   "execution_count": 37,
   "metadata": {
    "collapsed": false
   },
   "outputs": [
    {
     "data": {
      "image/png": "[encoded data removed]",
      "text/latex": [
       "$$\\infty$$"
      ],
      "text/plain": [
       "∞"
      ]
     },
     "execution_count": 37,
     "metadata": {},
     "output_type": "execute_result"
    }
   ],
   "source": [
    "a.limit(x, 2, dir='-')"
   ]
  },
  {
   "cell_type": "code",
   "execution_count": 38,
   "metadata": {
    "collapsed": false
   },
   "outputs": [
    {
     "data": {
      "image/png": "[encoded data removed]",
      "text/latex": [
       "$$\\frac{\\cos{\\left (\\pi x \\right )}}{2 x - 1}$$"
      ],
      "text/plain": [
       "cos(π⋅x)\n",
       "────────\n",
       "2⋅x - 1 "
      ]
     },
     "execution_count": 38,
     "metadata": {},
     "output_type": "execute_result"
    }
   ],
   "source": [
    "a = cos(pi*x)/(2*x-1)\n",
    "a"
   ]
  },
  {
   "cell_type": "code",
   "execution_count": 39,
   "metadata": {
    "collapsed": false
   },
   "outputs": [
    {
     "data": {
      "image/png": "[encoded data removed]",
      "text/latex": [
       "$$- \\frac{\\pi}{2}$$"
      ],
      "text/plain": [
       "-π \n",
       "───\n",
       " 2 "
      ]
     },
     "execution_count": 39,
     "metadata": {},
     "output_type": "execute_result"
    }
   ],
   "source": [
    "a.limit(x, Rational(1,2))"
   ]
  },
  {
   "cell_type": "code",
   "execution_count": 40,
   "metadata": {
    "collapsed": false
   },
   "outputs": [
    {
     "data": {
      "image/png": "[encoded data removed]",
      "text/latex": [
       "$$\\mathrm{NaN}$$"
      ],
      "text/plain": [
       "nan"
      ]
     },
     "execution_count": 40,
     "metadata": {},
     "output_type": "execute_result"
    }
   ],
   "source": [
    "a.subs(x, Rational(1,2))"
   ]
  },
  {
   "cell_type": "code",
   "execution_count": 41,
   "metadata": {
    "collapsed": false
   },
   "outputs": [
    {
     "data": {
      "image/png": "[encoded data removed]",
      "text/latex": [
       "$$\\frac{n^{- n}}{\\sqrt{n}} e^{n} n!$$"
      ],
      "text/plain": [
       " -n  n   \n",
       "n  ⋅ℯ ⋅n!\n",
       "─────────\n",
       "    √n   "
      ]
     },
     "execution_count": 41,
     "metadata": {},
     "output_type": "execute_result"
    }
   ],
   "source": [
    "n = Symbol('n')\n",
    "b = factorial(n)*exp(n)/n**n/sqrt(n)\n",
    "b"
   ]
  },
  {
   "cell_type": "code",
   "execution_count": 42,
   "metadata": {
    "collapsed": false
   },
   "outputs": [
    {
     "data": {
      "image/png": "[encoded data removed]",
      "text/latex": [
       "$$\\lim_{n \\to \\infty}\\left(\\frac{n^{- n}}{\\sqrt{n}} e^{n} n!\\right)$$"
      ],
      "text/plain": [
       "     -n  n   \n",
       "    n  ⋅ℯ ⋅n!\n",
       "lim ─────────\n",
       "n─→∞    √n   "
      ]
     },
     "execution_count": 42,
     "metadata": {},
     "output_type": "execute_result"
    }
   ],
   "source": [
    "L = Limit(b, n, oo)   # Träger Operator\n",
    "L"
   ]
  },
  {
   "cell_type": "code",
   "execution_count": 43,
   "metadata": {
    "collapsed": false
   },
   "outputs": [
    {
     "data": {
      "image/png": "[encoded data removed]",
      "text/latex": [
       "$$\\sqrt{2} \\sqrt{\\pi}$$"
      ],
      "text/plain": [
       "√2⋅√π"
      ]
     },
     "execution_count": 43,
     "metadata": {},
     "output_type": "execute_result"
    }
   ],
   "source": [
    "L.doit()"
   ]
  },
  {
   "cell_type": "markdown",
   "metadata": {},
   "source": [
    "Stirlingsche Formel"
   ]
  },
  {
   "cell_type": "markdown",
   "metadata": {},
   "source": [
    "## Ableitungen"
   ]
  },
  {
   "cell_type": "code",
   "execution_count": 44,
   "metadata": {
    "collapsed": false
   },
   "outputs": [
    {
     "data": {
      "image/png": "[encoded data removed]",
      "text/latex": [
       "$$x^{n}$$"
      ],
      "text/plain": [
       " n\n",
       "x "
      ]
     },
     "execution_count": 44,
     "metadata": {},
     "output_type": "execute_result"
    }
   ],
   "source": [
    "f = x**n\n",
    "f"
   ]
  },
  {
   "cell_type": "code",
   "execution_count": 45,
   "metadata": {
    "collapsed": false
   },
   "outputs": [
    {
     "data": {
      "image/png": "[encoded data removed]",
      "text/latex": [
       "$$\\frac{n x^{n}}{x}$$"
      ],
      "text/plain": [
       "   n\n",
       "n⋅x \n",
       "────\n",
       " x  "
      ]
     },
     "execution_count": 45,
     "metadata": {},
     "output_type": "execute_result"
    }
   ],
   "source": [
    "f.diff(x)"
   ]
  },
  {
   "cell_type": "code",
   "execution_count": 46,
   "metadata": {
    "collapsed": false
   },
   "outputs": [
    {
     "data": {
      "image/png": "[encoded data removed]",
      "text/latex": [
       "$$n x^{n - 1}$$"
      ],
      "text/plain": [
       "   n - 1\n",
       "n⋅x     "
      ]
     },
     "execution_count": 46,
     "metadata": {},
     "output_type": "execute_result"
    }
   ],
   "source": [
    "f.diff(x).powsimp()"
   ]
  },
  {
   "cell_type": "code",
   "execution_count": 47,
   "metadata": {
    "collapsed": false
   },
   "outputs": [
    {
     "data": {
      "image/png": "[encoded data removed]",
      "text/latex": [
       "$$\\frac{n x^{n}}{x^{3}} \\left(n - 2\\right) \\left(n - 1\\right)$$"
      ],
      "text/plain": [
       "   n                \n",
       "n⋅x ⋅(n - 2)⋅(n - 1)\n",
       "────────────────────\n",
       "          3         \n",
       "         x          "
      ]
     },
     "execution_count": 47,
     "metadata": {},
     "output_type": "execute_result"
    }
   ],
   "source": [
    "f.diff(x,x,x).factor()"
   ]
  },
  {
   "cell_type": "code",
   "execution_count": 48,
   "metadata": {
    "collapsed": false
   },
   "outputs": [
    {
     "data": {
      "image/png": "[encoded data removed]",
      "text/latex": [
       "$$\\frac{n x^{n}}{x^{3}} \\left(n - 2\\right) \\left(n - 1\\right)$$"
      ],
      "text/plain": [
       "   n                \n",
       "n⋅x ⋅(n - 2)⋅(n - 1)\n",
       "────────────────────\n",
       "          3         \n",
       "         x          "
      ]
     },
     "execution_count": 48,
     "metadata": {},
     "output_type": "execute_result"
    }
   ],
   "source": [
    "f.diff(x,3).factor()"
   ]
  },
  {
   "cell_type": "code",
   "execution_count": 49,
   "metadata": {
    "collapsed": false
   },
   "outputs": [
    {
     "ename": "ValueError",
     "evalue": "\nSince there is more than one variable in the expression, the\nvariable(s) of differentiation must be supplied to differentiate x**n",
     "output_type": "error",
     "traceback": [
      "\u001b[0;31m---------------------------------------------------------------------------\u001b[0m",
      "\u001b[0;31mValueError\u001b[0m                                Traceback (most recent call last)",
      "\u001b[0;32m<ipython-input-49-90cbeb354bfa>\u001b[0m in \u001b[0;36m<module>\u001b[0;34m()\u001b[0m\n\u001b[0;32m----> 1\u001b[0;31m \u001b[0mf\u001b[0m\u001b[0;34m.\u001b[0m\u001b[0mdiff\u001b[0m\u001b[0;34m(\u001b[0m\u001b[0;34m)\u001b[0m\u001b[0;34m\u001b[0m\u001b[0m\n\u001b[0m",
      "\u001b[0;32m/home/braun/miniconda3/lib/python3.5/site-packages/sympy/core/expr.py\u001b[0m in \u001b[0;36mdiff\u001b[0;34m(self, *symbols, **assumptions)\u001b[0m\n\u001b[1;32m   2864\u001b[0m         \u001b[0mnew_symbols\u001b[0m \u001b[0;34m=\u001b[0m \u001b[0mlist\u001b[0m\u001b[0;34m(\u001b[0m\u001b[0mmap\u001b[0m\u001b[0;34m(\u001b[0m\u001b[0msympify\u001b[0m\u001b[0;34m,\u001b[0m \u001b[0msymbols\u001b[0m\u001b[0;34m)\u001b[0m\u001b[0;34m)\u001b[0m  \u001b[0;31m# e.g. x, 2, y, z\u001b[0m\u001b[0;34m\u001b[0m\u001b[0m\n\u001b[1;32m   2865\u001b[0m         \u001b[0massumptions\u001b[0m\u001b[0;34m.\u001b[0m\u001b[0msetdefault\u001b[0m\u001b[0;34m(\u001b[0m\u001b[0;34m\"evaluate\"\u001b[0m\u001b[0;34m,\u001b[0m \u001b[0;32mTrue\u001b[0m\u001b[0;34m)\u001b[0m\u001b[0;34m\u001b[0m\u001b[0m\n\u001b[0;32m-> 2866\u001b[0;31m         \u001b[0;32mreturn\u001b[0m \u001b[0mDerivative\u001b[0m\u001b[0;34m(\u001b[0m\u001b[0mself\u001b[0m\u001b[0;34m,\u001b[0m \u001b[0;34m*\u001b[0m\u001b[0mnew_symbols\u001b[0m\u001b[0;34m,\u001b[0m \u001b[0;34m**\u001b[0m\u001b[0massumptions\u001b[0m\u001b[0;34m)\u001b[0m\u001b[0;34m\u001b[0m\u001b[0m\n\u001b[0m\u001b[1;32m   2867\u001b[0m \u001b[0;34m\u001b[0m\u001b[0m\n\u001b[1;32m   2868\u001b[0m     \u001b[0;31m###########################################################################\u001b[0m\u001b[0;34m\u001b[0m\u001b[0;34m\u001b[0m\u001b[0m\n",
      "\u001b[0;32m/home/braun/miniconda3/lib/python3.5/site-packages/sympy/core/function.py\u001b[0m in \u001b[0;36m__new__\u001b[0;34m(cls, expr, *variables, **assumptions)\u001b[0m\n\u001b[1;32m   1035\u001b[0m                         \u001b[0mSince\u001b[0m \u001b[0mthere\u001b[0m \u001b[0;32mis\u001b[0m \u001b[0mmore\u001b[0m \u001b[0mthan\u001b[0m \u001b[0mone\u001b[0m \u001b[0mvariable\u001b[0m \u001b[0;32min\u001b[0m \u001b[0mthe\u001b[0m\u001b[0;34m\u001b[0m\u001b[0m\n\u001b[1;32m   1036\u001b[0m                         \u001b[0mexpression\u001b[0m\u001b[0;34m,\u001b[0m \u001b[0mthe\u001b[0m \u001b[0mvariable\u001b[0m\u001b[0;34m(\u001b[0m\u001b[0ms\u001b[0m\u001b[0;34m)\u001b[0m \u001b[0mof\u001b[0m \u001b[0mdifferentiation\u001b[0m\u001b[0;34m\u001b[0m\u001b[0m\n\u001b[0;32m-> 1037\u001b[0;31m                         must be supplied to differentiate %s''' % expr))\n\u001b[0m\u001b[1;32m   1038\u001b[0m \u001b[0;34m\u001b[0m\u001b[0m\n\u001b[1;32m   1039\u001b[0m         \u001b[0;31m# Standardize the variables by sympifying them and making appending a\u001b[0m\u001b[0;34m\u001b[0m\u001b[0;34m\u001b[0m\u001b[0m\n",
      "\u001b[0;31mValueError\u001b[0m: \nSince there is more than one variable in the expression, the\nvariable(s) of differentiation must be supplied to differentiate x**n"
     ]
    }
   ],
   "source": [
    "f.diff()"
   ]
  },
  {
   "cell_type": "code",
   "execution_count": 50,
   "metadata": {
    "collapsed": false
   },
   "outputs": [
    {
     "data": {
      "image/png": "[encoded data removed]",
      "text/latex": [
       "$$x^{n}$$"
      ],
      "text/plain": [
       " n\n",
       "x "
      ]
     },
     "execution_count": 50,
     "metadata": {},
     "output_type": "execute_result"
    }
   ],
   "source": [
    "f.diff(x,0)"
   ]
  },
  {
   "cell_type": "code",
   "execution_count": 51,
   "metadata": {
    "collapsed": false
   },
   "outputs": [
    {
     "data": {
      "image/png": "[encoded data removed]",
      "text/latex": [
       "$$- 2 x^{2} \\sin{\\left (2 x \\right )} + 2 x \\cos{\\left (2 x \\right )}$$"
      ],
      "text/plain": [
       "     2                        \n",
       "- 2⋅x ⋅sin(2⋅x) + 2⋅x⋅cos(2⋅x)"
      ]
     },
     "execution_count": 51,
     "metadata": {},
     "output_type": "execute_result"
    }
   ],
   "source": [
    "g = x**2*cos(2*x)\n",
    "g.diff()"
   ]
  },
  {
   "cell_type": "markdown",
   "metadata": {},
   "source": [
    "So ist das Leben."
   ]
  },
  {
   "cell_type": "code",
   "execution_count": 52,
   "metadata": {
    "collapsed": false
   },
   "outputs": [
    {
     "data": {
      "image/png": "[encoded data removed]",
      "text/latex": [
       "$$\\frac{\\cos{\\left (\\pi x \\right )}}{2 x - 1}$$"
      ],
      "text/plain": [
       "cos(π⋅x)\n",
       "────────\n",
       "2⋅x - 1 "
      ]
     },
     "execution_count": 52,
     "metadata": {},
     "output_type": "execute_result"
    }
   ],
   "source": [
    "a"
   ]
  },
  {
   "cell_type": "markdown",
   "metadata": {},
   "source": [
    "Wir berechnen den Grenzwert zu Fuß mit der Regel von de l'Hôpital"
   ]
  },
  {
   "cell_type": "code",
   "execution_count": 53,
   "metadata": {
    "collapsed": false
   },
   "outputs": [
    {
     "data": {
      "image/png": "[encoded data removed]",
      "text/latex": [
       "$$\\left ( \\cos{\\left (\\pi x \\right )}, \\quad 2 x - 1\\right )$$"
      ],
      "text/plain": [
       "(cos(π⋅x), 2⋅x - 1)"
      ]
     },
     "execution_count": 53,
     "metadata": {},
     "output_type": "execute_result"
    }
   ],
   "source": [
    "zaehler = numer(a)    # numer ist keine Methode\n",
    "nenner = denom(a)\n",
    "zaehler, nenner"
   ]
  },
  {
   "cell_type": "code",
   "execution_count": 54,
   "metadata": {
    "collapsed": false
   },
   "outputs": [
    {
     "data": {
      "image/png": "[encoded data removed]",
      "text/latex": [
       "$$\\left ( - \\pi \\sin{\\left (\\pi x \\right )}, \\quad 2\\right )$$"
      ],
      "text/plain": [
       "(-π⋅sin(π⋅x), 2)"
      ]
     },
     "execution_count": 54,
     "metadata": {},
     "output_type": "execute_result"
    }
   ],
   "source": [
    "d_zaehler = zaehler.diff(x)\n",
    "d_nenner = nenner.diff(x)\n",
    "d_zaehler, d_nenner"
   ]
  },
  {
   "cell_type": "code",
   "execution_count": 55,
   "metadata": {
    "collapsed": false
   },
   "outputs": [
    {
     "data": {
      "image/png": "[encoded data removed]",
      "text/latex": [
       "$$- \\frac{\\pi}{2}$$"
      ],
      "text/plain": [
       "-π \n",
       "───\n",
       " 2 "
      ]
     },
     "execution_count": 55,
     "metadata": {},
     "output_type": "execute_result"
    }
   ],
   "source": [
    "d_zaehler.subs(x, Rational(1,2)) / d_nenner.subs(x, Rational(1,2))"
   ]
  },
  {
   "cell_type": "markdown",
   "metadata": {},
   "source": [
    "## unbestimmte Integrale"
   ]
  },
  {
   "cell_type": "code",
   "execution_count": 56,
   "metadata": {
    "collapsed": false
   },
   "outputs": [
    {
     "data": {
      "image/png": "[encoded data removed]",
      "text/latex": [
       "$$x^{n}$$"
      ],
      "text/plain": [
       " n\n",
       "x "
      ]
     },
     "execution_count": 56,
     "metadata": {},
     "output_type": "execute_result"
    }
   ],
   "source": [
    "f"
   ]
  },
  {
   "cell_type": "code",
   "execution_count": 57,
   "metadata": {
    "collapsed": false
   },
   "outputs": [
    {
     "data": {
      "image/png": "[encoded data removed]",
      "text/latex": [
       "$$\\begin{cases} \\log{\\left (x \\right )} & \\text{for}\\: n = -1 \\\\\\frac{x^{n + 1}}{n + 1} & \\text{otherwise} \\end{cases}$$"
      ],
      "text/plain": [
       "⎧log(x)  for n = -1\n",
       "⎪                  \n",
       "⎪ n + 1            \n",
       "⎨x                 \n",
       "⎪──────  otherwise \n",
       "⎪n + 1             \n",
       "⎩                  "
      ]
     },
     "execution_count": 57,
     "metadata": {},
     "output_type": "execute_result"
    }
   ],
   "source": [
    "f.integrate(x)"
   ]
  },
  {
   "cell_type": "code",
   "execution_count": 58,
   "metadata": {
    "collapsed": false
   },
   "outputs": [
    {
     "data": {
      "image/png": "[encoded data removed]",
      "text/latex": [
       "$$\\frac{x^{n + 1}}{n + 1}$$"
      ],
      "text/plain": [
       " n + 1\n",
       "x     \n",
       "──────\n",
       "n + 1 "
      ]
     },
     "execution_count": 58,
     "metadata": {},
     "output_type": "execute_result"
    }
   ],
   "source": [
    "f.integrate(x, conds='none')"
   ]
  },
  {
   "cell_type": "code",
   "execution_count": 59,
   "metadata": {
    "collapsed": false
   },
   "outputs": [
    {
     "data": {
      "image/png": "[encoded data removed]",
      "text/latex": [
       "$$\\sin{\\left (2 x \\right )} \\cos^{2}{\\left (3 x \\right )}$$"
      ],
      "text/plain": [
       "            2     \n",
       "sin(2⋅x)⋅cos (3⋅x)"
      ]
     },
     "execution_count": 59,
     "metadata": {},
     "output_type": "execute_result"
    }
   ],
   "source": [
    "f = sin(2*x)*cos(3*x)**2\n",
    "f"
   ]
  },
  {
   "cell_type": "code",
   "execution_count": 60,
   "metadata": {
    "collapsed": false
   },
   "outputs": [
    {
     "data": {
      "image/png": "[encoded data removed]",
      "text/latex": [
       "$$\\frac{3}{16} \\sin{\\left (2 x \\right )} \\sin{\\left (3 x \\right )} \\cos{\\left (3 x \\right )} - \\frac{9}{32} \\sin^{2}{\\left (3 x \\right )} \\cos{\\left (2 x \\right )} - \\frac{7}{32} \\cos{\\left (2 x \\right )} \\cos^{2}{\\left (3 x \\right )}$$"
      ],
      "text/plain": [
       "                                    2                               2     \n",
       "3⋅sin(2⋅x)⋅sin(3⋅x)⋅cos(3⋅x)   9⋅sin (3⋅x)⋅cos(2⋅x)   7⋅cos(2⋅x)⋅cos (3⋅x)\n",
       "──────────────────────────── - ──────────────────── - ────────────────────\n",
       "             16                         32                     32         "
      ]
     },
     "execution_count": 60,
     "metadata": {},
     "output_type": "execute_result"
    }
   ],
   "source": [
    "I1 = f.integrate()   # warum darf diese Variable nicht I heißen?\n",
    "I1"
   ]
  },
  {
   "cell_type": "code",
   "execution_count": 61,
   "metadata": {
    "collapsed": false
   },
   "outputs": [
    {
     "data": {
      "image/png": "[encoded data removed]",
      "text/latex": [
       "$$\\sin{\\left (2 x \\right )} \\cos^{2}{\\left (3 x \\right )}$$"
      ],
      "text/plain": [
       "            2     \n",
       "sin(2⋅x)⋅cos (3⋅x)"
      ]
     },
     "execution_count": 61,
     "metadata": {},
     "output_type": "execute_result"
    }
   ],
   "source": [
    "I1.diff(x)"
   ]
  },
  {
   "cell_type": "code",
   "execution_count": 62,
   "metadata": {
    "collapsed": false
   },
   "outputs": [
    {
     "data": {
      "text/plain": [
       "True"
      ]
     },
     "execution_count": 62,
     "metadata": {},
     "output_type": "execute_result"
    }
   ],
   "source": [
    "I1.diff(x) == f"
   ]
  },
  {
   "cell_type": "code",
   "execution_count": 63,
   "metadata": {
    "collapsed": false
   },
   "outputs": [
    {
     "data": {
      "image/png": "[encoded data removed]",
      "text/latex": [
       "$$- \\frac{\\sqrt{2}}{8} \\log{\\left (x^{2} - \\sqrt{2} x + 1 \\right )} + \\frac{\\sqrt{2}}{8} \\log{\\left (x^{2} + \\sqrt{2} x + 1 \\right )} + \\frac{\\sqrt{2}}{4} \\operatorname{atan}{\\left (\\sqrt{2} x - 1 \\right )} + \\frac{\\sqrt{2}}{4} \\operatorname{atan}{\\left (\\sqrt{2} x + 1 \\right )}$$"
      ],
      "text/plain": [
       "        ⎛ 2           ⎞         ⎛ 2           ⎞                               \n",
       "  √2⋅log⎝x  - √2⋅x + 1⎠   √2⋅log⎝x  + √2⋅x + 1⎠   √2⋅atan(√2⋅x - 1)   √2⋅atan(\n",
       "- ───────────────────── + ───────────────────── + ───────────────── + ────────\n",
       "            8                       8                     4                   \n",
       "\n",
       "         \n",
       "√2⋅x + 1)\n",
       "─────────\n",
       "4        "
      ]
     },
     "execution_count": 63,
     "metadata": {},
     "output_type": "execute_result"
    }
   ],
   "source": [
    "g = 1/(1+x**4)\n",
    "I2 = g.integrate(x)\n",
    "I2"
   ]
  },
  {
   "cell_type": "code",
   "execution_count": 64,
   "metadata": {
    "collapsed": false
   },
   "outputs": [
    {
     "data": {
      "image/png": "[encoded data removed]",
      "text/latex": [
       "$$- \\frac{\\sqrt{2} \\left(2 x - \\sqrt{2}\\right)}{8 x^{2} - 8 \\sqrt{2} x + 8} + \\frac{\\sqrt{2} \\left(2 x + \\sqrt{2}\\right)}{8 x^{2} + 8 \\sqrt{2} x + 8} + \\frac{1}{2 \\left(\\sqrt{2} x + 1\\right)^{2} + 2} + \\frac{1}{2 \\left(\\sqrt{2} x - 1\\right)^{2} + 2}$$"
      ],
      "text/plain": [
       "    √2⋅(2⋅x - √2)       √2⋅(2⋅x + √2)              1                     1    \n",
       "- ───────────────── + ───────────────── + ─────────────────── + ──────────────\n",
       "    ⎛ 2           ⎞     ⎛ 2           ⎞     ⎛          2    ⎞     ⎛          2\n",
       "  8⋅⎝x  - √2⋅x + 1⎠   8⋅⎝x  + √2⋅x + 1⎠   2⋅⎝(√2⋅x + 1)  + 1⎠   2⋅⎝(√2⋅x - 1) \n",
       "\n",
       "     \n",
       "─────\n",
       "    ⎞\n",
       " + 1⎠"
      ]
     },
     "execution_count": 64,
     "metadata": {},
     "output_type": "execute_result"
    }
   ],
   "source": [
    "I2.diff(x)"
   ]
  },
  {
   "cell_type": "code",
   "execution_count": 65,
   "metadata": {
    "collapsed": false
   },
   "outputs": [
    {
     "data": {
      "text/plain": [
       "False"
      ]
     },
     "execution_count": 65,
     "metadata": {},
     "output_type": "execute_result"
    }
   ],
   "source": [
    "I2.diff() == g"
   ]
  },
  {
   "cell_type": "code",
   "execution_count": 67,
   "metadata": {
    "collapsed": false
   },
   "outputs": [
    {
     "data": {
      "text/plain": [
       "True"
      ]
     },
     "execution_count": 67,
     "metadata": {},
     "output_type": "execute_result"
    }
   ],
   "source": [
    "I2.diff().ratsimp() ==g"
   ]
  },
  {
   "cell_type": "markdown",
   "metadata": {},
   "source": [
    "## bestimmte Integrale"
   ]
  },
  {
   "cell_type": "code",
   "execution_count": 68,
   "metadata": {
    "collapsed": false
   },
   "outputs": [
    {
     "data": {
      "image/png": "[encoded data removed]",
      "text/latex": [
       "$$\\sin{\\left (2 x \\right )} \\cos^{2}{\\left (3 x \\right )}$$"
      ],
      "text/plain": [
       "            2     \n",
       "sin(2⋅x)⋅cos (3⋅x)"
      ]
     },
     "execution_count": 68,
     "metadata": {},
     "output_type": "execute_result"
    }
   ],
   "source": [
    "f"
   ]
  },
  {
   "cell_type": "code",
   "execution_count": 69,
   "metadata": {
    "collapsed": false
   },
   "outputs": [
    {
     "data": {
      "image/png": "[encoded data removed]",
      "text/latex": [
       "$$\\frac{1}{8}$$"
      ],
      "text/plain": [
       "1/8"
      ]
     },
     "execution_count": 69,
     "metadata": {},
     "output_type": "execute_result"
    }
   ],
   "source": [
    "I3 = f.integrate((x,0,pi/4))\n",
    "I3"
   ]
  },
  {
   "cell_type": "code",
   "execution_count": 70,
   "metadata": {
    "collapsed": false
   },
   "outputs": [
    {
     "data": {
      "image/png": "[encoded data removed]",
      "text/latex": [
       "$$\\int_{0}^{\\frac{\\pi}{4}} \\sin{\\left (2 x \\right )} \\cos^{2}{\\left (3 x \\right )}\\, dx$$"
      ],
      "text/plain": [
       "π                      \n",
       "─                      \n",
       "4                      \n",
       "⌠                      \n",
       "⎮             2        \n",
       "⎮ sin(2⋅x)⋅cos (3⋅x) dx\n",
       "⌡                      \n",
       "0                      "
      ]
     },
     "execution_count": 70,
     "metadata": {},
     "output_type": "execute_result"
    }
   ],
   "source": [
    "I4 = Integral(f, (x,0,pi/4))\n",
    "I4"
   ]
  },
  {
   "cell_type": "code",
   "execution_count": 71,
   "metadata": {
    "collapsed": false
   },
   "outputs": [
    {
     "data": {
      "image/png": "[encoded data removed]",
      "text/latex": [
       "$$\\frac{1}{8}$$"
      ],
      "text/plain": [
       "1/8"
      ]
     },
     "execution_count": 71,
     "metadata": {},
     "output_type": "execute_result"
    }
   ],
   "source": [
    "I4.doit()"
   ]
  },
  {
   "cell_type": "code",
   "execution_count": 72,
   "metadata": {
    "collapsed": false
   },
   "outputs": [
    {
     "data": {
      "image/png": "[encoded data removed]",
      "text/latex": [
       "$$0.125$$"
      ],
      "text/plain": [
       "0.125000000000000"
      ]
     },
     "execution_count": 72,
     "metadata": {},
     "output_type": "execute_result"
    }
   ],
   "source": [
    "I4.n()  # numerische Integration"
   ]
  },
  {
   "cell_type": "code",
   "execution_count": 79,
   "metadata": {
    "collapsed": false
   },
   "outputs": [
    {
     "data": {
      "image/png": "[encoded data removed]",
      "text/latex": [
       "$$\\int_{0}^{1} \\sqrt{e^{x} + 4 i}\\, dx$$"
      ],
      "text/plain": [
       "1                 \n",
       "⌠                 \n",
       "⎮    __________   \n",
       "⎮   ╱  x          \n",
       "⎮ ╲╱  ℯ  + 4⋅ⅈ  dx\n",
       "⌡                 \n",
       "0                 "
      ]
     },
     "execution_count": 79,
     "metadata": {},
     "output_type": "execute_result"
    }
   ],
   "source": [
    "I5 = Integral(sqrt(exp(x)+4*I), (x,0,1))\n",
    "I5"
   ]
  },
  {
   "cell_type": "code",
   "execution_count": 74,
   "metadata": {
    "collapsed": false
   },
   "outputs": [
    {
     "data": {
      "image/png": "[encoded data removed]",
      "text/latex": [
       "$$\\int_{0}^{1} \\sqrt{e^{x} + 4}\\, dx$$"
      ],
      "text/plain": [
       "1               \n",
       "⌠               \n",
       "⎮    ________   \n",
       "⎮   ╱  x        \n",
       "⎮ ╲╱  ℯ  + 4  dx\n",
       "⌡               \n",
       "0               "
      ]
     },
     "execution_count": 74,
     "metadata": {},
     "output_type": "execute_result"
    }
   ],
   "source": [
    "I5.doit()"
   ]
  },
  {
   "cell_type": "code",
   "execution_count": 80,
   "metadata": {
    "collapsed": false
   },
   "outputs": [
    {
     "data": {
      "image/png": "[encoded data removed]",
      "text/latex": [
       "$$1.74291141182466 + 1.15110465485001 i$$"
      ],
      "text/plain": [
       "1.74291141182466 + 1.15110465485001⋅ⅈ"
      ]
     },
     "execution_count": 80,
     "metadata": {},
     "output_type": "execute_result"
    }
   ],
   "source": [
    "I5.n()"
   ]
  },
  {
   "cell_type": "markdown",
   "metadata": {},
   "source": [
    "Vergleich mit der Methode aus der CompLA (nicht prüfungsrelevant für CompAna)"
   ]
  },
  {
   "cell_type": "code",
   "execution_count": 76,
   "metadata": {
    "collapsed": true
   },
   "outputs": [],
   "source": [
    "import numpy as np\n",
    "from scipy import integrate"
   ]
  },
  {
   "cell_type": "code",
   "execution_count": 81,
   "metadata": {
    "collapsed": true
   },
   "outputs": [],
   "source": [
    "def f(x):\n",
    "    return np.sqrt(np.exp(x)+4j)"
   ]
  },
  {
   "cell_type": "code",
   "execution_count": 82,
   "metadata": {
    "collapsed": false
   },
   "outputs": [
    {
     "name": "stderr",
     "output_type": "stream",
     "text": [
      "/home/braun/miniconda3/lib/python3.5/site-packages/scipy/integrate/quadpack.py:380: ComplexWarning: Casting complex values to real discards the imaginary part\n",
      "  return _quadpack._qagse(func,a,b,args,full_output,epsabs,epsrel,limit)\n"
     ]
    },
    {
     "data": {
      "image/png": "[encoded data removed]",
      "text/latex": [
       "$$1.7429114118246578$$"
      ],
      "text/plain": [
       "1.7429114118246578"
      ]
     },
     "execution_count": 82,
     "metadata": {},
     "output_type": "execute_result"
    }
   ],
   "source": [
    "res, err = integrate.quad(f, 0, 1)\n",
    "res"
   ]
  }
 ],
 "metadata": {
  "anaconda-cloud": {},
  "kernelspec": {
   "display_name": "Python [conda root]",
   "language": "python",
   "name": "conda-root-py"
  },
  "language_info": {
   "codemirror_mode": {
    "name": "ipython",
    "version": 3
   },
   "file_extension": ".py",
   "mimetype": "text/x-python",
   "name": "python",
   "nbconvert_exporter": "python",
   "pygments_lexer": "ipython3",
   "version": "3.5.2"
  }
 },
 "nbformat": 4,
 "nbformat_minor": 1
}
