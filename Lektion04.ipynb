{
 "cells": [
  {
   "cell_type": "markdown",
   "metadata": {},
   "source": [
    "# Lektion 4"
   ]
  },
  {
   "cell_type": "code",
   "execution_count": null,
   "metadata": {
    "collapsed": true
   },
   "outputs": [],
   "source": [
    "from sympy import *\n",
    "init_printing()"
   ]
  },
  {
   "cell_type": "markdown",
   "metadata": {},
   "source": [
    "interaktiv"
   ]
  },
  {
   "cell_type": "code",
   "execution_count": null,
   "metadata": {
    "collapsed": true
   },
   "outputs": [],
   "source": [
    "#%matplotlib notebook"
   ]
  },
  {
   "cell_type": "markdown",
   "metadata": {},
   "source": [
    "für den Druck"
   ]
  },
  {
   "cell_type": "code",
   "execution_count": null,
   "metadata": {
    "collapsed": false
   },
   "outputs": [],
   "source": [
    "%matplotlib inline    "
   ]
  },
  {
   "cell_type": "markdown",
   "metadata": {},
   "source": [
    "## 3D Graphen in matplotlib"
   ]
  },
  {
   "cell_type": "code",
   "execution_count": null,
   "metadata": {
    "collapsed": true
   },
   "outputs": [],
   "source": [
    "import numpy as np\n",
    "import matplotlib.pyplot as plt\n",
    "from mpl_toolkits.mplot3d import Axes3D"
   ]
  },
  {
   "cell_type": "code",
   "execution_count": null,
   "metadata": {
    "collapsed": false
   },
   "outputs": [],
   "source": [
    "x = Symbol('x')\n",
    "y = Symbol('y')\n",
    "f = cos(sqrt(x**2+y**2))\n",
    "f"
   ]
  },
  {
   "cell_type": "code",
   "execution_count": null,
   "metadata": {
    "collapsed": false
   },
   "outputs": [],
   "source": [
    "fn = lambdify((x,y), f, 'numpy')\n",
    "f.subs(x,1.).subs(y,2.), fn(1,2)"
   ]
  },
  {
   "cell_type": "code",
   "execution_count": null,
   "metadata": {
    "collapsed": false
   },
   "outputs": [],
   "source": [
    "xn = np.linspace(-3*np.pi, 3*np.pi)\n",
    "yn = np.linspace(-3*np.pi, 3*np.pi)\n",
    "X, Y = np.meshgrid(xn, yn)\n",
    "X.shape"
   ]
  },
  {
   "cell_type": "code",
   "execution_count": null,
   "metadata": {
    "collapsed": false
   },
   "outputs": [],
   "source": [
    "fig = plt.figure()\n",
    "ax = fig.add_subplot(111, projection='3d')\n",
    "Z = fn(X, Y)\n",
    "ax.plot_surface(X, Y, Z, rstride=1, cstride=1, \n",
    "                cmap=plt.cm.coolwarm, linewidth=0);"
   ]
  },
  {
   "cell_type": "code",
   "execution_count": null,
   "metadata": {
    "collapsed": false
   },
   "outputs": [],
   "source": [
    "xn = np.linspace(-3*np.pi, 3*np.pi, 200)\n",
    "yn = np.linspace(-3*np.pi, 3*np.pi, 200)\n",
    "X, Y = np.meshgrid(xn, yn)\n",
    "fig = plt.figure()\n",
    "ax = fig.add_subplot(111, projection='3d')\n",
    "Z = fn(X, Y)\n",
    "ax.plot_surface(X, Y, Z, rstride=1, cstride=1, \n",
    "                cmap=plt.cm.coolwarm, linewidth=0, \n",
    "                alpha=.35);"
   ]
  },
  {
   "cell_type": "markdown",
   "metadata": {},
   "source": [
    "Wenn's schnell gehen soll"
   ]
  },
  {
   "cell_type": "code",
   "execution_count": null,
   "metadata": {
    "collapsed": false
   },
   "outputs": [],
   "source": [
    "fig = plt.figure()\n",
    "ax = fig.add_subplot(111, projection='3d')\n",
    "Z = fn(X, Y)\n",
    "ax.plot_wireframe(X, Y, Z, rstride=10, cstride=10);"
   ]
  },
  {
   "cell_type": "code",
   "execution_count": null,
   "metadata": {
    "collapsed": false
   },
   "outputs": [],
   "source": [
    "fig = plt.figure()  \n",
    "ax = fig.add_subplot(111, projection='3d')\n",
    "Z = fn(X, Y)\n",
    "ax.plot_wireframe(X, Y, Z, rstride=10, cstride=10)\n",
    "ax.view_init(84, 23)                            # <----------"
   ]
  },
  {
   "cell_type": "code",
   "execution_count": null,
   "metadata": {
    "collapsed": false
   },
   "outputs": [],
   "source": [
    "xn = np.linspace(-3*np.pi, 3*np.pi, 200)\n",
    "yn = np.linspace(-3*np.pi, 3*np.pi, 200)\n",
    "X, Y = np.meshgrid(xn, yn)\n",
    "fig = plt.figure()  \n",
    "ax = fig.add_subplot(111, projection='3d')\n",
    "Z = fn(X, Y)\n",
    "ax.plot_surface(X, Y, Z, rstride=1, cstride=1, \n",
    "                cmap=plt.cm.coolwarm, linewidth=0)\n",
    "ax.view_init(80, 23)"
   ]
  },
  {
   "cell_type": "markdown",
   "metadata": {},
   "source": [
    "## Beschränkung der Höhe"
   ]
  },
  {
   "cell_type": "code",
   "execution_count": null,
   "metadata": {
    "collapsed": false
   },
   "outputs": [],
   "source": [
    "g = abs(tan(x+I*y))\n",
    "gn = lambdify((x,y), g, 'numpy')\n",
    "gn(1, 1)"
   ]
  },
  {
   "cell_type": "code",
   "execution_count": null,
   "metadata": {
    "collapsed": false
   },
   "outputs": [],
   "source": [
    "xn = np.linspace(-3*np.pi, 3*np.pi, 300)\n",
    "yn = xn\n",
    "X, Y = np.meshgrid(xn, yn)\n",
    "Z = np.minimum(gn(X, Y), 5)\n",
    "Z[Z>5] = np.nan"
   ]
  },
  {
   "cell_type": "code",
   "execution_count": null,
   "metadata": {
    "collapsed": false
   },
   "outputs": [],
   "source": [
    "fig = plt.figure()\n",
    "ax = fig.add_subplot(111, projection='3d')\n",
    "ax.plot_wireframe(X, Y, Z)\n",
    "ax.view_init(15,-120)"
   ]
  },
  {
   "cell_type": "markdown",
   "metadata": {},
   "source": [
    "Der np.nan-Trick stört die automatische Farbgebung"
   ]
  },
  {
   "cell_type": "code",
   "execution_count": null,
   "metadata": {
    "collapsed": true
   },
   "outputs": [],
   "source": [
    "from matplotlib.colors import Normalize"
   ]
  },
  {
   "cell_type": "code",
   "execution_count": null,
   "metadata": {
    "collapsed": true
   },
   "outputs": [],
   "source": [
    "norm = Normalize(0, 2)"
   ]
  },
  {
   "cell_type": "code",
   "execution_count": null,
   "metadata": {
    "collapsed": false
   },
   "outputs": [],
   "source": [
    "fig = plt.figure()\n",
    "ax = fig.add_subplot(111, projection='3d')\n",
    "ax.plot_surface(X, Y, Z, cmap=plt.cm.viridis, linewidth=0,   # Dark2 ist besonders schlecht \n",
    "                rstride=1, cstride=1, norm=norm)\n",
    "ax.view_init(15,-120)"
   ]
  },
  {
   "cell_type": "code",
   "execution_count": null,
   "metadata": {
    "collapsed": true
   },
   "outputs": [],
   "source": []
  }
 ],
 "metadata": {
  "anaconda-cloud": {},
  "kernelspec": {
   "display_name": "Python [default]",
   "language": "python",
   "name": "python3"
  },
  "language_info": {
   "codemirror_mode": {
    "name": "ipython",
    "version": 3
   },
   "file_extension": ".py",
   "mimetype": "text/x-python",
   "name": "python",
   "nbconvert_exporter": "python",
   "pygments_lexer": "ipython3",
   "version": "3.5.2"
  }
 },
 "nbformat": 4,
 "nbformat_minor": 1
}
