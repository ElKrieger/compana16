{
 "cells": [
  {
   "cell_type": "markdown",
   "metadata": {},
   "source": [
    "# Lektion 14"
   ]
  },
  {
   "cell_type": "code",
   "execution_count": null,
   "metadata": {
    "collapsed": true
   },
   "outputs": [],
   "source": [
    "from sympy import *\n",
    "init_printing()\n",
    "import matplotlib.pyplot as plt\n",
    "%matplotlib notebook\n",
    "import numpy as np"
   ]
  },
  {
   "cell_type": "markdown",
   "metadata": {},
   "source": [
    "## Eine Bernoullische Differentialgleichung"
   ]
  },
  {
   "cell_type": "code",
   "execution_count": null,
   "metadata": {
    "collapsed": false
   },
   "outputs": [],
   "source": [
    "x = Symbol('x')\n",
    "y = Function('y')\n",
    "dgl = Eq(y(x).diff(x), sqrt(x*y(x)))\n",
    "dgl"
   ]
  },
  {
   "cell_type": "code",
   "execution_count": null,
   "metadata": {
    "collapsed": false
   },
   "outputs": [],
   "source": [
    "Lsg = dsolve(dgl)\n",
    "Lsg"
   ]
  },
  {
   "cell_type": "code",
   "execution_count": null,
   "metadata": {
    "collapsed": false
   },
   "outputs": [],
   "source": [
    "f1 = Lsg[0].rhs\n",
    "f2 = Lsg[1].rhs"
   ]
  },
  {
   "cell_type": "code",
   "execution_count": null,
   "metadata": {
    "collapsed": false
   },
   "outputs": [],
   "source": [
    "C1 = Symbol('C1')"
   ]
  },
  {
   "cell_type": "code",
   "execution_count": null,
   "metadata": {
    "collapsed": true
   },
   "outputs": [],
   "source": [
    "C_1 = Symbol('C1')"
   ]
  },
  {
   "cell_type": "code",
   "execution_count": null,
   "metadata": {
    "collapsed": false
   },
   "outputs": [],
   "source": [
    "C1 is C_1"
   ]
  },
  {
   "cell_type": "markdown",
   "metadata": {},
   "source": [
    "`Symbol('C1')` ist ein Singleton."
   ]
  },
  {
   "cell_type": "code",
   "execution_count": null,
   "metadata": {
    "collapsed": true
   },
   "outputs": [],
   "source": [
    "w = S(1)/50"
   ]
  },
  {
   "cell_type": "code",
   "execution_count": null,
   "metadata": {
    "collapsed": false
   },
   "outputs": [],
   "source": [
    "gl1 = Eq(f1.subs(x, 1), w)\n",
    "L1 = solve(gl1)\n",
    "L1"
   ]
  },
  {
   "cell_type": "code",
   "execution_count": null,
   "metadata": {
    "collapsed": false
   },
   "outputs": [],
   "source": [
    "gl2 = Eq(f2.subs(x, 1), w)\n",
    "L2 = solve(gl2)\n",
    "L2"
   ]
  },
  {
   "cell_type": "code",
   "execution_count": null,
   "metadata": {
    "collapsed": false
   },
   "outputs": [],
   "source": [
    "phi1 = f1.subs(C1, L1[0]).expand()\n",
    "phi1"
   ]
  },
  {
   "cell_type": "code",
   "execution_count": null,
   "metadata": {
    "collapsed": false
   },
   "outputs": [],
   "source": [
    "phi2 = f1.subs(C1, L1[1]).expand()\n",
    "phi2"
   ]
  },
  {
   "cell_type": "code",
   "execution_count": null,
   "metadata": {
    "collapsed": false
   },
   "outputs": [],
   "source": [
    "(phi1 - f2.subs(C1, L2[1])).expand()"
   ]
  },
  {
   "cell_type": "code",
   "execution_count": null,
   "metadata": {
    "collapsed": true
   },
   "outputs": [],
   "source": [
    "xn = np.linspace(0, 1.5)\n",
    "pn1 = lambdify(x, phi1, 'numpy')\n",
    "pn2 = lambdify(x, phi2, 'numpy')\n",
    "wn1 = pn1(xn)\n",
    "wn2 = pn2(xn)"
   ]
  },
  {
   "cell_type": "code",
   "execution_count": null,
   "metadata": {
    "collapsed": false
   },
   "outputs": [],
   "source": [
    "plt.plot(xn, wn1)\n",
    "plt.plot(xn, wn2);"
   ]
  },
  {
   "cell_type": "markdown",
   "metadata": {},
   "source": [
    "**Satz von Picard-Lindelöf:**\n",
    "\n",
    "Sei $U \\subseteq \\mathbb R \\times \\mathbb R^n$ offen, sei\n",
    "$f \\colon U \\to \\mathbb R$ stetig (in beiden Argumenten) und lokal\n",
    "Lipschitz-stetig im zweiten Argument, und sei $(x_0, y_0) \\in U$.\n",
    "Dann existieren ein offenes Intervall $I$ mit $x_0 \\in I$ und\n",
    "eine Lösung $\\phi \\colon I \\to \\mathbb R^n$ der Differentialgleichung\n",
    "$y' = f(x,y)$ mit folgenden Eigenschaften\n",
    "\n",
    "1. $\\phi(x_0) = y_0$.\n",
    "1. Ist $\\psi \\colon J \\to \\mathbb R^n$ ebenfalls eine Lösung der\n",
    "  Differentialgleichung $y' = f(x,y)$ mit $\\psi(x_0)=y_0$,\n",
    "    so gelten $J \\subseteq I$ und $\\psi = \\phi|_J$."
   ]
  },
  {
   "cell_type": "code",
   "execution_count": null,
   "metadata": {
    "collapsed": false
   },
   "outputs": [],
   "source": [
    "vn = lambdify((x,y(x)), dgl.rhs, 'numpy')\n",
    "vn(4, 9)"
   ]
  },
  {
   "cell_type": "code",
   "execution_count": null,
   "metadata": {
    "collapsed": false
   },
   "outputs": [],
   "source": [
    "xq = np.linspace(0, 1.5, 13)\n",
    "yq = np.linspace(0, .1, 11)\n",
    "X, Y = np.meshgrid(xq, yq)\n",
    "U = np.ones_like(X)\n",
    "V = vn(X,Y).astype(float)"
   ]
  },
  {
   "cell_type": "code",
   "execution_count": null,
   "metadata": {
    "collapsed": false
   },
   "outputs": [],
   "source": [
    "plt.quiver(X, Y, U, V, angles='xy')\n",
    "plt.plot(xn, wn1)\n",
    "plt.plot(xn, wn2)\n",
    "plt.axis(ymax=.11);"
   ]
  },
  {
   "cell_type": "markdown",
   "metadata": {
    "collapsed": true
   },
   "source": [
    "## Lösung durch Zurückführen auf lineare Differentialgleichung"
   ]
  },
  {
   "cell_type": "code",
   "execution_count": null,
   "metadata": {
    "collapsed": false
   },
   "outputs": [],
   "source": [
    "alpha = Rational(1,2)\n",
    "beta = 1/(1-alpha)\n",
    "beta"
   ]
  },
  {
   "cell_type": "markdown",
   "metadata": {},
   "source": [
    "Ansatz"
   ]
  },
  {
   "cell_type": "code",
   "execution_count": null,
   "metadata": {
    "collapsed": false
   },
   "outputs": [],
   "source": [
    "z = Function('z')\n",
    "dgl1 = dgl.subs(y(x), z(x)**beta)\n",
    "dgl1"
   ]
  },
  {
   "cell_type": "code",
   "execution_count": null,
   "metadata": {
    "collapsed": false
   },
   "outputs": [],
   "source": [
    "dgl2 = dgl1.doit().simplify()\n",
    "dgl2"
   ]
  },
  {
   "cell_type": "code",
   "execution_count": null,
   "metadata": {
    "collapsed": false
   },
   "outputs": [],
   "source": [
    "dgl3 = dgl2.subs(sqrt(x*z(x)**2), sqrt(x)*z(x))\n",
    "dgl3"
   ]
  },
  {
   "cell_type": "code",
   "execution_count": null,
   "metadata": {
    "collapsed": true
   },
   "outputs": [],
   "source": [
    "dgl4 = dgl3/z(x)"
   ]
  },
  {
   "cell_type": "code",
   "execution_count": null,
   "metadata": {
    "collapsed": false
   },
   "outputs": [],
   "source": [
    "dgl4 = Eq(dgl3.lhs/z(x), dgl3.rhs/z(x))\n",
    "dgl4"
   ]
  },
  {
   "cell_type": "code",
   "execution_count": null,
   "metadata": {
    "collapsed": false
   },
   "outputs": [],
   "source": [
    "Lsg = dsolve(dgl4)\n",
    "Lsg"
   ]
  },
  {
   "cell_type": "code",
   "execution_count": null,
   "metadata": {
    "collapsed": false
   },
   "outputs": [],
   "source": [
    "g = Lsg.rhs**2\n",
    "g"
   ]
  },
  {
   "cell_type": "markdown",
   "metadata": {},
   "source": [
    "Das gilt aber nur da, wo die Basis positiv ist."
   ]
  },
  {
   "cell_type": "code",
   "execution_count": null,
   "metadata": {
    "collapsed": false
   },
   "outputs": [],
   "source": [
    "dgl.subs(y(x), g).doit()"
   ]
  },
  {
   "cell_type": "code",
   "execution_count": null,
   "metadata": {
    "collapsed": false
   },
   "outputs": [],
   "source": [
    "gl = Eq(g.subs(x,1), w)\n",
    "gl"
   ]
  },
  {
   "cell_type": "code",
   "execution_count": null,
   "metadata": {
    "collapsed": false
   },
   "outputs": [],
   "source": [
    "L = solve(gl)\n",
    "L"
   ]
  },
  {
   "cell_type": "markdown",
   "metadata": {},
   "source": [
    "Im ersten Fall ist $C_1 + \\frac13 < 0$, im zweiten ist das positiv.  Nur die zweite Lösung ist nahe $x=1$ richtig."
   ]
  },
  {
   "cell_type": "code",
   "execution_count": null,
   "metadata": {
    "collapsed": false
   },
   "outputs": [],
   "source": [
    "psi = g.subs(C1, L[1])\n",
    "psi"
   ]
  },
  {
   "cell_type": "code",
   "execution_count": null,
   "metadata": {
    "collapsed": false
   },
   "outputs": [],
   "source": [
    "x0 = solve(Eq(psi, 0))[0]\n",
    "x0"
   ]
  },
  {
   "cell_type": "code",
   "execution_count": null,
   "metadata": {
    "collapsed": false
   },
   "outputs": [],
   "source": [
    "x0n = float(x0.n())\n",
    "xn2 = np.linspace(x0n, 1.6)\n",
    "wn2 = lambdify(x, psi, 'numpy')(xn2)"
   ]
  },
  {
   "cell_type": "code",
   "execution_count": null,
   "metadata": {
    "collapsed": false
   },
   "outputs": [],
   "source": [
    "plt.quiver(X, Y, U, V, angles='xy')\n",
    "plt.plot(xn2, wn2, 'b', linewidth=2)\n",
    "plt.plot([1], [w], 'or')\n",
    "plt.axis(ymin= -.001, ymax=.11, xmax=1.55);"
   ]
  },
  {
   "cell_type": "markdown",
   "metadata": {},
   "source": [
    "## Graphen komplexer Funktionen"
   ]
  },
  {
   "cell_type": "code",
   "execution_count": null,
   "metadata": {
    "collapsed": false
   },
   "outputs": [],
   "source": [
    "from mpl_toolkits.mplot3d import Axes3D"
   ]
  },
  {
   "cell_type": "code",
   "execution_count": null,
   "metadata": {
    "collapsed": true
   },
   "outputs": [],
   "source": [
    "z = Symbol('z')\n",
    "f = z**2"
   ]
  },
  {
   "cell_type": "code",
   "execution_count": null,
   "metadata": {
    "collapsed": true
   },
   "outputs": [],
   "source": [
    "xn = np.linspace(-2, 2, 99)\n",
    "yn = np.linspace(-2, 2, 99)\n",
    "X, Y = np.meshgrid(xn, yn)\n",
    "Z = X + 1j*Y"
   ]
  },
  {
   "cell_type": "code",
   "execution_count": null,
   "metadata": {
    "collapsed": false,
    "scrolled": true
   },
   "outputs": [],
   "source": [
    "W = abs(Z**2)\n",
    "fig = plt.figure()\n",
    "ax = fig.add_subplot(111, projection='3d')\n",
    "ax.plot_surface(X, Y, W, rstride=1, cstride=1, \n",
    "                cmap=plt.cm.coolwarm, linewidth=0);"
   ]
  },
  {
   "cell_type": "code",
   "execution_count": null,
   "metadata": {
    "collapsed": true
   },
   "outputs": [],
   "source": [
    "B = X**2+Y**2 < 4\n",
    "Xk = X[B].flatten()\n",
    "Yk = Y[B].flatten()\n",
    "Zk = Z[B].flatten()"
   ]
  },
  {
   "cell_type": "code",
   "execution_count": null,
   "metadata": {
    "collapsed": false
   },
   "outputs": [],
   "source": [
    "np.shape(B)\n",
    "np.shape(Xk)"
   ]
  },
  {
   "cell_type": "code",
   "execution_count": null,
   "metadata": {
    "collapsed": false
   },
   "outputs": [],
   "source": [
    "Wk = abs(Zk**2)\n",
    "fig = plt.figure()\n",
    "ax = fig.add_subplot(111, projection='3d')\n",
    "ax.plot_trisurf(Xk, Yk, Wk, cmap=plt.cm.coolwarm, linewidth=0);"
   ]
  },
  {
   "cell_type": "code",
   "execution_count": null,
   "metadata": {
    "collapsed": false
   },
   "outputs": [],
   "source": [
    "Wk = np.real(Zk**2)\n",
    "fig = plt.figure()\n",
    "ax = fig.add_subplot(111, projection='3d')\n",
    "ax.plot_trisurf(Xk, Yk, Wk, cmap=plt.cm.coolwarm, \n",
    "                alpha=1, linewidth=0);"
   ]
  },
  {
   "cell_type": "code",
   "execution_count": null,
   "metadata": {
    "collapsed": false
   },
   "outputs": [],
   "source": [
    "Wk = np.imag(Zk**2)\n",
    "fig = plt.figure()\n",
    "ax = fig.add_subplot(111, projection='3d')\n",
    "ax.plot_trisurf(Xk, Yk, Wk, cmap=plt.cm.coolwarm, linewidth=0);"
   ]
  },
  {
   "cell_type": "markdown",
   "metadata": {},
   "source": [
    "Wir wollen dieses Bild nach dem Winkel von $z^2$ färben."
   ]
  },
  {
   "cell_type": "code",
   "execution_count": null,
   "metadata": {
    "collapsed": false
   },
   "outputs": [],
   "source": [
    "from matplotlib.colors import Normalize\n",
    "from scipy.spatial import Delaunay"
   ]
  },
  {
   "cell_type": "code",
   "execution_count": null,
   "metadata": {
    "collapsed": true
   },
   "outputs": [],
   "source": [
    "norm = Normalize(-np.pi, np.pi)"
   ]
  },
  {
   "cell_type": "code",
   "execution_count": null,
   "metadata": {
    "collapsed": false
   },
   "outputs": [],
   "source": [
    "Wk = abs(Zk**2)\n",
    "Phi_k = np.angle(Zk**2)"
   ]
  },
  {
   "cell_type": "code",
   "execution_count": null,
   "metadata": {
    "collapsed": false
   },
   "outputs": [],
   "source": [
    "dreiecke = Delaunay(np.array([Xk, Yk]).T)\n",
    "fig = plt.figure()\n",
    "ax = fig.add_subplot(111, projection='3d')\n",
    "pc = ax.plot_trisurf(Xk, Yk, Wk, triangles=dreiecke.simplices, linewidth=0)\n",
    "Uk = np.array([Phi_k[vert[0]] for vert in dreiecke.simplices])\n",
    "farben = plt.cm.hsv((Uk+np.pi)/2/np.pi)\n",
    "pc.set_facecolors(farben);"
   ]
  },
  {
   "cell_type": "code",
   "execution_count": null,
   "metadata": {
    "collapsed": true
   },
   "outputs": [],
   "source": [
    "Wk = abs(Zk**4)\n",
    "Phi_k = np.angle(Zk**4)"
   ]
  },
  {
   "cell_type": "code",
   "execution_count": null,
   "metadata": {
    "collapsed": false
   },
   "outputs": [],
   "source": [
    "fig = plt.figure()\n",
    "ax = fig.add_subplot(111, projection='3d')\n",
    "pc = ax.plot_trisurf(Xk, Yk, Wk, triangles=dreiecke.simplices, linewidth=0)\n",
    "Uk = np.array([Phi_k[vert[0]] for vert in dreiecke.simplices])\n",
    "farben = plt.cm.hsv((Uk+np.pi)/2/np.pi)\n",
    "pc.set_facecolors(farben);"
   ]
  },
  {
   "cell_type": "code",
   "execution_count": null,
   "metadata": {
    "collapsed": true
   },
   "outputs": [],
   "source": [
    "Vk = np.sqrt(Zk)\n",
    "Wk = abs(Vk)\n",
    "Phi_k = np.angle(Vk)"
   ]
  },
  {
   "cell_type": "code",
   "execution_count": null,
   "metadata": {
    "collapsed": false
   },
   "outputs": [],
   "source": [
    "fig = plt.figure()\n",
    "ax = fig.add_subplot(111, projection='3d')\n",
    "pc = ax.plot_trisurf(Xk, Yk, Wk, triangles=dreiecke.simplices, linewidth=0)\n",
    "Uk = np.array([Phi_k[vert[0]] for vert in dreiecke.simplices])\n",
    "farben = plt.cm.hsv((Uk+np.pi)/2/np.pi)\n",
    "pc.set_facecolors(farben);"
   ]
  },
  {
   "cell_type": "code",
   "execution_count": null,
   "metadata": {
    "collapsed": true
   },
   "outputs": [],
   "source": [
    "Vk = Zk**.2\n",
    "Wk = abs(Vk)\n",
    "Phi_k = np.angle(Vk)"
   ]
  },
  {
   "cell_type": "code",
   "execution_count": null,
   "metadata": {
    "collapsed": false
   },
   "outputs": [],
   "source": [
    "fig = plt.figure()\n",
    "ax = fig.add_subplot(111, projection='3d')\n",
    "pc = ax.plot_trisurf(Xk, Yk, Wk, triangles=dreiecke.simplices, linewidth=0)\n",
    "Uk = np.array([Phi_k[vert[0]] for vert in dreiecke.simplices])\n",
    "farben = plt.cm.hsv((Uk+np.pi)/2/np.pi)\n",
    "pc.set_facecolors(farben);"
   ]
  },
  {
   "cell_type": "code",
   "execution_count": null,
   "metadata": {
    "collapsed": true
   },
   "outputs": [],
   "source": [
    "Vk = np.sqrt(Zk**2-1)\n",
    "Wk = abs(Vk)\n",
    "Phi_k = np.angle(Vk)"
   ]
  },
  {
   "cell_type": "code",
   "execution_count": null,
   "metadata": {
    "collapsed": false,
    "scrolled": true
   },
   "outputs": [],
   "source": [
    "fig = plt.figure()\n",
    "ax = fig.add_subplot(111, projection='3d')\n",
    "pc = ax.plot_trisurf(Xk, Yk, Wk, triangles=dreiecke.simplices, linewidth=0)\n",
    "Uk = np.array([Phi_k[vert[0]] for vert in dreiecke.simplices])\n",
    "farben = plt.cm.hsv((Uk+np.pi)/2/np.pi)\n",
    "pc.set_facecolors(farben);"
   ]
  },
  {
   "cell_type": "code",
   "execution_count": null,
   "metadata": {
    "collapsed": true
   },
   "outputs": [],
   "source": [
    "def h(z):\n",
    "    if z.real > 0:\n",
    "        return np.sqrt(z**2-1)\n",
    "    else:\n",
    "        return -np.sqrt(z**2-1)"
   ]
  },
  {
   "cell_type": "code",
   "execution_count": null,
   "metadata": {
    "collapsed": false
   },
   "outputs": [],
   "source": [
    "Vk = np.array([h(zz) for zz in Zk])\n",
    "Wk = abs(Vk)\n",
    "Phi_k = np.angle(Vk)"
   ]
  },
  {
   "cell_type": "code",
   "execution_count": null,
   "metadata": {
    "collapsed": false
   },
   "outputs": [],
   "source": [
    "fig = plt.figure()\n",
    "ax = fig.add_subplot(111, projection='3d')\n",
    "pc = ax.plot_trisurf(Xk, Yk, Wk, triangles=dreiecke.simplices, linewidth=0)\n",
    "Uk = np.array([Phi_k[vert[0]] for vert in dreiecke.simplices])\n",
    "farben = plt.cm.hsv((Uk+np.pi)/2/np.pi)\n",
    "pc.set_facecolors(farben)\n",
    "ax.view_init(45, -45);"
   ]
  },
  {
   "cell_type": "code",
   "execution_count": null,
   "metadata": {
    "collapsed": true
   },
   "outputs": [],
   "source": []
  }
 ],
 "metadata": {
  "anaconda-cloud": {},
  "kernelspec": {
   "display_name": "Python [conda env:compana16]",
   "language": "python",
   "name": "conda-env-compana16-py"
  },
  "language_info": {
   "codemirror_mode": {
    "name": "ipython",
    "version": 3
   },
   "file_extension": ".py",
   "mimetype": "text/x-python",
   "name": "python",
   "nbconvert_exporter": "python",
   "pygments_lexer": "ipython3",
   "version": "3.5.2"
  }
 },
 "nbformat": 4,
 "nbformat_minor": 1
}
