{
 "cells": [
  {
   "cell_type": "markdown",
   "metadata": {},
   "source": [
    "# Lektion 6"
   ]
  },
  {
   "cell_type": "code",
   "execution_count": 1,
   "metadata": {
    "collapsed": true
   },
   "outputs": [],
   "source": [
    "from sympy import *\n",
    "init_printing()\n",
    "import numpy as np\n",
    "import matplotlib.pyplot as plt"
   ]
  },
  {
   "cell_type": "markdown",
   "metadata": {},
   "source": [
    "interaktiv"
   ]
  },
  {
   "cell_type": "code",
   "execution_count": 2,
   "metadata": {
    "collapsed": true
   },
   "outputs": [],
   "source": [
    "#%matplotlib notebook"
   ]
  },
  {
   "cell_type": "markdown",
   "metadata": {},
   "source": [
    "für den Druck"
   ]
  },
  {
   "cell_type": "code",
   "execution_count": 3,
   "metadata": {
    "collapsed": false
   },
   "outputs": [],
   "source": [
    "%matplotlib inline "
   ]
  },
  {
   "cell_type": "markdown",
   "metadata": {},
   "source": [
    "## Schleifen"
   ]
  },
  {
   "cell_type": "markdown",
   "metadata": {},
   "source": [
    "Blöcke werden durch Einrückung festgelegt"
   ]
  },
  {
   "cell_type": "code",
   "execution_count": 4,
   "metadata": {
    "collapsed": false
   },
   "outputs": [
    {
     "data": {
      "image/png": "[encoded data removed]",
      "text/latex": [
       "$$45$$"
      ],
      "text/plain": [
       "45"
      ]
     },
     "execution_count": 4,
     "metadata": {},
     "output_type": "execute_result"
    }
   ],
   "source": [
    "summe = 0\n",
    "for j in range(10):\n",
    "    summe = summe + j\n",
    "summe"
   ]
  },
  {
   "cell_type": "markdown",
   "metadata": {},
   "source": [
    "Probe"
   ]
  },
  {
   "cell_type": "code",
   "execution_count": 5,
   "metadata": {
    "collapsed": false
   },
   "outputs": [
    {
     "data": {
      "text/plain": [
       "45"
      ]
     },
     "execution_count": 5,
     "metadata": {},
     "output_type": "execute_result"
    }
   ],
   "source": [
    "np.arange(10).sum()"
   ]
  },
  {
   "cell_type": "markdown",
   "metadata": {},
   "source": [
    "## if/elif/else"
   ]
  },
  {
   "cell_type": "code",
   "execution_count": 6,
   "metadata": {
    "collapsed": false
   },
   "outputs": [
    {
     "data": {
      "image/png": "[encoded data removed]",
      "text/latex": [
       "$$0$$"
      ],
      "text/plain": [
       "0"
      ]
     },
     "execution_count": 6,
     "metadata": {},
     "output_type": "execute_result"
    }
   ],
   "source": [
    "12 % 3  # modulo"
   ]
  },
  {
   "cell_type": "code",
   "execution_count": 7,
   "metadata": {
    "collapsed": false
   },
   "outputs": [
    {
     "name": "stdout",
     "output_type": "stream",
     "text": [
      "0 ist durch 3 teilbar\n",
      "1 lässt Rest 1\n",
      "2 lässt Rest 2\n",
      "3 ist durch 3 teilbar\n",
      "4 lässt Rest 1\n",
      "5 lässt Rest 2\n",
      "6 ist durch 3 teilbar\n"
     ]
    }
   ],
   "source": [
    "for a in range(7):\n",
    "    if a % 3 == 0:\n",
    "        print(a, 'ist durch 3 teilbar')\n",
    "    elif a % 3 == 1:\n",
    "        print(a, 'lässt Rest 1')\n",
    "    else:\n",
    "        print(a, 'lässt Rest 2')"
   ]
  },
  {
   "cell_type": "markdown",
   "metadata": {},
   "source": [
    "Pascalsches Dreieck"
   ]
  },
  {
   "cell_type": "code",
   "execution_count": 8,
   "metadata": {
    "collapsed": true
   },
   "outputs": [],
   "source": [
    "N = 6"
   ]
  },
  {
   "cell_type": "code",
   "execution_count": 9,
   "metadata": {
    "collapsed": false
   },
   "outputs": [],
   "source": [
    "b = {}\n",
    "for n in range(1, N+1):\n",
    "    b[(n,1)] = 1\n",
    "    for j in range(2,n):\n",
    "        b[(n,j)] = b[(n-1,j-1)] + b[(n-1,j)]\n",
    "    b[(n,n)] = 1"
   ]
  },
  {
   "cell_type": "code",
   "execution_count": 10,
   "metadata": {
    "collapsed": false
   },
   "outputs": [
    {
     "name": "stdout",
     "output_type": "stream",
     "text": [
      "[1]\n",
      "[1, 1]\n",
      "[1, 2, 1]\n",
      "[1, 3, 3, 1]\n",
      "[1, 4, 6, 4, 1]\n",
      "[1, 5, 10, 10, 5, 1]\n"
     ]
    }
   ],
   "source": [
    "for n in range(1,N+1):\n",
    "    print([b[(n,j)] for j in range(1,n+1)])"
   ]
  },
  {
   "cell_type": "code",
   "execution_count": 11,
   "metadata": {
    "collapsed": false
   },
   "outputs": [
    {
     "name": "stdout",
     "output_type": "stream",
     "text": [
      "0\n",
      "0\n",
      "sqrt(3)/2\n",
      "1\n",
      "sqrt(sqrt(5)/8 + 5/8)\n"
     ]
    }
   ],
   "source": [
    "for j in range(1, 6):\n",
    "    wert = sin(2*pi/j)\n",
    "    print(wert)"
   ]
  },
  {
   "cell_type": "code",
   "execution_count": 12,
   "metadata": {
    "collapsed": false
   },
   "outputs": [],
   "source": [
    "from IPython.display import display, Image"
   ]
  },
  {
   "cell_type": "code",
   "execution_count": 13,
   "metadata": {
    "collapsed": false
   },
   "outputs": [
    {
     "data": {
      "image/png": "[encoded data removed]",
      "text/latex": [
       "$$\\left ( 2 \\pi, \\quad 0\\right )$$"
      ],
      "text/plain": [
       "(2⋅π, 0)"
      ]
     },
     "metadata": {},
     "output_type": "display_data"
    },
    {
     "data": {
      "image/png": "[encoded data removed]",
      "text/latex": [
       "$$\\left ( \\pi, \\quad 0\\right )$$"
      ],
      "text/plain": [
       "(π, 0)"
      ]
     },
     "metadata": {},
     "output_type": "display_data"
    },
    {
     "data": {
      "image/png": "[encoded data removed]",
      "text/latex": [
       "$$\\left ( \\frac{2 \\pi}{3}, \\quad \\frac{\\sqrt{3}}{2}\\right )$$"
      ],
      "text/plain": [
       "⎛2⋅π  √3⎞\n",
       "⎜───, ──⎟\n",
       "⎝ 3   2 ⎠"
      ]
     },
     "metadata": {},
     "output_type": "display_data"
    },
    {
     "data": {
      "image/png": "[encoded data removed]",
      "text/latex": [
       "$$\\left ( \\frac{\\pi}{2}, \\quad 1\\right )$$"
      ],
      "text/plain": [
       "⎛π   ⎞\n",
       "⎜─, 1⎟\n",
       "⎝2   ⎠"
      ]
     },
     "metadata": {},
     "output_type": "display_data"
    },
    {
     "data": {
      "image/png": "[encoded data removed]",
      "text/latex": [
       "$$\\left ( \\frac{2 \\pi}{5}, \\quad \\sqrt{\\frac{\\sqrt{5}}{8} + \\frac{5}{8}}\\right )$$"
      ],
      "text/plain": [
       "⎛         ________⎞\n",
       "⎜2⋅π     ╱ √5   5 ⎟\n",
       "⎜───,   ╱  ── + ─ ⎟\n",
       "⎝ 5   ╲╱   8    8 ⎠"
      ]
     },
     "metadata": {},
     "output_type": "display_data"
    },
    {
     "data": {
      "image/png": "[encoded data removed]",
      "text/latex": [
       "$$\\left ( \\frac{\\pi}{3}, \\quad \\frac{\\sqrt{3}}{2}\\right )$$"
      ],
      "text/plain": [
       "⎛π  √3⎞\n",
       "⎜─, ──⎟\n",
       "⎝3  2 ⎠"
      ]
     },
     "metadata": {},
     "output_type": "display_data"
    },
    {
     "data": {
      "image/png": "[encoded data removed]",
      "text/latex": [
       "$$\\left ( \\frac{2 \\pi}{7}, \\quad \\sin{\\left (\\frac{2 \\pi}{7} \\right )}\\right )$$"
      ],
      "text/plain": [
       "⎛2⋅π     ⎛2⋅π⎞⎞\n",
       "⎜───, sin⎜───⎟⎟\n",
       "⎝ 7      ⎝ 7 ⎠⎠"
      ]
     },
     "metadata": {},
     "output_type": "display_data"
    },
    {
     "data": {
      "image/png": "[encoded data removed]",
      "text/latex": [
       "$$\\left ( \\frac{\\pi}{4}, \\quad \\frac{\\sqrt{2}}{2}\\right )$$"
      ],
      "text/plain": [
       "⎛π  √2⎞\n",
       "⎜─, ──⎟\n",
       "⎝4  2 ⎠"
      ]
     },
     "metadata": {},
     "output_type": "display_data"
    },
    {
     "data": {
      "image/png": "[encoded data removed]",
      "text/latex": [
       "$$\\left ( \\frac{2 \\pi}{9}, \\quad \\sin{\\left (\\frac{2 \\pi}{9} \\right )}\\right )$$"
      ],
      "text/plain": [
       "⎛2⋅π     ⎛2⋅π⎞⎞\n",
       "⎜───, sin⎜───⎟⎟\n",
       "⎝ 9      ⎝ 9 ⎠⎠"
      ]
     },
     "metadata": {},
     "output_type": "display_data"
    },
    {
     "data": {
      "image/png": "[encoded data removed]",
      "text/latex": [
       "$$\\left ( \\frac{\\pi}{5}, \\quad \\sqrt{- \\frac{\\sqrt{5}}{8} + \\frac{5}{8}}\\right )$$"
      ],
      "text/plain": [
       "⎛       __________⎞\n",
       "⎜π     ╱   √5   5 ⎟\n",
       "⎜─,   ╱  - ── + ─ ⎟\n",
       "⎝5  ╲╱     8    8 ⎠"
      ]
     },
     "metadata": {},
     "output_type": "display_data"
    }
   ],
   "source": [
    "for j in range(1, 11):\n",
    "    wert = sin(2*pi/j)\n",
    "    display((2*pi/j, wert))"
   ]
  },
  {
   "cell_type": "markdown",
   "metadata": {},
   "source": [
    "## Mehrere Zeichnungen in einem Bild"
   ]
  },
  {
   "cell_type": "code",
   "execution_count": 14,
   "metadata": {
    "collapsed": true
   },
   "outputs": [],
   "source": [
    "x = Symbol('x')\n",
    "y = Symbol('y')"
   ]
  },
  {
   "cell_type": "code",
   "execution_count": 15,
   "metadata": {
    "collapsed": false
   },
   "outputs": [],
   "source": [
    "h = (x**2+y**2)**2 + 3*x**2*y - y**3\n",
    "xn = np.linspace(-1, 1, 200)\n",
    "yn = xn\n",
    "hn = lambdify((x,y), h)\n",
    "X, Y = np.meshgrid(xn, yn)"
   ]
  },
  {
   "cell_type": "code",
   "execution_count": 16,
   "metadata": {
    "collapsed": false
   },
   "outputs": [
    {
     "data": {
      "image/png": "[encoded data removed]",
      "text/plain": [
       "<matplotlib.figure.Figure at 0x7efd2fa5ca20>"
      ]
     },
     "metadata": {},
     "output_type": "display_data"
    }
   ],
   "source": [
    "fig = plt.figure()\n",
    "for j in range(9):\n",
    "    fig.add_subplot(331+j)\n",
    "    plt.contour(X, Y, hn(X, Y), [.001*(j-4)])\n",
    "    plt.axis('equal')\n",
    "    if j % 3 != 0:\n",
    "        plt.yticks([])\n",
    "    if j <= 5:\n",
    "        plt.xticks([])\n",
    "    else:\n",
    "        plt.xticks([-1.0, 0.0, 1.0])\n",
    "fig.savefig('9plots.png')  # pdf geht auch"
   ]
  },
  {
   "cell_type": "code",
   "execution_count": 17,
   "metadata": {
    "collapsed": false
   },
   "outputs": [
    {
     "data": {
      "image/png": "[encoded data removed]",
      "text/plain": [
       "<IPython.core.display.Image object>"
      ]
     },
     "execution_count": 17,
     "metadata": {},
     "output_type": "execute_result"
    }
   ],
   "source": [
    "Image('9plots.png')  # kann pdf nicht anzeigen"
   ]
  },
  {
   "cell_type": "markdown",
   "metadata": {
    "collapsed": true
   },
   "source": [
    "## Funktionen"
   ]
  },
  {
   "cell_type": "code",
   "execution_count": 18,
   "metadata": {
    "collapsed": false
   },
   "outputs": [
    {
     "data": {
      "text/plain": [
       "(x,\n",
       " array([0, 1, 2, 3, 4, 5]),\n",
       " array([ 0.+1.j,  1.+1.j,  2.+1.j,  3.+1.j,  4.+1.j,  5.+1.j]))"
      ]
     },
     "execution_count": 18,
     "metadata": {},
     "output_type": "execute_result"
    }
   ],
   "source": [
    "x = Symbol('x')\n",
    "xn = np.arange(6)\n",
    "zn = 1j + xn\n",
    "x, xn, zn"
   ]
  },
  {
   "cell_type": "code",
   "execution_count": 19,
   "metadata": {
    "collapsed": true
   },
   "outputs": [],
   "source": [
    "def f(x):\n",
    "    return x**3 + 2*x + 15"
   ]
  },
  {
   "cell_type": "code",
   "execution_count": 20,
   "metadata": {
    "collapsed": false
   },
   "outputs": [
    {
     "data": {
      "image/png": "[encoded data removed]",
      "text/latex": [
       "$$15$$"
      ],
      "text/plain": [
       "15"
      ]
     },
     "execution_count": 20,
     "metadata": {},
     "output_type": "execute_result"
    }
   ],
   "source": [
    "f(0)"
   ]
  },
  {
   "cell_type": "code",
   "execution_count": 21,
   "metadata": {
    "collapsed": false
   },
   "outputs": [
    {
     "data": {
      "image/png": "[encoded data removed]",
      "text/latex": [
       "$$15.0$$"
      ],
      "text/plain": [
       "15.0"
      ]
     },
     "execution_count": 21,
     "metadata": {},
     "output_type": "execute_result"
    }
   ],
   "source": [
    "f(0.)"
   ]
  },
  {
   "cell_type": "code",
   "execution_count": 22,
   "metadata": {
    "collapsed": false
   },
   "outputs": [
    {
     "data": {
      "text/plain": [
       "(15+0j)"
      ]
     },
     "execution_count": 22,
     "metadata": {},
     "output_type": "execute_result"
    }
   ],
   "source": [
    "f(0+0j)"
   ]
  },
  {
   "cell_type": "code",
   "execution_count": 23,
   "metadata": {
    "collapsed": false
   },
   "outputs": [
    {
     "data": {
      "image/png": "[encoded data removed]",
      "text/latex": [
       "$$8 x^{3} + 4 x + 15$$"
      ],
      "text/plain": [
       "   3           \n",
       "8⋅x  + 4⋅x + 15"
      ]
     },
     "execution_count": 23,
     "metadata": {},
     "output_type": "execute_result"
    }
   ],
   "source": [
    "f(2*x)"
   ]
  },
  {
   "cell_type": "code",
   "execution_count": 24,
   "metadata": {
    "collapsed": false
   },
   "outputs": [
    {
     "data": {
      "text/plain": [
       "array([ 15,  18,  27,  48,  87, 150])"
      ]
     },
     "execution_count": 24,
     "metadata": {},
     "output_type": "execute_result"
    }
   ],
   "source": [
    "f(xn)"
   ]
  },
  {
   "cell_type": "markdown",
   "metadata": {},
   "source": [
    "Duck typing:  \n",
    "\n",
    "“When I see a bird that walks like a duck and swims like a duck and quacks like a duck, I call that bird a duck.”\n",
    "\n",
    "– James Whitcomb Riley"
   ]
  },
  {
   "cell_type": "code",
   "execution_count": 25,
   "metadata": {
    "collapsed": true
   },
   "outputs": [],
   "source": [
    "def g(x):\n",
    "    return sin(x) + f(x)"
   ]
  },
  {
   "cell_type": "code",
   "execution_count": 26,
   "metadata": {
    "collapsed": false
   },
   "outputs": [
    {
     "data": {
      "image/png": "[encoded data removed]",
      "text/latex": [
       "$$- 8 x^{3} - 4 x - \\sin{\\left (2 x \\right )} + 15$$"
      ],
      "text/plain": [
       "     3                      \n",
       "- 8⋅x  - 4⋅x - sin(2⋅x) + 15"
      ]
     },
     "execution_count": 26,
     "metadata": {},
     "output_type": "execute_result"
    }
   ],
   "source": [
    "g(-2*x)"
   ]
  },
  {
   "cell_type": "code",
   "execution_count": 27,
   "metadata": {
    "collapsed": false
   },
   "outputs": [
    {
     "data": {
      "image/png": "[encoded data removed]",
      "text/latex": [
       "$$2 \\pi + 15 + \\pi^{3}$$"
      ],
      "text/plain": [
       "            3\n",
       "2⋅π + 15 + π "
      ]
     },
     "execution_count": 27,
     "metadata": {},
     "output_type": "execute_result"
    }
   ],
   "source": [
    "g(pi)"
   ]
  },
  {
   "cell_type": "code",
   "execution_count": 28,
   "metadata": {
    "collapsed": false
   },
   "outputs": [
    {
     "data": {
      "image/png": "[encoded data removed]",
      "text/latex": [
       "$$52.2866260519647$$"
      ],
      "text/plain": [
       "52.2866260519647"
      ]
     },
     "execution_count": 28,
     "metadata": {},
     "output_type": "execute_result"
    }
   ],
   "source": [
    "g(3.1415)"
   ]
  },
  {
   "cell_type": "code",
   "execution_count": 29,
   "metadata": {
    "collapsed": false
   },
   "outputs": [],
   "source": [
    "# g(xn)  zeigt einen AttributeError"
   ]
  },
  {
   "cell_type": "code",
   "execution_count": 30,
   "metadata": {
    "collapsed": true
   },
   "outputs": [],
   "source": [
    "def abss(x):\n",
    "    if x > 0:\n",
    "        return x\n",
    "    else:\n",
    "        return -x"
   ]
  },
  {
   "cell_type": "code",
   "execution_count": 31,
   "metadata": {
    "collapsed": false
   },
   "outputs": [
    {
     "data": {
      "image/png": "[encoded data removed]",
      "text/latex": [
       "$$5$$"
      ],
      "text/plain": [
       "5"
      ]
     },
     "execution_count": 31,
     "metadata": {},
     "output_type": "execute_result"
    }
   ],
   "source": [
    "abss(-5)"
   ]
  },
  {
   "cell_type": "code",
   "execution_count": 32,
   "metadata": {
    "collapsed": false
   },
   "outputs": [],
   "source": [
    "# abss(x)  # TypeError"
   ]
  },
  {
   "cell_type": "code",
   "execution_count": 33,
   "metadata": {
    "collapsed": false
   },
   "outputs": [
    {
     "data": {
      "image/png": "[encoded data removed]",
      "text/latex": [
       "$$x_{+}$$"
      ],
      "text/plain": [
       "x₊"
      ]
     },
     "execution_count": 33,
     "metadata": {},
     "output_type": "execute_result"
    }
   ],
   "source": [
    "xp = Symbol('x_+', positive=True)\n",
    "abss(xp)"
   ]
  },
  {
   "cell_type": "markdown",
   "metadata": {},
   "source": [
    "## Zusammenfassen"
   ]
  },
  {
   "cell_type": "code",
   "execution_count": 34,
   "metadata": {
    "collapsed": true
   },
   "outputs": [],
   "source": [
    "x = Symbol('x')"
   ]
  },
  {
   "cell_type": "code",
   "execution_count": 35,
   "metadata": {
    "collapsed": false
   },
   "outputs": [
    {
     "data": {
      "image/png": "[encoded data removed]",
      "text/latex": [
       "$$\\left(x^{4} - 3 x^{2} + 5\\right) e^{x^{2}} \\sin{\\left (x \\right )}$$"
      ],
      "text/plain": [
       "                 ⎛ 2⎞       \n",
       "⎛ 4      2    ⎞  ⎝x ⎠       \n",
       "⎝x  - 3⋅x  + 5⎠⋅ℯ    ⋅sin(x)"
      ]
     },
     "execution_count": 35,
     "metadata": {},
     "output_type": "execute_result"
    }
   ],
   "source": [
    "a = (x**4-3*x**2+5)*exp(x**2)*sin(x)\n",
    "a"
   ]
  },
  {
   "cell_type": "code",
   "execution_count": 36,
   "metadata": {
    "collapsed": false
   },
   "outputs": [
    {
     "data": {
      "image/png": "[encoded data removed]",
      "text/latex": [
       "$$\\left(24 x^{3} \\left(2 x^{2} - 3\\right) \\sin{\\left (x \\right )} + 8 x^{3} \\left(x^{4} - 3 x^{2} + 5\\right) \\sin{\\left (x \\right )} + 24 x^{2} \\left(2 x^{2} - 3\\right) \\cos{\\left (x \\right )} + 12 x^{2} \\left(x^{4} - 3 x^{2} + 5\\right) \\cos{\\left (x \\right )} + 6 x \\left(2 x^{2} - 3\\right) \\sin{\\left (x \\right )} + 36 x \\left(2 x^{2} - 1\\right) \\sin{\\left (x \\right )} + 6 x \\left(x^{4} - 3 x^{2} + 5\\right) \\sin{\\left (x \\right )} + 24 x \\sin{\\left (x \\right )} + 18 \\left(2 x^{2} - 1\\right) \\cos{\\left (x \\right )} + 5 \\left(x^{4} - 3 x^{2} + 5\\right) \\cos{\\left (x \\right )}\\right) e^{x^{2}}$$"
      ],
      "text/plain": [
       "                                                                              \n",
       "⎛    3 ⎛   2    ⎞             3 ⎛ 4      2    ⎞              2 ⎛   2    ⎞     \n",
       "⎝24⋅x ⋅⎝2⋅x  - 3⎠⋅sin(x) + 8⋅x ⋅⎝x  - 3⋅x  + 5⎠⋅sin(x) + 24⋅x ⋅⎝2⋅x  - 3⎠⋅cos(\n",
       "\n",
       "                                                                              \n",
       "         2 ⎛ 4      2    ⎞              ⎛   2    ⎞               ⎛   2    ⎞   \n",
       "x) + 12⋅x ⋅⎝x  - 3⋅x  + 5⎠⋅cos(x) + 6⋅x⋅⎝2⋅x  - 3⎠⋅sin(x) + 36⋅x⋅⎝2⋅x  - 1⎠⋅si\n",
       "\n",
       "                                                                              \n",
       "           ⎛ 4      2    ⎞                           ⎛   2    ⎞            ⎛ 4\n",
       "n(x) + 6⋅x⋅⎝x  - 3⋅x  + 5⎠⋅sin(x) + 24⋅x⋅sin(x) + 18⋅⎝2⋅x  - 1⎠⋅cos(x) + 5⋅⎝x \n",
       "\n",
       "                      ⎛ 2⎞\n",
       "      2    ⎞       ⎞  ⎝x ⎠\n",
       " - 3⋅x  + 5⎠⋅cos(x)⎠⋅ℯ    "
      ]
     },
     "execution_count": 36,
     "metadata": {},
     "output_type": "execute_result"
    }
   ],
   "source": [
    "da = diff(a, x, 3)\n",
    "da"
   ]
  },
  {
   "cell_type": "code",
   "execution_count": 37,
   "metadata": {
    "collapsed": false
   },
   "outputs": [
    {
     "data": {
      "image/png": "[encoded data removed]",
      "text/latex": [
       "$$8 x^{7} e^{x^{2}} \\sin{\\left (x \\right )} + 12 x^{6} e^{x^{2}} \\cos{\\left (x \\right )} + 30 x^{5} e^{x^{2}} \\sin{\\left (x \\right )} + 17 x^{4} e^{x^{2}} \\cos{\\left (x \\right )} + 34 x^{3} e^{x^{2}} \\sin{\\left (x \\right )} + 9 x^{2} e^{x^{2}} \\cos{\\left (x \\right )} + 7 e^{x^{2}} \\cos{\\left (x \\right )}$$"
      ],
      "text/plain": [
       "      ⎛ 2⎞                 ⎛ 2⎞                 ⎛ 2⎞                 ⎛ 2⎞     \n",
       "   7  ⎝x ⎠              6  ⎝x ⎠              5  ⎝x ⎠              4  ⎝x ⎠     \n",
       "8⋅x ⋅ℯ    ⋅sin(x) + 12⋅x ⋅ℯ    ⋅cos(x) + 30⋅x ⋅ℯ    ⋅sin(x) + 17⋅x ⋅ℯ    ⋅cos(\n",
       "\n",
       "            ⎛ 2⎞                ⎛ 2⎞             ⎛ 2⎞       \n",
       "         3  ⎝x ⎠             2  ⎝x ⎠             ⎝x ⎠       \n",
       "x) + 34⋅x ⋅ℯ    ⋅sin(x) + 9⋅x ⋅ℯ    ⋅cos(x) + 7⋅ℯ    ⋅cos(x)"
      ]
     },
     "execution_count": 37,
     "metadata": {},
     "output_type": "execute_result"
    }
   ],
   "source": [
    "da.expand()"
   ]
  },
  {
   "cell_type": "code",
   "execution_count": 38,
   "metadata": {
    "collapsed": false
   },
   "outputs": [
    {
     "data": {
      "image/png": "[encoded data removed]",
      "text/latex": [
       "$$\\left(8 x^{7} \\sin{\\left (x \\right )} + 12 x^{6} \\cos{\\left (x \\right )} + 30 x^{5} \\sin{\\left (x \\right )} + 17 x^{4} \\cos{\\left (x \\right )} + 34 x^{3} \\sin{\\left (x \\right )} + 9 x^{2} \\cos{\\left (x \\right )} + 7 \\cos{\\left (x \\right )}\\right) e^{x^{2}}$$"
      ],
      "text/plain": [
       "                                                                              \n",
       "⎛   7              6              5              4              3             \n",
       "⎝8⋅x ⋅sin(x) + 12⋅x ⋅cos(x) + 30⋅x ⋅sin(x) + 17⋅x ⋅cos(x) + 34⋅x ⋅sin(x) + 9⋅x\n",
       "\n",
       "                      ⎛ 2⎞\n",
       "2                  ⎞  ⎝x ⎠\n",
       " ⋅cos(x) + 7⋅cos(x)⎠⋅ℯ    "
      ]
     },
     "execution_count": 38,
     "metadata": {},
     "output_type": "execute_result"
    }
   ],
   "source": [
    "da.expand().collect(exp(x**2))"
   ]
  },
  {
   "cell_type": "code",
   "execution_count": 39,
   "metadata": {
    "collapsed": false
   },
   "outputs": [
    {
     "data": {
      "image/png": "[encoded data removed]",
      "text/latex": [
       "$$\\left(\\left(8 x^{7} + 30 x^{5} + 34 x^{3}\\right) \\sin{\\left (x \\right )} + \\left(12 x^{6} + 17 x^{4} + 9 x^{2} + 7\\right) \\cos{\\left (x \\right )}\\right) e^{x^{2}}$$"
      ],
      "text/plain": [
       "                                                                     ⎛ 2⎞\n",
       "⎛⎛   7       5       3⎞          ⎛    6       4      2    ⎞       ⎞  ⎝x ⎠\n",
       "⎝⎝8⋅x  + 30⋅x  + 34⋅x ⎠⋅sin(x) + ⎝12⋅x  + 17⋅x  + 9⋅x  + 7⎠⋅cos(x)⎠⋅ℯ    "
      ]
     },
     "execution_count": 39,
     "metadata": {},
     "output_type": "execute_result"
    }
   ],
   "source": [
    "rcollect(collect(da.expand(), exp(x**2)), cos(x), sin(x))"
   ]
  },
  {
   "cell_type": "markdown",
   "metadata": {},
   "source": [
    "## Trigonometrische Funktionen"
   ]
  },
  {
   "cell_type": "code",
   "execution_count": 40,
   "metadata": {
    "collapsed": true
   },
   "outputs": [],
   "source": [
    "x = Symbol('x')\n",
    "y = Symbol('y')"
   ]
  },
  {
   "cell_type": "code",
   "execution_count": 41,
   "metadata": {
    "collapsed": false
   },
   "outputs": [],
   "source": [
    "a = cos(x+y)"
   ]
  },
  {
   "cell_type": "code",
   "execution_count": 42,
   "metadata": {
    "collapsed": false
   },
   "outputs": [
    {
     "data": {
      "image/png": "[encoded data removed]",
      "text/latex": [
       "$$- \\sin{\\left (x \\right )} \\sin{\\left (y \\right )} + \\cos{\\left (x \\right )} \\cos{\\left (y \\right )}$$"
      ],
      "text/plain": [
       "-sin(x)⋅sin(y) + cos(x)⋅cos(y)"
      ]
     },
     "execution_count": 42,
     "metadata": {},
     "output_type": "execute_result"
    }
   ],
   "source": [
    "A = expand(a, trig=True)\n",
    "A"
   ]
  },
  {
   "cell_type": "code",
   "execution_count": 43,
   "metadata": {
    "collapsed": false
   },
   "outputs": [
    {
     "data": {
      "image/png": "[encoded data removed]",
      "text/latex": [
       "$$\\cos{\\left (x + y \\right )}$$"
      ],
      "text/plain": [
       "cos(x + y)"
      ]
     },
     "execution_count": 43,
     "metadata": {},
     "output_type": "execute_result"
    }
   ],
   "source": [
    "trigsimp(A)"
   ]
  },
  {
   "cell_type": "code",
   "execution_count": 44,
   "metadata": {
    "collapsed": false
   },
   "outputs": [
    {
     "data": {
      "image/png": "[encoded data removed]",
      "text/latex": [
       "$$\\tan^{2}{\\left (x \\right )} + 1$$"
      ],
      "text/plain": [
       "   2       \n",
       "tan (x) + 1"
      ]
     },
     "execution_count": 44,
     "metadata": {},
     "output_type": "execute_result"
    }
   ],
   "source": [
    "c = tan(x)**2 + 1\n",
    "c"
   ]
  },
  {
   "cell_type": "code",
   "execution_count": 45,
   "metadata": {
    "collapsed": false
   },
   "outputs": [
    {
     "data": {
      "image/png": "[encoded data removed]",
      "text/latex": [
       "$$\\frac{1}{\\cos^{2}{\\left (x \\right )}}$$"
      ],
      "text/plain": [
       "   1   \n",
       "───────\n",
       "   2   \n",
       "cos (x)"
      ]
     },
     "execution_count": 45,
     "metadata": {},
     "output_type": "execute_result"
    }
   ],
   "source": [
    "c.trigsimp()"
   ]
  },
  {
   "cell_type": "code",
   "execution_count": 46,
   "metadata": {
    "collapsed": false
   },
   "outputs": [
    {
     "data": {
      "image/png": "[encoded data removed]",
      "text/latex": [
       "$$\\tan{\\left (3 x \\right )}$$"
      ],
      "text/plain": [
       "tan(3⋅x)"
      ]
     },
     "execution_count": 46,
     "metadata": {},
     "output_type": "execute_result"
    }
   ],
   "source": [
    "d = tan(3*x)\n",
    "d.simplify()"
   ]
  },
  {
   "cell_type": "code",
   "execution_count": 47,
   "metadata": {
    "collapsed": false
   },
   "outputs": [
    {
     "data": {
      "image/png": "[encoded data removed]",
      "text/latex": [
       "$$- \\frac{\\tan^{3}{\\left (x \\right )}}{- 3 \\tan^{2}{\\left (x \\right )} + 1} + \\frac{3 \\tan{\\left (x \\right )}}{- 3 \\tan^{2}{\\left (x \\right )} + 1}$$"
      ],
      "text/plain": [
       "         3                         \n",
       "      tan (x)           3⋅tan(x)   \n",
       "- ─────────────── + ───────────────\n",
       "         2                 2       \n",
       "  - 3⋅tan (x) + 1   - 3⋅tan (x) + 1"
      ]
     },
     "execution_count": 47,
     "metadata": {},
     "output_type": "execute_result"
    }
   ],
   "source": [
    "d.expand(trig=True)"
   ]
  },
  {
   "cell_type": "code",
   "execution_count": 48,
   "metadata": {
    "collapsed": false
   },
   "outputs": [
    {
     "data": {
      "image/png": "[encoded data removed]",
      "text/latex": [
       "$$\\frac{1}{3} \\tan{\\left (x \\right )} - \\frac{8 \\tan{\\left (x \\right )}}{9 \\tan^{2}{\\left (x \\right )} - 3}$$"
      ],
      "text/plain": [
       "tan(x)      8⋅tan(x)  \n",
       "────── - ─────────────\n",
       "  3           2       \n",
       "         9⋅tan (x) - 3"
      ]
     },
     "execution_count": 48,
     "metadata": {},
     "output_type": "execute_result"
    }
   ],
   "source": [
    "d.expand(trig=True).ratsimp()"
   ]
  },
  {
   "cell_type": "markdown",
   "metadata": {},
   "source": [
    "## benutzerspezifische trigonometrische Vereinfachungen"
   ]
  },
  {
   "cell_type": "code",
   "execution_count": 49,
   "metadata": {
    "collapsed": false
   },
   "outputs": [
    {
     "data": {
      "image/png": "[encoded data removed]",
      "text/latex": [
       "$$\\sin{\\left (x \\right )} + \\sin{\\left (y \\right )}$$"
      ],
      "text/plain": [
       "sin(x) + sin(y)"
      ]
     },
     "execution_count": 49,
     "metadata": {},
     "output_type": "execute_result"
    }
   ],
   "source": [
    "b = sin(x) + sin(y)\n",
    "b"
   ]
  },
  {
   "cell_type": "code",
   "execution_count": 50,
   "metadata": {
    "collapsed": false
   },
   "outputs": [
    {
     "data": {
      "image/png": "[encoded data removed]",
      "text/latex": [
       "$$\\sin{\\left (x \\right )} + \\sin{\\left (y \\right )}$$"
      ],
      "text/plain": [
       "sin(x) + sin(y)"
      ]
     },
     "execution_count": 50,
     "metadata": {},
     "output_type": "execute_result"
    }
   ],
   "source": [
    "b.trigsimp(method='fu')"
   ]
  },
  {
   "cell_type": "markdown",
   "metadata": {},
   "source": [
    "Wie kompliziert ist dieser Ausdruck?"
   ]
  },
  {
   "cell_type": "code",
   "execution_count": 51,
   "metadata": {
    "collapsed": false
   },
   "outputs": [
    {
     "data": {
      "image/png": "[encoded data removed]",
      "text/latex": [
       "$$ADD + 2 SIN$$"
      ],
      "text/plain": [
       "ADD + 2⋅SIN"
      ]
     },
     "execution_count": 51,
     "metadata": {},
     "output_type": "execute_result"
    }
   ],
   "source": [
    "b.count_ops(visual=True)\n",
    "    "
   ]
  },
  {
   "cell_type": "code",
   "execution_count": 52,
   "metadata": {
    "collapsed": false
   },
   "outputs": [],
   "source": [
    "def my_measure(expr):\n",
    "    opc = expr.count_ops(visual=True)\n",
    "#    print(opc)   # zur Fehlersuche\n",
    "    wert = {}\n",
    "    wert['ADD'] = 1\n",
    "    wert['SIN'] = 1\n",
    "    wert['MUL'] = -100\n",
    "    return opc.subs(wert)"
   ]
  },
  {
   "cell_type": "code",
   "execution_count": 53,
   "metadata": {
    "collapsed": false
   },
   "outputs": [
    {
     "data": {
      "image/png": "[encoded data removed]",
      "text/latex": [
       "$$3$$"
      ],
      "text/plain": [
       "3"
      ]
     },
     "execution_count": 53,
     "metadata": {},
     "output_type": "execute_result"
    }
   ],
   "source": [
    "my_measure(b)"
   ]
  },
  {
   "cell_type": "code",
   "execution_count": 54,
   "metadata": {
    "collapsed": false,
    "scrolled": true
   },
   "outputs": [],
   "source": [
    "# b.trigsimp(method='fu', measure=my_measure) # TypeError"
   ]
  },
  {
   "cell_type": "code",
   "execution_count": 55,
   "metadata": {
    "collapsed": true
   },
   "outputs": [],
   "source": [
    "def my_measure(expr):\n",
    "    opc = expr.count_ops(visual=True)\n",
    "    wert = {}\n",
    "    wert['ADD'] = 1\n",
    "    wert['SIN'] = 1\n",
    "    wert['MUL'] = -100\n",
    "    wert['COS'] = 1\n",
    "    wert['DIV'] = 1 \n",
    "    wert['SUB'] = 1\n",
    "    return opc.subs(wert)"
   ]
  },
  {
   "cell_type": "code",
   "execution_count": 56,
   "metadata": {
    "collapsed": false
   },
   "outputs": [
    {
     "data": {
      "image/png": "[encoded data removed]",
      "text/latex": [
       "$$2 \\sin{\\left (\\frac{x}{2} + \\frac{y}{2} \\right )} \\cos{\\left (\\frac{x}{2} - \\frac{y}{2} \\right )}$$"
      ],
      "text/plain": [
       "     ⎛x   y⎞    ⎛x   y⎞\n",
       "2⋅sin⎜─ + ─⎟⋅cos⎜─ - ─⎟\n",
       "     ⎝2   2⎠    ⎝2   2⎠"
      ]
     },
     "execution_count": 56,
     "metadata": {},
     "output_type": "execute_result"
    }
   ],
   "source": [
    "b.trigsimp(method='fu', measure=my_measure)"
   ]
  },
  {
   "cell_type": "code",
   "execution_count": 57,
   "metadata": {
    "collapsed": false
   },
   "outputs": [
    {
     "data": {
      "image/png": "[encoded data removed]",
      "text/latex": [
       "$$\\tan{\\left (x \\right )} + \\cot{\\left (y \\right )}$$"
      ],
      "text/plain": [
       "tan(x) + cot(y)"
      ]
     },
     "execution_count": 57,
     "metadata": {},
     "output_type": "execute_result"
    }
   ],
   "source": [
    "e = tan(x) + cot(y)\n",
    "e.simplify()"
   ]
  },
  {
   "cell_type": "code",
   "execution_count": 58,
   "metadata": {
    "collapsed": true
   },
   "outputs": [],
   "source": [
    "def my_measure(expr):\n",
    "    opc = expr.count_ops(visual=True)\n",
    "#    print(opc)   # zur Fehlersuche\n",
    "    wert = {}\n",
    "    wert['ADD'] = 1\n",
    "    wert['SIN'] = 1\n",
    "    wert['COS'] = 1\n",
    "    wert['TAN'] = 100 \n",
    "    wert['COT'] = 100\n",
    "    return opc.subs(wert)"
   ]
  },
  {
   "cell_type": "code",
   "execution_count": 59,
   "metadata": {
    "collapsed": false
   },
   "outputs": [],
   "source": [
    "# e.trigsimp(method='fu', measure=my_measure) # TypeError"
   ]
  },
  {
   "cell_type": "code",
   "execution_count": 60,
   "metadata": {
    "collapsed": true
   },
   "outputs": [],
   "source": [
    "def my_measure(expr):\n",
    "    opc = expr.count_ops(visual=True)\n",
    "    wert = {}\n",
    "    wert['ADD'] = 1\n",
    "    wert['SIN'] = 1\n",
    "    wert['COS'] = 1\n",
    "    wert['TAN'] = 100\n",
    "    wert['COT'] = 100\n",
    "    wert['DIV'] = 1\n",
    "    return opc.subs(wert)"
   ]
  },
  {
   "cell_type": "code",
   "execution_count": 61,
   "metadata": {
    "collapsed": false
   },
   "outputs": [
    {
     "data": {
      "image/png": "[encoded data removed]",
      "text/latex": [
       "$$\\frac{\\sin{\\left (x \\right )}}{\\cos{\\left (x \\right )}} + \\frac{\\cos{\\left (y \\right )}}{\\sin{\\left (y \\right )}}$$"
      ],
      "text/plain": [
       "sin(x)   cos(y)\n",
       "────── + ──────\n",
       "cos(x)   sin(y)"
      ]
     },
     "execution_count": 61,
     "metadata": {},
     "output_type": "execute_result"
    }
   ],
   "source": [
    "e1 = e.trigsimp(method='fu', measure=my_measure)\n",
    "e1"
   ]
  },
  {
   "cell_type": "code",
   "execution_count": 62,
   "metadata": {
    "collapsed": false
   },
   "outputs": [
    {
     "data": {
      "image/png": "[encoded data removed]",
      "text/latex": [
       "$$\\frac{1}{\\sin{\\left (y \\right )} \\cos{\\left (x \\right )}} \\left(\\sin{\\left (x \\right )} \\sin{\\left (y \\right )} + \\cos{\\left (x \\right )} \\cos{\\left (y \\right )}\\right)$$"
      ],
      "text/plain": [
       "sin(x)⋅sin(y) + cos(x)⋅cos(y)\n",
       "─────────────────────────────\n",
       "        sin(y)⋅cos(x)        "
      ]
     },
     "execution_count": 62,
     "metadata": {},
     "output_type": "execute_result"
    }
   ],
   "source": [
    "e2 = e1.ratsimp()\n",
    "e2"
   ]
  },
  {
   "cell_type": "code",
   "execution_count": 63,
   "metadata": {
    "collapsed": false
   },
   "outputs": [
    {
     "data": {
      "image/png": "[encoded data removed]",
      "text/latex": [
       "$$\\tan{\\left (x \\right )} + \\frac{1}{\\tan{\\left (y \\right )}}$$"
      ],
      "text/plain": [
       "           1   \n",
       "tan(x) + ──────\n",
       "         tan(y)"
      ]
     },
     "execution_count": 63,
     "metadata": {},
     "output_type": "execute_result"
    }
   ],
   "source": [
    "e2.trigsimp()"
   ]
  },
  {
   "cell_type": "code",
   "execution_count": 64,
   "metadata": {
    "collapsed": false
   },
   "outputs": [
    {
     "data": {
      "image/png": "[encoded data removed]",
      "text/latex": [
       "$$\\frac{\\cos{\\left (x - y \\right )}}{\\sin{\\left (y \\right )} \\cos{\\left (x \\right )}}$$"
      ],
      "text/plain": [
       "  cos(x - y) \n",
       "─────────────\n",
       "sin(y)⋅cos(x)"
      ]
     },
     "execution_count": 64,
     "metadata": {},
     "output_type": "execute_result"
    }
   ],
   "source": [
    "num, den = numer(e2), denom(e2)\n",
    "num1 = num.trigsimp()\n",
    "num1/den"
   ]
  },
  {
   "cell_type": "markdown",
   "metadata": {},
   "source": [
    "## Potenzfunktionen"
   ]
  },
  {
   "cell_type": "code",
   "execution_count": 65,
   "metadata": {
    "collapsed": true
   },
   "outputs": [],
   "source": [
    "f = x**Rational(1,3)"
   ]
  },
  {
   "cell_type": "code",
   "execution_count": 66,
   "metadata": {
    "collapsed": false
   },
   "outputs": [
    {
     "data": {
      "image/png": "[encoded data removed]",
      "text/plain": [
       "<matplotlib.figure.Figure at 0x7efd2cd16eb8>"
      ]
     },
     "metadata": {},
     "output_type": "display_data"
    }
   ],
   "source": [
    "plot(f, (x, -1, 1));"
   ]
  },
  {
   "cell_type": "code",
   "execution_count": 67,
   "metadata": {
    "collapsed": false
   },
   "outputs": [
    {
     "data": {
      "image/png": "[encoded data removed]",
      "text/latex": [
       "$$\\sqrt[3]{-1}$$"
      ],
      "text/plain": [
       "3 ____\n",
       "╲╱ -1 "
      ]
     },
     "execution_count": 67,
     "metadata": {},
     "output_type": "execute_result"
    }
   ],
   "source": [
    "z = f.subs(x, -1)\n",
    "z"
   ]
  },
  {
   "cell_type": "code",
   "execution_count": 68,
   "metadata": {
    "collapsed": false
   },
   "outputs": [
    {
     "data": {
      "image/png": "[encoded data removed]",
      "text/latex": [
       "$$\\frac{1}{2} + \\frac{\\sqrt{3} i}{2}$$"
      ],
      "text/plain": [
       "1   √3⋅ⅈ\n",
       "─ + ────\n",
       "2    2  "
      ]
     },
     "execution_count": 68,
     "metadata": {},
     "output_type": "execute_result"
    }
   ],
   "source": [
    "expand(z, complex=True)"
   ]
  },
  {
   "cell_type": "code",
   "execution_count": 69,
   "metadata": {
    "collapsed": false
   },
   "outputs": [
    {
     "data": {
      "image/png": "[encoded data removed]",
      "text/latex": [
       "$$\\frac{1}{2} + \\frac{\\sqrt{3} i}{2}$$"
      ],
      "text/plain": [
       "1   √3⋅ⅈ\n",
       "─ + ────\n",
       "2    2  "
      ]
     },
     "execution_count": 69,
     "metadata": {},
     "output_type": "execute_result"
    }
   ],
   "source": [
    "expand(exp(pi*I/3), complex=True)"
   ]
  },
  {
   "cell_type": "code",
   "execution_count": 70,
   "metadata": {
    "collapsed": false
   },
   "outputs": [
    {
     "data": {
      "image/png": "[encoded data removed]",
      "text/latex": [
       "$$\\sqrt[3]{\\left|{x}\\right|} \\operatorname{sign}{\\left (x \\right )}$$"
      ],
      "text/plain": [
       "3 _____        \n",
       "╲╱ │x│ ⋅sign(x)"
      ]
     },
     "execution_count": 70,
     "metadata": {},
     "output_type": "execute_result"
    }
   ],
   "source": [
    "g = sign(x)*abs(x)**Rational(1,3)\n",
    "g"
   ]
  },
  {
   "cell_type": "code",
   "execution_count": 71,
   "metadata": {
    "collapsed": false
   },
   "outputs": [
    {
     "data": {
      "image/png": "[encoded data removed]",
      "text/plain": [
       "<matplotlib.figure.Figure at 0x7efd2cce42e8>"
      ]
     },
     "metadata": {},
     "output_type": "display_data"
    }
   ],
   "source": [
    "plot(g, (x,-1,1));"
   ]
  }
 ],
 "metadata": {
  "anaconda-cloud": {},
  "kernelspec": {
   "display_name": "Python [conda env:compana16]",
   "language": "python",
   "name": "conda-env-compana16-py"
  },
  "language_info": {
   "codemirror_mode": {
    "name": "ipython",
    "version": 3
   },
   "file_extension": ".py",
   "mimetype": "text/x-python",
   "name": "python",
   "nbconvert_exporter": "python",
   "pygments_lexer": "ipython3",
   "version": "3.5.2"
  }
 },
 "nbformat": 4,
 "nbformat_minor": 1
}
