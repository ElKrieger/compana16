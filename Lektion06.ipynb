{
 "cells": [
  {
   "cell_type": "markdown",
   "metadata": {},
   "source": [
    "# Lektion 6"
   ]
  },
  {
   "cell_type": "code",
   "execution_count": 1,
   "metadata": {
    "collapsed": true
   },
   "outputs": [],
   "source": [
    "from sympy import *\n",
    "init_printing()\n",
    "import numpy as np\n",
    "import matplotlib.pyplot as plt"
   ]
  },
  {
   "cell_type": "markdown",
   "metadata": {},
   "source": [
    "interaktiv"
   ]
  },
  {
   "cell_type": "code",
   "execution_count": 2,
   "metadata": {
    "collapsed": true
   },
   "outputs": [],
   "source": [
    "#%matplotlib notebook"
   ]
  },
  {
   "cell_type": "markdown",
   "metadata": {},
   "source": [
    "für den Druck"
   ]
  },
  {
   "cell_type": "code",
   "execution_count": 3,
   "metadata": {
    "collapsed": false
   },
   "outputs": [],
   "source": [
    "%matplotlib inline "
   ]
  },
  {
   "cell_type": "markdown",
   "metadata": {},
   "source": [
    "## Schleifen"
   ]
  },
  {
   "cell_type": "markdown",
   "metadata": {},
   "source": [
    "Python beachtet Leerzeichen"
   ]
  },
  {
   "cell_type": "code",
   "execution_count": null,
   "metadata": {
    "collapsed": false
   },
   "outputs": [],
   "source": [
    "summe = 0\n",
    "for j in range(10):\n",
    "    summe = summe + j\n",
    "summe"
   ]
  },
  {
   "cell_type": "markdown",
   "metadata": {},
   "source": [
    "Probe"
   ]
  },
  {
   "cell_type": "code",
   "execution_count": null,
   "metadata": {
    "collapsed": false
   },
   "outputs": [],
   "source": [
    "np.arange(10).sum()"
   ]
  },
  {
   "cell_type": "code",
   "execution_count": null,
   "metadata": {
    "collapsed": false
   },
   "outputs": [],
   "source": [
    "for j in range(1, 6):\n",
    "    wert = sin(2*pi/j)\n",
    "    print(wert)"
   ]
  },
  {
   "cell_type": "code",
   "execution_count": null,
   "metadata": {
    "collapsed": false
   },
   "outputs": [],
   "source": [
    "from IPython.display import display, Image"
   ]
  },
  {
   "cell_type": "code",
   "execution_count": null,
   "metadata": {
    "collapsed": false
   },
   "outputs": [],
   "source": [
    "for j in range(1, 11):\n",
    "    wert = sin(2*pi/j)\n",
    "    display((2*pi/j, wert))"
   ]
  },
  {
   "cell_type": "markdown",
   "metadata": {},
   "source": [
    "## Mehrere Zeichnungen in einem Bild"
   ]
  },
  {
   "cell_type": "code",
   "execution_count": null,
   "metadata": {
    "collapsed": false
   },
   "outputs": [],
   "source": [
    "fig = plt.figure()\n",
    "for j in range(4):\n",
    "    ax = fig.add_subplot(221+j)\n",
    "    ax.contour(X, Y, hn(X, Y), [.005*(j-2)])\n",
    "    ax.set_aspect('equal')\n",
    "fig.savefig('dateiname.png')"
   ]
  },
  {
   "cell_type": "code",
   "execution_count": null,
   "metadata": {
    "collapsed": false
   },
   "outputs": [],
   "source": [
    "Image('dateiname.png')"
   ]
  },
  {
   "cell_type": "markdown",
   "metadata": {
    "collapsed": true
   },
   "source": [
    "## Funktionen"
   ]
  },
  {
   "cell_type": "code",
   "execution_count": 4,
   "metadata": {
    "collapsed": false
   },
   "outputs": [
    {
     "data": {
      "text/plain": [
       "(x,\n",
       " array([0, 1, 2, 3, 4, 5]),\n",
       " array([ 0.+1.j,  1.+1.j,  2.+1.j,  3.+1.j,  4.+1.j,  5.+1.j]))"
      ]
     },
     "execution_count": 4,
     "metadata": {},
     "output_type": "execute_result"
    }
   ],
   "source": [
    "x = Symbol('x')\n",
    "xn = np.arange(6)\n",
    "zn = 1j + xn\n",
    "x, xn, zn"
   ]
  },
  {
   "cell_type": "code",
   "execution_count": 5,
   "metadata": {
    "collapsed": true
   },
   "outputs": [],
   "source": [
    "def f(x):\n",
    "    return x**3 + 2*x + 15"
   ]
  },
  {
   "cell_type": "code",
   "execution_count": 6,
   "metadata": {
    "collapsed": false
   },
   "outputs": [
    {
     "data": {
      "image/png": "[encoded data removed]",
      "text/latex": [
       "$$15$$"
      ],
      "text/plain": [
       "15"
      ]
     },
     "execution_count": 6,
     "metadata": {},
     "output_type": "execute_result"
    }
   ],
   "source": [
    "f(0)"
   ]
  },
  {
   "cell_type": "code",
   "execution_count": 7,
   "metadata": {
    "collapsed": false
   },
   "outputs": [
    {
     "data": {
      "image/png": "[encoded data removed]",
      "text/latex": [
       "$$15.0$$"
      ],
      "text/plain": [
       "15.0"
      ]
     },
     "execution_count": 7,
     "metadata": {},
     "output_type": "execute_result"
    }
   ],
   "source": [
    "f(0.)"
   ]
  },
  {
   "cell_type": "code",
   "execution_count": 8,
   "metadata": {
    "collapsed": false
   },
   "outputs": [
    {
     "data": {
      "text/plain": [
       "(15+0j)"
      ]
     },
     "execution_count": 8,
     "metadata": {},
     "output_type": "execute_result"
    }
   ],
   "source": [
    "f(0+0j)"
   ]
  },
  {
   "cell_type": "code",
   "execution_count": 9,
   "metadata": {
    "collapsed": false
   },
   "outputs": [
    {
     "data": {
      "image/png": "[encoded data removed]",
      "text/latex": [
       "$$8 x^{3} + 4 x + 15$$"
      ],
      "text/plain": [
       "   3           \n",
       "8⋅x  + 4⋅x + 15"
      ]
     },
     "execution_count": 9,
     "metadata": {},
     "output_type": "execute_result"
    }
   ],
   "source": [
    "f(2*x)"
   ]
  },
  {
   "cell_type": "code",
   "execution_count": 10,
   "metadata": {
    "collapsed": false
   },
   "outputs": [
    {
     "data": {
      "text/plain": [
       "array([ 15,  18,  27,  48,  87, 150])"
      ]
     },
     "execution_count": 10,
     "metadata": {},
     "output_type": "execute_result"
    }
   ],
   "source": [
    "f(xn)"
   ]
  },
  {
   "cell_type": "markdown",
   "metadata": {},
   "source": [
    "Duck typing:  \n",
    "\n",
    "“When I see a bird that walks like a duck and swims like a duck and quacks like a duck, I call that bird a duck.”\n",
    "\n",
    "– James Whitcomb Riley"
   ]
  },
  {
   "cell_type": "code",
   "execution_count": 11,
   "metadata": {
    "collapsed": true
   },
   "outputs": [],
   "source": [
    "def g(x):\n",
    "    return sin(x) + f(x)"
   ]
  },
  {
   "cell_type": "code",
   "execution_count": 12,
   "metadata": {
    "collapsed": false
   },
   "outputs": [
    {
     "data": {
      "image/png": "[encoded data removed]",
      "text/latex": [
       "$$- 8 x^{3} - 4 x - \\sin{\\left (2 x \\right )} + 15$$"
      ],
      "text/plain": [
       "     3                      \n",
       "- 8⋅x  - 4⋅x - sin(2⋅x) + 15"
      ]
     },
     "execution_count": 12,
     "metadata": {},
     "output_type": "execute_result"
    }
   ],
   "source": [
    "g(-2*x)"
   ]
  },
  {
   "cell_type": "code",
   "execution_count": 13,
   "metadata": {
    "collapsed": false
   },
   "outputs": [
    {
     "data": {
      "image/png": "[encoded data removed]",
      "text/latex": [
       "$$2 \\pi + 15 + \\pi^{3}$$"
      ],
      "text/plain": [
       "            3\n",
       "2⋅π + 15 + π "
      ]
     },
     "execution_count": 13,
     "metadata": {},
     "output_type": "execute_result"
    }
   ],
   "source": [
    "g(pi)"
   ]
  },
  {
   "cell_type": "code",
   "execution_count": 14,
   "metadata": {
    "collapsed": false
   },
   "outputs": [
    {
     "data": {
      "image/png": "[encoded data removed]",
      "text/latex": [
       "$$52.2866260519647$$"
      ],
      "text/plain": [
       "52.2866260519647"
      ]
     },
     "execution_count": 14,
     "metadata": {},
     "output_type": "execute_result"
    }
   ],
   "source": [
    "g(3.1415)"
   ]
  },
  {
   "cell_type": "code",
   "execution_count": 15,
   "metadata": {
    "collapsed": false
   },
   "outputs": [],
   "source": [
    "# g(xn)  zeigt einen AttributeError"
   ]
  },
  {
   "cell_type": "code",
   "execution_count": 16,
   "metadata": {
    "collapsed": false
   },
   "outputs": [],
   "source": [
    "def h(x):\n",
    "    try:\n",
    "        res = g(x)\n",
    "    except AttributeError:\n",
    "        res = np.sin(x) + f(x)\n",
    "    return res"
   ]
  },
  {
   "cell_type": "code",
   "execution_count": 17,
   "metadata": {
    "collapsed": false
   },
   "outputs": [
    {
     "data": {
      "image/png": "[encoded data removed]",
      "text/latex": [
       "$$2 \\pi + 15 + \\pi^{3}$$"
      ],
      "text/plain": [
       "            3\n",
       "2⋅π + 15 + π "
      ]
     },
     "execution_count": 17,
     "metadata": {},
     "output_type": "execute_result"
    }
   ],
   "source": [
    "h(pi)"
   ]
  },
  {
   "cell_type": "code",
   "execution_count": 18,
   "metadata": {
    "collapsed": false
   },
   "outputs": [
    {
     "name": "stderr",
     "output_type": "stream",
     "text": [
      "/az076/anaconda3/envs/compana16/lib/python3.5/site-packages/sympy/core/sympify.py:282: VisibleDeprecationWarning: using a non-integer number instead of an integer will result in an error in the future\n",
      "  rational=rational) for x in a])\n"
     ]
    },
    {
     "data": {
      "text/plain": [
       "array([  15.        ,   18.84147098,   27.90929743,   48.14112001,\n",
       "         86.2431975 ,  149.04107573])"
      ]
     },
     "execution_count": 18,
     "metadata": {},
     "output_type": "execute_result"
    }
   ],
   "source": [
    "h(xn)"
   ]
  },
  {
   "cell_type": "code",
   "execution_count": 19,
   "metadata": {
    "collapsed": true
   },
   "outputs": [],
   "source": [
    "def abss(x):\n",
    "    if x > 0:\n",
    "        return x\n",
    "    else:\n",
    "        return -x"
   ]
  },
  {
   "cell_type": "code",
   "execution_count": 20,
   "metadata": {
    "collapsed": false
   },
   "outputs": [
    {
     "data": {
      "image/png": "[encoded data removed]",
      "text/latex": [
       "$$5$$"
      ],
      "text/plain": [
       "5"
      ]
     },
     "execution_count": 20,
     "metadata": {},
     "output_type": "execute_result"
    }
   ],
   "source": [
    "abss(-5)"
   ]
  },
  {
   "cell_type": "code",
   "execution_count": 21,
   "metadata": {
    "collapsed": false
   },
   "outputs": [],
   "source": [
    "# abss(x)  # TypeError"
   ]
  },
  {
   "cell_type": "markdown",
   "metadata": {},
   "source": [
    "## Zusammenfassen"
   ]
  },
  {
   "cell_type": "code",
   "execution_count": 22,
   "metadata": {
    "collapsed": true
   },
   "outputs": [],
   "source": [
    "x = Symbol('x')"
   ]
  },
  {
   "cell_type": "code",
   "execution_count": 23,
   "metadata": {
    "collapsed": false
   },
   "outputs": [
    {
     "data": {
      "image/png": "[encoded data removed]",
      "text/latex": [
       "$$\\left(x^{4} - 3 x^{2} + 5\\right) e^{x^{2}} \\sin{\\left (x \\right )}$$"
      ],
      "text/plain": [
       "                 ⎛ 2⎞       \n",
       "⎛ 4      2    ⎞  ⎝x ⎠       \n",
       "⎝x  - 3⋅x  + 5⎠⋅ℯ    ⋅sin(x)"
      ]
     },
     "execution_count": 23,
     "metadata": {},
     "output_type": "execute_result"
    }
   ],
   "source": [
    "a = (x**4-3*x**2+5)*exp(x**2)*sin(x)\n",
    "a"
   ]
  },
  {
   "cell_type": "code",
   "execution_count": 24,
   "metadata": {
    "collapsed": false
   },
   "outputs": [
    {
     "data": {
      "image/png": "[encoded data removed]",
      "text/latex": [
       "$$\\left(24 x^{3} \\left(2 x^{2} - 3\\right) \\sin{\\left (x \\right )} + 8 x^{3} \\left(x^{4} - 3 x^{2} + 5\\right) \\sin{\\left (x \\right )} + 24 x^{2} \\left(2 x^{2} - 3\\right) \\cos{\\left (x \\right )} + 12 x^{2} \\left(x^{4} - 3 x^{2} + 5\\right) \\cos{\\left (x \\right )} + 6 x \\left(2 x^{2} - 3\\right) \\sin{\\left (x \\right )} + 36 x \\left(2 x^{2} - 1\\right) \\sin{\\left (x \\right )} + 6 x \\left(x^{4} - 3 x^{2} + 5\\right) \\sin{\\left (x \\right )} + 24 x \\sin{\\left (x \\right )} + 18 \\left(2 x^{2} - 1\\right) \\cos{\\left (x \\right )} + 5 \\left(x^{4} - 3 x^{2} + 5\\right) \\cos{\\left (x \\right )}\\right) e^{x^{2}}$$"
      ],
      "text/plain": [
       "                                                                              \n",
       "⎛    3 ⎛   2    ⎞             3 ⎛ 4      2    ⎞              2 ⎛   2    ⎞     \n",
       "⎝24⋅x ⋅⎝2⋅x  - 3⎠⋅sin(x) + 8⋅x ⋅⎝x  - 3⋅x  + 5⎠⋅sin(x) + 24⋅x ⋅⎝2⋅x  - 3⎠⋅cos(\n",
       "\n",
       "                                                                              \n",
       "         2 ⎛ 4      2    ⎞              ⎛   2    ⎞               ⎛   2    ⎞   \n",
       "x) + 12⋅x ⋅⎝x  - 3⋅x  + 5⎠⋅cos(x) + 6⋅x⋅⎝2⋅x  - 3⎠⋅sin(x) + 36⋅x⋅⎝2⋅x  - 1⎠⋅si\n",
       "\n",
       "                                                                              \n",
       "           ⎛ 4      2    ⎞                           ⎛   2    ⎞            ⎛ 4\n",
       "n(x) + 6⋅x⋅⎝x  - 3⋅x  + 5⎠⋅sin(x) + 24⋅x⋅sin(x) + 18⋅⎝2⋅x  - 1⎠⋅cos(x) + 5⋅⎝x \n",
       "\n",
       "                      ⎛ 2⎞\n",
       "      2    ⎞       ⎞  ⎝x ⎠\n",
       " - 3⋅x  + 5⎠⋅cos(x)⎠⋅ℯ    "
      ]
     },
     "execution_count": 24,
     "metadata": {},
     "output_type": "execute_result"
    }
   ],
   "source": [
    "da = diff(a, x, 3)\n",
    "da"
   ]
  },
  {
   "cell_type": "code",
   "execution_count": 25,
   "metadata": {
    "collapsed": false
   },
   "outputs": [
    {
     "data": {
      "image/png": "[encoded data removed]",
      "text/latex": [
       "$$8 x^{7} e^{x^{2}} \\sin{\\left (x \\right )} + 12 x^{6} e^{x^{2}} \\cos{\\left (x \\right )} + 30 x^{5} e^{x^{2}} \\sin{\\left (x \\right )} + 17 x^{4} e^{x^{2}} \\cos{\\left (x \\right )} + 34 x^{3} e^{x^{2}} \\sin{\\left (x \\right )} + 9 x^{2} e^{x^{2}} \\cos{\\left (x \\right )} + 7 e^{x^{2}} \\cos{\\left (x \\right )}$$"
      ],
      "text/plain": [
       "      ⎛ 2⎞                 ⎛ 2⎞                 ⎛ 2⎞                 ⎛ 2⎞     \n",
       "   7  ⎝x ⎠              6  ⎝x ⎠              5  ⎝x ⎠              4  ⎝x ⎠     \n",
       "8⋅x ⋅ℯ    ⋅sin(x) + 12⋅x ⋅ℯ    ⋅cos(x) + 30⋅x ⋅ℯ    ⋅sin(x) + 17⋅x ⋅ℯ    ⋅cos(\n",
       "\n",
       "            ⎛ 2⎞                ⎛ 2⎞             ⎛ 2⎞       \n",
       "         3  ⎝x ⎠             2  ⎝x ⎠             ⎝x ⎠       \n",
       "x) + 34⋅x ⋅ℯ    ⋅sin(x) + 9⋅x ⋅ℯ    ⋅cos(x) + 7⋅ℯ    ⋅cos(x)"
      ]
     },
     "execution_count": 25,
     "metadata": {},
     "output_type": "execute_result"
    }
   ],
   "source": [
    "da.expand()"
   ]
  },
  {
   "cell_type": "code",
   "execution_count": 26,
   "metadata": {
    "collapsed": false
   },
   "outputs": [
    {
     "data": {
      "image/png": "[encoded data removed]",
      "text/latex": [
       "$$\\left(8 x^{7} \\sin{\\left (x \\right )} + 12 x^{6} \\cos{\\left (x \\right )} + 30 x^{5} \\sin{\\left (x \\right )} + 17 x^{4} \\cos{\\left (x \\right )} + 34 x^{3} \\sin{\\left (x \\right )} + 9 x^{2} \\cos{\\left (x \\right )} + 7 \\cos{\\left (x \\right )}\\right) e^{x^{2}}$$"
      ],
      "text/plain": [
       "                                                                              \n",
       "⎛   7              6              5              4              3             \n",
       "⎝8⋅x ⋅sin(x) + 12⋅x ⋅cos(x) + 30⋅x ⋅sin(x) + 17⋅x ⋅cos(x) + 34⋅x ⋅sin(x) + 9⋅x\n",
       "\n",
       "                      ⎛ 2⎞\n",
       "2                  ⎞  ⎝x ⎠\n",
       " ⋅cos(x) + 7⋅cos(x)⎠⋅ℯ    "
      ]
     },
     "execution_count": 26,
     "metadata": {},
     "output_type": "execute_result"
    }
   ],
   "source": [
    "da.expand().collect(exp(x**2))"
   ]
  },
  {
   "cell_type": "code",
   "execution_count": 27,
   "metadata": {
    "collapsed": false
   },
   "outputs": [
    {
     "data": {
      "image/png": "[encoded data removed]",
      "text/latex": [
       "$$\\left(\\left(8 x^{7} + 30 x^{5} + 34 x^{3}\\right) \\sin{\\left (x \\right )} + \\left(12 x^{6} + 17 x^{4} + 9 x^{2} + 7\\right) \\cos{\\left (x \\right )}\\right) e^{x^{2}}$$"
      ],
      "text/plain": [
       "                                                                     ⎛ 2⎞\n",
       "⎛⎛   7       5       3⎞          ⎛    6       4      2    ⎞       ⎞  ⎝x ⎠\n",
       "⎝⎝8⋅x  + 30⋅x  + 34⋅x ⎠⋅sin(x) + ⎝12⋅x  + 17⋅x  + 9⋅x  + 7⎠⋅cos(x)⎠⋅ℯ    "
      ]
     },
     "execution_count": 27,
     "metadata": {},
     "output_type": "execute_result"
    }
   ],
   "source": [
    "rcollect(collect(da.expand(), exp(x**2)), cos(x), sin(x))"
   ]
  },
  {
   "cell_type": "markdown",
   "metadata": {},
   "source": [
    "## Trigonometrische Funktionen"
   ]
  },
  {
   "cell_type": "code",
   "execution_count": 28,
   "metadata": {
    "collapsed": true
   },
   "outputs": [],
   "source": [
    "x = Symbol('x')\n",
    "y = Symbol('y')"
   ]
  },
  {
   "cell_type": "code",
   "execution_count": 29,
   "metadata": {
    "collapsed": false
   },
   "outputs": [],
   "source": [
    "a = cos(x+y)"
   ]
  },
  {
   "cell_type": "code",
   "execution_count": 30,
   "metadata": {
    "collapsed": false
   },
   "outputs": [
    {
     "data": {
      "image/png": "[encoded data removed]",
      "text/latex": [
       "$$- \\sin{\\left (x \\right )} \\sin{\\left (y \\right )} + \\cos{\\left (x \\right )} \\cos{\\left (y \\right )}$$"
      ],
      "text/plain": [
       "-sin(x)⋅sin(y) + cos(x)⋅cos(y)"
      ]
     },
     "execution_count": 30,
     "metadata": {},
     "output_type": "execute_result"
    }
   ],
   "source": [
    "A = expand(a, trig=True)\n",
    "A"
   ]
  },
  {
   "cell_type": "code",
   "execution_count": 31,
   "metadata": {
    "collapsed": false
   },
   "outputs": [
    {
     "data": {
      "image/png": "[encoded data removed]",
      "text/latex": [
       "$$\\cos{\\left (x + y \\right )}$$"
      ],
      "text/plain": [
       "cos(x + y)"
      ]
     },
     "execution_count": 31,
     "metadata": {},
     "output_type": "execute_result"
    }
   ],
   "source": [
    "trigsimp(A)"
   ]
  },
  {
   "cell_type": "code",
   "execution_count": 32,
   "metadata": {
    "collapsed": false
   },
   "outputs": [
    {
     "data": {
      "image/png": "[encoded data removed]",
      "text/latex": [
       "$$\\sin{\\left (x \\right )} + \\sin{\\left (y \\right )}$$"
      ],
      "text/plain": [
       "sin(x) + sin(y)"
      ]
     },
     "execution_count": 32,
     "metadata": {},
     "output_type": "execute_result"
    }
   ],
   "source": [
    "b = sin(x) + sin(y)\n",
    "b"
   ]
  },
  {
   "cell_type": "code",
   "execution_count": 33,
   "metadata": {
    "collapsed": true
   },
   "outputs": [],
   "source": [
    "from sympy.simplify.fu import TR9, TR2"
   ]
  },
  {
   "cell_type": "code",
   "execution_count": 34,
   "metadata": {
    "collapsed": false
   },
   "outputs": [
    {
     "data": {
      "image/png": "[encoded data removed]",
      "text/latex": [
       "$$2 \\sin{\\left (\\frac{x}{2} + \\frac{y}{2} \\right )} \\cos{\\left (\\frac{x}{2} - \\frac{y}{2} \\right )}$$"
      ],
      "text/plain": [
       "     ⎛x   y⎞    ⎛x   y⎞\n",
       "2⋅sin⎜─ + ─⎟⋅cos⎜─ - ─⎟\n",
       "     ⎝2   2⎠    ⎝2   2⎠"
      ]
     },
     "execution_count": 34,
     "metadata": {},
     "output_type": "execute_result"
    }
   ],
   "source": [
    "TR9(b)"
   ]
  },
  {
   "cell_type": "code",
   "execution_count": 35,
   "metadata": {
    "collapsed": false
   },
   "outputs": [],
   "source": [
    "# TR9??"
   ]
  },
  {
   "cell_type": "code",
   "execution_count": 36,
   "metadata": {
    "collapsed": false
   },
   "outputs": [
    {
     "data": {
      "image/png": "[encoded data removed]",
      "text/latex": [
       "$$\\tan^{2}{\\left (x \\right )} + 1$$"
      ],
      "text/plain": [
       "   2       \n",
       "tan (x) + 1"
      ]
     },
     "execution_count": 36,
     "metadata": {},
     "output_type": "execute_result"
    }
   ],
   "source": [
    "c = tan(x)**2 + 1\n",
    "c"
   ]
  },
  {
   "cell_type": "code",
   "execution_count": 37,
   "metadata": {
    "collapsed": false
   },
   "outputs": [
    {
     "data": {
      "image/png": "[encoded data removed]",
      "text/latex": [
       "$$\\frac{1}{\\cos^{2}{\\left (x \\right )}}$$"
      ],
      "text/plain": [
       "   1   \n",
       "───────\n",
       "   2   \n",
       "cos (x)"
      ]
     },
     "execution_count": 37,
     "metadata": {},
     "output_type": "execute_result"
    }
   ],
   "source": [
    "c.trigsimp()"
   ]
  },
  {
   "cell_type": "code",
   "execution_count": 38,
   "metadata": {
    "collapsed": false
   },
   "outputs": [
    {
     "data": {
      "image/png": "[encoded data removed]",
      "text/latex": [
       "$$\\tan{\\left (3 x \\right )}$$"
      ],
      "text/plain": [
       "tan(3⋅x)"
      ]
     },
     "execution_count": 38,
     "metadata": {},
     "output_type": "execute_result"
    }
   ],
   "source": [
    "d = tan(3*x)\n",
    "d.simplify()"
   ]
  },
  {
   "cell_type": "code",
   "execution_count": 39,
   "metadata": {
    "collapsed": false
   },
   "outputs": [
    {
     "data": {
      "image/png": "[encoded data removed]",
      "text/latex": [
       "$$- \\frac{\\tan^{3}{\\left (x \\right )}}{- 3 \\tan^{2}{\\left (x \\right )} + 1} + \\frac{3 \\tan{\\left (x \\right )}}{- 3 \\tan^{2}{\\left (x \\right )} + 1}$$"
      ],
      "text/plain": [
       "         3                         \n",
       "      tan (x)           3⋅tan(x)   \n",
       "- ─────────────── + ───────────────\n",
       "         2                 2       \n",
       "  - 3⋅tan (x) + 1   - 3⋅tan (x) + 1"
      ]
     },
     "execution_count": 39,
     "metadata": {},
     "output_type": "execute_result"
    }
   ],
   "source": [
    "d.expand(trig=True)"
   ]
  },
  {
   "cell_type": "code",
   "execution_count": 40,
   "metadata": {
    "collapsed": false
   },
   "outputs": [
    {
     "data": {
      "image/png": "[encoded data removed]",
      "text/latex": [
       "$$\\frac{1}{3} \\tan{\\left (x \\right )} - \\frac{8 \\tan{\\left (x \\right )}}{9 \\tan^{2}{\\left (x \\right )} - 3}$$"
      ],
      "text/plain": [
       "tan(x)      8⋅tan(x)  \n",
       "────── - ─────────────\n",
       "  3           2       \n",
       "         9⋅tan (x) - 3"
      ]
     },
     "execution_count": 40,
     "metadata": {},
     "output_type": "execute_result"
    }
   ],
   "source": [
    "d.expand(trig=True).ratsimp()"
   ]
  },
  {
   "cell_type": "code",
   "execution_count": 41,
   "metadata": {
    "collapsed": false
   },
   "outputs": [
    {
     "data": {
      "image/png": "[encoded data removed]",
      "text/latex": [
       "$$\\tan{\\left (x \\right )} + \\cot{\\left (y \\right )}$$"
      ],
      "text/plain": [
       "tan(x) + cot(y)"
      ]
     },
     "execution_count": 41,
     "metadata": {},
     "output_type": "execute_result"
    }
   ],
   "source": [
    "e = tan(x) + cot(y)\n",
    "e.simplify()"
   ]
  },
  {
   "cell_type": "code",
   "execution_count": 42,
   "metadata": {
    "collapsed": false
   },
   "outputs": [
    {
     "data": {
      "image/png": "[encoded data removed]",
      "text/latex": [
       "$$\\frac{\\sin{\\left (x \\right )}}{\\cos{\\left (x \\right )}} + \\frac{\\cos{\\left (y \\right )}}{\\sin{\\left (y \\right )}}$$"
      ],
      "text/plain": [
       "sin(x)   cos(y)\n",
       "────── + ──────\n",
       "cos(x)   sin(y)"
      ]
     },
     "execution_count": 42,
     "metadata": {},
     "output_type": "execute_result"
    }
   ],
   "source": [
    "e.subs({ tan(x): sin(x)/cos(x), cot(y): cos(y)/sin(y)})  # Verletzungsgefahr"
   ]
  },
  {
   "cell_type": "code",
   "execution_count": 43,
   "metadata": {
    "collapsed": false
   },
   "outputs": [
    {
     "data": {
      "image/png": "[encoded data removed]",
      "text/latex": [
       "$$\\frac{\\sin{\\left (x \\right )}}{\\cos{\\left (x \\right )}} + \\frac{\\cos{\\left (y \\right )}}{\\sin{\\left (y \\right )}}$$"
      ],
      "text/plain": [
       "sin(x)   cos(y)\n",
       "────── + ──────\n",
       "cos(x)   sin(y)"
      ]
     },
     "execution_count": 43,
     "metadata": {},
     "output_type": "execute_result"
    }
   ],
   "source": [
    "e1 = TR2(e)\n",
    "e1"
   ]
  },
  {
   "cell_type": "code",
   "execution_count": 44,
   "metadata": {
    "collapsed": false
   },
   "outputs": [
    {
     "data": {
      "image/png": "[encoded data removed]",
      "text/latex": [
       "$$\\frac{1}{\\sin{\\left (y \\right )} \\cos{\\left (x \\right )}} \\left(\\sin{\\left (x \\right )} \\sin{\\left (y \\right )} + \\cos{\\left (x \\right )} \\cos{\\left (y \\right )}\\right)$$"
      ],
      "text/plain": [
       "sin(x)⋅sin(y) + cos(x)⋅cos(y)\n",
       "─────────────────────────────\n",
       "        sin(y)⋅cos(x)        "
      ]
     },
     "execution_count": 44,
     "metadata": {},
     "output_type": "execute_result"
    }
   ],
   "source": [
    "e2 = e1.ratsimp()\n",
    "e2"
   ]
  },
  {
   "cell_type": "code",
   "execution_count": 45,
   "metadata": {
    "collapsed": false
   },
   "outputs": [
    {
     "data": {
      "image/png": "[encoded data removed]",
      "text/latex": [
       "$$\\frac{\\cos{\\left (x - y \\right )}}{\\sin{\\left (y \\right )} \\cos{\\left (x \\right )}}$$"
      ],
      "text/plain": [
       "  cos(x - y) \n",
       "─────────────\n",
       "sin(y)⋅cos(x)"
      ]
     },
     "execution_count": 45,
     "metadata": {},
     "output_type": "execute_result"
    }
   ],
   "source": [
    "num, den = numer(e2), denom(e2)\n",
    "num1 = num.trigsimp()\n",
    "num1/den"
   ]
  },
  {
   "cell_type": "markdown",
   "metadata": {},
   "source": [
    "## Potenzfunktionen"
   ]
  },
  {
   "cell_type": "code",
   "execution_count": 46,
   "metadata": {
    "collapsed": true
   },
   "outputs": [],
   "source": [
    "f = x**Rational(1,3)"
   ]
  },
  {
   "cell_type": "code",
   "execution_count": 47,
   "metadata": {
    "collapsed": false
   },
   "outputs": [
    {
     "data": {
      "image/png": "[encoded data removed]",
      "text/plain": [
       "<matplotlib.figure.Figure at 0x7f5a43a69390>"
      ]
     },
     "metadata": {},
     "output_type": "display_data"
    }
   ],
   "source": [
    "plot(f, (x, -1, 1));"
   ]
  },
  {
   "cell_type": "code",
   "execution_count": 48,
   "metadata": {
    "collapsed": false
   },
   "outputs": [
    {
     "data": {
      "image/png": "[encoded data removed]",
      "text/latex": [
       "$$\\frac{\\sqrt{3}}{2}$$"
      ],
      "text/plain": [
       "√3\n",
       "──\n",
       "2 "
      ]
     },
     "execution_count": 48,
     "metadata": {},
     "output_type": "execute_result"
    }
   ],
   "source": [
    "im(f.subs(x, -1))"
   ]
  },
  {
   "cell_type": "code",
   "execution_count": 49,
   "metadata": {
    "collapsed": true
   },
   "outputs": [],
   "source": [
    "sign?"
   ]
  },
  {
   "cell_type": "code",
   "execution_count": 50,
   "metadata": {
    "collapsed": false
   },
   "outputs": [
    {
     "data": {
      "image/png": "[encoded data removed]",
      "text/latex": [
       "$$\\sqrt[3]{\\left|{x}\\right|} \\operatorname{sign}{\\left (x \\right )}$$"
      ],
      "text/plain": [
       "3 _____        \n",
       "╲╱ │x│ ⋅sign(x)"
      ]
     },
     "execution_count": 50,
     "metadata": {},
     "output_type": "execute_result"
    }
   ],
   "source": [
    "g = sign(x)*abs(x)**Rational(1,3)\n",
    "g"
   ]
  },
  {
   "cell_type": "code",
   "execution_count": 51,
   "metadata": {
    "collapsed": false
   },
   "outputs": [
    {
     "data": {
      "image/png": "[encoded data removed]",
      "text/plain": [
       "<matplotlib.figure.Figure at 0x7f5a41006898>"
      ]
     },
     "metadata": {},
     "output_type": "display_data"
    }
   ],
   "source": [
    "plot(g, (x,-1,1));"
   ]
  },
  {
   "cell_type": "markdown",
   "metadata": {},
   "source": [
    "## Integration"
   ]
  },
  {
   "cell_type": "code",
   "execution_count": 52,
   "metadata": {
    "collapsed": true
   },
   "outputs": [],
   "source": [
    "x = Symbol('x')"
   ]
  },
  {
   "cell_type": "code",
   "execution_count": 53,
   "metadata": {
    "collapsed": true
   },
   "outputs": [],
   "source": [
    "f = sin(x)/x"
   ]
  },
  {
   "cell_type": "code",
   "execution_count": 54,
   "metadata": {
    "collapsed": false
   },
   "outputs": [
    {
     "data": {
      "image/png": "[encoded data removed]",
      "text/latex": [
       "$$\\int \\frac{1}{x} \\sin{\\left (x \\right )}\\, dx$$"
      ],
      "text/plain": [
       "⌠          \n",
       "⎮ sin(x)   \n",
       "⎮ ────── dx\n",
       "⎮   x      \n",
       "⌡          "
      ]
     },
     "execution_count": 54,
     "metadata": {},
     "output_type": "execute_result"
    }
   ],
   "source": [
    "I1 = Integral(f, x)\n",
    "I1"
   ]
  },
  {
   "cell_type": "code",
   "execution_count": 55,
   "metadata": {
    "collapsed": false
   },
   "outputs": [
    {
     "data": {
      "image/png": "[encoded data removed]",
      "text/latex": [
       "$$\\operatorname{Si}{\\left (x \\right )}$$"
      ],
      "text/plain": [
       "Si(x)"
      ]
     },
     "execution_count": 55,
     "metadata": {},
     "output_type": "execute_result"
    }
   ],
   "source": [
    "I1.doit()"
   ]
  },
  {
   "cell_type": "code",
   "execution_count": 56,
   "metadata": {
    "collapsed": false
   },
   "outputs": [
    {
     "data": {
      "image/png": "[encoded data removed]",
      "text/plain": [
       "<matplotlib.figure.Figure at 0x7f5a40e0b550>"
      ]
     },
     "metadata": {},
     "output_type": "display_data"
    }
   ],
   "source": [
    "plot(Si(x), (x, -8, 8));"
   ]
  },
  {
   "cell_type": "code",
   "execution_count": 57,
   "metadata": {
    "collapsed": false
   },
   "outputs": [
    {
     "data": {
      "image/png": "[encoded data removed]",
      "text/latex": [
       "$$1.42468755128051$$"
      ],
      "text/plain": [
       "1.42468755128051"
      ]
     },
     "execution_count": 57,
     "metadata": {},
     "output_type": "execute_result"
    }
   ],
   "source": [
    "Si(6.)"
   ]
  },
  {
   "cell_type": "code",
   "execution_count": 58,
   "metadata": {
    "collapsed": false
   },
   "outputs": [
    {
     "data": {
      "image/png": "[encoded data removed]",
      "text/latex": [
       "$$1.42468755128051$$"
      ],
      "text/plain": [
       "1.42468755128051"
      ]
     },
     "execution_count": 58,
     "metadata": {},
     "output_type": "execute_result"
    }
   ],
   "source": [
    "Integral(sin(x)/x, (x,0,6)).n()"
   ]
  },
  {
   "cell_type": "code",
   "execution_count": 59,
   "metadata": {
    "collapsed": false
   },
   "outputs": [
    {
     "data": {
      "image/png": "[encoded data removed]",
      "text/latex": [
       "$$\\int e^{- x^{2}}\\, dx$$"
      ],
      "text/plain": [
       "⌠        \n",
       "⎮    2   \n",
       "⎮  -x    \n",
       "⎮ ℯ    dx\n",
       "⌡        "
      ]
     },
     "execution_count": 59,
     "metadata": {},
     "output_type": "execute_result"
    }
   ],
   "source": [
    "I3 = Integral(exp(-x**2), x)\n",
    "I3"
   ]
  },
  {
   "cell_type": "code",
   "execution_count": 60,
   "metadata": {
    "collapsed": false
   },
   "outputs": [
    {
     "data": {
      "image/png": "[encoded data removed]",
      "text/latex": [
       "$$\\frac{\\sqrt{\\pi}}{2} \\operatorname{erf}{\\left (x \\right )}$$"
      ],
      "text/plain": [
       "√π⋅erf(x)\n",
       "─────────\n",
       "    2    "
      ]
     },
     "execution_count": 60,
     "metadata": {},
     "output_type": "execute_result"
    }
   ],
   "source": [
    "I3.doit()"
   ]
  },
  {
   "cell_type": "code",
   "execution_count": 61,
   "metadata": {
    "collapsed": false
   },
   "outputs": [
    {
     "data": {
      "image/png": "[encoded data removed]",
      "text/plain": [
       "<matplotlib.figure.Figure at 0x7f5a40d3b550>"
      ]
     },
     "metadata": {},
     "output_type": "display_data"
    }
   ],
   "source": [
    "plot(erf(x), (x, -3, 3));"
   ]
  },
  {
   "cell_type": "code",
   "execution_count": 62,
   "metadata": {
    "collapsed": true
   },
   "outputs": [],
   "source": [
    "f = (1-x**2)**Rational(-3,2)"
   ]
  },
  {
   "cell_type": "code",
   "execution_count": 63,
   "metadata": {
    "collapsed": false
   },
   "outputs": [
    {
     "data": {
      "image/png": "[encoded data removed]",
      "text/latex": [
       "$$\\int \\frac{1}{\\left(- x^{2} + 1\\right)^{\\frac{3}{2}}}\\, dx$$"
      ],
      "text/plain": [
       "⌠                 \n",
       "⎮       1         \n",
       "⎮ ───────────── dx\n",
       "⎮           3/2   \n",
       "⎮ ⎛   2    ⎞      \n",
       "⎮ ⎝- x  + 1⎠      \n",
       "⌡                 "
      ]
     },
     "execution_count": 63,
     "metadata": {},
     "output_type": "execute_result"
    }
   ],
   "source": [
    "I4 = Integral(f, x)\n",
    "I4"
   ]
  },
  {
   "cell_type": "code",
   "execution_count": 64,
   "metadata": {
    "collapsed": false
   },
   "outputs": [
    {
     "data": {
      "image/png": "[encoded data removed]",
      "text/latex": [
       "$$\\begin{cases} \\frac{1}{\\sqrt{-1 + \\frac{1}{x^{2}}}} & \\text{for}\\: \\left|{\\frac{1}{x^{2}}}\\right| > 1 \\\\- \\frac{i}{\\sqrt{1 - \\frac{1}{x^{2}}}} & \\text{otherwise} \\end{cases}$$"
      ],
      "text/plain": [
       "⎧      1             │1 │    \n",
       "⎪──────────────  for │──│ > 1\n",
       "⎪     _________      │ 2│    \n",
       "⎪    ╱      1        │x │    \n",
       "⎪   ╱  -1 + ──               \n",
       "⎪  ╱         2               \n",
       "⎪╲╱         x                \n",
       "⎨                            \n",
       "⎪     -ⅈ                     \n",
       "⎪─────────────    otherwise  \n",
       "⎪     ________               \n",
       "⎪    ╱     1                 \n",
       "⎪   ╱  1 - ──                \n",
       "⎪  ╱        2                \n",
       "⎩╲╱        x                 "
      ]
     },
     "execution_count": 64,
     "metadata": {},
     "output_type": "execute_result"
    }
   ],
   "source": [
    "tmp = I4.doit()\n",
    "tmp"
   ]
  },
  {
   "cell_type": "code",
   "execution_count": 65,
   "metadata": {
    "collapsed": false
   },
   "outputs": [
    {
     "data": {
      "image/png": "[encoded data removed]",
      "text/latex": [
       "$$\\frac{1}{\\sqrt{-1 + \\frac{1}{x^{2}}}}$$"
      ],
      "text/plain": [
       "      1       \n",
       "──────────────\n",
       "     _________\n",
       "    ╱      1  \n",
       "   ╱  -1 + ── \n",
       "  ╱         2 \n",
       "╲╱         x  "
      ]
     },
     "execution_count": 65,
     "metadata": {},
     "output_type": "execute_result"
    }
   ],
   "source": [
    "F = tmp.args[0][0]\n",
    "F"
   ]
  },
  {
   "cell_type": "code",
   "execution_count": 66,
   "metadata": {
    "collapsed": false
   },
   "outputs": [
    {
     "data": {
      "text/plain": [
       "False"
      ]
     },
     "execution_count": 66,
     "metadata": {},
     "output_type": "execute_result"
    }
   ],
   "source": [
    "F.diff(x) == f"
   ]
  },
  {
   "cell_type": "code",
   "execution_count": 67,
   "metadata": {
    "collapsed": false
   },
   "outputs": [
    {
     "data": {
      "image/png": "[encoded data removed]",
      "text/latex": [
       "$$\\frac{1}{x^{3} \\left(-1 + \\frac{1}{x^{2}}\\right)^{\\frac{3}{2}}}$$"
      ],
      "text/plain": [
       "       1       \n",
       "───────────────\n",
       "            3/2\n",
       " 3 ⎛     1 ⎞   \n",
       "x ⋅⎜-1 + ──⎟   \n",
       "   ⎜      2⎟   \n",
       "   ⎝     x ⎠   "
      ]
     },
     "execution_count": 67,
     "metadata": {},
     "output_type": "execute_result"
    }
   ],
   "source": [
    "F.diff(x)"
   ]
  },
  {
   "cell_type": "code",
   "execution_count": 68,
   "metadata": {
    "collapsed": false
   },
   "outputs": [
    {
     "data": {
      "image/png": "[encoded data removed]",
      "text/latex": [
       "$$\\frac{x \\sqrt{-1 + \\frac{1}{x^{2}}} - \\sqrt{- x^{2} + 1}}{x^{4} - 2 x^{2} + 1}$$"
      ],
      "text/plain": [
       "       _________      __________\n",
       "      ╱      1       ╱    2     \n",
       "x⋅   ╱  -1 + ──  - ╲╱  - x  + 1 \n",
       "    ╱         2                 \n",
       "  ╲╱         x                  \n",
       "────────────────────────────────\n",
       "          4      2              \n",
       "         x  - 2⋅x  + 1          "
      ]
     },
     "execution_count": 68,
     "metadata": {},
     "output_type": "execute_result"
    }
   ],
   "source": [
    "(F.diff(x) - f).radsimp().expand().ratsimp()"
   ]
  },
  {
   "cell_type": "code",
   "execution_count": 69,
   "metadata": {
    "collapsed": false
   },
   "outputs": [
    {
     "data": {
      "image/png": "[encoded data removed]",
      "text/plain": [
       "<matplotlib.figure.Figure at 0x7f5a40cc2908>"
      ]
     },
     "metadata": {},
     "output_type": "display_data"
    }
   ],
   "source": [
    "xn = np.linspace(-.8, .8)\n",
    "fn = lambdify(x, f)\n",
    "Fn = lambdify(x, F, 'numpy')\n",
    "dFn = lambdify(x, F.diff(x), 'numpy')\n",
    "plt.plot(xn, fn(xn), label='f')\n",
    "plt.plot(xn, Fn(xn), label='F')\n",
    "plt.plot(xn, dFn(xn), label='dF/dx')\n",
    "plt.legend(loc='lower right');"
   ]
  },
  {
   "cell_type": "markdown",
   "metadata": {},
   "source": [
    "Die Stammfunktion ist falsch.  Wir waren aber gewarnt."
   ]
  },
  {
   "cell_type": "code",
   "execution_count": 70,
   "metadata": {
    "collapsed": false
   },
   "outputs": [
    {
     "data": {
      "image/png": "[encoded data removed]",
      "text/latex": [
       "$$\\int_{\\frac{1}{5}}^{\\frac{1}{2}} \\frac{1}{\\left(- x^{2} + 1\\right)^{\\frac{3}{2}}}\\, dx$$"
      ],
      "text/plain": [
       "1/2                 \n",
       " ⌠                  \n",
       " ⎮        1         \n",
       " ⎮  ───────────── dx\n",
       " ⎮            3/2   \n",
       " ⎮  ⎛   2    ⎞      \n",
       " ⎮  ⎝- x  + 1⎠      \n",
       " ⌡                  \n",
       "1/5                 "
      ]
     },
     "execution_count": 70,
     "metadata": {},
     "output_type": "execute_result"
    }
   ],
   "source": [
    "I5 = Integral(f, (x, Rational(1,5), Rational(1,2)))\n",
    "I5"
   ]
  },
  {
   "cell_type": "code",
   "execution_count": 71,
   "metadata": {
    "collapsed": false
   },
   "outputs": [],
   "source": [
    "#I5.doit()  # AttribureError"
   ]
  },
  {
   "cell_type": "code",
   "execution_count": 72,
   "metadata": {
    "collapsed": true
   },
   "outputs": [],
   "source": [
    "y = Symbol('y', real=True)"
   ]
  },
  {
   "cell_type": "code",
   "execution_count": 73,
   "metadata": {
    "collapsed": false
   },
   "outputs": [
    {
     "data": {
      "image/png": "[encoded data removed]",
      "text/latex": [
       "$$\\int e^{- x y} \\sin{\\left (x \\right )}\\, dx$$"
      ],
      "text/plain": [
       "⌠                \n",
       "⎮  -x⋅y          \n",
       "⎮ ℯ    ⋅sin(x) dx\n",
       "⌡                "
      ]
     },
     "execution_count": 73,
     "metadata": {},
     "output_type": "execute_result"
    }
   ],
   "source": [
    "g = sin(x) * exp(-x*y)\n",
    "I6 = Integral(g, x)\n",
    "I6"
   ]
  },
  {
   "cell_type": "code",
   "execution_count": 74,
   "metadata": {
    "collapsed": false
   },
   "outputs": [
    {
     "data": {
      "image/png": "[encoded data removed]",
      "text/latex": [
       "$$- \\frac{y \\sin{\\left (x \\right )}}{y^{2} e^{x y} + e^{x y}} - \\frac{\\cos{\\left (x \\right )}}{y^{2} e^{x y} + e^{x y}}$$"
      ],
      "text/plain": [
       "     y⋅sin(x)          cos(x)    \n",
       "- ────────────── - ──────────────\n",
       "   2  x⋅y    x⋅y    2  x⋅y    x⋅y\n",
       "  y ⋅ℯ    + ℯ      y ⋅ℯ    + ℯ   "
      ]
     },
     "execution_count": 74,
     "metadata": {},
     "output_type": "execute_result"
    }
   ],
   "source": [
    "G = I6.doit()\n",
    "G"
   ]
  },
  {
   "cell_type": "code",
   "execution_count": 75,
   "metadata": {
    "collapsed": false
   },
   "outputs": [
    {
     "data": {
      "text/plain": [
       "False"
      ]
     },
     "execution_count": 75,
     "metadata": {},
     "output_type": "execute_result"
    }
   ],
   "source": [
    "G.diff(x) == g"
   ]
  },
  {
   "cell_type": "code",
   "execution_count": 76,
   "metadata": {
    "collapsed": false
   },
   "outputs": [
    {
     "data": {
      "text/plain": [
       "True"
      ]
     },
     "execution_count": 76,
     "metadata": {},
     "output_type": "execute_result"
    }
   ],
   "source": [
    "G.diff(x).simplify() == g"
   ]
  },
  {
   "cell_type": "code",
   "execution_count": null,
   "metadata": {
    "collapsed": true
   },
   "outputs": [],
   "source": []
  }
 ],
 "metadata": {
  "anaconda-cloud": {},
  "kernelspec": {
   "display_name": "Python [conda env:compana16]",
   "language": "python",
   "name": "conda-env-compana16-py"
  },
  "language_info": {
   "codemirror_mode": {
    "name": "ipython",
    "version": 3
   },
   "file_extension": ".py",
   "mimetype": "text/x-python",
   "name": "python",
   "nbconvert_exporter": "python",
   "pygments_lexer": "ipython3",
   "version": "3.5.2"
  }
 },
 "nbformat": 4,
 "nbformat_minor": 1
}
