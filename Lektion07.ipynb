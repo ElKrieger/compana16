{
 "cells": [
  {
   "cell_type": "markdown",
   "metadata": {},
   "source": [
    "# Lektion 7"
   ]
  },
  {
   "cell_type": "code",
   "execution_count": 1,
   "metadata": {
    "collapsed": true
   },
   "outputs": [],
   "source": [
    "from sympy import *\n",
    "init_printing()\n",
    "import numpy as np\n",
    "import matplotlib.pyplot as plt"
   ]
  },
  {
   "cell_type": "markdown",
   "metadata": {},
   "source": [
    "interaktiv"
   ]
  },
  {
   "cell_type": "code",
   "execution_count": null,
   "metadata": {
    "collapsed": true
   },
   "outputs": [],
   "source": [
    "%matplotlib notebook"
   ]
  },
  {
   "cell_type": "markdown",
   "metadata": {},
   "source": [
    "für den Druck"
   ]
  },
  {
   "cell_type": "code",
   "execution_count": 2,
   "metadata": {
    "collapsed": false
   },
   "outputs": [],
   "source": [
    "%matplotlib inline "
   ]
  },
  {
   "cell_type": "markdown",
   "metadata": {},
   "source": [
    "## Integration"
   ]
  },
  {
   "cell_type": "code",
   "execution_count": 3,
   "metadata": {
    "collapsed": true
   },
   "outputs": [],
   "source": [
    "x = Symbol('x')"
   ]
  },
  {
   "cell_type": "code",
   "execution_count": 4,
   "metadata": {
    "collapsed": true
   },
   "outputs": [],
   "source": [
    "f = sin(x)/x"
   ]
  },
  {
   "cell_type": "code",
   "execution_count": 5,
   "metadata": {
    "collapsed": false
   },
   "outputs": [
    {
     "data": {
      "image/png": "[encoded data removed]",
      "text/latex": [
       "$$\\int \\frac{1}{x} \\sin{\\left (x \\right )}\\, dx$$"
      ],
      "text/plain": [
       "⌠          \n",
       "⎮ sin(x)   \n",
       "⎮ ────── dx\n",
       "⎮   x      \n",
       "⌡          "
      ]
     },
     "execution_count": 5,
     "metadata": {},
     "output_type": "execute_result"
    }
   ],
   "source": [
    "I1 = Integral(f, x)\n",
    "I1"
   ]
  },
  {
   "cell_type": "code",
   "execution_count": 7,
   "metadata": {
    "collapsed": false
   },
   "outputs": [
    {
     "data": {
      "image/png": "[encoded data removed]",
      "text/latex": [
       "$$\\operatorname{Si}{\\left (x \\right )}$$"
      ],
      "text/plain": [
       "Si(x)"
      ]
     },
     "execution_count": 7,
     "metadata": {},
     "output_type": "execute_result"
    }
   ],
   "source": [
    "I1.doit()"
   ]
  },
  {
   "cell_type": "code",
   "execution_count": 8,
   "metadata": {
    "collapsed": false
   },
   "outputs": [
    {
     "data": {
      "image/png": "[encoded data removed]",
      "text/plain": [
       "<matplotlib.figure.Figure at 0x2827f493748>"
      ]
     },
     "metadata": {},
     "output_type": "display_data"
    }
   ],
   "source": [
    "plot(Si(x), (x, -8, 8));"
   ]
  },
  {
   "cell_type": "code",
   "execution_count": 9,
   "metadata": {
    "collapsed": false
   },
   "outputs": [
    {
     "data": {
      "image/png": "[encoded data removed]",
      "text/latex": [
       "$$1.42468755128051$$"
      ],
      "text/plain": [
       "1.42468755128051"
      ]
     },
     "execution_count": 9,
     "metadata": {},
     "output_type": "execute_result"
    }
   ],
   "source": [
    "Si(6.)"
   ]
  },
  {
   "cell_type": "code",
   "execution_count": 10,
   "metadata": {
    "collapsed": false
   },
   "outputs": [
    {
     "data": {
      "image/png": "[encoded data removed]",
      "text/latex": [
       "$$1.42468755128051$$"
      ],
      "text/plain": [
       "1.42468755128051"
      ]
     },
     "execution_count": 10,
     "metadata": {},
     "output_type": "execute_result"
    }
   ],
   "source": [
    "Integral(sin(x)/x, (x,0,6)).n()"
   ]
  },
  {
   "cell_type": "code",
   "execution_count": 11,
   "metadata": {
    "collapsed": false
   },
   "outputs": [
    {
     "data": {
      "image/png": "[encoded data removed]",
      "text/latex": [
       "$$\\int e^{- x^{2}}\\, dx$$"
      ],
      "text/plain": [
       "⌠        \n",
       "⎮    2   \n",
       "⎮  -x    \n",
       "⎮ ℯ    dx\n",
       "⌡        "
      ]
     },
     "execution_count": 11,
     "metadata": {},
     "output_type": "execute_result"
    }
   ],
   "source": [
    "I3 = Integral(exp(-x**2), x)\n",
    "I3"
   ]
  },
  {
   "cell_type": "code",
   "execution_count": 12,
   "metadata": {
    "collapsed": false
   },
   "outputs": [
    {
     "data": {
      "image/png": "[encoded data removed]",
      "text/latex": [
       "$$\\frac{\\sqrt{\\pi}}{2} \\operatorname{erf}{\\left (x \\right )}$$"
      ],
      "text/plain": [
       "√π⋅erf(x)\n",
       "─────────\n",
       "    2    "
      ]
     },
     "execution_count": 12,
     "metadata": {},
     "output_type": "execute_result"
    }
   ],
   "source": [
    "I3.doit()"
   ]
  },
  {
   "cell_type": "code",
   "execution_count": 13,
   "metadata": {
    "collapsed": false
   },
   "outputs": [
    {
     "data": {
      "image/png": "[encoded data removed]",
      "text/plain": [
       "<matplotlib.figure.Figure at 0x2827ff57128>"
      ]
     },
     "metadata": {},
     "output_type": "display_data"
    }
   ],
   "source": [
    "plot(erf(x), (x, -3, 3));"
   ]
  },
  {
   "cell_type": "code",
   "execution_count": 14,
   "metadata": {
    "collapsed": true
   },
   "outputs": [],
   "source": [
    "f = (1-x**2)**Rational(-3,2)"
   ]
  },
  {
   "cell_type": "code",
   "execution_count": 15,
   "metadata": {
    "collapsed": false
   },
   "outputs": [
    {
     "data": {
      "image/png": "[encoded data removed]",
      "text/latex": [
       "$$\\int \\frac{1}{\\left(- x^{2} + 1\\right)^{\\frac{3}{2}}}\\, dx$$"
      ],
      "text/plain": [
       "⌠                 \n",
       "⎮       1         \n",
       "⎮ ───────────── dx\n",
       "⎮           3/2   \n",
       "⎮ ⎛   2    ⎞      \n",
       "⎮ ⎝- x  + 1⎠      \n",
       "⌡                 "
      ]
     },
     "execution_count": 15,
     "metadata": {},
     "output_type": "execute_result"
    }
   ],
   "source": [
    "I4 = Integral(f, x)\n",
    "I4"
   ]
  },
  {
   "cell_type": "code",
   "execution_count": 16,
   "metadata": {
    "collapsed": false
   },
   "outputs": [
    {
     "data": {
      "text/latex": [
       "$$\\begin{cases} \\frac{1}{\\sqrt{-1 + \\frac{1}{x^{2}}}} & \\text{for}\\: \\left|{\\frac{1}{x^{2}}}\\right| > 1 \\\\- \\frac{i}{\\sqrt{1 - \\frac{1}{x^{2}}}} & \\text{otherwise} \\end{cases}$$"
      ],
      "text/plain": [
       "⎧      1             │1 │    \n",
       "⎪──────────────  for │──│ > 1\n",
       "⎪     _________      │ 2│    \n",
       "⎪    ╱      1        │x │    \n",
       "⎪   ╱  -1 + ──               \n",
       "⎪  ╱         2               \n",
       "⎪╲╱         x                \n",
       "⎨                            \n",
       "⎪     -ⅈ                     \n",
       "⎪─────────────    otherwise  \n",
       "⎪     ________               \n",
       "⎪    ╱     1                 \n",
       "⎪   ╱  1 - ──                \n",
       "⎪  ╱        2                \n",
       "⎩╲╱        x                 "
      ]
     },
     "execution_count": 16,
     "metadata": {},
     "output_type": "execute_result"
    }
   ],
   "source": [
    "tmp = I4.doit()\n",
    "tmp"
   ]
  },
  {
   "cell_type": "code",
   "execution_count": 17,
   "metadata": {
    "collapsed": false
   },
   "outputs": [
    {
     "data": {
      "image/png": "[encoded data removed]",
      "text/latex": [
       "$$\\frac{1}{\\sqrt{-1 + \\frac{1}{x^{2}}}}$$"
      ],
      "text/plain": [
       "      1       \n",
       "──────────────\n",
       "     _________\n",
       "    ╱      1  \n",
       "   ╱  -1 + ── \n",
       "  ╱         2 \n",
       "╲╱         x  "
      ]
     },
     "execution_count": 17,
     "metadata": {},
     "output_type": "execute_result"
    }
   ],
   "source": [
    "F = tmp.args[0][0]\n",
    "F"
   ]
  },
  {
   "cell_type": "code",
   "execution_count": 18,
   "metadata": {
    "collapsed": false
   },
   "outputs": [
    {
     "data": {
      "text/plain": [
       "False"
      ]
     },
     "execution_count": 18,
     "metadata": {},
     "output_type": "execute_result"
    }
   ],
   "source": [
    "F.diff(x) == f"
   ]
  },
  {
   "cell_type": "code",
   "execution_count": 19,
   "metadata": {
    "collapsed": false
   },
   "outputs": [
    {
     "data": {
      "image/png": "[encoded data removed]",
      "text/latex": [
       "$$\\frac{1}{x^{3} \\left(-1 + \\frac{1}{x^{2}}\\right)^{\\frac{3}{2}}}$$"
      ],
      "text/plain": [
       "       1       \n",
       "───────────────\n",
       "            3/2\n",
       " 3 ⎛     1 ⎞   \n",
       "x ⋅⎜-1 + ──⎟   \n",
       "   ⎜      2⎟   \n",
       "   ⎝     x ⎠   "
      ]
     },
     "execution_count": 19,
     "metadata": {},
     "output_type": "execute_result"
    }
   ],
   "source": [
    "F.diff(x)"
   ]
  },
  {
   "cell_type": "code",
   "execution_count": 23,
   "metadata": {
    "collapsed": false
   },
   "outputs": [
    {
     "data": {
      "image/png": "[encoded data removed]",
      "text/latex": [
       "$$\\frac{x \\sqrt{-1 + \\frac{1}{x^{2}}} - \\sqrt{- x^{2} + 1}}{x^{4} - 2 x^{2} + 1}$$"
      ],
      "text/plain": [
       "       _________      __________\n",
       "      ╱      1       ╱    2     \n",
       "x⋅   ╱  -1 + ──  - ╲╱  - x  + 1 \n",
       "    ╱         2                 \n",
       "  ╲╱         x                  \n",
       "────────────────────────────────\n",
       "          4      2              \n",
       "         x  - 2⋅x  + 1          "
      ]
     },
     "execution_count": 23,
     "metadata": {},
     "output_type": "execute_result"
    }
   ],
   "source": [
    "(F.diff(x) - f).radsimp().expand().ratsimp()"
   ]
  },
  {
   "cell_type": "code",
   "execution_count": 24,
   "metadata": {
    "collapsed": false
   },
   "outputs": [
    {
     "data": {
      "image/png": "[encoded data removed]",
      "text/plain": [
       "<matplotlib.figure.Figure at 0x282017363c8>"
      ]
     },
     "metadata": {},
     "output_type": "display_data"
    }
   ],
   "source": [
    "xn = np.linspace(-.8, .8)\n",
    "fn = lambdify(x, f)\n",
    "Fn = lambdify(x, F, 'numpy')\n",
    "dFn = lambdify(x, F.diff(x), 'numpy')\n",
    "plt.plot(xn, fn(xn), label='f')\n",
    "plt.plot(xn, Fn(xn), label='F')\n",
    "plt.plot(xn, dFn(xn), label='$\\\\frac{\\\\partial F}{\\\\partial x}$')\n",
    "plt.legend(loc='lower right');"
   ]
  },
  {
   "cell_type": "markdown",
   "metadata": {},
   "source": [
    "Die Stammfunktion ist falsch.  Wir waren aber gewarnt."
   ]
  },
  {
   "cell_type": "code",
   "execution_count": 25,
   "metadata": {
    "collapsed": false
   },
   "outputs": [
    {
     "data": {
      "image/png": "[encoded data removed]",
      "text/latex": [
       "$$\\int_{\\frac{1}{5}}^{\\frac{1}{2}} \\frac{1}{\\left(- x^{2} + 1\\right)^{\\frac{3}{2}}}\\, dx$$"
      ],
      "text/plain": [
       "1/2                 \n",
       " ⌠                  \n",
       " ⎮        1         \n",
       " ⎮  ───────────── dx\n",
       " ⎮            3/2   \n",
       " ⎮  ⎛   2    ⎞      \n",
       " ⎮  ⎝- x  + 1⎠      \n",
       " ⌡                  \n",
       "1/5                 "
      ]
     },
     "execution_count": 25,
     "metadata": {},
     "output_type": "execute_result"
    }
   ],
   "source": [
    "I5 = Integral(f, (x, Rational(1,5), Rational(1,2)))\n",
    "I5"
   ]
  },
  {
   "cell_type": "code",
   "execution_count": 26,
   "metadata": {
    "collapsed": false
   },
   "outputs": [
    {
     "ename": "AttributeError",
     "evalue": "'Or' object has no attribute 'lts'",
     "output_type": "error",
     "traceback": [
      "\u001b[0;31m---------------------------------------------------------------------------\u001b[0m",
      "\u001b[0;31mAttributeError\u001b[0m                            Traceback (most recent call last)",
      "\u001b[0;32m<ipython-input-26-40452399f355>\u001b[0m in \u001b[0;36m<module>\u001b[0;34m()\u001b[0m\n\u001b[0;32m----> 1\u001b[0;31m \u001b[0mI5\u001b[0m\u001b[1;33m.\u001b[0m\u001b[0mdoit\u001b[0m\u001b[1;33m(\u001b[0m\u001b[1;33m)\u001b[0m  \u001b[1;31m# AttribureError\u001b[0m\u001b[1;33m\u001b[0m\u001b[0m\n\u001b[0m",
      "\u001b[0;32mC:\\Users\\braun\\Miniconda3\\lib\\site-packages\\sympy\\integrals\\integrals.py\u001b[0m in \u001b[0;36mdoit\u001b[0;34m(self, **hints)\u001b[0m\n\u001b[1;32m    551\u001b[0m                                        for f in integrals])\n\u001b[1;32m    552\u001b[0m                         \u001b[1;32mtry\u001b[0m\u001b[1;33m:\u001b[0m\u001b[1;33m\u001b[0m\u001b[0m\n\u001b[0;32m--> 553\u001b[0;31m                             \u001b[0mevalued\u001b[0m \u001b[1;33m=\u001b[0m \u001b[0mAdd\u001b[0m\u001b[1;33m(\u001b[0m\u001b[1;33m*\u001b[0m\u001b[0mothers\u001b[0m\u001b[1;33m)\u001b[0m\u001b[1;33m.\u001b[0m\u001b[0m_eval_interval\u001b[0m\u001b[1;33m(\u001b[0m\u001b[0mx\u001b[0m\u001b[1;33m,\u001b[0m \u001b[0ma\u001b[0m\u001b[1;33m,\u001b[0m \u001b[0mb\u001b[0m\u001b[1;33m)\u001b[0m\u001b[1;33m\u001b[0m\u001b[0m\n\u001b[0m\u001b[1;32m    554\u001b[0m                             \u001b[0mfunction\u001b[0m \u001b[1;33m=\u001b[0m \u001b[0muneval\u001b[0m \u001b[1;33m+\u001b[0m \u001b[0mevalued\u001b[0m\u001b[1;33m\u001b[0m\u001b[0m\n\u001b[1;32m    555\u001b[0m                         \u001b[1;32mexcept\u001b[0m \u001b[0mNotImplementedError\u001b[0m\u001b[1;33m:\u001b[0m\u001b[1;33m\u001b[0m\u001b[0m\n",
      "\u001b[0;32mC:\\Users\\braun\\Miniconda3\\lib\\site-packages\\sympy\\functions\\elementary\\piecewise.py\u001b[0m in \u001b[0;36m_eval_interval\u001b[0;34m(self, sym, a, b)\u001b[0m\n\u001b[1;32m    270\u001b[0m \u001b[1;33m\u001b[0m\u001b[0m\n\u001b[1;32m    271\u001b[0m         \u001b[1;31m# Determine what intervals the expr,cond pairs affect.\u001b[0m\u001b[1;33m\u001b[0m\u001b[1;33m\u001b[0m\u001b[0m\n\u001b[0;32m--> 272\u001b[0;31m         \u001b[0mint_expr\u001b[0m \u001b[1;33m=\u001b[0m \u001b[0mself\u001b[0m\u001b[1;33m.\u001b[0m\u001b[0m_sort_expr_cond\u001b[0m\u001b[1;33m(\u001b[0m\u001b[0msym\u001b[0m\u001b[1;33m,\u001b[0m \u001b[0ma\u001b[0m\u001b[1;33m,\u001b[0m \u001b[0mb\u001b[0m\u001b[1;33m)\u001b[0m\u001b[1;33m\u001b[0m\u001b[0m\n\u001b[0m\u001b[1;32m    273\u001b[0m \u001b[1;33m\u001b[0m\u001b[0m\n\u001b[1;32m    274\u001b[0m         \u001b[1;31m# Finally run through the intervals and sum the evaluation.\u001b[0m\u001b[1;33m\u001b[0m\u001b[1;33m\u001b[0m\u001b[0m\n",
      "\u001b[0;32mC:\\Users\\braun\\Miniconda3\\lib\\site-packages\\sympy\\functions\\elementary\\piecewise.py\u001b[0m in \u001b[0;36m_sort_expr_cond\u001b[0;34m(self, sym, a, b, targetcond)\u001b[0m\n\u001b[1;32m    341\u001b[0m                 \u001b[1;32mif\u001b[0m \u001b[0msym\u001b[0m \u001b[1;32mnot\u001b[0m \u001b[1;32min\u001b[0m \u001b[1;33m[\u001b[0m\u001b[0mcond\u001b[0m\u001b[1;33m.\u001b[0m\u001b[0mlts\u001b[0m\u001b[1;33m,\u001b[0m \u001b[0mcond\u001b[0m\u001b[1;33m.\u001b[0m\u001b[0mgts\u001b[0m\u001b[1;33m]\u001b[0m\u001b[1;33m:\u001b[0m\u001b[1;33m\u001b[0m\u001b[0m\n\u001b[1;32m    342\u001b[0m                     \u001b[0mcond\u001b[0m \u001b[1;33m=\u001b[0m \u001b[0m_solve_inequality\u001b[0m\u001b[1;33m(\u001b[0m\u001b[0mcond\u001b[0m\u001b[1;33m,\u001b[0m \u001b[0msym\u001b[0m\u001b[1;33m)\u001b[0m\u001b[1;33m\u001b[0m\u001b[0m\n\u001b[0;32m--> 343\u001b[0;31m                 \u001b[0mlower\u001b[0m\u001b[1;33m,\u001b[0m \u001b[0mupper\u001b[0m \u001b[1;33m=\u001b[0m \u001b[0mcond\u001b[0m\u001b[1;33m.\u001b[0m\u001b[0mlts\u001b[0m\u001b[1;33m,\u001b[0m \u001b[0mcond\u001b[0m\u001b[1;33m.\u001b[0m\u001b[0mgts\u001b[0m  \u001b[1;31m# part 1: initialize with givens\u001b[0m\u001b[1;33m\u001b[0m\u001b[0m\n\u001b[0m\u001b[1;32m    344\u001b[0m                 \u001b[1;32mif\u001b[0m \u001b[0mcond\u001b[0m\u001b[1;33m.\u001b[0m\u001b[0mlts\u001b[0m \u001b[1;33m==\u001b[0m \u001b[0msym\u001b[0m\u001b[1;33m:\u001b[0m                \u001b[1;31m# part 1a: expand the side ...\u001b[0m\u001b[1;33m\u001b[0m\u001b[0m\n\u001b[1;32m    345\u001b[0m                     \u001b[0mlower\u001b[0m \u001b[1;33m=\u001b[0m \u001b[0mS\u001b[0m\u001b[1;33m.\u001b[0m\u001b[0mNegativeInfinity\u001b[0m   \u001b[1;31m# e.g. x <= 0 ---> -oo <= 0\u001b[0m\u001b[1;33m\u001b[0m\u001b[0m\n",
      "\u001b[0;31mAttributeError\u001b[0m: 'Or' object has no attribute 'lts'"
     ]
    }
   ],
   "source": [
    "I5.doit()  # AttribureError"
   ]
  },
  {
   "cell_type": "code",
   "execution_count": 27,
   "metadata": {
    "collapsed": true
   },
   "outputs": [],
   "source": [
    "y = Symbol('y', real=True)"
   ]
  },
  {
   "cell_type": "code",
   "execution_count": 28,
   "metadata": {
    "collapsed": false
   },
   "outputs": [
    {
     "data": {
      "image/png": "[encoded data removed]",
      "text/latex": [
       "$$\\int e^{- x y} \\sin{\\left (x \\right )}\\, dx$$"
      ],
      "text/plain": [
       "⌠                \n",
       "⎮  -x⋅y          \n",
       "⎮ ℯ    ⋅sin(x) dx\n",
       "⌡                "
      ]
     },
     "execution_count": 28,
     "metadata": {},
     "output_type": "execute_result"
    }
   ],
   "source": [
    "g = sin(x) * exp(-x*y)\n",
    "I6 = Integral(g, x)\n",
    "I6"
   ]
  },
  {
   "cell_type": "code",
   "execution_count": 29,
   "metadata": {
    "collapsed": false
   },
   "outputs": [
    {
     "data": {
      "image/png": "[encoded data removed]",
      "text/latex": [
       "$$- \\frac{y \\sin{\\left (x \\right )}}{y^{2} e^{x y} + e^{x y}} - \\frac{\\cos{\\left (x \\right )}}{y^{2} e^{x y} + e^{x y}}$$"
      ],
      "text/plain": [
       "     y⋅sin(x)          cos(x)    \n",
       "- ────────────── - ──────────────\n",
       "   2  x⋅y    x⋅y    2  x⋅y    x⋅y\n",
       "  y ⋅ℯ    + ℯ      y ⋅ℯ    + ℯ   "
      ]
     },
     "execution_count": 29,
     "metadata": {},
     "output_type": "execute_result"
    }
   ],
   "source": [
    "G = I6.doit()\n",
    "G"
   ]
  },
  {
   "cell_type": "code",
   "execution_count": 31,
   "metadata": {
    "collapsed": false
   },
   "outputs": [
    {
     "data": {
      "image/png": "[encoded data removed]",
      "text/latex": [
       "$$- \\frac{y \\cos{\\left (x \\right )}}{y^{2} e^{x y} + e^{x y}} - \\frac{y \\sin{\\left (x \\right )}}{\\left(y^{2} e^{x y} + e^{x y}\\right)^{2}} \\left(- y^{3} e^{x y} - y e^{x y}\\right) + \\frac{\\sin{\\left (x \\right )}}{y^{2} e^{x y} + e^{x y}} - \\frac{\\left(- y^{3} e^{x y} - y e^{x y}\\right) \\cos{\\left (x \\right )}}{\\left(y^{2} e^{x y} + e^{x y}\\right)^{2}}$$"
      ],
      "text/plain": [
       "                     ⎛   3  x⋅y      x⋅y⎞                           ⎛   3  x⋅y\n",
       "     y⋅cos(x)      y⋅⎝- y ⋅ℯ    - y⋅ℯ   ⎠⋅sin(x)       sin(x)       ⎝- y ⋅ℯ   \n",
       "- ────────────── - ───────────────────────────── + ────────────── - ──────────\n",
       "   2  x⋅y    x⋅y                         2          2  x⋅y    x⋅y             \n",
       "  y ⋅ℯ    + ℯ            ⎛ 2  x⋅y    x⋅y⎞          y ⋅ℯ    + ℯ           ⎛ 2  \n",
       "                         ⎝y ⋅ℯ    + ℯ   ⎠                                ⎝y ⋅ℯ\n",
       "\n",
       "      x⋅y⎞       \n",
       " - y⋅ℯ   ⎠⋅cos(x)\n",
       "─────────────────\n",
       "           2     \n",
       "x⋅y    x⋅y⎞      \n",
       "    + ℯ   ⎠      "
      ]
     },
     "execution_count": 31,
     "metadata": {},
     "output_type": "execute_result"
    }
   ],
   "source": [
    "G.diff(x)# == g"
   ]
  },
  {
   "cell_type": "code",
   "execution_count": 32,
   "metadata": {
    "collapsed": false
   },
   "outputs": [
    {
     "data": {
      "text/plain": [
       "True"
      ]
     },
     "execution_count": 32,
     "metadata": {},
     "output_type": "execute_result"
    }
   ],
   "source": [
    "G.diff(x).simplify() == g"
   ]
  },
  {
   "cell_type": "markdown",
   "metadata": {
    "collapsed": true
   },
   "source": [
    "## Das Taylorpolynom"
   ]
  },
  {
   "cell_type": "code",
   "execution_count": 33,
   "metadata": {
    "collapsed": false
   },
   "outputs": [
    {
     "data": {
      "image/png": "[encoded data removed]",
      "text/latex": [
       "$$\\frac{\\sqrt{x + 1}}{\\sqrt{- x^{2} + 1}}$$"
      ],
      "text/plain": [
       "    _______  \n",
       "  ╲╱ x + 1   \n",
       "─────────────\n",
       "   __________\n",
       "  ╱    2     \n",
       "╲╱  - x  + 1 "
      ]
     },
     "execution_count": 33,
     "metadata": {},
     "output_type": "execute_result"
    }
   ],
   "source": [
    "x = Symbol('x')\n",
    "f = sqrt(1+x)/sqrt(1-x**2)\n",
    "f"
   ]
  },
  {
   "cell_type": "code",
   "execution_count": 34,
   "metadata": {
    "collapsed": false
   },
   "outputs": [
    {
     "data": {
      "image/png": "[encoded data removed]",
      "text/latex": [
       "$$1 + \\frac{x}{2} + \\frac{3 x^{2}}{8} + \\frac{5 x^{3}}{16} + \\frac{35 x^{4}}{128} + \\frac{63 x^{5}}{256} + \\frac{231 x^{6}}{1024} + \\frac{429 x^{7}}{2048} + \\mathcal{O}\\left(x^{8}\\right)$$"
      ],
      "text/plain": [
       "           2      3       4       5        6        7        \n",
       "    x   3⋅x    5⋅x    35⋅x    63⋅x    231⋅x    429⋅x     ⎛ 8⎞\n",
       "1 + ─ + ──── + ──── + ───── + ───── + ────── + ────── + O⎝x ⎠\n",
       "    2    8      16     128     256     1024     2048         "
      ]
     },
     "execution_count": 34,
     "metadata": {},
     "output_type": "execute_result"
    }
   ],
   "source": [
    "t = f.series(x, 0, 8)\n",
    "t"
   ]
  },
  {
   "cell_type": "code",
   "execution_count": 35,
   "metadata": {
    "collapsed": false
   },
   "outputs": [
    {
     "data": {
      "image/png": "[encoded data removed]",
      "text/plain": [
       "<matplotlib.figure.Figure at 0x2827fe8c860>"
      ]
     },
     "metadata": {},
     "output_type": "display_data"
    }
   ],
   "source": [
    "xn = np.linspace(-.8, .8)\n",
    "fn = lambdify(x, f, 'numpy')\n",
    "plt.plot(xn, fn(xn), label='f')\n",
    "for n in range(2, 5):   # n=1 führt auf ValueError\n",
    "    tt = t + O(x**n, (x,0))\n",
    "    tn = lambdify(x, tt.removeO(), 'numpy')\n",
    "    plt.plot(xn, tn(xn), label='n='+str(n))\n",
    "plt.legend(loc='upper left');"
   ]
  },
  {
   "cell_type": "markdown",
   "metadata": {},
   "source": [
    "Dasselbe für den Arcustangens"
   ]
  },
  {
   "cell_type": "code",
   "execution_count": 36,
   "metadata": {
    "collapsed": false
   },
   "outputs": [
    {
     "data": {
      "image/png": "[encoded data removed]",
      "text/plain": [
       "<matplotlib.figure.Figure at 0x2827fe32160>"
      ]
     },
     "metadata": {},
     "output_type": "display_data"
    }
   ],
   "source": [
    "xn = np.linspace(-2, 2, 200)\n",
    "plt.plot(xn, np.arctan(xn), label='arctan')\n",
    "for n in [4, 20, 60]:\n",
    "    t = atan(x).series(x, 0, n)\n",
    "    tn = lambdify(x, t.removeO(), 'numpy')\n",
    "    plt.plot(xn, tn(xn), label='n='+str(n))\n",
    "plt.axis(ymin=-2, ymax=2)\n",
    "plt.legend(loc='upper center');"
   ]
  },
  {
   "cell_type": "markdown",
   "metadata": {},
   "source": [
    "## Allgemeinere Reihenentwicklungen"
   ]
  },
  {
   "cell_type": "code",
   "execution_count": 45,
   "metadata": {
    "collapsed": false
   },
   "outputs": [
    {
     "data": {
      "image/png": "[encoded data removed]",
      "text/latex": [
       "$$\\frac{1}{11 x^{11}} - \\frac{1}{9 x^{9}} + \\frac{1}{7 x^{7}} - \\frac{1}{5 x^{5}} + \\frac{1}{3 x^{3}} - \\frac{1}{x} - \\frac{\\pi}{2} + \\mathcal{O}\\left(\\frac{1}{x^{12}}; x\\rightarrow\\infty\\right)$$"
      ],
      "text/plain": [
       "  1       1      1      1      1     1   π    ⎛ 1        ⎞\n",
       "────── - ──── + ──── - ──── + ──── - ─ - ─ + O⎜───; x → ∞⎟\n",
       "    11      9      7      5      3   x   2    ⎜ 12       ⎟\n",
       "11⋅x     9⋅x    7⋅x    5⋅x    3⋅x             ⎝x         ⎠"
      ]
     },
     "execution_count": 45,
     "metadata": {},
     "output_type": "execute_result"
    }
   ],
   "source": [
    "t = {}\n",
    "t[1] = atan(x).series(x, -oo, 12)\n",
    "t[1]"
   ]
  },
  {
   "cell_type": "code",
   "execution_count": 47,
   "metadata": {
    "collapsed": false
   },
   "outputs": [
    {
     "data": {
      "image/png": "[encoded data removed]",
      "text/latex": [
       "$$x - \\frac{x^{3}}{3} + \\frac{x^{5}}{5} - \\frac{x^{7}}{7} + \\frac{x^{9}}{9} - \\frac{x^{11}}{11} + \\mathcal{O}\\left(x^{12}\\right)$$"
      ],
      "text/plain": [
       "     3    5    7    9    11         \n",
       "    x    x    x    x    x      ⎛ 12⎞\n",
       "x - ── + ── - ── + ── - ─── + O⎝x  ⎠\n",
       "    3    5    7    9     11         "
      ]
     },
     "execution_count": 47,
     "metadata": {},
     "output_type": "execute_result"
    }
   ],
   "source": [
    "t[2] = atan(x).series(x, 0, 12)\n",
    "t[2]"
   ]
  },
  {
   "cell_type": "code",
   "execution_count": 48,
   "metadata": {
    "collapsed": false
   },
   "outputs": [
    {
     "data": {
      "image/png": "[encoded data removed]",
      "text/latex": [
       "$$\\frac{1}{11 x^{11}} - \\frac{1}{9 x^{9}} + \\frac{1}{7 x^{7}} - \\frac{1}{5 x^{5}} + \\frac{1}{3 x^{3}} - \\frac{1}{x} + \\frac{\\pi}{2} + \\mathcal{O}\\left(\\frac{1}{x^{12}}; x\\rightarrow\\infty\\right)$$"
      ],
      "text/plain": [
       "  1       1      1      1      1     1   π    ⎛ 1        ⎞\n",
       "────── - ──── + ──── - ──── + ──── - ─ + ─ + O⎜───; x → ∞⎟\n",
       "    11      9      7      5      3   x   2    ⎜ 12       ⎟\n",
       "11⋅x     9⋅x    7⋅x    5⋅x    3⋅x             ⎝x         ⎠"
      ]
     },
     "execution_count": 48,
     "metadata": {},
     "output_type": "execute_result"
    }
   ],
   "source": [
    "t[3] = atan(x).series(x, oo, 12)\n",
    "t[3]"
   ]
  },
  {
   "cell_type": "code",
   "execution_count": 49,
   "metadata": {
    "collapsed": false
   },
   "outputs": [
    {
     "data": {
      "image/png": "[encoded data removed]",
      "text/plain": [
       "<matplotlib.figure.Figure at 0x2827ffa5550>"
      ]
     },
     "metadata": {},
     "output_type": "display_data"
    }
   ],
   "source": [
    "xn = np.linspace(-3, 3, 200)\n",
    "for nr, tt in t.items():\n",
    "    tn = lambdify(x, tt.removeO())\n",
    "    plt.plot(xn, tn(xn))\n",
    "plt.axis(ymin=-2, ymax=2);"
   ]
  },
  {
   "cell_type": "markdown",
   "metadata": {},
   "source": [
    "## Grenzwertbestimmung mittels Reihenentwicklung"
   ]
  },
  {
   "cell_type": "code",
   "execution_count": 50,
   "metadata": {
    "collapsed": true
   },
   "outputs": [],
   "source": [
    "x = Symbol('x')"
   ]
  },
  {
   "cell_type": "code",
   "execution_count": 51,
   "metadata": {
    "collapsed": false
   },
   "outputs": [
    {
     "data": {
      "image/png": "[encoded data removed]",
      "text/latex": [
       "$$\\lim_{x \\to 0^+}\\left(\\frac{- \\cos{\\left (x^{2} \\right )} + 1}{x \\left(x - \\sin{\\left (x \\right )}\\right)}\\right)$$"
      ],
      "text/plain": [
       "          ⎛ 2⎞     \n",
       "     - cos⎝x ⎠ + 1 \n",
       " lim ──────────────\n",
       "x─→0⁺x⋅(x - sin(x))"
      ]
     },
     "execution_count": 51,
     "metadata": {},
     "output_type": "execute_result"
    }
   ],
   "source": [
    "f = 1 - cos(x**2)\n",
    "g = x*(x-sin(x))\n",
    "L = Limit(f/g, x, 0)\n",
    "L"
   ]
  },
  {
   "cell_type": "code",
   "execution_count": 52,
   "metadata": {
    "collapsed": false
   },
   "outputs": [
    {
     "data": {
      "image/png": "[encoded data removed]",
      "text/latex": [
       "$$3$$"
      ],
      "text/plain": [
       "3"
      ]
     },
     "execution_count": 52,
     "metadata": {},
     "output_type": "execute_result"
    }
   ],
   "source": [
    "L.doit()"
   ]
  },
  {
   "cell_type": "code",
   "execution_count": 53,
   "metadata": {
    "collapsed": false
   },
   "outputs": [
    {
     "data": {
      "image/png": "[encoded data removed]",
      "text/latex": [
       "$$\\frac{x^{4}}{2} - \\frac{x^{8}}{24} + \\mathcal{O}\\left(x^{10}\\right)$$"
      ],
      "text/plain": [
       " 4    8         \n",
       "x    x     ⎛ 10⎞\n",
       "── - ── + O⎝x  ⎠\n",
       "2    24         "
      ]
     },
     "execution_count": 53,
     "metadata": {},
     "output_type": "execute_result"
    }
   ],
   "source": [
    "fr = f.series(x, 0, 10)\n",
    "fr"
   ]
  },
  {
   "cell_type": "code",
   "execution_count": 54,
   "metadata": {
    "collapsed": false
   },
   "outputs": [
    {
     "data": {
      "image/png": "[encoded data removed]",
      "text/latex": [
       "$$\\frac{x^{4}}{6} - \\frac{x^{6}}{120} + \\frac{x^{8}}{5040} + \\mathcal{O}\\left(x^{10}\\right)$$"
      ],
      "text/plain": [
       " 4     6     8          \n",
       "x     x     x      ⎛ 10⎞\n",
       "── - ─── + ──── + O⎝x  ⎠\n",
       "6    120   5040         "
      ]
     },
     "execution_count": 54,
     "metadata": {},
     "output_type": "execute_result"
    }
   ],
   "source": [
    "gr = g.series(x, 0, 10)\n",
    "gr"
   ]
  },
  {
   "cell_type": "code",
   "execution_count": 55,
   "metadata": {
    "collapsed": false
   },
   "outputs": [
    {
     "data": {
      "image/png": "[encoded data removed]",
      "text/latex": [
       "$$\\frac{- \\frac{x^{8}}{24} + \\frac{x^{4}}{2}}{\\frac{x^{8}}{5040} - \\frac{x^{6}}{120} + \\frac{x^{4}}{6}}$$"
      ],
      "text/plain": [
       "      8    4   \n",
       "     x    x    \n",
       "   - ── + ──   \n",
       "     24   2    \n",
       "───────────────\n",
       "  8      6    4\n",
       " x      x    x \n",
       "──── - ─── + ──\n",
       "5040   120   6 "
      ]
     },
     "execution_count": 55,
     "metadata": {},
     "output_type": "execute_result"
    }
   ],
   "source": [
    "t1 = fr.removeO() / gr.removeO()\n",
    "t1"
   ]
  },
  {
   "cell_type": "code",
   "execution_count": 56,
   "metadata": {
    "collapsed": false
   },
   "outputs": [
    {
     "data": {
      "image/png": "[encoded data removed]",
      "text/latex": [
       "$$\\frac{- \\frac{x^{4}}{24} + \\frac{1}{2}}{\\frac{x^{4}}{5040} - \\frac{x^{2}}{120} + \\frac{1}{6}}$$"
      ],
      "text/plain": [
       "      4       \n",
       "     x    1   \n",
       "   - ── + ─   \n",
       "     24   2   \n",
       "──────────────\n",
       "  4      2    \n",
       " x      x    1\n",
       "──── - ─── + ─\n",
       "5040   120   6"
      ]
     },
     "execution_count": 56,
     "metadata": {},
     "output_type": "execute_result"
    }
   ],
   "source": [
    "n, z = numer(t1), denom(t1)\n",
    "t2 = (n/x**4).expand() / (z/x**4).expand()\n",
    "t2"
   ]
  },
  {
   "cell_type": "code",
   "execution_count": 57,
   "metadata": {
    "collapsed": false
   },
   "outputs": [
    {
     "data": {
      "image/png": "[encoded data removed]",
      "text/latex": [
       "$$3$$"
      ],
      "text/plain": [
       "3"
      ]
     },
     "execution_count": 57,
     "metadata": {},
     "output_type": "execute_result"
    }
   ],
   "source": [
    "t2.subs(x, 0)"
   ]
  },
  {
   "cell_type": "markdown",
   "metadata": {},
   "source": [
    "## Vektoren und Matrizen"
   ]
  },
  {
   "cell_type": "code",
   "execution_count": 58,
   "metadata": {
    "collapsed": false
   },
   "outputs": [
    {
     "data": {
      "text/latex": [
       "$$\\left[\\begin{matrix}1\\\\2\\\\3\\end{matrix}\\right]$$"
      ],
      "text/plain": [
       "⎡1⎤\n",
       "⎢ ⎥\n",
       "⎢2⎥\n",
       "⎢ ⎥\n",
       "⎣3⎦"
      ]
     },
     "execution_count": 58,
     "metadata": {},
     "output_type": "execute_result"
    }
   ],
   "source": [
    "x = Matrix([1,2,3])\n",
    "x"
   ]
  },
  {
   "cell_type": "code",
   "execution_count": 59,
   "metadata": {
    "collapsed": false
   },
   "outputs": [
    {
     "data": {
      "text/latex": [
       "$$\\left[\\begin{matrix}4 & 5 & 6\\end{matrix}\\right]$$"
      ],
      "text/plain": [
       "[4  5  6]"
      ]
     },
     "execution_count": 59,
     "metadata": {},
     "output_type": "execute_result"
    }
   ],
   "source": [
    "y = Matrix(1,3,[4,5,6])\n",
    "y"
   ]
  },
  {
   "cell_type": "code",
   "execution_count": 60,
   "metadata": {
    "collapsed": false
   },
   "outputs": [
    {
     "data": {
      "text/latex": [
       "$$\\left[\\begin{matrix}32\\end{matrix}\\right]$$"
      ],
      "text/plain": [
       "[32]"
      ]
     },
     "execution_count": 60,
     "metadata": {},
     "output_type": "execute_result"
    }
   ],
   "source": [
    "y*x"
   ]
  },
  {
   "cell_type": "code",
   "execution_count": 61,
   "metadata": {
    "collapsed": false
   },
   "outputs": [
    {
     "data": {
      "text/latex": [
       "$$\\left[\\begin{matrix}4 & 5 & 6\\\\8 & 10 & 12\\\\12 & 15 & 18\\end{matrix}\\right]$$"
      ],
      "text/plain": [
       "⎡4   5   6 ⎤\n",
       "⎢          ⎥\n",
       "⎢8   10  12⎥\n",
       "⎢          ⎥\n",
       "⎣12  15  18⎦"
      ]
     },
     "execution_count": 61,
     "metadata": {},
     "output_type": "execute_result"
    }
   ],
   "source": [
    "x*y"
   ]
  },
  {
   "cell_type": "code",
   "execution_count": 62,
   "metadata": {
    "collapsed": false
   },
   "outputs": [
    {
     "data": {
      "text/latex": [
       "$$\\left[\\begin{matrix}1 & 2 & 3\\\\4 & 5 & 6\\\\7 & 8 & 9\\end{matrix}\\right]$$"
      ],
      "text/plain": [
       "⎡1  2  3⎤\n",
       "⎢       ⎥\n",
       "⎢4  5  6⎥\n",
       "⎢       ⎥\n",
       "⎣7  8  9⎦"
      ]
     },
     "execution_count": 62,
     "metadata": {},
     "output_type": "execute_result"
    }
   ],
   "source": [
    "A = Matrix(3,3,range(1,10))\n",
    "A"
   ]
  },
  {
   "cell_type": "code",
   "execution_count": 63,
   "metadata": {
    "collapsed": false
   },
   "outputs": [
    {
     "data": {
      "image/png": "[encoded data removed]",
      "text/latex": [
       "$$5$$"
      ],
      "text/plain": [
       "5"
      ]
     },
     "execution_count": 63,
     "metadata": {},
     "output_type": "execute_result"
    }
   ],
   "source": [
    "A[1,1]"
   ]
  },
  {
   "cell_type": "code",
   "execution_count": 64,
   "metadata": {
    "collapsed": false
   },
   "outputs": [
    {
     "data": {
      "text/latex": [
       "$$\\left[\\begin{matrix}14\\\\32\\\\50\\end{matrix}\\right]$$"
      ],
      "text/plain": [
       "⎡14⎤\n",
       "⎢  ⎥\n",
       "⎢32⎥\n",
       "⎢  ⎥\n",
       "⎣50⎦"
      ]
     },
     "execution_count": 64,
     "metadata": {},
     "output_type": "execute_result"
    }
   ],
   "source": [
    "A*x"
   ]
  },
  {
   "cell_type": "code",
   "execution_count": 65,
   "metadata": {
    "collapsed": false
   },
   "outputs": [
    {
     "ename": "ShapeError",
     "evalue": "Matrices size mismatch.",
     "output_type": "error",
     "traceback": [
      "\u001b[0;31m---------------------------------------------------------------------------\u001b[0m",
      "\u001b[0;31mShapeError\u001b[0m                                Traceback (most recent call last)",
      "\u001b[0;32m<ipython-input-65-b68ff40d08ab>\u001b[0m in \u001b[0;36m<module>\u001b[0;34m()\u001b[0m\n\u001b[0;32m----> 1\u001b[0;31m \u001b[0mA\u001b[0m\u001b[1;33m*\u001b[0m\u001b[0my\u001b[0m  \u001b[1;31m# ShapeError\u001b[0m\u001b[1;33m\u001b[0m\u001b[0m\n\u001b[0m",
      "\u001b[0;32mC:\\Users\\braun\\Miniconda3\\lib\\site-packages\\sympy\\core\\decorators.py\u001b[0m in \u001b[0;36mbinary_op_wrapper\u001b[0;34m(self, other)\u001b[0m\n\u001b[1;32m    116\u001b[0m                     \u001b[1;32melse\u001b[0m\u001b[1;33m:\u001b[0m\u001b[1;33m\u001b[0m\u001b[0m\n\u001b[1;32m    117\u001b[0m                         \u001b[1;32mreturn\u001b[0m \u001b[0mf\u001b[0m\u001b[1;33m(\u001b[0m\u001b[0mself\u001b[0m\u001b[1;33m)\u001b[0m\u001b[1;33m\u001b[0m\u001b[0m\n\u001b[0;32m--> 118\u001b[0;31m             \u001b[1;32mreturn\u001b[0m \u001b[0mfunc\u001b[0m\u001b[1;33m(\u001b[0m\u001b[0mself\u001b[0m\u001b[1;33m,\u001b[0m \u001b[0mother\u001b[0m\u001b[1;33m)\u001b[0m\u001b[1;33m\u001b[0m\u001b[0m\n\u001b[0m\u001b[1;32m    119\u001b[0m         \u001b[1;32mreturn\u001b[0m \u001b[0mbinary_op_wrapper\u001b[0m\u001b[1;33m\u001b[0m\u001b[0m\n\u001b[1;32m    120\u001b[0m     \u001b[1;32mreturn\u001b[0m \u001b[0mpriority_decorator\u001b[0m\u001b[1;33m\u001b[0m\u001b[0m\n",
      "\u001b[0;32mC:\\Users\\braun\\Miniconda3\\lib\\site-packages\\sympy\\matrices\\dense.py\u001b[0m in \u001b[0;36m__mul__\u001b[0;34m(self, other)\u001b[0m\n\u001b[1;32m    553\u001b[0m     \u001b[1;33m@\u001b[0m\u001b[0mcall_highest_priority\u001b[0m\u001b[1;33m(\u001b[0m\u001b[1;34m'__rmul__'\u001b[0m\u001b[1;33m)\u001b[0m\u001b[1;33m\u001b[0m\u001b[0m\n\u001b[1;32m    554\u001b[0m     \u001b[1;32mdef\u001b[0m \u001b[0m__mul__\u001b[0m\u001b[1;33m(\u001b[0m\u001b[0mself\u001b[0m\u001b[1;33m,\u001b[0m \u001b[0mother\u001b[0m\u001b[1;33m)\u001b[0m\u001b[1;33m:\u001b[0m\u001b[1;33m\u001b[0m\u001b[0m\n\u001b[0;32m--> 555\u001b[0;31m         \u001b[1;32mreturn\u001b[0m \u001b[0msuper\u001b[0m\u001b[1;33m(\u001b[0m\u001b[0mDenseMatrix\u001b[0m\u001b[1;33m,\u001b[0m \u001b[0mself\u001b[0m\u001b[1;33m)\u001b[0m\u001b[1;33m.\u001b[0m\u001b[0m__mul__\u001b[0m\u001b[1;33m(\u001b[0m\u001b[0m_force_mutable\u001b[0m\u001b[1;33m(\u001b[0m\u001b[0mother\u001b[0m\u001b[1;33m)\u001b[0m\u001b[1;33m)\u001b[0m\u001b[1;33m\u001b[0m\u001b[0m\n\u001b[0m\u001b[1;32m    556\u001b[0m \u001b[1;33m\u001b[0m\u001b[0m\n\u001b[1;32m    557\u001b[0m     \u001b[1;33m@\u001b[0m\u001b[0mcall_highest_priority\u001b[0m\u001b[1;33m(\u001b[0m\u001b[1;34m'__rmul__'\u001b[0m\u001b[1;33m)\u001b[0m\u001b[1;33m\u001b[0m\u001b[0m\n",
      "\u001b[0;32mC:\\Users\\braun\\Miniconda3\\lib\\site-packages\\sympy\\matrices\\matrices.py\u001b[0m in \u001b[0;36m__mul__\u001b[0;34m(self, other)\u001b[0m\n\u001b[1;32m    502\u001b[0m             \u001b[0mB\u001b[0m \u001b[1;33m=\u001b[0m \u001b[0mother\u001b[0m\u001b[1;33m\u001b[0m\u001b[0m\n\u001b[1;32m    503\u001b[0m             \u001b[1;32mif\u001b[0m \u001b[0mA\u001b[0m\u001b[1;33m.\u001b[0m\u001b[0mcols\u001b[0m \u001b[1;33m!=\u001b[0m \u001b[0mB\u001b[0m\u001b[1;33m.\u001b[0m\u001b[0mrows\u001b[0m\u001b[1;33m:\u001b[0m\u001b[1;33m\u001b[0m\u001b[0m\n\u001b[0;32m--> 504\u001b[0;31m                 \u001b[1;32mraise\u001b[0m \u001b[0mShapeError\u001b[0m\u001b[1;33m(\u001b[0m\u001b[1;34m\"Matrices size mismatch.\"\u001b[0m\u001b[1;33m)\u001b[0m\u001b[1;33m\u001b[0m\u001b[0m\n\u001b[0m\u001b[1;32m    505\u001b[0m             \u001b[1;32mif\u001b[0m \u001b[0mA\u001b[0m\u001b[1;33m.\u001b[0m\u001b[0mcols\u001b[0m \u001b[1;33m==\u001b[0m \u001b[1;36m0\u001b[0m\u001b[1;33m:\u001b[0m\u001b[1;33m\u001b[0m\u001b[0m\n\u001b[1;32m    506\u001b[0m                 \u001b[1;32mreturn\u001b[0m \u001b[0mclassof\u001b[0m\u001b[1;33m(\u001b[0m\u001b[0mA\u001b[0m\u001b[1;33m,\u001b[0m \u001b[0mB\u001b[0m\u001b[1;33m)\u001b[0m\u001b[1;33m.\u001b[0m\u001b[0m_new\u001b[0m\u001b[1;33m(\u001b[0m\u001b[0mA\u001b[0m\u001b[1;33m.\u001b[0m\u001b[0mrows\u001b[0m\u001b[1;33m,\u001b[0m \u001b[0mB\u001b[0m\u001b[1;33m.\u001b[0m\u001b[0mcols\u001b[0m\u001b[1;33m,\u001b[0m \u001b[1;32mlambda\u001b[0m \u001b[0mi\u001b[0m\u001b[1;33m,\u001b[0m \u001b[0mj\u001b[0m\u001b[1;33m:\u001b[0m \u001b[1;36m0\u001b[0m\u001b[1;33m)\u001b[0m\u001b[1;33m\u001b[0m\u001b[0m\n",
      "\u001b[0;31mShapeError\u001b[0m: Matrices size mismatch."
     ]
    }
   ],
   "source": [
    "A*y  # ShapeError"
   ]
  },
  {
   "cell_type": "code",
   "execution_count": 66,
   "metadata": {
    "collapsed": false
   },
   "outputs": [
    {
     "data": {
      "text/latex": [
       "$$\\left[\\begin{matrix}66 & 81 & 96\\end{matrix}\\right]$$"
      ],
      "text/plain": [
       "[66  81  96]"
      ]
     },
     "execution_count": 66,
     "metadata": {},
     "output_type": "execute_result"
    }
   ],
   "source": [
    "y*A"
   ]
  },
  {
   "cell_type": "code",
   "execution_count": 67,
   "metadata": {
    "collapsed": false
   },
   "outputs": [
    {
     "data": {
      "text/latex": [
       "$$\\left[\\begin{matrix}1 & 0 & 1\\\\-1 & -1 & -1\\\\0 & 1 & 0\\end{matrix}\\right]$$"
      ],
      "text/plain": [
       "⎡1   0   1 ⎤\n",
       "⎢          ⎥\n",
       "⎢-1  -1  -1⎥\n",
       "⎢          ⎥\n",
       "⎣0   1   0 ⎦"
      ]
     },
     "execution_count": 67,
     "metadata": {},
     "output_type": "execute_result"
    }
   ],
   "source": [
    "B = Matrix(3,3,[1,0,1,-1,-1,-1,0,1,0])\n",
    "B"
   ]
  },
  {
   "cell_type": "code",
   "execution_count": 68,
   "metadata": {
    "collapsed": false
   },
   "outputs": [
    {
     "data": {
      "text/latex": [
       "$$\\left[\\begin{matrix}-1 & 1 & -1\\\\-1 & 1 & -1\\\\-1 & 1 & -1\\end{matrix}\\right]$$"
      ],
      "text/plain": [
       "⎡-1  1  -1⎤\n",
       "⎢         ⎥\n",
       "⎢-1  1  -1⎥\n",
       "⎢         ⎥\n",
       "⎣-1  1  -1⎦"
      ]
     },
     "execution_count": 68,
     "metadata": {},
     "output_type": "execute_result"
    }
   ],
   "source": [
    "A * B"
   ]
  },
  {
   "cell_type": "code",
   "execution_count": 70,
   "metadata": {
    "collapsed": false
   },
   "outputs": [
    {
     "data": {
      "text/plain": [
       "array([[1, 0, 3],\n",
       "       [-4, -5, -6],\n",
       "       [0, 8, 0]], dtype=object)"
      ]
     },
     "execution_count": 70,
     "metadata": {},
     "output_type": "execute_result"
    }
   ],
   "source": [
    "np.array(A) * np.array(B)"
   ]
  },
  {
   "cell_type": "code",
   "execution_count": 71,
   "metadata": {
    "collapsed": false
   },
   "outputs": [
    {
     "data": {
      "text/latex": [
       "$$\\left[\\begin{matrix}-9 & -9 & -13\\\\11 & 16 & 17\\\\-5 & -4 & -7\\end{matrix}\\right]$$"
      ],
      "text/plain": [
       "⎡-9  -9  -13⎤\n",
       "⎢           ⎥\n",
       "⎢11  16  17 ⎥\n",
       "⎢           ⎥\n",
       "⎣-5  -4  -7 ⎦"
      ]
     },
     "execution_count": 71,
     "metadata": {},
     "output_type": "execute_result"
    }
   ],
   "source": [
    "A*B -B*A"
   ]
  },
  {
   "cell_type": "code",
   "execution_count": 72,
   "metadata": {
    "collapsed": false
   },
   "outputs": [
    {
     "data": {
      "text/latex": [
       "$$\\left[\\begin{matrix}1 & 0 & 0 & 0 & 0\\\\0 & 1 & 0 & 0 & 0\\\\0 & 0 & 1 & 0 & 0\\\\0 & 0 & 0 & 1 & 0\\\\0 & 0 & 0 & 0 & 1\\end{matrix}\\right]$$"
      ],
      "text/plain": [
       "⎡1  0  0  0  0⎤\n",
       "⎢             ⎥\n",
       "⎢0  1  0  0  0⎥\n",
       "⎢             ⎥\n",
       "⎢0  0  1  0  0⎥\n",
       "⎢             ⎥\n",
       "⎢0  0  0  1  0⎥\n",
       "⎢             ⎥\n",
       "⎣0  0  0  0  1⎦"
      ]
     },
     "execution_count": 72,
     "metadata": {},
     "output_type": "execute_result"
    }
   ],
   "source": [
    "eye(5)"
   ]
  },
  {
   "cell_type": "code",
   "execution_count": 74,
   "metadata": {
    "collapsed": true
   },
   "outputs": [],
   "source": [
    "C = A + eye(3)"
   ]
  },
  {
   "cell_type": "code",
   "execution_count": 75,
   "metadata": {
    "collapsed": false
   },
   "outputs": [
    {
     "data": {
      "image/png": "[encoded data removed]",
      "text/latex": [
       "$$0$$"
      ],
      "text/plain": [
       "0"
      ]
     },
     "execution_count": 75,
     "metadata": {},
     "output_type": "execute_result"
    }
   ],
   "source": [
    "A.det()"
   ]
  },
  {
   "cell_type": "code",
   "execution_count": 76,
   "metadata": {
    "collapsed": false
   },
   "outputs": [
    {
     "data": {
      "image/png": "[encoded data removed]",
      "text/latex": [
       "$$-2$$"
      ],
      "text/plain": [
       "-2"
      ]
     },
     "execution_count": 76,
     "metadata": {},
     "output_type": "execute_result"
    }
   ],
   "source": [
    "C.det()"
   ]
  },
  {
   "cell_type": "code",
   "execution_count": 77,
   "metadata": {
    "collapsed": false
   },
   "outputs": [
    {
     "data": {
      "text/latex": [
       "$$\\left[\\begin{matrix}-6 & -2 & 3\\\\-1 & \\frac{1}{2} & 0\\\\5 & 1 & -2\\end{matrix}\\right]$$"
      ],
      "text/plain": [
       "⎡-6  -2   3 ⎤\n",
       "⎢           ⎥\n",
       "⎢-1  1/2  0 ⎥\n",
       "⎢           ⎥\n",
       "⎣5    1   -2⎦"
      ]
     },
     "execution_count": 77,
     "metadata": {},
     "output_type": "execute_result"
    }
   ],
   "source": [
    "C**(-1)"
   ]
  },
  {
   "cell_type": "code",
   "execution_count": 78,
   "metadata": {
    "collapsed": false
   },
   "outputs": [
    {
     "data": {
      "text/latex": [
       "$$\\left[\\begin{matrix}1 & 0 & 0\\\\0 & 1 & 0\\\\0 & 0 & 1\\end{matrix}\\right]$$"
      ],
      "text/plain": [
       "⎡1  0  0⎤\n",
       "⎢       ⎥\n",
       "⎢0  1  0⎥\n",
       "⎢       ⎥\n",
       "⎣0  0  1⎦"
      ]
     },
     "execution_count": 78,
     "metadata": {},
     "output_type": "execute_result"
    }
   ],
   "source": [
    "C*C**(-1)"
   ]
  },
  {
   "cell_type": "code",
   "execution_count": 79,
   "metadata": {
    "collapsed": false
   },
   "outputs": [
    {
     "data": {
      "text/latex": [
       "$$\\left[\\begin{matrix}1 & 0 & 0\\\\0 & 1 & 0\\\\0 & 0 & 1\\end{matrix}\\right]$$"
      ],
      "text/plain": [
       "⎡1  0  0⎤\n",
       "⎢       ⎥\n",
       "⎢0  1  0⎥\n",
       "⎢       ⎥\n",
       "⎣0  0  1⎦"
      ]
     },
     "execution_count": 79,
     "metadata": {},
     "output_type": "execute_result"
    }
   ],
   "source": [
    "C**(-1)*C"
   ]
  },
  {
   "cell_type": "code",
   "execution_count": 80,
   "metadata": {
    "collapsed": false
   },
   "outputs": [
    {
     "data": {
      "text/latex": [
       "$$\\left[\\begin{matrix}1 & 4 & 7\\\\2 & 5 & 8\\\\3 & 6 & 9\\end{matrix}\\right]$$"
      ],
      "text/plain": [
       "⎡1  4  7⎤\n",
       "⎢       ⎥\n",
       "⎢2  5  8⎥\n",
       "⎢       ⎥\n",
       "⎣3  6  9⎦"
      ]
     },
     "execution_count": 80,
     "metadata": {},
     "output_type": "execute_result"
    }
   ],
   "source": [
    "A.T  # Transponierte"
   ]
  },
  {
   "cell_type": "markdown",
   "metadata": {},
   "source": [
    "## Manipulation von Matrizen"
   ]
  },
  {
   "cell_type": "code",
   "execution_count": 81,
   "metadata": {
    "collapsed": false
   },
   "outputs": [
    {
     "data": {
      "text/latex": [
       "$$\\left[\\begin{matrix}1 & 2 & 3\\\\4 & 5 & 6\\\\7 & 8 & 9\\\\1 & 0 & 1\\\\-1 & -1 & -1\\\\0 & 1 & 0\\end{matrix}\\right]$$"
      ],
      "text/plain": [
       "⎡1   2   3 ⎤\n",
       "⎢          ⎥\n",
       "⎢4   5   6 ⎥\n",
       "⎢          ⎥\n",
       "⎢7   8   9 ⎥\n",
       "⎢          ⎥\n",
       "⎢1   0   1 ⎥\n",
       "⎢          ⎥\n",
       "⎢-1  -1  -1⎥\n",
       "⎢          ⎥\n",
       "⎣0   1   0 ⎦"
      ]
     },
     "execution_count": 81,
     "metadata": {},
     "output_type": "execute_result"
    }
   ],
   "source": [
    "Matrix([A,B])"
   ]
  },
  {
   "cell_type": "code",
   "execution_count": 82,
   "metadata": {
    "collapsed": false
   },
   "outputs": [
    {
     "data": {
      "text/latex": [
       "$$\\left[\\begin{matrix}1 & 2 & 3 & 1 & 0 & 1\\\\4 & 5 & 6 & -1 & -1 & -1\\\\7 & 8 & 9 & 0 & 1 & 0\\end{matrix}\\right]$$"
      ],
      "text/plain": [
       "⎡1  2  3  1   0   1 ⎤\n",
       "⎢                   ⎥\n",
       "⎢4  5  6  -1  -1  -1⎥\n",
       "⎢                   ⎥\n",
       "⎣7  8  9  0   1   0 ⎦"
      ]
     },
     "execution_count": 82,
     "metadata": {},
     "output_type": "execute_result"
    }
   ],
   "source": [
    "Matrix([A.T, B.T]).T"
   ]
  },
  {
   "cell_type": "code",
   "execution_count": 85,
   "metadata": {
    "collapsed": false
   },
   "outputs": [
    {
     "data": {
      "text/latex": [
       "$$\\left[\\begin{matrix}1 & 2 & 3 & 4 & 5 & 6 & 7 & 8 & 9\\end{matrix}\\right]$$"
      ],
      "text/plain": [
       "[1  2  3  4  5  6  7  8  9]"
      ]
     },
     "execution_count": 85,
     "metadata": {},
     "output_type": "execute_result"
    }
   ],
   "source": [
    "A.reshape(1, len(A))#.reshape(3,3)   # flatten a matrix"
   ]
  },
  {
   "cell_type": "code",
   "execution_count": 86,
   "metadata": {
    "collapsed": false
   },
   "outputs": [
    {
     "data": {
      "text/latex": [
       "$$\\left[\\begin{matrix}1 & 2 & 3\\\\4 & 5 & 6\\\\7 & 8 & 9\\end{matrix}\\right]$$"
      ],
      "text/plain": [
       "⎡1  2  3⎤\n",
       "⎢       ⎥\n",
       "⎢4  5  6⎥\n",
       "⎢       ⎥\n",
       "⎣7  8  9⎦"
      ]
     },
     "execution_count": 86,
     "metadata": {},
     "output_type": "execute_result"
    }
   ],
   "source": [
    "A"
   ]
  },
  {
   "cell_type": "code",
   "execution_count": 87,
   "metadata": {
    "collapsed": false
   },
   "outputs": [
    {
     "data": {
      "text/latex": [
       "$$\\left[\\begin{matrix}2 & 3\\\\5 & 6\\end{matrix}\\right]$$"
      ],
      "text/plain": [
       "⎡2  3⎤\n",
       "⎢    ⎥\n",
       "⎣5  6⎦"
      ]
     },
     "execution_count": 87,
     "metadata": {},
     "output_type": "execute_result"
    }
   ],
   "source": [
    "A[0:2, 1:3]"
   ]
  },
  {
   "cell_type": "code",
   "execution_count": 88,
   "metadata": {
    "collapsed": false
   },
   "outputs": [
    {
     "data": {
      "text/latex": [
       "$$\\left[\\begin{matrix}1 & 3\\\\7 & 9\\end{matrix}\\right]$$"
      ],
      "text/plain": [
       "⎡1  3⎤\n",
       "⎢    ⎥\n",
       "⎣7  9⎦"
      ]
     },
     "execution_count": 88,
     "metadata": {},
     "output_type": "execute_result"
    }
   ],
   "source": [
    "A[[0,2], [0,2]]"
   ]
  },
  {
   "cell_type": "markdown",
   "metadata": {},
   "source": [
    "## Matrix aus Bildungsvorschrift"
   ]
  },
  {
   "cell_type": "code",
   "execution_count": 89,
   "metadata": {
    "collapsed": true
   },
   "outputs": [],
   "source": [
    "def element(i,j):\n",
    "    return 1 + 3*i + j"
   ]
  },
  {
   "cell_type": "code",
   "execution_count": 90,
   "metadata": {
    "collapsed": false
   },
   "outputs": [
    {
     "data": {
      "text/latex": [
       "$$\\left[\\begin{matrix}1 & 2 & 3\\\\4 & 5 & 6\\\\7 & 8 & 9\\end{matrix}\\right]$$"
      ],
      "text/plain": [
       "⎡1  2  3⎤\n",
       "⎢       ⎥\n",
       "⎢4  5  6⎥\n",
       "⎢       ⎥\n",
       "⎣7  8  9⎦"
      ]
     },
     "execution_count": 90,
     "metadata": {},
     "output_type": "execute_result"
    }
   ],
   "source": [
    "E = Matrix(3,3, element)\n",
    "E"
   ]
  },
  {
   "cell_type": "code",
   "execution_count": 91,
   "metadata": {
    "collapsed": true
   },
   "outputs": [],
   "source": [
    "def hilbert_element(i,j):\n",
    "    return 1/(i+j+1)"
   ]
  },
  {
   "cell_type": "code",
   "execution_count": 92,
   "metadata": {
    "collapsed": false
   },
   "outputs": [
    {
     "data": {
      "text/latex": [
       "$$\\left[\\begin{matrix}1 & \\frac{1}{2} & \\frac{1}{3} & \\frac{1}{4} & \\frac{1}{5}\\\\\\frac{1}{2} & \\frac{1}{3} & \\frac{1}{4} & \\frac{1}{5} & \\frac{1}{6}\\\\\\frac{1}{3} & \\frac{1}{4} & \\frac{1}{5} & \\frac{1}{6} & \\frac{1}{7}\\\\\\frac{1}{4} & \\frac{1}{5} & \\frac{1}{6} & \\frac{1}{7} & \\frac{1}{8}\\\\\\frac{1}{5} & \\frac{1}{6} & \\frac{1}{7} & \\frac{1}{8} & \\frac{1}{9}\\end{matrix}\\right]$$"
      ],
      "text/plain": [
       "⎡ 1   1/2  1/3  1/4  1/5⎤\n",
       "⎢                       ⎥\n",
       "⎢1/2  1/3  1/4  1/5  1/6⎥\n",
       "⎢                       ⎥\n",
       "⎢1/3  1/4  1/5  1/6  1/7⎥\n",
       "⎢                       ⎥\n",
       "⎢1/4  1/5  1/6  1/7  1/8⎥\n",
       "⎢                       ⎥\n",
       "⎣1/5  1/6  1/7  1/8  1/9⎦"
      ]
     },
     "execution_count": 92,
     "metadata": {},
     "output_type": "execute_result"
    }
   ],
   "source": [
    "hilbert = Matrix(5,5,hilbert_element)\n",
    "hilbert"
   ]
  },
  {
   "cell_type": "code",
   "execution_count": 93,
   "metadata": {
    "collapsed": false
   },
   "outputs": [
    {
     "data": {
      "image/png": "[encoded data removed]",
      "text/latex": [
       "$$\\frac{1}{266716800000}$$"
      ],
      "text/plain": [
       "1/266716800000"
      ]
     },
     "execution_count": 93,
     "metadata": {},
     "output_type": "execute_result"
    }
   ],
   "source": [
    "hilbert.det()"
   ]
  },
  {
   "cell_type": "code",
   "execution_count": 94,
   "metadata": {
    "collapsed": false
   },
   "outputs": [
    {
     "data": {
      "text/latex": [
       "$$\\left[\\begin{matrix}25 & -300 & 1050 & -1400 & 630\\\\-300 & 4800 & -18900 & 26880 & -12600\\\\1050 & -18900 & 79380 & -117600 & 56700\\\\-1400 & 26880 & -117600 & 179200 & -88200\\\\630 & -12600 & 56700 & -88200 & 44100\\end{matrix}\\right]$$"
      ],
      "text/plain": [
       "⎡ 25     -300    1050     -1400    630  ⎤\n",
       "⎢                                       ⎥\n",
       "⎢-300    4800   -18900    26880   -12600⎥\n",
       "⎢                                       ⎥\n",
       "⎢1050   -18900   79380   -117600  56700 ⎥\n",
       "⎢                                       ⎥\n",
       "⎢-1400  26880   -117600  179200   -88200⎥\n",
       "⎢                                       ⎥\n",
       "⎣ 630   -12600   56700   -88200   44100 ⎦"
      ]
     },
     "execution_count": 94,
     "metadata": {},
     "output_type": "execute_result"
    }
   ],
   "source": [
    "hilbert**(-1)"
   ]
  },
  {
   "cell_type": "code",
   "execution_count": 95,
   "metadata": {
    "collapsed": true
   },
   "outputs": [],
   "source": [
    "hilbert = Matrix(60, 60, hilbert_element)"
   ]
  },
  {
   "cell_type": "code",
   "execution_count": 96,
   "metadata": {
    "collapsed": false
   },
   "outputs": [],
   "source": [
    "inv_hilbert = hilbert**(-1)"
   ]
  },
  {
   "cell_type": "code",
   "execution_count": 97,
   "metadata": {
    "collapsed": false
   },
   "outputs": [
    {
     "data": {
      "image/png": "[encoded data removed]",
      "text/latex": [
       "$$-13106188877111499639796065719840267765492147640133102288707468863670920137401990144000$$"
      ],
      "text/plain": [
       "-13106188877111499639796065719840267765492147640133102288707468863670920137401\n",
       "990144000"
      ]
     },
     "execution_count": 97,
     "metadata": {},
     "output_type": "execute_result"
    }
   ],
   "source": [
    "inv_hilbert[29,40]"
   ]
  },
  {
   "cell_type": "code",
   "execution_count": 98,
   "metadata": {
    "collapsed": true
   },
   "outputs": [],
   "source": [
    "def f_hilbert_element(i,j):\n",
    "    return float(hilbert_element(i,j))\n",
    "\n",
    "f_hilbert = Matrix(60, 60, f_hilbert_element)"
   ]
  },
  {
   "cell_type": "code",
   "execution_count": 99,
   "metadata": {
    "collapsed": true
   },
   "outputs": [],
   "source": [
    "inv_f_hilbert = f_hilbert**(-1)"
   ]
  },
  {
   "cell_type": "code",
   "execution_count": 100,
   "metadata": {
    "collapsed": false
   },
   "outputs": [
    {
     "data": {
      "image/png": "[encoded data removed]",
      "text/latex": [
       "$$-1.31643790355102 \\cdot 10^{16}$$"
      ],
      "text/plain": [
       "-1.31643790355102e+16"
      ]
     },
     "execution_count": 100,
     "metadata": {},
     "output_type": "execute_result"
    }
   ],
   "source": [
    "inv_f_hilbert[29,40]"
   ]
  },
  {
   "cell_type": "code",
   "execution_count": 101,
   "metadata": {
    "collapsed": false
   },
   "outputs": [
    {
     "data": {
      "image/png": "[encoded data removed]",
      "text/latex": [
       "$$-1.31061888771115e+85$$"
      ],
      "text/plain": [
       "-1.31061888771115e+85"
      ]
     },
     "execution_count": 101,
     "metadata": {},
     "output_type": "execute_result"
    }
   ],
   "source": [
    "float(inv_hilbert[29,40])"
   ]
  },
  {
   "cell_type": "code",
   "execution_count": 102,
   "metadata": {
    "collapsed": false
   },
   "outputs": [
    {
     "data": {
      "image/png": "[encoded data removed]",
      "text/latex": [
       "$$0.0$$"
      ],
      "text/plain": [
       "0.0"
      ]
     },
     "execution_count": 102,
     "metadata": {},
     "output_type": "execute_result"
    }
   ],
   "source": [
    "float(hilbert.det())"
   ]
  },
  {
   "cell_type": "code",
   "execution_count": 103,
   "metadata": {
    "collapsed": false
   },
   "outputs": [
    {
     "data": {
      "image/png": "[encoded data removed]",
      "text/latex": [
       "$$\\frac{1}{144595578563805514086158249720372269159002085903382430132201033126808981249036023606637008387023829599333666316075604948312115145411863969712946077100121030682846678058070583611393911862619093902501386471375819221747631611277681985408821087315622109090337413025602702195139847390738623762934604821752342674239542453237619108127011300097716120691693898949607679638036065375186860306076222363870724858462957501450975060651452580879958066769635565836268727971708263260406956936283896739981777305823220951557849587117301546890968416334028835991158624545856654613088266798404474173809571065306900215468090502720547807378701429903835996074831301035858455007298927233971501116116274485491900273784036359713781894831240582761862528401276169429713774952186680229710780217577488661819819689511945891416643911424747998815748756279920991164032891287911502462152209429901593587296320296206234744776753094385143872208007096501328349984197696099481287704088458246345934951881581833852029911538394663184463632483139054401713155038298109933169825010153712197777995718512077459470886069933743445187868699045328155791603974619737440747367977499216895232157255157009596567132433587296576330286987646097003836387218585334927870388584495533920436544777246123572137496212023370398668473560704584359848492007996040151478841677215515073951567362180563147602372933568571677649505118065555493148990970392349507555863857592128666495835904521226456219958978767742318208524954164146330757260249648322351081668227716769899597203478929347736483260126579844187151269219354808104825593392288847315732218934859633534872295402195352956429504653738061031861366606590885485118028082106401430020143303222325054385500356570233107440548265674758703842629685083189043850626308746522354010231269905840690203495093487771272862040284657239551505054851451998499232307307321353832093108718887300229729038702644191598020531876236248898677746718045468357283324738175869625155835037278573318947974079408327907156769659049187005858872226622838121073847595276697600000000000000000000000000000000000000000000000000000000000000000000000000000000000000000000000000000000000000}$$"
      ],
      "text/plain": [
       "1/1445955785638055140861582497203722691590020859033824301322010331268089812490\n",
       "360236066370083870238295993336663160756049483121151454118639697129460771001210\n",
       "306828466780580705836113939118626190939025013864713758192217476316112776819854\n",
       "088210873156221090903374130256027021951398473907386237629346048217523426742395\n",
       "424532376191081270113000977161206916938989496076796380360653751868603060762223\n",
       "638707248584629575014509750606514525808799580667696355658362687279717082632604\n",
       "069569362838967399817773058232209515578495871173015468909684163340288359911586\n",
       "245458566546130882667984044741738095710653069002154680905027205478073787014299\n",
       "038359960748313010358584550072989272339715011161162744854919002737840363597137\n",
       "818948312405827618625284012761694297137749521866802297107802175774886618198196\n",
       "895119458914166439114247479988157487562799209911640328912879115024621522094299\n",
       "015935872963202962062347447767530943851438722080070965013283499841976960994812\n",
       "877040884582463459349518815818338520299115383946631844636324831390544017131550\n",
       "382981099331698250101537121977779957185120774594708860699337434451878686990453\n",
       "281557916039746197374407473679774992168952321572551570095965671324335872965763\n",
       "302869876460970038363872185853349278703885844955339204365447772461235721374962\n",
       "120233703986684735607045843598484920079960401514788416772155150739515673621805\n",
       "631476023729335685716776495051180655554931489909703923495075558638575921286664\n",
       "958359045212264562199589787677423182085249541641463307572602496483223510816682\n",
       "277167698995972034789293477364832601265798441871512692193548081048255933922888\n",
       "473157322189348596335348722954021953529564295046537380610318613666065908854851\n",
       "180280821064014300201433032223250543855003565702331074405482656747587038426296\n",
       "850831890438506263087465223540102312699058406902034950934877712728620402846572\n",
       "395515050548514519984992323073073213538320931087188873002297290387026441915980\n",
       "205318762362488986777467180454683572833247381758696251558350372785733189479740\n",
       "794083279071567696590491870058588722266228381210738475952766976000000000000000\n",
       "000000000000000000000000000000000000000000000000000000000000000000000000000000\n",
       "00000000000000000"
      ]
     },
     "execution_count": 103,
     "metadata": {},
     "output_type": "execute_result"
    }
   ],
   "source": [
    "hd = hilbert.det()\n",
    "hd"
   ]
  },
  {
   "cell_type": "code",
   "execution_count": 104,
   "metadata": {
    "collapsed": false
   },
   "outputs": [
    {
     "data": {
      "text/plain": [
       "mpf('6.9158407880274928e-2121')"
      ]
     },
     "execution_count": 104,
     "metadata": {},
     "output_type": "execute_result"
    }
   ],
   "source": [
    "mpmath.mpf(hd)"
   ]
  },
  {
   "cell_type": "code",
   "execution_count": null,
   "metadata": {
    "collapsed": true
   },
   "outputs": [],
   "source": []
  }
 ],
 "metadata": {
  "anaconda-cloud": {},
  "kernelspec": {
   "display_name": "Python [conda root]",
   "language": "python",
   "name": "conda-root-py"
  },
  "language_info": {
   "codemirror_mode": {
    "name": "ipython",
    "version": 3
   },
   "file_extension": ".py",
   "mimetype": "text/x-python",
   "name": "python",
   "nbconvert_exporter": "python",
   "pygments_lexer": "ipython3",
   "version": "3.5.2"
  }
 },
 "nbformat": 4,
 "nbformat_minor": 1
}
